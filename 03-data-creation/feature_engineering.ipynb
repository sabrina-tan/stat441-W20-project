{
 "cells": [
  {
   "cell_type": "markdown",
   "execution_count": null,
   "metadata": {},
   "outputs": [],
   "source": [
    "Steps:  \n",
    "* [Bin the country/language variables](#Bin-the-country/language-variables)\n",
    "* [Bin the age variables](#Bin-the-age-variables)\n",
    "* [Group/bin income variables](#Group/bin-income-variables)\n",
    "* [Drop dupes of education](#Drop-dupes-of-education)\n",
    "* [Bin number of people in household](#Bin-number-of-people-in-household)\n",
    "* [Consider date variables - bin by season?](#Date-variables)\n",
    "* [Bin hours worked variables](#Bin-hours-worked)\n",
    "* [Convert year came to country to indicator](#Year-came-to-country)\n",
    "* [Create single indicator](#Single-indicator)\n",
    "* [Create \"has employees\" indicator](#Employee-indicator)\n",
    "* [Revisit missing](#Remaining-missing-values)\n",
    "* [One-hot/Label Encoding](#Onehot/label-encoding)\n",
    "* [Export](#Export-data)"
   ]
  },
  {
   "cell_type": "code",
   "execution_count": 2,
   "metadata": {},
   "outputs": [],
   "source": [
    "# Import packages\n",
    "import pandas as pd\n",
    "from pandas.api.types import CategoricalDtype\n",
    "import numpy as np\n",
    "import statistics\n",
    "import os\n",
    "import matplotlib.pyplot as plt\n",
    "import seaborn as sns\n",
    "from sklearn import preprocessing\n",
    "import pycountry_convert as pc\n",
    "import lightgbm as lgb\n",
    "from sklearn.linear_model import LinearRegression\n",
    "\n",
    "# Set options\n",
    "pd.options.display.max_rows = 999\n",
    "pd.options.display.max_columns = 999"
   ]
  },
  {
   "cell_type": "code",
   "execution_count": 3,
   "metadata": {},
   "outputs": [],
   "source": [
    "# Import data\n",
    "train = pd.read_csv(\"../01-data/train.csv\", low_memory = False)\n",
    "test = pd.read_csv(\"../01-data/test.csv\", low_memory = False)\n",
    "\n",
    "# Custom data\n",
    "codebook = pd.read_csv(\"../01-data/codebook_compact.csv\", low_memory = False) # OG codebook+dtypes from codebook_long"
   ]
  },
  {
   "cell_type": "markdown",
   "execution_count": null,
   "metadata": {},
   "outputs": [],
   "source": [
    "### Bin the country/language variables"
   ]
  },
  {
   "cell_type": "code",
   "execution_count": 4,
   "metadata": {},
   "outputs": [],
   "source": [
    "# Dealing with country vars on a case-by-case basis\n",
    "cat_cols = ['v17', \"v20\", \"v25\", \"v78\", \"v154\", \"v155\", \"v161\", \"cntry\"]\n",
    "cat_df = train[cat_cols]"
   ]
  },
  {
   "cell_type": "code",
   "execution_count": 5,
   "metadata": {},
   "outputs": [
    {
     "data": {
      "text/plain": "0     26687\nEU     1925\nAS      537\nAF      433\n-1      229\nSA      144\nNA      113\nOC       11\nName: v17, dtype: int64"
     },
     "execution_count": 5,
     "metadata": {},
     "output_type": "execute_result"
    }
   ],
   "source": [
    "## V17: Country of Birth\n",
    "\n",
    "# Drop 99, 2, 4, 3, 77, 6\n",
    "to_drop = ['99', '2', '4', '3', '77', '6', '88']\n",
    "train['v17'] = train['v17'].replace(to_drop, \"-1\")\n",
    "train['v17'] = train['v17'].replace('66', \"0\")\n",
    "\n",
    "def convert_country(country):\n",
    "    try:\n",
    "        return(pc.country_alpha2_to_continent_code(country))\n",
    "    except:\n",
    "        return(country)\n",
    "\n",
    "train['v17'] = train['v17'].apply(lambda x: convert_country(x))\n",
    "\n",
    "# Only one observation is from TL, and none exist in the test set. Drop ID = 2441\n",
    "train = train[train.v17 != 'TL']\n",
    "train['v17'].value_counts()"
   ]
  },
  {
   "cell_type": "code",
   "execution_count": 6,
   "metadata": {},
   "outputs": [
    {
     "data": {
      "text/plain": "0"
     },
     "execution_count": 6,
     "metadata": {},
     "output_type": "execute_result"
    }
   ],
   "source": [
    "train['v17'].isna().sum()"
   ]
  },
  {
   "cell_type": "code",
   "execution_count": 7,
   "metadata": {},
   "outputs": [],
   "source": [
    "### Ignore b/c it is the #4 most important var in the lightgbm\n",
    "\n",
    "## V20: Region \n",
    "\n",
    "# Country code + more specific region code. Convert to just country\n",
    "# After stripping specific region code, only 6% of obs have a different entry here than for 'cntry'. Drop this column.\n",
    "# train = train.drop('v20', axis = 1)"
   ]
  },
  {
   "cell_type": "code",
   "execution_count": 8,
   "metadata": {},
   "outputs": [
    {
     "data": {
      "text/plain": "0     28514\nEU      955\n-1      280\nAS      132\nAF      118\nSA       47\nNA       29\nOC        4\nName: v25, dtype: int64"
     },
     "execution_count": 8,
     "metadata": {},
     "output_type": "execute_result"
    }
   ],
   "source": [
    "## V25: Citizenship\n",
    "\n",
    "# Drop 65, 99, 6, convert rest to continents\n",
    "to_drop = ['65', '99', '6', '88']\n",
    "train['v25'] = train['v25'].replace(to_drop, '-1')\n",
    "train['v25'] = train['v25'].replace('66', \"0\")\n",
    "train['v25'] = train['v25'].apply(lambda x: convert_country(x))\n",
    "train['v25'].value_counts()"
   ]
  },
  {
   "cell_type": "code",
   "execution_count": 9,
   "metadata": {},
   "outputs": [
    {
     "data": {
      "text/plain": "0"
     },
     "execution_count": 9,
     "metadata": {},
     "output_type": "execute_result"
    }
   ],
   "source": [
    "train['v25'].isna().sum()"
   ]
  },
  {
   "cell_type": "code",
   "execution_count": 10,
   "metadata": {},
   "outputs": [],
   "source": [
    "## V78: Country of birth, father AND V161: Country of birth, mother\n",
    "\n",
    "# Drop errors, convert rest to continents\n",
    "to_drop = ['99', '88', '2', '4', '3', '77', '6']\n",
    "train['v78'] = train['v78'].replace(to_drop, '-1')\n",
    "train['v78'] = train['v25'].replace('66', \"0\")\n",
    "train['v78'] = train['v78'].apply(lambda x: convert_country(x))\n",
    "\n",
    "train['v161'] = train['v161'].replace(to_drop, '-1')\n",
    "train['161'] = train['v161'].replace('66', \"0\")\n",
    "train['v161'] = train['v161'].apply(lambda x: convert_country(x))"
   ]
  },
  {
   "cell_type": "code",
   "execution_count": 11,
   "metadata": {},
   "outputs": [
    {
     "data": {
      "text/plain": "0"
     },
     "execution_count": 11,
     "metadata": {},
     "output_type": "execute_result"
    }
   ],
   "source": [
    "train['v78'].isna().sum()"
   ]
  },
  {
   "cell_type": "code",
   "execution_count": 12,
   "metadata": {},
   "outputs": [
    {
     "data": {
      "text/plain": "0"
     },
     "execution_count": 12,
     "metadata": {},
     "output_type": "execute_result"
    }
   ],
   "source": [
    "train['v161'].isna().sum()"
   ]
  },
  {
   "cell_type": "code",
   "execution_count": 13,
   "metadata": {},
   "outputs": [
    {
     "data": {
      "text/plain": "EUR        0.262502\nNOR        0.205021\nGER        0.121296\nENG        0.117006\nSLAV       0.114895\nBAL        0.107521\nMIDEAST    0.066396\nSOUTHA     0.001910\nAFR        0.001508\nOTHER      0.001039\nASIA       0.000905\nName: v154, dtype: float64"
     },
     "execution_count": 13,
     "metadata": {},
     "output_type": "execute_result"
    }
   ],
   "source": [
    "## V154: Language most often spoken at home: first mentioned\n",
    "\n",
    "# Drop errors\n",
    "to_drop = ['999','888','777']\n",
    "train['v154'] = train['v154'].replace(to_drop, '-1')\n",
    "\n",
    "# Leaving ENG and GER as is \n",
    "missing = [\".\"]\n",
    "GER = [\"GER\"]\n",
    "ENG = [\"ENG\"]\n",
    "eur = [\"FRE\",\"DUT\",\"SPA\",\"HUN\",\"POR\",\"GSW\",\"CAT\",\"ITA\",\"GLG\",\"ALB\",\"FRS\",\"HRV\",\"BAQ\",\"ROA\",\"GLE\",\n",
    "       \"GEM\",\"CPP\",\"FRM\",\"GRE\",\"WEL\",\"ROH\",\"BEL\",\"FAO\",\"SRN\",\"NAP\",\"AST\",\"FRO\"]\n",
    "bal = [\"CZE\", \"LIT\"]\n",
    "afr = [\"AMH\",\"SOM\",\"BER\",\"MLG\",\"TIR\",\"MAN\",\"LIN\",\"WOL\",\"BAM\",\"AKA\",\"SWA\",\"SUX\",\"SUS\",\"SNK\",\"TIG\"]\n",
    "nor = [\"FIN\",\"SWE\",\"DAN\",\"NOR\",\"EST\",\"ICE\"]\n",
    "asia = [\"CHI\",\"VIE\",\"THA\",\"MAY\",\"TAI\",\"TIB\",\"IND\",\"JPN\",\"LAO\"]\n",
    "southa = [\"URD\",\"HIN\",\"TAM\",\"GUJ\",\"BEN\",\"MAL\",\"PAN\",\"TEL\",\"CPF\"]\n",
    "mideast = [\"HEB\",\"ARA\",\"TUR\",\"KUR\",\"PER\",\"ARM\",\"IRA\",\"YID\",\"SYR\",\"AZE\",\"UZB\",\"TGK\",\"KAB\",\"EGY\",\"ABK\",\"GEO\"]\n",
    "slav = [\"POL\",\"SLV\",\"RUS\",\"SRP\",\"BOS\",\"RUM\",\"HRV\",\"SLO\",\"ROM\",\"BUL\",\"UKR\",\"SLA\",\"LAV\",\"MDR\"]\n",
    "oth = [\"APA\",\"PAP\",\"MIS\",\"TGL\",\"NEP\",\"FIL\",\"MON\"]\n",
    "\n",
    "languages = {language: 'EUR' for language in eur}\n",
    "languages.update({language: '-1' for language in missing})\n",
    "languages.update({language: 'GER' for language in GER})\n",
    "languages.update({language: 'ENG' for language in ENG})\n",
    "languages.update({language: 'BAL' for language in bal})\n",
    "languages.update({language: 'AFR' for language in afr})\n",
    "languages.update({language: 'NOR' for language in nor})\n",
    "languages.update({language: 'ASIA' for language in asia})\n",
    "languages.update({language: 'SOUTHA' for language in southa})\n",
    "languages.update({language: 'MIDEAST' for language in mideast})\n",
    "languages.update({language: 'SLAV' for language in slav})\n",
    "languages.update({language: 'OTHER' for language in oth})\n",
    "\n",
    "train['v154'] = train['v154'].map(languages)\n",
    "\n",
    "train['v154'].value_counts(normalize = True)"
   ]
  },
  {
   "cell_type": "code",
   "execution_count": 14,
   "metadata": {},
   "outputs": [],
   "source": [
    "train['v154'] = train['v154'].fillna(-1).astype(str)"
   ]
  },
  {
   "cell_type": "code",
   "execution_count": 15,
   "metadata": {},
   "outputs": [
    {
     "data": {
      "text/plain": "0"
     },
     "execution_count": 15,
     "metadata": {},
     "output_type": "execute_result"
    }
   ],
   "source": [
    "train['v154'].isna().sum()"
   ]
  },
  {
   "cell_type": "code",
   "execution_count": 16,
   "metadata": {},
   "outputs": [
    {
     "data": {
      "text/plain": "0          0.792447\n-1         0.061604\nEUR        0.041158\nENG        0.027827\nNOR        0.021510\nSLAV       0.019449\nMIDEAST    0.017388\nGER        0.012002\nBAL        0.002161\nAFR        0.001662\nOTHER      0.001130\nASIA       0.000831\nSOUTHA     0.000831\nName: v155, dtype: float64"
     },
     "execution_count": 16,
     "metadata": {},
     "output_type": "execute_result"
    }
   ],
   "source": [
    "## V155: Language most often spoken at home: second mentioned\n",
    "\n",
    "# Assuming 0 means no other language, and 999, 888, 777 are missing\n",
    "to_drop = ['999','888','777']\n",
    "train['v155'] = train['v155'].replace(to_drop, '-1')\n",
    "\n",
    "## Check if any weren't present in the previous question\n",
    "lang_v154 = [\"GER\",\"ENG\",\"FRE\",\"CZE\",\"LIT\",\"FIN\",\"POL\",\"DUT\",\"SWE\",\"HEB\",\"SPA\",\n",
    "             \"HUN\",\"DAN\",\"NOR\",\"POR\",\"EST\",\"SLV\",\"RUS\",\"GSW\",\"ARA\",\"CAT\",\"TUR\",\n",
    "             \"ITA\",\"GLG\",\"SRP\",\"BOS\",\"ALB\",\"FRS\",\"RUM\",\"KUR\",\"HRV\",\"BAQ\",\"URD\",\n",
    "             \"PER\",\"AMH\",\"APA\",\"ROA\",\"CHI\",\"HIN\",\"ARM\",\"GLE\",\"SOM\",\"SLO\",\"IRA\",\n",
    "             \"TAM\",\"GEM\",\"GUJ\",\"ROM\",\"CPP\",\"FRM\",\"GRE\",\"WEL\",\"VIE\",\"BUL\",\"UKR\",\n",
    "             \"YID\",\"BER\",\"PAP\",\"MIS\",\"BEN\",\"SLA\",\"LAV\",\"MAL\",\"THA\",\"TGL\",\"NEP\",\n",
    "             \"MAY\",\"SYR\",\"AZE\",\"UZB\",\"PAN\",\"TGK\",\"MLG\",\"ROH\",\"TIR\",\"MAN\",\"TAI\",\n",
    "             \"LIN\",\"KAB\",\"EGY\",\"BEL\",\"WOL\",\"BAM\",\"TIB\",\"AKA\",\"SWA\",\"IND\",\"SUX\",\n",
    "             \"TEL\",\"FAO\",\"JPN\",\"SRN\",\"SUS\",\"ICE\",\"SNK\",\"FIL\",\"ABK\",\"GEO\",\"TIG\",\n",
    "             \"NAP\",\"AST\",\"FRO\",\"LAO\",\"CPF\",\"MON\",\"MDR\"]\n",
    "\n",
    "lang_v155 = train['v155'].unique().tolist()\n",
    "\n",
    "new_languages = [language for language in lang_v155 if language not in lang_v154]\n",
    "\n",
    "# New language dict: leaving ENG and GER as is \n",
    "none = ['0']\n",
    "missing = [\"-1\"]\n",
    "GER = [\"GER\"]\n",
    "ENG = [\"ENG\"]\n",
    "eur = [\"FRE\",\"DUT\",\"SPA\",\"HUN\",\"POR\",\"GSW\",\"CAT\",\"ITA\",\"GLG\",\"ALB\",\"FRS\",\"HRV\",\"BAQ\",\"ROA\",\"GLE\",\n",
    "       \"GEM\",\"CPP\",\"FRM\",\"GRE\",\"WEL\",\"ROH\",\"BEL\",\"FAO\",\"SRN\",\"NAP\",\"AST\",\"FRO\",\"ENM\",\"OCI\",\"BRE\",\n",
    "       \"NDS\",\"WLN\",\"VOL\",\"MWL\"]\n",
    "bal = [\"CZE\", \"LIT\", \"MAC\", \"CSB\"]\n",
    "afr = [\"AMH\",\"SOM\",\"BER\",\"MLG\",\"TIR\",\"MAN\",\"LIN\",\"WOL\",\"BAM\",\"AKA\",\"SWA\",\"SUX\",\"SUS\",\"SNK\",\"TIG\",\n",
    "       \"EWE\",\"RUN\",\"IBO\",\"YOR\",\"FON\",\"KON\",\"DYU\",\"KIN\",\"NIC\",\"NDE\",\"HER\",\"KIK\"]\n",
    "nor = [\"FIN\",\"SWE\",\"DAN\",\"NOR\",\"EST\",\"ICE\", 'SMN']\n",
    "asia = [\"CHI\",\"VIE\",\"THA\",\"MAY\",\"TAI\",\"TIB\",\"IND\",\"JPN\",\"LAO\"]\n",
    "southa = [\"URD\",\"HIN\",\"TAM\",\"GUJ\",\"BEN\",\"MAL\",\"PAN\",\"TEL\",\"CPF\", \"MAR\"]\n",
    "mideast = [\"HEB\",\"ARA\",\"TUR\",\"KUR\",\"PER\",\"ARM\",\"IRA\",\"YID\",\"SYR\",\"AZE\",\"UZB\",\"TGK\",\"KAB\",\"EGY\",\"ABK\",\"GEO\"]\n",
    "slav = [\"POL\",\"SLV\",\"RUS\",\"SRP\",\"BOS\",\"RUM\",\"HRV\",\"SLO\",\"ROM\",\"BUL\",\"UKR\",\"SLA\",\"LAV\",\"MDR\"]\n",
    "oth = [\"APA\",\"PAP\",\"MIS\",\"TGL\",\"NEP\",\"FIL\",\"MON\",\"ZXX\",\"TPI\",\"GRN\",\"SGN\",\"HUP\",\"NAH\",\"HAT\",\"CAD\",\"PHI\",\"MAO\"]\n",
    "\n",
    " \n",
    "languages = {language: 'EUR' for language in eur}\n",
    "languages.update({language: '0' for language in none})\n",
    "languages.update({language: '-1' for language in missing})\n",
    "languages.update({language: 'GER' for language in GER})\n",
    "languages.update({language: 'ENG' for language in ENG})\n",
    "languages.update({language: 'BAL' for language in bal})\n",
    "languages.update({language: 'AFR' for language in afr})\n",
    "languages.update({language: 'NOR' for language in nor})\n",
    "languages.update({language: 'ASIA' for language in asia})\n",
    "languages.update({language: 'SOUTHA' for language in southa})\n",
    "languages.update({language: 'MIDEAST' for language in mideast})\n",
    "languages.update({language: 'SLAV' for language in slav})\n",
    "languages.update({language: 'OTHER' for language in oth})\n",
    "\n",
    "# Map langauges to their groups\n",
    "train['v155'] = train['v155'].map(languages)\n",
    "\n",
    "train['v155'].value_counts(normalize = True)"
   ]
  },
  {
   "cell_type": "code",
   "execution_count": 17,
   "metadata": {},
   "outputs": [
    {
     "data": {
      "text/plain": "0"
     },
     "execution_count": 17,
     "metadata": {},
     "output_type": "execute_result"
    }
   ],
   "source": [
    "train['v155'].isna().sum()"
   ]
  },
  {
   "cell_type": "code",
   "execution_count": 18,
   "metadata": {},
   "outputs": [
    {
     "data": {
      "text/plain": "0"
     },
     "execution_count": 18,
     "metadata": {},
     "output_type": "execute_result"
    }
   ],
   "source": [
    "train['cntry'].isna().sum()"
   ]
  },
  {
   "cell_type": "markdown",
   "execution_count": null,
   "metadata": {},
   "outputs": [],
   "source": [
    "### Bin the age variables"
   ]
  },
  {
   "cell_type": "code",
   "execution_count": 19,
   "metadata": {},
   "outputs": [
    {
     "name": "stdout",
     "output_type": "stream",
     "text": "0.24% of the ages are missing.\n"
    }
   ],
   "source": [
    "## V3: Age of respondent, calculated\n",
    "\n",
    "missing_age = round(len(train[train['v3'] == '.a'])/len(train) * 100, 2)\n",
    "print(str(missing_age) + \"% of the ages are missing.\")"
   ]
  },
  {
   "cell_type": "code",
   "execution_count": 20,
   "metadata": {},
   "outputs": [],
   "source": [
    "# Using EDA notebook, the highest positive and negatively linearly correlated vars with Age (v3):\n",
    "# Positive: v217, v163, v218, v103, v99\n",
    "# Negative: v54, v196, v208, v100, v159\t\n",
    "cols = ['v3','v217','v218', 'v54']\n",
    "\n",
    "regress_age = train[cols]\n",
    "train_lr = regress_age[regress_age['v3'] != '.a']\n",
    "test_lr = regress_age[regress_age['v3'] == '.a']\n",
    "\n",
    "for col in cols:\n",
    "    train_lr[col] = pd.to_numeric(train[col], errors = 'coerce')\n",
    "\n",
    "# Drop all na\n",
    "train_lr = train_lr.dropna()\n",
    "\n",
    "X_train = train_lr.loc[:, train_lr.columns != 'v3']\n",
    "y_train = train_lr['v3']\n",
    "\n",
    "# Linear regression\n",
    "regressor = lgb.LGBMRegressor()  \n",
    "regressor.fit(X_train, y_train) \n",
    "\n",
    "del test_lr['v3']\n",
    "test_lr = test_lr.replace(['.a', '.b', '.c', '.d'], np.nan).dropna()\n",
    "\n",
    "test_lr[\"predicted_age\"] = regressor.predict(test_lr)\n",
    "\n",
    "# Gives R2 score of 0.63 but better than imputation by mean\n",
    "# metrics.r2_score(label, train_no_na[\"predicted_age\"])"
   ]
  },
  {
   "cell_type": "code",
   "execution_count": 21,
   "metadata": {},
   "outputs": [],
   "source": [
    "# Filling in missing values with predicted age\n",
    "index_predicted = test_lr.drop(['v217','v218', 'v54'], axis = 1).index\n",
    "index_missing = train[train['v3'] == '.a'].index\n",
    "\n",
    "train = train.join(test_lr['predicted_age'])\n",
    "train['v3_imputed'] = np.where(train['v3'] == '.a', train['predicted_age'], train['v3']).astype(\"float64\")\n",
    "# Delete other versions of age\n",
    "del train['v3']\n",
    "del train['predicted_age']"
   ]
  },
  {
   "cell_type": "code",
   "execution_count": 22,
   "metadata": {},
   "outputs": [
    {
     "data": {
      "image/png": "[encoded data removed]",
      "image/svg+xml": "<?xml version=\"1.0\" encoding=\"utf-8\" standalone=\"no\"?>\n<!DOCTYPE svg PUBLIC \"-//W3C//DTD SVG 1.1//EN\"\n  \"http://www.w3.org/Graphics/SVG/1.1/DTD/svg11.dtd\">\n<!-- Created with matplotlib (https://matplotlib.org/) -->\n<svg height=\"266.409844pt\" version=\"1.1\" viewBox=\"0 0 392.341094 266.409844\" width=\"392.341094pt\" xmlns=\"http://www.w3.org/2000/svg\" xmlns:xlink=\"http://www.w3.org/1999/xlink\">\n <defs>\n  <style type=\"text/css\">\n*{stroke-linecap:butt;stroke-linejoin:round;}\n  </style>\n </defs>\n <g id=\"figure_1\">\n  <g id=\"patch_1\">\n   <path d=\"M -0 266.409844 \nL 392.341094 266.409844 \nL 392.341094 0 \nL -0 0 \nz\n\" style=\"fill:#ffffff;\"/>\n  </g>\n  <g id=\"axes_1\">\n   <g id=\"patch_2\">\n    <path d=\"M 50.341094 224.64 \nL 385.141094 224.64 \nL 385.141094 7.2 \nL 50.341094 7.2 \nz\n\" style=\"fill:#eaeaf2;\"/>\n   </g>\n   <g id=\"matplotlib.axis_1\">\n    <g id=\"xtick_1\">\n     <g id=\"line2d_1\">\n      <path clip-path=\"url(#p18ce5bdf9a)\" d=\"M 100.579166 224.64 \nL 100.579166 7.2 \n\" style=\"fill:none;stroke:#ffffff;stroke-linecap:round;\"/>\n     </g>\n     <g id=\"text_1\">\n      <!-- 20 -->\n      <defs>\n       <path d=\"M 50.34375 8.453125 \nL 50.34375 0 \nL 3.03125 0 \nQ 2.9375 3.171875 4.046875 6.109375 \nQ 5.859375 10.9375 9.828125 15.625 \nQ 13.8125 20.3125 21.34375 26.46875 \nQ 33.015625 36.03125 37.109375 41.625 \nQ 41.21875 47.21875 41.21875 52.203125 \nQ 41.21875 57.421875 37.46875 61 \nQ 33.734375 64.59375 27.734375 64.59375 \nQ 21.390625 64.59375 17.578125 60.78125 \nQ 13.765625 56.984375 13.71875 50.25 \nL 4.6875 51.171875 \nQ 5.609375 61.28125 11.65625 66.578125 \nQ 17.71875 71.875 27.9375 71.875 \nQ 38.234375 71.875 44.234375 66.15625 \nQ 50.25 60.453125 50.25 52 \nQ 50.25 47.703125 48.484375 43.546875 \nQ 46.734375 39.40625 42.65625 34.8125 \nQ 38.578125 30.21875 29.109375 22.21875 \nQ 21.1875 15.578125 18.9375 13.203125 \nQ 16.703125 10.84375 15.234375 8.453125 \nz\n\" id=\"ArialMT-50\"/>\n       <path d=\"M 4.15625 35.296875 \nQ 4.15625 48 6.765625 55.734375 \nQ 9.375 63.484375 14.515625 67.671875 \nQ 19.671875 71.875 27.484375 71.875 \nQ 33.25 71.875 37.59375 69.546875 \nQ 41.9375 67.234375 44.765625 62.859375 \nQ 47.609375 58.5 49.21875 52.21875 \nQ 50.828125 45.953125 50.828125 35.296875 \nQ 50.828125 22.703125 48.234375 14.96875 \nQ 45.65625 7.234375 40.5 3 \nQ 35.359375 -1.21875 27.484375 -1.21875 \nQ 17.140625 -1.21875 11.234375 6.203125 \nQ 4.15625 15.140625 4.15625 35.296875 \nz\nM 13.1875 35.296875 \nQ 13.1875 17.671875 17.3125 11.828125 \nQ 21.4375 6 27.484375 6 \nQ 33.546875 6 37.671875 11.859375 \nQ 41.796875 17.71875 41.796875 35.296875 \nQ 41.796875 52.984375 37.671875 58.78125 \nQ 33.546875 64.59375 27.390625 64.59375 \nQ 21.34375 64.59375 17.71875 59.46875 \nQ 13.1875 52.9375 13.1875 35.296875 \nz\n\" id=\"ArialMT-48\"/>\n      </defs>\n      <g style=\"fill:#262626;\" transform=\"translate(94.462134 242.013594)scale(0.11 -0.11)\">\n       <use xlink:href=\"#ArialMT-50\"/>\n       <use x=\"55.615234\" xlink:href=\"#ArialMT-48\"/>\n      </g>\n     </g>\n    </g>\n    <g id=\"xtick_2\">\n     <g id=\"line2d_2\">\n      <path clip-path=\"url(#p18ce5bdf9a)\" d=\"M 153.834587 224.64 \nL 153.834587 7.2 \n\" style=\"fill:none;stroke:#ffffff;stroke-linecap:round;\"/>\n     </g>\n     <g id=\"text_2\">\n      <!-- 40 -->\n      <defs>\n       <path d=\"M 32.328125 0 \nL 32.328125 17.140625 \nL 1.265625 17.140625 \nL 1.265625 25.203125 \nL 33.9375 71.578125 \nL 41.109375 71.578125 \nL 41.109375 25.203125 \nL 50.78125 25.203125 \nL 50.78125 17.140625 \nL 41.109375 17.140625 \nL 41.109375 0 \nz\nM 32.328125 25.203125 \nL 32.328125 57.46875 \nL 9.90625 25.203125 \nz\n\" id=\"ArialMT-52\"/>\n      </defs>\n      <g style=\"fill:#262626;\" transform=\"translate(147.717556 242.013594)scale(0.11 -0.11)\">\n       <use xlink:href=\"#ArialMT-52\"/>\n       <use x=\"55.615234\" xlink:href=\"#ArialMT-48\"/>\n      </g>\n     </g>\n    </g>\n    <g id=\"xtick_3\">\n     <g id=\"line2d_3\">\n      <path clip-path=\"url(#p18ce5bdf9a)\" d=\"M 207.090009 224.64 \nL 207.090009 7.2 \n\" style=\"fill:none;stroke:#ffffff;stroke-linecap:round;\"/>\n     </g>\n     <g id=\"text_3\">\n      <!-- 60 -->\n      <defs>\n       <path d=\"M 49.75 54.046875 \nL 41.015625 53.375 \nQ 39.84375 58.546875 37.703125 60.890625 \nQ 34.125 64.65625 28.90625 64.65625 \nQ 24.703125 64.65625 21.53125 62.3125 \nQ 17.390625 59.28125 14.984375 53.46875 \nQ 12.59375 47.65625 12.5 36.921875 \nQ 15.671875 41.75 20.265625 44.09375 \nQ 24.859375 46.4375 29.890625 46.4375 \nQ 38.671875 46.4375 44.84375 39.96875 \nQ 51.03125 33.5 51.03125 23.25 \nQ 51.03125 16.5 48.125 10.71875 \nQ 45.21875 4.9375 40.140625 1.859375 \nQ 35.0625 -1.21875 28.609375 -1.21875 \nQ 17.625 -1.21875 10.6875 6.859375 \nQ 3.765625 14.9375 3.765625 33.5 \nQ 3.765625 54.25 11.421875 63.671875 \nQ 18.109375 71.875 29.4375 71.875 \nQ 37.890625 71.875 43.28125 67.140625 \nQ 48.6875 62.40625 49.75 54.046875 \nz\nM 13.875 23.1875 \nQ 13.875 18.65625 15.796875 14.5 \nQ 17.71875 10.359375 21.1875 8.171875 \nQ 24.65625 6 28.46875 6 \nQ 34.03125 6 38.03125 10.484375 \nQ 42.046875 14.984375 42.046875 22.703125 \nQ 42.046875 30.125 38.078125 34.390625 \nQ 34.125 38.671875 28.125 38.671875 \nQ 22.171875 38.671875 18.015625 34.390625 \nQ 13.875 30.125 13.875 23.1875 \nz\n\" id=\"ArialMT-54\"/>\n      </defs>\n      <g style=\"fill:#262626;\" transform=\"translate(200.972978 242.013594)scale(0.11 -0.11)\">\n       <use xlink:href=\"#ArialMT-54\"/>\n       <use x=\"55.615234\" xlink:href=\"#ArialMT-48\"/>\n      </g>\n     </g>\n    </g>\n    <g id=\"xtick_4\">\n     <g id=\"line2d_4\">\n      <path clip-path=\"url(#p18ce5bdf9a)\" d=\"M 260.345431 224.64 \nL 260.345431 7.2 \n\" style=\"fill:none;stroke:#ffffff;stroke-linecap:round;\"/>\n     </g>\n     <g id=\"text_4\">\n      <!-- 80 -->\n      <defs>\n       <path d=\"M 17.671875 38.8125 \nQ 12.203125 40.828125 9.5625 44.53125 \nQ 6.9375 48.25 6.9375 53.421875 \nQ 6.9375 61.234375 12.546875 66.546875 \nQ 18.171875 71.875 27.484375 71.875 \nQ 36.859375 71.875 42.578125 66.421875 \nQ 48.296875 60.984375 48.296875 53.171875 \nQ 48.296875 48.1875 45.671875 44.5 \nQ 43.0625 40.828125 37.75 38.8125 \nQ 44.34375 36.671875 47.78125 31.875 \nQ 51.21875 27.09375 51.21875 20.453125 \nQ 51.21875 11.28125 44.71875 5.03125 \nQ 38.234375 -1.21875 27.640625 -1.21875 \nQ 17.046875 -1.21875 10.546875 5.046875 \nQ 4.046875 11.328125 4.046875 20.703125 \nQ 4.046875 27.6875 7.59375 32.390625 \nQ 11.140625 37.109375 17.671875 38.8125 \nz\nM 15.921875 53.71875 \nQ 15.921875 48.640625 19.1875 45.40625 \nQ 22.46875 42.1875 27.6875 42.1875 \nQ 32.765625 42.1875 36.015625 45.375 \nQ 39.265625 48.578125 39.265625 53.21875 \nQ 39.265625 58.0625 35.90625 61.359375 \nQ 32.5625 64.65625 27.59375 64.65625 \nQ 22.5625 64.65625 19.234375 61.421875 \nQ 15.921875 58.203125 15.921875 53.71875 \nz\nM 13.09375 20.65625 \nQ 13.09375 16.890625 14.875 13.375 \nQ 16.65625 9.859375 20.171875 7.921875 \nQ 23.6875 6 27.734375 6 \nQ 34.03125 6 38.125 10.046875 \nQ 42.234375 14.109375 42.234375 20.359375 \nQ 42.234375 26.703125 38.015625 30.859375 \nQ 33.796875 35.015625 27.4375 35.015625 \nQ 21.234375 35.015625 17.15625 30.90625 \nQ 13.09375 26.8125 13.09375 20.65625 \nz\n\" id=\"ArialMT-56\"/>\n      </defs>\n      <g style=\"fill:#262626;\" transform=\"translate(254.2284 242.013594)scale(0.11 -0.11)\">\n       <use xlink:href=\"#ArialMT-56\"/>\n       <use x=\"55.615234\" xlink:href=\"#ArialMT-48\"/>\n      </g>\n     </g>\n    </g>\n    <g id=\"xtick_5\">\n     <g id=\"line2d_5\">\n      <path clip-path=\"url(#p18ce5bdf9a)\" d=\"M 313.600853 224.64 \nL 313.600853 7.2 \n\" style=\"fill:none;stroke:#ffffff;stroke-linecap:round;\"/>\n     </g>\n     <g id=\"text_5\">\n      <!-- 100 -->\n      <defs>\n       <path d=\"M 37.25 0 \nL 28.46875 0 \nL 28.46875 56 \nQ 25.296875 52.984375 20.140625 49.953125 \nQ 14.984375 46.921875 10.890625 45.40625 \nL 10.890625 53.90625 \nQ 18.265625 57.375 23.78125 62.296875 \nQ 29.296875 67.234375 31.59375 71.875 \nL 37.25 71.875 \nz\n\" id=\"ArialMT-49\"/>\n      </defs>\n      <g style=\"fill:#262626;\" transform=\"translate(304.425306 242.013594)scale(0.11 -0.11)\">\n       <use xlink:href=\"#ArialMT-49\"/>\n       <use x=\"55.615234\" xlink:href=\"#ArialMT-48\"/>\n       <use x=\"111.230469\" xlink:href=\"#ArialMT-48\"/>\n      </g>\n     </g>\n    </g>\n    <g id=\"xtick_6\">\n     <g id=\"line2d_6\">\n      <path clip-path=\"url(#p18ce5bdf9a)\" d=\"M 366.856275 224.64 \nL 366.856275 7.2 \n\" style=\"fill:none;stroke:#ffffff;stroke-linecap:round;\"/>\n     </g>\n     <g id=\"text_6\">\n      <!-- 120 -->\n      <g style=\"fill:#262626;\" transform=\"translate(357.680728 242.013594)scale(0.11 -0.11)\">\n       <use xlink:href=\"#ArialMT-49\"/>\n       <use x=\"55.615234\" xlink:href=\"#ArialMT-50\"/>\n       <use x=\"111.230469\" xlink:href=\"#ArialMT-48\"/>\n      </g>\n     </g>\n    </g>\n    <g id=\"text_7\">\n     <!-- v3_imputed -->\n     <defs>\n      <path d=\"M 21 0 \nL 1.265625 51.859375 \nL 10.546875 51.859375 \nL 21.6875 20.796875 \nQ 23.484375 15.765625 25 10.359375 \nQ 26.171875 14.453125 28.265625 20.21875 \nL 39.796875 51.859375 \nL 48.828125 51.859375 \nL 29.203125 0 \nz\n\" id=\"ArialMT-118\"/>\n      <path d=\"M 4.203125 18.890625 \nL 12.984375 20.0625 \nQ 14.5 12.59375 18.140625 9.296875 \nQ 21.78125 6 27 6 \nQ 33.203125 6 37.46875 10.296875 \nQ 41.75 14.59375 41.75 20.953125 \nQ 41.75 27 37.796875 30.921875 \nQ 33.84375 34.859375 27.734375 34.859375 \nQ 25.25 34.859375 21.53125 33.890625 \nL 22.515625 41.609375 \nQ 23.390625 41.5 23.921875 41.5 \nQ 29.546875 41.5 34.03125 44.421875 \nQ 38.53125 47.359375 38.53125 53.46875 \nQ 38.53125 58.296875 35.25 61.46875 \nQ 31.984375 64.65625 26.8125 64.65625 \nQ 21.6875 64.65625 18.265625 61.421875 \nQ 14.84375 58.203125 13.875 51.765625 \nL 5.078125 53.328125 \nQ 6.6875 62.15625 12.390625 67.015625 \nQ 18.109375 71.875 26.609375 71.875 \nQ 32.46875 71.875 37.390625 69.359375 \nQ 42.328125 66.84375 44.9375 62.5 \nQ 47.5625 58.15625 47.5625 53.265625 \nQ 47.5625 48.640625 45.0625 44.828125 \nQ 42.578125 41.015625 37.703125 38.765625 \nQ 44.046875 37.3125 47.5625 32.6875 \nQ 51.078125 28.078125 51.078125 21.140625 \nQ 51.078125 11.765625 44.234375 5.25 \nQ 37.40625 -1.265625 26.953125 -1.265625 \nQ 17.53125 -1.265625 11.296875 4.34375 \nQ 5.078125 9.96875 4.203125 18.890625 \nz\n\" id=\"ArialMT-51\"/>\n      <path d=\"M -1.515625 -19.875 \nL -1.515625 -13.53125 \nL 56.734375 -13.53125 \nL 56.734375 -19.875 \nz\n\" id=\"ArialMT-95\"/>\n      <path d=\"M 6.640625 61.46875 \nL 6.640625 71.578125 \nL 15.4375 71.578125 \nL 15.4375 61.46875 \nz\nM 6.640625 0 \nL 6.640625 51.859375 \nL 15.4375 51.859375 \nL 15.4375 0 \nz\n\" id=\"ArialMT-105\"/>\n      <path d=\"M 6.59375 0 \nL 6.59375 51.859375 \nL 14.453125 51.859375 \nL 14.453125 44.578125 \nQ 16.890625 48.390625 20.9375 50.703125 \nQ 25 53.03125 30.171875 53.03125 \nQ 35.9375 53.03125 39.625 50.640625 \nQ 43.3125 48.25 44.828125 43.953125 \nQ 50.984375 53.03125 60.84375 53.03125 \nQ 68.5625 53.03125 72.703125 48.75 \nQ 76.859375 44.484375 76.859375 35.59375 \nL 76.859375 0 \nL 68.109375 0 \nL 68.109375 32.671875 \nQ 68.109375 37.9375 67.25 40.25 \nQ 66.40625 42.578125 64.15625 43.984375 \nQ 61.921875 45.40625 58.890625 45.40625 \nQ 53.421875 45.40625 49.796875 41.765625 \nQ 46.1875 38.140625 46.1875 30.125 \nL 46.1875 0 \nL 37.40625 0 \nL 37.40625 33.6875 \nQ 37.40625 39.546875 35.25 42.46875 \nQ 33.109375 45.40625 28.21875 45.40625 \nQ 24.515625 45.40625 21.359375 43.453125 \nQ 18.21875 41.5 16.796875 37.734375 \nQ 15.375 33.984375 15.375 26.90625 \nL 15.375 0 \nz\n\" id=\"ArialMT-109\"/>\n      <path d=\"M 6.59375 -19.875 \nL 6.59375 51.859375 \nL 14.59375 51.859375 \nL 14.59375 45.125 \nQ 17.4375 49.078125 21 51.046875 \nQ 24.5625 53.03125 29.640625 53.03125 \nQ 36.28125 53.03125 41.359375 49.609375 \nQ 46.4375 46.1875 49.015625 39.953125 \nQ 51.609375 33.734375 51.609375 26.3125 \nQ 51.609375 18.359375 48.75 11.984375 \nQ 45.90625 5.609375 40.453125 2.21875 \nQ 35.015625 -1.171875 29 -1.171875 \nQ 24.609375 -1.171875 21.109375 0.6875 \nQ 17.625 2.546875 15.375 5.375 \nL 15.375 -19.875 \nz\nM 14.546875 25.640625 \nQ 14.546875 15.625 18.59375 10.84375 \nQ 22.65625 6.0625 28.421875 6.0625 \nQ 34.28125 6.0625 38.453125 11.015625 \nQ 42.625 15.96875 42.625 26.375 \nQ 42.625 36.28125 38.546875 41.203125 \nQ 34.46875 46.140625 28.8125 46.140625 \nQ 23.1875 46.140625 18.859375 40.890625 \nQ 14.546875 35.640625 14.546875 25.640625 \nz\n\" id=\"ArialMT-112\"/>\n      <path d=\"M 40.578125 0 \nL 40.578125 7.625 \nQ 34.515625 -1.171875 24.125 -1.171875 \nQ 19.53125 -1.171875 15.546875 0.578125 \nQ 11.578125 2.34375 9.640625 5 \nQ 7.71875 7.671875 6.9375 11.53125 \nQ 6.390625 14.109375 6.390625 19.734375 \nL 6.390625 51.859375 \nL 15.1875 51.859375 \nL 15.1875 23.09375 \nQ 15.1875 16.21875 15.71875 13.8125 \nQ 16.546875 10.359375 19.234375 8.375 \nQ 21.921875 6.390625 25.875 6.390625 \nQ 29.828125 6.390625 33.296875 8.421875 \nQ 36.765625 10.453125 38.203125 13.9375 \nQ 39.65625 17.4375 39.65625 24.078125 \nL 39.65625 51.859375 \nL 48.4375 51.859375 \nL 48.4375 0 \nz\n\" id=\"ArialMT-117\"/>\n      <path d=\"M 25.78125 7.859375 \nL 27.046875 0.09375 \nQ 23.34375 -0.6875 20.40625 -0.6875 \nQ 15.625 -0.6875 12.984375 0.828125 \nQ 10.359375 2.34375 9.28125 4.8125 \nQ 8.203125 7.28125 8.203125 15.1875 \nL 8.203125 45.015625 \nL 1.765625 45.015625 \nL 1.765625 51.859375 \nL 8.203125 51.859375 \nL 8.203125 64.703125 \nL 16.9375 69.96875 \nL 16.9375 51.859375 \nL 25.78125 51.859375 \nL 25.78125 45.015625 \nL 16.9375 45.015625 \nL 16.9375 14.703125 \nQ 16.9375 10.9375 17.40625 9.859375 \nQ 17.875 8.796875 18.921875 8.15625 \nQ 19.96875 7.515625 21.921875 7.515625 \nQ 23.390625 7.515625 25.78125 7.859375 \nz\n\" id=\"ArialMT-116\"/>\n      <path d=\"M 42.09375 16.703125 \nL 51.171875 15.578125 \nQ 49.03125 7.625 43.21875 3.21875 \nQ 37.40625 -1.171875 28.375 -1.171875 \nQ 17 -1.171875 10.328125 5.828125 \nQ 3.65625 12.84375 3.65625 25.484375 \nQ 3.65625 38.578125 10.390625 45.796875 \nQ 17.140625 53.03125 27.875 53.03125 \nQ 38.28125 53.03125 44.875 45.953125 \nQ 51.46875 38.875 51.46875 26.03125 \nQ 51.46875 25.25 51.421875 23.6875 \nL 12.75 23.6875 \nQ 13.234375 15.140625 17.578125 10.59375 \nQ 21.921875 6.0625 28.421875 6.0625 \nQ 33.25 6.0625 36.671875 8.59375 \nQ 40.09375 11.140625 42.09375 16.703125 \nz\nM 13.234375 30.90625 \nL 42.1875 30.90625 \nQ 41.609375 37.453125 38.875 40.71875 \nQ 34.671875 45.796875 27.984375 45.796875 \nQ 21.921875 45.796875 17.796875 41.75 \nQ 13.671875 37.703125 13.234375 30.90625 \nz\n\" id=\"ArialMT-101\"/>\n      <path d=\"M 40.234375 0 \nL 40.234375 6.546875 \nQ 35.296875 -1.171875 25.734375 -1.171875 \nQ 19.53125 -1.171875 14.328125 2.25 \nQ 9.125 5.671875 6.265625 11.796875 \nQ 3.421875 17.921875 3.421875 25.875 \nQ 3.421875 33.640625 6 39.96875 \nQ 8.59375 46.296875 13.765625 49.65625 \nQ 18.953125 53.03125 25.34375 53.03125 \nQ 30.03125 53.03125 33.6875 51.046875 \nQ 37.359375 49.078125 39.65625 45.90625 \nL 39.65625 71.578125 \nL 48.390625 71.578125 \nL 48.390625 0 \nz\nM 12.453125 25.875 \nQ 12.453125 15.921875 16.640625 10.984375 \nQ 20.84375 6.0625 26.5625 6.0625 \nQ 32.328125 6.0625 36.34375 10.765625 \nQ 40.375 15.484375 40.375 25.140625 \nQ 40.375 35.796875 36.265625 40.765625 \nQ 32.171875 45.75 26.171875 45.75 \nQ 20.3125 45.75 16.375 40.96875 \nQ 12.453125 36.1875 12.453125 25.875 \nz\n\" id=\"ArialMT-100\"/>\n     </defs>\n     <g style=\"fill:#262626;\" transform=\"translate(186.723906 256.824844)scale(0.12 -0.12)\">\n      <use xlink:href=\"#ArialMT-118\"/>\n      <use x=\"50\" xlink:href=\"#ArialMT-51\"/>\n      <use x=\"105.615234\" xlink:href=\"#ArialMT-95\"/>\n      <use x=\"161.230469\" xlink:href=\"#ArialMT-105\"/>\n      <use x=\"183.447266\" xlink:href=\"#ArialMT-109\"/>\n      <use x=\"266.748047\" xlink:href=\"#ArialMT-112\"/>\n      <use x=\"322.363281\" xlink:href=\"#ArialMT-117\"/>\n      <use x=\"377.978516\" xlink:href=\"#ArialMT-116\"/>\n      <use x=\"405.761719\" xlink:href=\"#ArialMT-101\"/>\n      <use x=\"461.376953\" xlink:href=\"#ArialMT-100\"/>\n     </g>\n    </g>\n   </g>\n   <g id=\"matplotlib.axis_2\">\n    <g id=\"ytick_1\">\n     <g id=\"line2d_7\">\n      <path clip-path=\"url(#p18ce5bdf9a)\" d=\"M 50.341094 224.64 \nL 385.141094 224.64 \n\" style=\"fill:none;stroke:#ffffff;stroke-linecap:round;\"/>\n     </g>\n     <g id=\"text_8\">\n      <!-- 0.0000 -->\n      <defs>\n       <path d=\"M 9.078125 0 \nL 9.078125 10.015625 \nL 19.09375 10.015625 \nL 19.09375 0 \nz\n\" id=\"ArialMT-46\"/>\n      </defs>\n      <g style=\"fill:#262626;\" transform=\"translate(7.2 228.576797)scale(0.11 -0.11)\">\n       <use xlink:href=\"#ArialMT-48\"/>\n       <use x=\"55.615234\" xlink:href=\"#ArialMT-46\"/>\n       <use x=\"83.398438\" xlink:href=\"#ArialMT-48\"/>\n       <use x=\"139.013672\" xlink:href=\"#ArialMT-48\"/>\n       <use x=\"194.628906\" xlink:href=\"#ArialMT-48\"/>\n       <use x=\"250.244141\" xlink:href=\"#ArialMT-48\"/>\n      </g>\n     </g>\n    </g>\n    <g id=\"ytick_2\">\n     <g id=\"line2d_8\">\n      <path clip-path=\"url(#p18ce5bdf9a)\" d=\"M 50.341094 194.693215 \nL 385.141094 194.693215 \n\" style=\"fill:none;stroke:#ffffff;stroke-linecap:round;\"/>\n     </g>\n     <g id=\"text_9\">\n      <!-- 0.0025 -->\n      <defs>\n       <path d=\"M 4.15625 18.75 \nL 13.375 19.53125 \nQ 14.40625 12.796875 18.140625 9.390625 \nQ 21.875 6 27.15625 6 \nQ 33.5 6 37.890625 10.78125 \nQ 42.28125 15.578125 42.28125 23.484375 \nQ 42.28125 31 38.0625 35.34375 \nQ 33.84375 39.703125 27 39.703125 \nQ 22.75 39.703125 19.328125 37.765625 \nQ 15.921875 35.84375 13.96875 32.765625 \nL 5.71875 33.84375 \nL 12.640625 70.609375 \nL 48.25 70.609375 \nL 48.25 62.203125 \nL 19.671875 62.203125 \nL 15.828125 42.96875 \nQ 22.265625 47.46875 29.34375 47.46875 \nQ 38.71875 47.46875 45.15625 40.96875 \nQ 51.609375 34.46875 51.609375 24.265625 \nQ 51.609375 14.546875 45.953125 7.46875 \nQ 39.0625 -1.21875 27.15625 -1.21875 \nQ 17.390625 -1.21875 11.203125 4.25 \nQ 5.03125 9.71875 4.15625 18.75 \nz\n\" id=\"ArialMT-53\"/>\n      </defs>\n      <g style=\"fill:#262626;\" transform=\"translate(7.2 198.630012)scale(0.11 -0.11)\">\n       <use xlink:href=\"#ArialMT-48\"/>\n       <use x=\"55.615234\" xlink:href=\"#ArialMT-46\"/>\n       <use x=\"83.398438\" xlink:href=\"#ArialMT-48\"/>\n       <use x=\"139.013672\" xlink:href=\"#ArialMT-48\"/>\n       <use x=\"194.628906\" xlink:href=\"#ArialMT-50\"/>\n       <use x=\"250.244141\" xlink:href=\"#ArialMT-53\"/>\n      </g>\n     </g>\n    </g>\n    <g id=\"ytick_3\">\n     <g id=\"line2d_9\">\n      <path clip-path=\"url(#p18ce5bdf9a)\" d=\"M 50.341094 164.746431 \nL 385.141094 164.746431 \n\" style=\"fill:none;stroke:#ffffff;stroke-linecap:round;\"/>\n     </g>\n     <g id=\"text_10\">\n      <!-- 0.0050 -->\n      <g style=\"fill:#262626;\" transform=\"translate(7.2 168.683228)scale(0.11 -0.11)\">\n       <use xlink:href=\"#ArialMT-48\"/>\n       <use x=\"55.615234\" xlink:href=\"#ArialMT-46\"/>\n       <use x=\"83.398438\" xlink:href=\"#ArialMT-48\"/>\n       <use x=\"139.013672\" xlink:href=\"#ArialMT-48\"/>\n       <use x=\"194.628906\" xlink:href=\"#ArialMT-53\"/>\n       <use x=\"250.244141\" xlink:href=\"#ArialMT-48\"/>\n      </g>\n     </g>\n    </g>\n    <g id=\"ytick_4\">\n     <g id=\"line2d_10\">\n      <path clip-path=\"url(#p18ce5bdf9a)\" d=\"M 50.341094 134.799646 \nL 385.141094 134.799646 \n\" style=\"fill:none;stroke:#ffffff;stroke-linecap:round;\"/>\n     </g>\n     <g id=\"text_11\">\n      <!-- 0.0075 -->\n      <defs>\n       <path d=\"M 4.734375 62.203125 \nL 4.734375 70.65625 \nL 51.078125 70.65625 \nL 51.078125 63.8125 \nQ 44.234375 56.546875 37.515625 44.484375 \nQ 30.8125 32.421875 27.15625 19.671875 \nQ 24.515625 10.6875 23.78125 0 \nL 14.75 0 \nQ 14.890625 8.453125 18.0625 20.40625 \nQ 21.234375 32.375 27.171875 43.484375 \nQ 33.109375 54.59375 39.796875 62.203125 \nz\n\" id=\"ArialMT-55\"/>\n      </defs>\n      <g style=\"fill:#262626;\" transform=\"translate(7.2 138.736443)scale(0.11 -0.11)\">\n       <use xlink:href=\"#ArialMT-48\"/>\n       <use x=\"55.615234\" xlink:href=\"#ArialMT-46\"/>\n       <use x=\"83.398438\" xlink:href=\"#ArialMT-48\"/>\n       <use x=\"139.013672\" xlink:href=\"#ArialMT-48\"/>\n       <use x=\"194.628906\" xlink:href=\"#ArialMT-55\"/>\n       <use x=\"250.244141\" xlink:href=\"#ArialMT-53\"/>\n      </g>\n     </g>\n    </g>\n    <g id=\"ytick_5\">\n     <g id=\"line2d_11\">\n      <path clip-path=\"url(#p18ce5bdf9a)\" d=\"M 50.341094 104.852862 \nL 385.141094 104.852862 \n\" style=\"fill:none;stroke:#ffffff;stroke-linecap:round;\"/>\n     </g>\n     <g id=\"text_12\">\n      <!-- 0.0100 -->\n      <g style=\"fill:#262626;\" transform=\"translate(7.2 108.789658)scale(0.11 -0.11)\">\n       <use xlink:href=\"#ArialMT-48\"/>\n       <use x=\"55.615234\" xlink:href=\"#ArialMT-46\"/>\n       <use x=\"83.398438\" xlink:href=\"#ArialMT-48\"/>\n       <use x=\"139.013672\" xlink:href=\"#ArialMT-49\"/>\n       <use x=\"194.628906\" xlink:href=\"#ArialMT-48\"/>\n       <use x=\"250.244141\" xlink:href=\"#ArialMT-48\"/>\n      </g>\n     </g>\n    </g>\n    <g id=\"ytick_6\">\n     <g id=\"line2d_12\">\n      <path clip-path=\"url(#p18ce5bdf9a)\" d=\"M 50.341094 74.906077 \nL 385.141094 74.906077 \n\" style=\"fill:none;stroke:#ffffff;stroke-linecap:round;\"/>\n     </g>\n     <g id=\"text_13\">\n      <!-- 0.0125 -->\n      <g style=\"fill:#262626;\" transform=\"translate(7.2 78.842874)scale(0.11 -0.11)\">\n       <use xlink:href=\"#ArialMT-48\"/>\n       <use x=\"55.615234\" xlink:href=\"#ArialMT-46\"/>\n       <use x=\"83.398438\" xlink:href=\"#ArialMT-48\"/>\n       <use x=\"139.013672\" xlink:href=\"#ArialMT-49\"/>\n       <use x=\"194.628906\" xlink:href=\"#ArialMT-50\"/>\n       <use x=\"250.244141\" xlink:href=\"#ArialMT-53\"/>\n      </g>\n     </g>\n    </g>\n    <g id=\"ytick_7\">\n     <g id=\"line2d_13\">\n      <path clip-path=\"url(#p18ce5bdf9a)\" d=\"M 50.341094 44.959292 \nL 385.141094 44.959292 \n\" style=\"fill:none;stroke:#ffffff;stroke-linecap:round;\"/>\n     </g>\n     <g id=\"text_14\">\n      <!-- 0.0150 -->\n      <g style=\"fill:#262626;\" transform=\"translate(7.2 48.896089)scale(0.11 -0.11)\">\n       <use xlink:href=\"#ArialMT-48\"/>\n       <use x=\"55.615234\" xlink:href=\"#ArialMT-46\"/>\n       <use x=\"83.398438\" xlink:href=\"#ArialMT-48\"/>\n       <use x=\"139.013672\" xlink:href=\"#ArialMT-49\"/>\n       <use x=\"194.628906\" xlink:href=\"#ArialMT-53\"/>\n       <use x=\"250.244141\" xlink:href=\"#ArialMT-48\"/>\n      </g>\n     </g>\n    </g>\n    <g id=\"ytick_8\">\n     <g id=\"line2d_14\">\n      <path clip-path=\"url(#p18ce5bdf9a)\" d=\"M 50.341094 15.012508 \nL 385.141094 15.012508 \n\" style=\"fill:none;stroke:#ffffff;stroke-linecap:round;\"/>\n     </g>\n     <g id=\"text_15\">\n      <!-- 0.0175 -->\n      <g style=\"fill:#262626;\" transform=\"translate(7.2 18.949305)scale(0.11 -0.11)\">\n       <use xlink:href=\"#ArialMT-48\"/>\n       <use x=\"55.615234\" xlink:href=\"#ArialMT-46\"/>\n       <use x=\"83.398438\" xlink:href=\"#ArialMT-48\"/>\n       <use x=\"139.013672\" xlink:href=\"#ArialMT-49\"/>\n       <use x=\"194.628906\" xlink:href=\"#ArialMT-55\"/>\n       <use x=\"250.244141\" xlink:href=\"#ArialMT-53\"/>\n      </g>\n     </g>\n    </g>\n   </g>\n   <g id=\"patch_3\">\n    <path clip-path=\"url(#p18ce5bdf9a)\" d=\"M 84.602539 224.64 \nL 89.928081 224.64 \nL 89.928081 193.975385 \nL 84.602539 193.975385 \nz\n\" style=\"fill:#4c72b0;opacity:0.4;stroke:#ffffff;stroke-linejoin:miter;\"/>\n   </g>\n   <g id=\"patch_4\">\n    <path clip-path=\"url(#p18ce5bdf9a)\" d=\"M 89.928081 224.64 \nL 95.253623 224.64 \nL 95.253623 80.874725 \nL 89.928081 80.874725 \nz\n\" style=\"fill:#4c72b0;opacity:0.4;stroke:#ffffff;stroke-linejoin:miter;\"/>\n   </g>\n   <g id=\"patch_5\">\n    <path clip-path=\"url(#p18ce5bdf9a)\" d=\"M 95.253623 224.64 \nL 100.579166 224.64 \nL 100.579166 83.065055 \nL 95.253623 83.065055 \nz\n\" style=\"fill:#4c72b0;opacity:0.4;stroke:#ffffff;stroke-linejoin:miter;\"/>\n   </g>\n   <g id=\"patch_6\">\n    <path clip-path=\"url(#p18ce5bdf9a)\" d=\"M 100.579166 224.64 \nL 105.904708 224.64 \nL 105.904708 83.861538 \nL 100.579166 83.861538 \nz\n\" style=\"fill:#4c72b0;opacity:0.4;stroke:#ffffff;stroke-linejoin:miter;\"/>\n   </g>\n   <g id=\"patch_7\">\n    <path clip-path=\"url(#p18ce5bdf9a)\" d=\"M 105.904708 224.64 \nL 111.23025 224.64 \nL 111.23025 78.087033 \nL 105.904708 78.087033 \nz\n\" style=\"fill:#4c72b0;opacity:0.4;stroke:#ffffff;stroke-linejoin:miter;\"/>\n   </g>\n   <g id=\"patch_8\">\n    <path clip-path=\"url(#p18ce5bdf9a)\" d=\"M 111.23025 224.64 \nL 116.555792 224.64 \nL 116.555792 67.334505 \nL 111.23025 67.334505 \nz\n\" style=\"fill:#4c72b0;opacity:0.4;stroke:#ffffff;stroke-linejoin:miter;\"/>\n   </g>\n   <g id=\"patch_9\">\n    <path clip-path=\"url(#p18ce5bdf9a)\" d=\"M 116.555792 224.64 \nL 121.881334 224.64 \nL 121.881334 66.737143 \nL 116.555792 66.737143 \nz\n\" style=\"fill:#4c72b0;opacity:0.4;stroke:#ffffff;stroke-linejoin:miter;\"/>\n   </g>\n   <g id=\"patch_10\">\n    <path clip-path=\"url(#p18ce5bdf9a)\" d=\"M 121.881334 224.64 \nL 127.206876 224.64 \nL 127.206876 57.776703 \nL 121.881334 57.776703 \nz\n\" style=\"fill:#4c72b0;opacity:0.4;stroke:#ffffff;stroke-linejoin:miter;\"/>\n   </g>\n   <g id=\"patch_11\">\n    <path clip-path=\"url(#p18ce5bdf9a)\" d=\"M 127.206876 224.64 \nL 132.532419 224.64 \nL 132.532419 62.157363 \nL 127.206876 62.157363 \nz\n\" style=\"fill:#4c72b0;opacity:0.4;stroke:#ffffff;stroke-linejoin:miter;\"/>\n   </g>\n   <g id=\"patch_12\">\n    <path clip-path=\"url(#p18ce5bdf9a)\" d=\"M 132.532419 224.64 \nL 137.857961 224.64 \nL 137.857961 52.798681 \nL 132.532419 52.798681 \nz\n\" style=\"fill:#4c72b0;opacity:0.4;stroke:#ffffff;stroke-linejoin:miter;\"/>\n   </g>\n   <g id=\"patch_13\">\n    <path clip-path=\"url(#p18ce5bdf9a)\" d=\"M 137.857961 224.64 \nL 143.183503 224.64 \nL 143.183503 31.492747 \nL 137.857961 31.492747 \nz\n\" style=\"fill:#4c72b0;opacity:0.4;stroke:#ffffff;stroke-linejoin:miter;\"/>\n   </g>\n   <g id=\"patch_14\">\n    <path clip-path=\"url(#p18ce5bdf9a)\" d=\"M 143.183503 224.64 \nL 148.509045 224.64 \nL 148.509045 29.103297 \nL 143.183503 29.103297 \nz\n\" style=\"fill:#4c72b0;opacity:0.4;stroke:#ffffff;stroke-linejoin:miter;\"/>\n   </g>\n   <g id=\"patch_15\">\n    <path clip-path=\"url(#p18ce5bdf9a)\" d=\"M 148.509045 224.64 \nL 153.834587 224.64 \nL 153.834587 35.674286 \nL 148.509045 35.674286 \nz\n\" style=\"fill:#4c72b0;opacity:0.4;stroke:#ffffff;stroke-linejoin:miter;\"/>\n   </g>\n   <g id=\"patch_16\">\n    <path clip-path=\"url(#p18ce5bdf9a)\" d=\"M 153.834587 224.64 \nL 159.16013 224.64 \nL 159.16013 24.722637 \nL 153.834587 24.722637 \nz\n\" style=\"fill:#4c72b0;opacity:0.4;stroke:#ffffff;stroke-linejoin:miter;\"/>\n   </g>\n   <g id=\"patch_17\">\n    <path clip-path=\"url(#p18ce5bdf9a)\" d=\"M 159.16013 224.64 \nL 164.485672 224.64 \nL 164.485672 34.28044 \nL 159.16013 34.28044 \nz\n\" style=\"fill:#4c72b0;opacity:0.4;stroke:#ffffff;stroke-linejoin:miter;\"/>\n   </g>\n   <g id=\"patch_18\">\n    <path clip-path=\"url(#p18ce5bdf9a)\" d=\"M 164.485672 224.64 \nL 169.811214 224.64 \nL 169.811214 32.289231 \nL 164.485672 32.289231 \nz\n\" style=\"fill:#4c72b0;opacity:0.4;stroke:#ffffff;stroke-linejoin:miter;\"/>\n   </g>\n   <g id=\"patch_19\">\n    <path clip-path=\"url(#p18ce5bdf9a)\" d=\"M 169.811214 224.64 \nL 175.136756 224.64 \nL 175.136756 17.554286 \nL 169.811214 17.554286 \nz\n\" style=\"fill:#4c72b0;opacity:0.4;stroke:#ffffff;stroke-linejoin:miter;\"/>\n   </g>\n   <g id=\"patch_20\">\n    <path clip-path=\"url(#p18ce5bdf9a)\" d=\"M 175.136756 224.64 \nL 180.462298 224.64 \nL 180.462298 31.094505 \nL 175.136756 31.094505 \nz\n\" style=\"fill:#4c72b0;opacity:0.4;stroke:#ffffff;stroke-linejoin:miter;\"/>\n   </g>\n   <g id=\"patch_21\">\n    <path clip-path=\"url(#p18ce5bdf9a)\" d=\"M 180.462298 224.64 \nL 185.787841 224.64 \nL 185.787841 17.554286 \nL 180.462298 17.554286 \nz\n\" style=\"fill:#4c72b0;opacity:0.4;stroke:#ffffff;stroke-linejoin:miter;\"/>\n   </g>\n   <g id=\"patch_22\">\n    <path clip-path=\"url(#p18ce5bdf9a)\" d=\"M 185.787841 224.64 \nL 191.113383 224.64 \nL 191.113383 22.532308 \nL 185.787841 22.532308 \nz\n\" style=\"fill:#4c72b0;opacity:0.4;stroke:#ffffff;stroke-linejoin:miter;\"/>\n   </g>\n   <g id=\"patch_23\">\n    <path clip-path=\"url(#p18ce5bdf9a)\" d=\"M 191.113383 224.64 \nL 196.438925 224.64 \nL 196.438925 19.346374 \nL 191.113383 19.346374 \nz\n\" style=\"fill:#4c72b0;opacity:0.4;stroke:#ffffff;stroke-linejoin:miter;\"/>\n   </g>\n   <g id=\"patch_24\">\n    <path clip-path=\"url(#p18ce5bdf9a)\" d=\"M 196.438925 224.64 \nL 201.764467 224.64 \nL 201.764467 18.749011 \nL 196.438925 18.749011 \nz\n\" style=\"fill:#4c72b0;opacity:0.4;stroke:#ffffff;stroke-linejoin:miter;\"/>\n   </g>\n   <g id=\"patch_25\">\n    <path clip-path=\"url(#p18ce5bdf9a)\" d=\"M 201.764467 224.64 \nL 207.090009 224.64 \nL 207.090009 21.138462 \nL 201.764467 21.138462 \nz\n\" style=\"fill:#4c72b0;opacity:0.4;stroke:#ffffff;stroke-linejoin:miter;\"/>\n   </g>\n   <g id=\"patch_26\">\n    <path clip-path=\"url(#p18ce5bdf9a)\" d=\"M 207.090009 224.64 \nL 212.415552 224.64 \nL 212.415552 28.306813 \nL 207.090009 28.306813 \nz\n\" style=\"fill:#4c72b0;opacity:0.4;stroke:#ffffff;stroke-linejoin:miter;\"/>\n   </g>\n   <g id=\"patch_27\">\n    <path clip-path=\"url(#p18ce5bdf9a)\" d=\"M 212.415552 224.64 \nL 217.741094 224.64 \nL 217.741094 28.904176 \nL 212.415552 28.904176 \nz\n\" style=\"fill:#4c72b0;opacity:0.4;stroke:#ffffff;stroke-linejoin:miter;\"/>\n   </g>\n   <g id=\"patch_28\">\n    <path clip-path=\"url(#p18ce5bdf9a)\" d=\"M 217.741094 224.64 \nL 223.066636 224.64 \nL 223.066636 18.350769 \nL 217.741094 18.350769 \nz\n\" style=\"fill:#4c72b0;opacity:0.4;stroke:#ffffff;stroke-linejoin:miter;\"/>\n   </g>\n   <g id=\"patch_29\">\n    <path clip-path=\"url(#p18ce5bdf9a)\" d=\"M 223.066636 224.64 \nL 228.392178 224.64 \nL 228.392178 18.151648 \nL 223.066636 18.151648 \nz\n\" style=\"fill:#4c72b0;opacity:0.4;stroke:#ffffff;stroke-linejoin:miter;\"/>\n   </g>\n   <g id=\"patch_30\">\n    <path clip-path=\"url(#p18ce5bdf9a)\" d=\"M 228.392178 224.64 \nL 233.71772 224.64 \nL 233.71772 31.492747 \nL 228.392178 31.492747 \nz\n\" style=\"fill:#4c72b0;opacity:0.4;stroke:#ffffff;stroke-linejoin:miter;\"/>\n   </g>\n   <g id=\"patch_31\">\n    <path clip-path=\"url(#p18ce5bdf9a)\" d=\"M 233.71772 224.64 \nL 239.043263 224.64 \nL 239.043263 52.798681 \nL 233.71772 52.798681 \nz\n\" style=\"fill:#4c72b0;opacity:0.4;stroke:#ffffff;stroke-linejoin:miter;\"/>\n   </g>\n   <g id=\"patch_32\">\n    <path clip-path=\"url(#p18ce5bdf9a)\" d=\"M 239.043263 224.64 \nL 244.368805 224.64 \nL 244.368805 69.524835 \nL 239.043263 69.524835 \nz\n\" style=\"fill:#4c72b0;opacity:0.4;stroke:#ffffff;stroke-linejoin:miter;\"/>\n   </g>\n   <g id=\"patch_33\">\n    <path clip-path=\"url(#p18ce5bdf9a)\" d=\"M 244.368805 224.64 \nL 249.694347 224.64 \nL 249.694347 90.830769 \nL 244.368805 90.830769 \nz\n\" style=\"fill:#4c72b0;opacity:0.4;stroke:#ffffff;stroke-linejoin:miter;\"/>\n   </g>\n   <g id=\"patch_34\">\n    <path clip-path=\"url(#p18ce5bdf9a)\" d=\"M 249.694347 224.64 \nL 255.019889 224.64 \nL 255.019889 109.946374 \nL 249.694347 109.946374 \nz\n\" style=\"fill:#4c72b0;opacity:0.4;stroke:#ffffff;stroke-linejoin:miter;\"/>\n   </g>\n   <g id=\"patch_35\">\n    <path clip-path=\"url(#p18ce5bdf9a)\" d=\"M 255.019889 224.64 \nL 260.345431 224.64 \nL 260.345431 121.893626 \nL 255.019889 121.893626 \nz\n\" style=\"fill:#4c72b0;opacity:0.4;stroke:#ffffff;stroke-linejoin:miter;\"/>\n   </g>\n   <g id=\"patch_36\">\n    <path clip-path=\"url(#p18ce5bdf9a)\" d=\"M 260.345431 224.64 \nL 265.670973 224.64 \nL 265.670973 138.61978 \nL 260.345431 138.61978 \nz\n\" style=\"fill:#4c72b0;opacity:0.4;stroke:#ffffff;stroke-linejoin:miter;\"/>\n   </g>\n   <g id=\"patch_37\">\n    <path clip-path=\"url(#p18ce5bdf9a)\" d=\"M 265.670973 224.64 \nL 270.996516 224.64 \nL 270.996516 155.744176 \nL 265.670973 155.744176 \nz\n\" style=\"fill:#4c72b0;opacity:0.4;stroke:#ffffff;stroke-linejoin:miter;\"/>\n   </g>\n   <g id=\"patch_38\">\n    <path clip-path=\"url(#p18ce5bdf9a)\" d=\"M 270.996516 224.64 \nL 276.322058 224.64 \nL 276.322058 165.899341 \nL 270.996516 165.899341 \nz\n\" style=\"fill:#4c72b0;opacity:0.4;stroke:#ffffff;stroke-linejoin:miter;\"/>\n   </g>\n   <g id=\"patch_39\">\n    <path clip-path=\"url(#p18ce5bdf9a)\" d=\"M 276.322058 224.64 \nL 281.6476 224.64 \nL 281.6476 184.218462 \nL 276.322058 184.218462 \nz\n\" style=\"fill:#4c72b0;opacity:0.4;stroke:#ffffff;stroke-linejoin:miter;\"/>\n   </g>\n   <g id=\"patch_40\">\n    <path clip-path=\"url(#p18ce5bdf9a)\" d=\"M 281.6476 224.64 \nL 286.973142 224.64 \nL 286.973142 199.550769 \nL 281.6476 199.550769 \nz\n\" style=\"fill:#4c72b0;opacity:0.4;stroke:#ffffff;stroke-linejoin:miter;\"/>\n   </g>\n   <g id=\"patch_41\">\n    <path clip-path=\"url(#p18ce5bdf9a)\" d=\"M 286.973142 224.64 \nL 292.298684 224.64 \nL 292.298684 210.701538 \nL 286.973142 210.701538 \nz\n\" style=\"fill:#4c72b0;opacity:0.4;stroke:#ffffff;stroke-linejoin:miter;\"/>\n   </g>\n   <g id=\"patch_42\">\n    <path clip-path=\"url(#p18ce5bdf9a)\" d=\"M 292.298684 224.64 \nL 297.624227 224.64 \nL 297.624227 215.48044 \nL 292.298684 215.48044 \nz\n\" style=\"fill:#4c72b0;opacity:0.4;stroke:#ffffff;stroke-linejoin:miter;\"/>\n   </g>\n   <g id=\"patch_43\">\n    <path clip-path=\"url(#p18ce5bdf9a)\" d=\"M 297.624227 224.64 \nL 302.949769 224.64 \nL 302.949769 221.055824 \nL 297.624227 221.055824 \nz\n\" style=\"fill:#4c72b0;opacity:0.4;stroke:#ffffff;stroke-linejoin:miter;\"/>\n   </g>\n   <g id=\"patch_44\">\n    <path clip-path=\"url(#p18ce5bdf9a)\" d=\"M 302.949769 224.64 \nL 308.275311 224.64 \nL 308.275311 223.843516 \nL 302.949769 223.843516 \nz\n\" style=\"fill:#4c72b0;opacity:0.4;stroke:#ffffff;stroke-linejoin:miter;\"/>\n   </g>\n   <g id=\"patch_45\">\n    <path clip-path=\"url(#p18ce5bdf9a)\" d=\"M 308.275311 224.64 \nL 313.600853 224.64 \nL 313.600853 224.241758 \nL 308.275311 224.241758 \nz\n\" style=\"fill:#4c72b0;opacity:0.4;stroke:#ffffff;stroke-linejoin:miter;\"/>\n   </g>\n   <g id=\"patch_46\">\n    <path clip-path=\"url(#p18ce5bdf9a)\" d=\"M 313.600853 224.64 \nL 318.926395 224.64 \nL 318.926395 223.644396 \nL 313.600853 223.644396 \nz\n\" style=\"fill:#4c72b0;opacity:0.4;stroke:#ffffff;stroke-linejoin:miter;\"/>\n   </g>\n   <g id=\"patch_47\">\n    <path clip-path=\"url(#p18ce5bdf9a)\" d=\"M 318.926395 224.64 \nL 324.251938 224.64 \nL 324.251938 224.440879 \nL 318.926395 224.440879 \nz\n\" style=\"fill:#4c72b0;opacity:0.4;stroke:#ffffff;stroke-linejoin:miter;\"/>\n   </g>\n   <g id=\"patch_48\">\n    <path clip-path=\"url(#p18ce5bdf9a)\" d=\"M 324.251938 224.64 \nL 329.57748 224.64 \nL 329.57748 224.440879 \nL 324.251938 224.440879 \nz\n\" style=\"fill:#4c72b0;opacity:0.4;stroke:#ffffff;stroke-linejoin:miter;\"/>\n   </g>\n   <g id=\"patch_49\">\n    <path clip-path=\"url(#p18ce5bdf9a)\" d=\"M 329.57748 224.64 \nL 334.903022 224.64 \nL 334.903022 224.64 \nL 329.57748 224.64 \nz\n\" style=\"fill:#4c72b0;opacity:0.4;stroke:#ffffff;stroke-linejoin:miter;\"/>\n   </g>\n   <g id=\"patch_50\">\n    <path clip-path=\"url(#p18ce5bdf9a)\" d=\"M 334.903022 224.64 \nL 340.228564 224.64 \nL 340.228564 224.64 \nL 334.903022 224.64 \nz\n\" style=\"fill:#4c72b0;opacity:0.4;stroke:#ffffff;stroke-linejoin:miter;\"/>\n   </g>\n   <g id=\"patch_51\">\n    <path clip-path=\"url(#p18ce5bdf9a)\" d=\"M 340.228564 224.64 \nL 345.554106 224.64 \nL 345.554106 224.64 \nL 340.228564 224.64 \nz\n\" style=\"fill:#4c72b0;opacity:0.4;stroke:#ffffff;stroke-linejoin:miter;\"/>\n   </g>\n   <g id=\"patch_52\">\n    <path clip-path=\"url(#p18ce5bdf9a)\" d=\"M 345.554106 224.64 \nL 350.879649 224.64 \nL 350.879649 224.440879 \nL 345.554106 224.440879 \nz\n\" style=\"fill:#4c72b0;opacity:0.4;stroke:#ffffff;stroke-linejoin:miter;\"/>\n   </g>\n   <g id=\"line2d_15\">\n    <path clip-path=\"url(#p18ce5bdf9a)\" d=\"M 65.559276 224.590858 \nL 68.633656 224.387889 \nL 71.708036 223.59258 \nL 74.782416 221.100013 \nL 77.856796 214.849772 \nL 80.931176 202.309648 \nL 84.005557 182.186801 \nL 87.079937 156.385321 \nL 90.154317 129.984459 \nL 93.228697 108.418106 \nL 96.303077 94.20266 \nL 99.377457 86.23549 \nL 102.451838 81.746673 \nL 105.526218 78.47171 \nL 108.600598 75.359364 \nL 111.674978 72.167597 \nL 114.749358 68.951404 \nL 117.823738 65.841584 \nL 120.898119 62.965697 \nL 123.972499 60.296038 \nL 127.046879 57.469159 \nL 130.121259 53.882722 \nL 133.195639 49.189599 \nL 136.270019 43.777762 \nL 139.3444 38.674766 \nL 142.41878 34.864514 \nL 145.49316 32.656895 \nL 148.56754 31.700316 \nL 151.64192 31.463461 \nL 154.7163 31.516874 \nL 157.790681 31.42528 \nL 160.865061 30.728103 \nL 163.939441 29.243733 \nL 167.013821 27.281711 \nL 170.088201 25.40587 \nL 173.162581 23.99021 \nL 176.236962 23.048077 \nL 179.311342 22.42004 \nL 182.385722 21.950127 \nL 185.460102 21.456634 \nL 188.534482 20.772256 \nL 191.608862 19.982848 \nL 194.683243 19.505643 \nL 197.757623 19.783669 \nL 200.832003 20.926106 \nL 203.906383 22.63556 \nL 206.980763 24.334684 \nL 210.055143 25.371331 \nL 213.129524 25.381967 \nL 216.203904 24.664255 \nL 219.278284 24.168276 \nL 222.352664 25.067502 \nL 225.427044 28.262471 \nL 228.501424 34.060469 \nL 231.575804 42.100901 \nL 234.650185 51.597698 \nL 237.724565 61.779714 \nL 240.798945 72.165509 \nL 243.873325 82.515307 \nL 246.947705 92.69296 \nL 250.022085 102.63819 \nL 253.096466 112.373269 \nL 256.170846 121.940167 \nL 259.245226 131.319686 \nL 262.319606 140.43469 \nL 265.393986 149.248349 \nL 268.468366 157.856345 \nL 271.542747 166.448 \nL 274.617127 175.122303 \nL 277.691507 183.717522 \nL 280.765887 191.837561 \nL 283.840267 199.05974 \nL 286.914647 205.136592 \nL 289.989028 210.058862 \nL 293.063408 213.988351 \nL 296.137788 217.127944 \nL 299.212168 219.607979 \nL 302.286548 221.463949 \nL 305.360928 222.711107 \nL 308.435309 223.432935 \nL 311.509689 223.79672 \nL 314.584069 223.988362 \nL 317.658449 224.133265 \nL 320.732829 224.27255 \nL 323.807209 224.398068 \nL 326.88159 224.495874 \nL 329.95597 224.562742 \nL 333.03035 224.602638 \nL 336.10473 224.621135 \nL 339.17911 224.623017 \nL 342.25349 224.61223 \nL 345.327871 224.594252 \nL 348.402251 224.578193 \nL 351.476631 224.573643 \nL 354.551011 224.583619 \nL 357.625391 224.602108 \nL 360.699771 224.619859 \nL 363.774152 224.631532 \nL 366.848532 224.637184 \nL 369.922912 224.63926 \n\" style=\"fill:none;stroke:#4c72b0;stroke-linecap:round;stroke-width:1.5;\"/>\n   </g>\n   <g id=\"patch_53\">\n    <path d=\"M 50.341094 224.64 \nL 50.341094 7.2 \n\" style=\"fill:none;stroke:#ffffff;stroke-linecap:square;stroke-linejoin:miter;stroke-width:1.25;\"/>\n   </g>\n   <g id=\"patch_54\">\n    <path d=\"M 385.141094 224.64 \nL 385.141094 7.2 \n\" style=\"fill:none;stroke:#ffffff;stroke-linecap:square;stroke-linejoin:miter;stroke-width:1.25;\"/>\n   </g>\n   <g id=\"patch_55\">\n    <path d=\"M 50.341094 224.64 \nL 385.141094 224.64 \n\" style=\"fill:none;stroke:#ffffff;stroke-linecap:square;stroke-linejoin:miter;stroke-width:1.25;\"/>\n   </g>\n   <g id=\"patch_56\">\n    <path d=\"M 50.341094 7.2 \nL 385.141094 7.2 \n\" style=\"fill:none;stroke:#ffffff;stroke-linecap:square;stroke-linejoin:miter;stroke-width:1.25;\"/>\n   </g>\n  </g>\n </g>\n <defs>\n  <clipPath id=\"p18ce5bdf9a\">\n   <rect height=\"217.44\" width=\"334.8\" x=\"50.341094\" y=\"7.2\"/>\n  </clipPath>\n </defs>\n</svg>\n",
      "text/plain": "<Figure size 432x288 with 1 Axes>"
     },
     "metadata": {},
     "output_type": "display_data"
    }
   ],
   "source": [
    "# Plot age distribution\n",
    "sns.set(color_codes=True)\n",
    "sns.distplot(train['v3_imputed'].astype(\"float64\"));\n",
    "\n",
    "# (37.0, 44.0]\n",
    "# (23.0, 31.0]\n",
    "# (44.0, 50.0]\n",
    "# (61.0, 67.0]\n",
    "# (55.0, 61.0]\n",
    "# (13.999, 23.0]\n",
    "# (74.423, 114.0]\n",
    "# (67.0, 74.423]\n",
    "# (31.0, 37.0]\n",
    "# (50.0, 55.0]\n",
    "\n",
    "bin_labels = [1,2,3,4,5,6,7,8,9,10]\n",
    "train['v3_binned'] = pd.qcut(train['v3_imputed'], q=[0,.1,.2,.3,.4,.5,.6,.7,.8,.9,1], labels=bin_labels)\n",
    "\n",
    "del train['v3_imputed']"
   ]
  },
  {
   "cell_type": "markdown",
   "execution_count": null,
   "metadata": {},
   "outputs": [],
   "source": [
    "### Group/bin income variables"
   ]
  },
  {
   "cell_type": "code",
   "execution_count": 23,
   "metadata": {},
   "outputs": [],
   "source": [
    "# Drop v102 as it is almost the same as v103 but with less information\n",
    "del train['v102']"
   ]
  },
  {
   "cell_type": "markdown",
   "execution_count": null,
   "metadata": {},
   "outputs": [],
   "source": [
    "### Drop dupes of education"
   ]
  },
  {
   "cell_type": "code",
   "execution_count": 24,
   "metadata": {},
   "outputs": [],
   "source": [
    "# Drop v57, v59, v61, v63 as v56, v58, v60, v62 gives the same information but mapped to categories\n",
    "del train['v57']\n",
    "del train['v59']\n",
    "del train['v61']\n",
    "del train['v63']"
   ]
  },
  {
   "cell_type": "code",
   "execution_count": 25,
   "metadata": {},
   "outputs": [
    {
     "name": "stdout",
     "output_type": "stream",
     "text": "0.93% of the years are missing.\n"
    },
    {
     "data": {
      "image/png": "[encoded data removed]",
      "image/svg+xml": "<?xml version=\"1.0\" encoding=\"utf-8\" standalone=\"no\"?>\n<!DOCTYPE svg PUBLIC \"-//W3C//DTD SVG 1.1//EN\"\n  \"http://www.w3.org/Graphics/SVG/1.1/DTD/svg11.dtd\">\n<!-- Created with matplotlib (https://matplotlib.org/) -->\n<svg height=\"267.064351pt\" version=\"1.1\" viewBox=\"0 0 380.107031 267.064351\" width=\"380.107031pt\" xmlns=\"http://www.w3.org/2000/svg\" xmlns:xlink=\"http://www.w3.org/1999/xlink\">\n <defs>\n  <style type=\"text/css\">\n*{stroke-linecap:butt;stroke-linejoin:round;}\n  </style>\n </defs>\n <g id=\"figure_1\">\n  <g id=\"patch_1\">\n   <path d=\"M 0 267.064351 \nL 380.107031 267.064351 \nL 380.107031 0 \nL 0 0 \nz\n\" style=\"fill:#ffffff;\"/>\n  </g>\n  <g id=\"axes_1\">\n   <g id=\"patch_2\">\n    <path d=\"M 38.107031 225.330133 \nL 372.907031 225.330133 \nL 372.907031 7.890133 \nL 38.107031 7.890133 \nz\n\" style=\"fill:#eaeaf2;\"/>\n   </g>\n   <g id=\"matplotlib.axis_1\">\n    <g id=\"xtick_1\">\n     <g id=\"line2d_1\">\n      <path clip-path=\"url(#p954c39a39c)\" d=\"M 67.852273 225.330133 \nL 67.852273 7.890133 \n\" style=\"fill:none;stroke:#ffffff;stroke-linecap:round;\"/>\n     </g>\n     <g id=\"text_1\">\n      <!-- 0 -->\n      <defs>\n       <path d=\"M 4.15625 35.296875 \nQ 4.15625 48 6.765625 55.734375 \nQ 9.375 63.484375 14.515625 67.671875 \nQ 19.671875 71.875 27.484375 71.875 \nQ 33.25 71.875 37.59375 69.546875 \nQ 41.9375 67.234375 44.765625 62.859375 \nQ 47.609375 58.5 49.21875 52.21875 \nQ 50.828125 45.953125 50.828125 35.296875 \nQ 50.828125 22.703125 48.234375 14.96875 \nQ 45.65625 7.234375 40.5 3 \nQ 35.359375 -1.21875 27.484375 -1.21875 \nQ 17.140625 -1.21875 11.234375 6.203125 \nQ 4.15625 15.140625 4.15625 35.296875 \nz\nM 13.1875 35.296875 \nQ 13.1875 17.671875 17.3125 11.828125 \nQ 21.4375 6 27.484375 6 \nQ 33.546875 6 37.671875 11.859375 \nQ 41.796875 17.71875 41.796875 35.296875 \nQ 41.796875 52.984375 37.671875 58.78125 \nQ 33.546875 64.59375 27.390625 64.59375 \nQ 21.34375 64.59375 17.71875 59.46875 \nQ 13.1875 52.9375 13.1875 35.296875 \nz\n\" id=\"ArialMT-48\"/>\n      </defs>\n      <g style=\"fill:#262626;\" transform=\"translate(64.793757 242.703726)scale(0.11 -0.11)\">\n       <use xlink:href=\"#ArialMT-48\"/>\n      </g>\n     </g>\n    </g>\n    <g id=\"xtick_2\">\n     <g id=\"line2d_2\">\n      <path clip-path=\"url(#p954c39a39c)\" d=\"M 124.037889 225.330133 \nL 124.037889 7.890133 \n\" style=\"fill:none;stroke:#ffffff;stroke-linecap:round;\"/>\n     </g>\n     <g id=\"text_2\">\n      <!-- 10 -->\n      <defs>\n       <path d=\"M 37.25 0 \nL 28.46875 0 \nL 28.46875 56 \nQ 25.296875 52.984375 20.140625 49.953125 \nQ 14.984375 46.921875 10.890625 45.40625 \nL 10.890625 53.90625 \nQ 18.265625 57.375 23.78125 62.296875 \nQ 29.296875 67.234375 31.59375 71.875 \nL 37.25 71.875 \nz\n\" id=\"ArialMT-49\"/>\n      </defs>\n      <g style=\"fill:#262626;\" transform=\"translate(117.920857 242.703726)scale(0.11 -0.11)\">\n       <use xlink:href=\"#ArialMT-49\"/>\n       <use x=\"55.615234\" xlink:href=\"#ArialMT-48\"/>\n      </g>\n     </g>\n    </g>\n    <g id=\"xtick_3\">\n     <g id=\"line2d_3\">\n      <path clip-path=\"url(#p954c39a39c)\" d=\"M 180.223504 225.330133 \nL 180.223504 7.890133 \n\" style=\"fill:none;stroke:#ffffff;stroke-linecap:round;\"/>\n     </g>\n     <g id=\"text_3\">\n      <!-- 20 -->\n      <defs>\n       <path d=\"M 50.34375 8.453125 \nL 50.34375 0 \nL 3.03125 0 \nQ 2.9375 3.171875 4.046875 6.109375 \nQ 5.859375 10.9375 9.828125 15.625 \nQ 13.8125 20.3125 21.34375 26.46875 \nQ 33.015625 36.03125 37.109375 41.625 \nQ 41.21875 47.21875 41.21875 52.203125 \nQ 41.21875 57.421875 37.46875 61 \nQ 33.734375 64.59375 27.734375 64.59375 \nQ 21.390625 64.59375 17.578125 60.78125 \nQ 13.765625 56.984375 13.71875 50.25 \nL 4.6875 51.171875 \nQ 5.609375 61.28125 11.65625 66.578125 \nQ 17.71875 71.875 27.9375 71.875 \nQ 38.234375 71.875 44.234375 66.15625 \nQ 50.25 60.453125 50.25 52 \nQ 50.25 47.703125 48.484375 43.546875 \nQ 46.734375 39.40625 42.65625 34.8125 \nQ 38.578125 30.21875 29.109375 22.21875 \nQ 21.1875 15.578125 18.9375 13.203125 \nQ 16.703125 10.84375 15.234375 8.453125 \nz\n\" id=\"ArialMT-50\"/>\n      </defs>\n      <g style=\"fill:#262626;\" transform=\"translate(174.106473 242.703726)scale(0.11 -0.11)\">\n       <use xlink:href=\"#ArialMT-50\"/>\n       <use x=\"55.615234\" xlink:href=\"#ArialMT-48\"/>\n      </g>\n     </g>\n    </g>\n    <g id=\"xtick_4\">\n     <g id=\"line2d_4\">\n      <path clip-path=\"url(#p954c39a39c)\" d=\"M 236.40912 225.330133 \nL 236.40912 7.890133 \n\" style=\"fill:none;stroke:#ffffff;stroke-linecap:round;\"/>\n     </g>\n     <g id=\"text_4\">\n      <!-- 30 -->\n      <defs>\n       <path d=\"M 4.203125 18.890625 \nL 12.984375 20.0625 \nQ 14.5 12.59375 18.140625 9.296875 \nQ 21.78125 6 27 6 \nQ 33.203125 6 37.46875 10.296875 \nQ 41.75 14.59375 41.75 20.953125 \nQ 41.75 27 37.796875 30.921875 \nQ 33.84375 34.859375 27.734375 34.859375 \nQ 25.25 34.859375 21.53125 33.890625 \nL 22.515625 41.609375 \nQ 23.390625 41.5 23.921875 41.5 \nQ 29.546875 41.5 34.03125 44.421875 \nQ 38.53125 47.359375 38.53125 53.46875 \nQ 38.53125 58.296875 35.25 61.46875 \nQ 31.984375 64.65625 26.8125 64.65625 \nQ 21.6875 64.65625 18.265625 61.421875 \nQ 14.84375 58.203125 13.875 51.765625 \nL 5.078125 53.328125 \nQ 6.6875 62.15625 12.390625 67.015625 \nQ 18.109375 71.875 26.609375 71.875 \nQ 32.46875 71.875 37.390625 69.359375 \nQ 42.328125 66.84375 44.9375 62.5 \nQ 47.5625 58.15625 47.5625 53.265625 \nQ 47.5625 48.640625 45.0625 44.828125 \nQ 42.578125 41.015625 37.703125 38.765625 \nQ 44.046875 37.3125 47.5625 32.6875 \nQ 51.078125 28.078125 51.078125 21.140625 \nQ 51.078125 11.765625 44.234375 5.25 \nQ 37.40625 -1.265625 26.953125 -1.265625 \nQ 17.53125 -1.265625 11.296875 4.34375 \nQ 5.078125 9.96875 4.203125 18.890625 \nz\n\" id=\"ArialMT-51\"/>\n      </defs>\n      <g style=\"fill:#262626;\" transform=\"translate(230.292089 242.703726)scale(0.11 -0.11)\">\n       <use xlink:href=\"#ArialMT-51\"/>\n       <use x=\"55.615234\" xlink:href=\"#ArialMT-48\"/>\n      </g>\n     </g>\n    </g>\n    <g id=\"xtick_5\">\n     <g id=\"line2d_5\">\n      <path clip-path=\"url(#p954c39a39c)\" d=\"M 292.594736 225.330133 \nL 292.594736 7.890133 \n\" style=\"fill:none;stroke:#ffffff;stroke-linecap:round;\"/>\n     </g>\n     <g id=\"text_5\">\n      <!-- 40 -->\n      <defs>\n       <path d=\"M 32.328125 0 \nL 32.328125 17.140625 \nL 1.265625 17.140625 \nL 1.265625 25.203125 \nL 33.9375 71.578125 \nL 41.109375 71.578125 \nL 41.109375 25.203125 \nL 50.78125 25.203125 \nL 50.78125 17.140625 \nL 41.109375 17.140625 \nL 41.109375 0 \nz\nM 32.328125 25.203125 \nL 32.328125 57.46875 \nL 9.90625 25.203125 \nz\n\" id=\"ArialMT-52\"/>\n      </defs>\n      <g style=\"fill:#262626;\" transform=\"translate(286.477704 242.703726)scale(0.11 -0.11)\">\n       <use xlink:href=\"#ArialMT-52\"/>\n       <use x=\"55.615234\" xlink:href=\"#ArialMT-48\"/>\n      </g>\n     </g>\n    </g>\n    <g id=\"xtick_6\">\n     <g id=\"line2d_6\">\n      <path clip-path=\"url(#p954c39a39c)\" d=\"M 348.780351 225.330133 \nL 348.780351 7.890133 \n\" style=\"fill:none;stroke:#ffffff;stroke-linecap:round;\"/>\n     </g>\n     <g id=\"text_6\">\n      <!-- 50 -->\n      <defs>\n       <path d=\"M 4.15625 18.75 \nL 13.375 19.53125 \nQ 14.40625 12.796875 18.140625 9.390625 \nQ 21.875 6 27.15625 6 \nQ 33.5 6 37.890625 10.78125 \nQ 42.28125 15.578125 42.28125 23.484375 \nQ 42.28125 31 38.0625 35.34375 \nQ 33.84375 39.703125 27 39.703125 \nQ 22.75 39.703125 19.328125 37.765625 \nQ 15.921875 35.84375 13.96875 32.765625 \nL 5.71875 33.84375 \nL 12.640625 70.609375 \nL 48.25 70.609375 \nL 48.25 62.203125 \nL 19.671875 62.203125 \nL 15.828125 42.96875 \nQ 22.265625 47.46875 29.34375 47.46875 \nQ 38.71875 47.46875 45.15625 40.96875 \nQ 51.609375 34.46875 51.609375 24.265625 \nQ 51.609375 14.546875 45.953125 7.46875 \nQ 39.0625 -1.21875 27.15625 -1.21875 \nQ 17.390625 -1.21875 11.203125 4.25 \nQ 5.03125 9.71875 4.15625 18.75 \nz\n\" id=\"ArialMT-53\"/>\n      </defs>\n      <g style=\"fill:#262626;\" transform=\"translate(342.66332 242.703726)scale(0.11 -0.11)\">\n       <use xlink:href=\"#ArialMT-53\"/>\n       <use x=\"55.615234\" xlink:href=\"#ArialMT-48\"/>\n      </g>\n     </g>\n    </g>\n    <g id=\"text_7\">\n     <!-- v64 -->\n     <defs>\n      <path d=\"M 21 0 \nL 1.265625 51.859375 \nL 10.546875 51.859375 \nL 21.6875 20.796875 \nQ 23.484375 15.765625 25 10.359375 \nQ 26.171875 14.453125 28.265625 20.21875 \nL 39.796875 51.859375 \nL 48.828125 51.859375 \nL 29.203125 0 \nz\n\" id=\"ArialMT-118\"/>\n      <path d=\"M 49.75 54.046875 \nL 41.015625 53.375 \nQ 39.84375 58.546875 37.703125 60.890625 \nQ 34.125 64.65625 28.90625 64.65625 \nQ 24.703125 64.65625 21.53125 62.3125 \nQ 17.390625 59.28125 14.984375 53.46875 \nQ 12.59375 47.65625 12.5 36.921875 \nQ 15.671875 41.75 20.265625 44.09375 \nQ 24.859375 46.4375 29.890625 46.4375 \nQ 38.671875 46.4375 44.84375 39.96875 \nQ 51.03125 33.5 51.03125 23.25 \nQ 51.03125 16.5 48.125 10.71875 \nQ 45.21875 4.9375 40.140625 1.859375 \nQ 35.0625 -1.21875 28.609375 -1.21875 \nQ 17.625 -1.21875 10.6875 6.859375 \nQ 3.765625 14.9375 3.765625 33.5 \nQ 3.765625 54.25 11.421875 63.671875 \nQ 18.109375 71.875 29.4375 71.875 \nQ 37.890625 71.875 43.28125 67.140625 \nQ 48.6875 62.40625 49.75 54.046875 \nz\nM 13.875 23.1875 \nQ 13.875 18.65625 15.796875 14.5 \nQ 17.71875 10.359375 21.1875 8.171875 \nQ 24.65625 6 28.46875 6 \nQ 34.03125 6 38.03125 10.484375 \nQ 42.046875 14.984375 42.046875 22.703125 \nQ 42.046875 30.125 38.078125 34.390625 \nQ 34.125 38.671875 28.125 38.671875 \nQ 22.171875 38.671875 18.015625 34.390625 \nQ 13.875 30.125 13.875 23.1875 \nz\n\" id=\"ArialMT-54\"/>\n     </defs>\n     <g style=\"fill:#262626;\" transform=\"translate(195.833906 257.479351)scale(0.12 -0.12)\">\n      <use xlink:href=\"#ArialMT-118\"/>\n      <use x=\"50\" xlink:href=\"#ArialMT-54\"/>\n      <use x=\"105.615234\" xlink:href=\"#ArialMT-52\"/>\n     </g>\n    </g>\n   </g>\n   <g id=\"matplotlib.axis_2\">\n    <g id=\"ytick_1\">\n     <g id=\"line2d_7\">\n      <path clip-path=\"url(#p954c39a39c)\" d=\"M 38.107031 225.330133 \nL 372.907031 225.330133 \n\" style=\"fill:none;stroke:#ffffff;stroke-linecap:round;\"/>\n     </g>\n     <g id=\"text_8\">\n      <!-- 0.00 -->\n      <defs>\n       <path d=\"M 9.078125 0 \nL 9.078125 10.015625 \nL 19.09375 10.015625 \nL 19.09375 0 \nz\n\" id=\"ArialMT-46\"/>\n      </defs>\n      <g style=\"fill:#262626;\" transform=\"translate(7.2 229.26693)scale(0.11 -0.11)\">\n       <use xlink:href=\"#ArialMT-48\"/>\n       <use x=\"55.615234\" xlink:href=\"#ArialMT-46\"/>\n       <use x=\"83.398438\" xlink:href=\"#ArialMT-48\"/>\n       <use x=\"139.013672\" xlink:href=\"#ArialMT-48\"/>\n      </g>\n     </g>\n    </g>\n    <g id=\"ytick_2\">\n     <g id=\"line2d_8\">\n      <path clip-path=\"url(#p954c39a39c)\" d=\"M 38.107031 198.555966 \nL 372.907031 198.555966 \n\" style=\"fill:none;stroke:#ffffff;stroke-linecap:round;\"/>\n     </g>\n     <g id=\"text_9\">\n      <!-- 0.02 -->\n      <g style=\"fill:#262626;\" transform=\"translate(7.2 202.492763)scale(0.11 -0.11)\">\n       <use xlink:href=\"#ArialMT-48\"/>\n       <use x=\"55.615234\" xlink:href=\"#ArialMT-46\"/>\n       <use x=\"83.398438\" xlink:href=\"#ArialMT-48\"/>\n       <use x=\"139.013672\" xlink:href=\"#ArialMT-50\"/>\n      </g>\n     </g>\n    </g>\n    <g id=\"ytick_3\">\n     <g id=\"line2d_9\">\n      <path clip-path=\"url(#p954c39a39c)\" d=\"M 38.107031 171.781799 \nL 372.907031 171.781799 \n\" style=\"fill:none;stroke:#ffffff;stroke-linecap:round;\"/>\n     </g>\n     <g id=\"text_10\">\n      <!-- 0.04 -->\n      <g style=\"fill:#262626;\" transform=\"translate(7.2 175.718596)scale(0.11 -0.11)\">\n       <use xlink:href=\"#ArialMT-48\"/>\n       <use x=\"55.615234\" xlink:href=\"#ArialMT-46\"/>\n       <use x=\"83.398438\" xlink:href=\"#ArialMT-48\"/>\n       <use x=\"139.013672\" xlink:href=\"#ArialMT-52\"/>\n      </g>\n     </g>\n    </g>\n    <g id=\"ytick_4\">\n     <g id=\"line2d_10\">\n      <path clip-path=\"url(#p954c39a39c)\" d=\"M 38.107031 145.007632 \nL 372.907031 145.007632 \n\" style=\"fill:none;stroke:#ffffff;stroke-linecap:round;\"/>\n     </g>\n     <g id=\"text_11\">\n      <!-- 0.06 -->\n      <g style=\"fill:#262626;\" transform=\"translate(7.2 148.944429)scale(0.11 -0.11)\">\n       <use xlink:href=\"#ArialMT-48\"/>\n       <use x=\"55.615234\" xlink:href=\"#ArialMT-46\"/>\n       <use x=\"83.398438\" xlink:href=\"#ArialMT-48\"/>\n       <use x=\"139.013672\" xlink:href=\"#ArialMT-54\"/>\n      </g>\n     </g>\n    </g>\n    <g id=\"ytick_5\">\n     <g id=\"line2d_11\">\n      <path clip-path=\"url(#p954c39a39c)\" d=\"M 38.107031 118.233465 \nL 372.907031 118.233465 \n\" style=\"fill:none;stroke:#ffffff;stroke-linecap:round;\"/>\n     </g>\n     <g id=\"text_12\">\n      <!-- 0.08 -->\n      <defs>\n       <path d=\"M 17.671875 38.8125 \nQ 12.203125 40.828125 9.5625 44.53125 \nQ 6.9375 48.25 6.9375 53.421875 \nQ 6.9375 61.234375 12.546875 66.546875 \nQ 18.171875 71.875 27.484375 71.875 \nQ 36.859375 71.875 42.578125 66.421875 \nQ 48.296875 60.984375 48.296875 53.171875 \nQ 48.296875 48.1875 45.671875 44.5 \nQ 43.0625 40.828125 37.75 38.8125 \nQ 44.34375 36.671875 47.78125 31.875 \nQ 51.21875 27.09375 51.21875 20.453125 \nQ 51.21875 11.28125 44.71875 5.03125 \nQ 38.234375 -1.21875 27.640625 -1.21875 \nQ 17.046875 -1.21875 10.546875 5.046875 \nQ 4.046875 11.328125 4.046875 20.703125 \nQ 4.046875 27.6875 7.59375 32.390625 \nQ 11.140625 37.109375 17.671875 38.8125 \nz\nM 15.921875 53.71875 \nQ 15.921875 48.640625 19.1875 45.40625 \nQ 22.46875 42.1875 27.6875 42.1875 \nQ 32.765625 42.1875 36.015625 45.375 \nQ 39.265625 48.578125 39.265625 53.21875 \nQ 39.265625 58.0625 35.90625 61.359375 \nQ 32.5625 64.65625 27.59375 64.65625 \nQ 22.5625 64.65625 19.234375 61.421875 \nQ 15.921875 58.203125 15.921875 53.71875 \nz\nM 13.09375 20.65625 \nQ 13.09375 16.890625 14.875 13.375 \nQ 16.65625 9.859375 20.171875 7.921875 \nQ 23.6875 6 27.734375 6 \nQ 34.03125 6 38.125 10.046875 \nQ 42.234375 14.109375 42.234375 20.359375 \nQ 42.234375 26.703125 38.015625 30.859375 \nQ 33.796875 35.015625 27.4375 35.015625 \nQ 21.234375 35.015625 17.15625 30.90625 \nQ 13.09375 26.8125 13.09375 20.65625 \nz\n\" id=\"ArialMT-56\"/>\n      </defs>\n      <g style=\"fill:#262626;\" transform=\"translate(7.2 122.170262)scale(0.11 -0.11)\">\n       <use xlink:href=\"#ArialMT-48\"/>\n       <use x=\"55.615234\" xlink:href=\"#ArialMT-46\"/>\n       <use x=\"83.398438\" xlink:href=\"#ArialMT-48\"/>\n       <use x=\"139.013672\" xlink:href=\"#ArialMT-56\"/>\n      </g>\n     </g>\n    </g>\n    <g id=\"ytick_6\">\n     <g id=\"line2d_12\">\n      <path clip-path=\"url(#p954c39a39c)\" d=\"M 38.107031 91.459298 \nL 372.907031 91.459298 \n\" style=\"fill:none;stroke:#ffffff;stroke-linecap:round;\"/>\n     </g>\n     <g id=\"text_13\">\n      <!-- 0.10 -->\n      <g style=\"fill:#262626;\" transform=\"translate(7.2 95.396095)scale(0.11 -0.11)\">\n       <use xlink:href=\"#ArialMT-48\"/>\n       <use x=\"55.615234\" xlink:href=\"#ArialMT-46\"/>\n       <use x=\"83.398438\" xlink:href=\"#ArialMT-49\"/>\n       <use x=\"139.013672\" xlink:href=\"#ArialMT-48\"/>\n      </g>\n     </g>\n    </g>\n    <g id=\"ytick_7\">\n     <g id=\"line2d_13\">\n      <path clip-path=\"url(#p954c39a39c)\" d=\"M 38.107031 64.685131 \nL 372.907031 64.685131 \n\" style=\"fill:none;stroke:#ffffff;stroke-linecap:round;\"/>\n     </g>\n     <g id=\"text_14\">\n      <!-- 0.12 -->\n      <g style=\"fill:#262626;\" transform=\"translate(7.2 68.621928)scale(0.11 -0.11)\">\n       <use xlink:href=\"#ArialMT-48\"/>\n       <use x=\"55.615234\" xlink:href=\"#ArialMT-46\"/>\n       <use x=\"83.398438\" xlink:href=\"#ArialMT-49\"/>\n       <use x=\"139.013672\" xlink:href=\"#ArialMT-50\"/>\n      </g>\n     </g>\n    </g>\n    <g id=\"ytick_8\">\n     <g id=\"line2d_14\">\n      <path clip-path=\"url(#p954c39a39c)\" d=\"M 38.107031 37.910964 \nL 372.907031 37.910964 \n\" style=\"fill:none;stroke:#ffffff;stroke-linecap:round;\"/>\n     </g>\n     <g id=\"text_15\">\n      <!-- 0.14 -->\n      <g style=\"fill:#262626;\" transform=\"translate(7.2 41.847761)scale(0.11 -0.11)\">\n       <use xlink:href=\"#ArialMT-48\"/>\n       <use x=\"55.615234\" xlink:href=\"#ArialMT-46\"/>\n       <use x=\"83.398438\" xlink:href=\"#ArialMT-49\"/>\n       <use x=\"139.013672\" xlink:href=\"#ArialMT-52\"/>\n      </g>\n     </g>\n    </g>\n    <g id=\"ytick_9\">\n     <g id=\"line2d_15\">\n      <path clip-path=\"url(#p954c39a39c)\" d=\"M 38.107031 11.136797 \nL 372.907031 11.136797 \n\" style=\"fill:none;stroke:#ffffff;stroke-linecap:round;\"/>\n     </g>\n     <g id=\"text_16\">\n      <!-- 0.16 -->\n      <g style=\"fill:#262626;\" transform=\"translate(7.2 15.073594)scale(0.11 -0.11)\">\n       <use xlink:href=\"#ArialMT-48\"/>\n       <use x=\"55.615234\" xlink:href=\"#ArialMT-46\"/>\n       <use x=\"83.398438\" xlink:href=\"#ArialMT-49\"/>\n       <use x=\"139.013672\" xlink:href=\"#ArialMT-54\"/>\n      </g>\n     </g>\n    </g>\n   </g>\n   <g id=\"patch_3\">\n    <path clip-path=\"url(#p954c39a39c)\" d=\"M 62.233711 225.330133 \nL 67.964644 225.330133 \nL 67.964644 208.182074 \nL 62.233711 208.182074 \nz\n\" style=\"fill:#4c72b0;opacity:0.4;stroke:#ffffff;stroke-linejoin:miter;\"/>\n   </g>\n   <g id=\"patch_4\">\n    <path clip-path=\"url(#p954c39a39c)\" d=\"M 67.964644 225.330133 \nL 73.695577 225.330133 \nL 73.695577 224.152022 \nL 67.964644 224.152022 \nz\n\" style=\"fill:#4c72b0;opacity:0.4;stroke:#ffffff;stroke-linejoin:miter;\"/>\n   </g>\n   <g id=\"patch_5\">\n    <path clip-path=\"url(#p954c39a39c)\" d=\"M 73.695577 225.330133 \nL 79.42651 225.330133 \nL 79.42651 222.799376 \nL 73.695577 222.799376 \nz\n\" style=\"fill:#4c72b0;opacity:0.4;stroke:#ffffff;stroke-linejoin:miter;\"/>\n   </g>\n   <g id=\"patch_6\">\n    <path clip-path=\"url(#p954c39a39c)\" d=\"M 79.42651 225.330133 \nL 85.157442 225.330133 \nL 85.157442 219.919549 \nL 79.42651 219.919549 \nz\n\" style=\"fill:#4c72b0;opacity:0.4;stroke:#ffffff;stroke-linejoin:miter;\"/>\n   </g>\n   <g id=\"patch_7\">\n    <path clip-path=\"url(#p954c39a39c)\" d=\"M 85.157442 225.330133 \nL 90.888375 225.330133 \nL 90.888375 208.094807 \nL 85.157442 208.094807 \nz\n\" style=\"fill:#4c72b0;opacity:0.4;stroke:#ffffff;stroke-linejoin:miter;\"/>\n   </g>\n   <g id=\"patch_8\">\n    <path clip-path=\"url(#p954c39a39c)\" d=\"M 90.888375 225.330133 \nL 96.619308 225.330133 \nL 96.619308 217.737863 \nL 90.888375 217.737863 \nz\n\" style=\"fill:#4c72b0;opacity:0.4;stroke:#ffffff;stroke-linejoin:miter;\"/>\n   </g>\n   <g id=\"patch_9\">\n    <path clip-path=\"url(#p954c39a39c)\" d=\"M 96.619308 225.330133 \nL 102.350241 225.330133 \nL 102.350241 206.349457 \nL 96.619308 206.349457 \nz\n\" style=\"fill:#4c72b0;opacity:0.4;stroke:#ffffff;stroke-linejoin:miter;\"/>\n   </g>\n   <g id=\"patch_10\">\n    <path clip-path=\"url(#p954c39a39c)\" d=\"M 102.350241 225.330133 \nL 108.081174 225.330133 \nL 108.081174 200.240734 \nL 102.350241 200.240734 \nz\n\" style=\"fill:#4c72b0;opacity:0.4;stroke:#ffffff;stroke-linejoin:miter;\"/>\n   </g>\n   <g id=\"patch_11\">\n    <path clip-path=\"url(#p954c39a39c)\" d=\"M 108.081174 225.330133 \nL 113.812106 225.330133 \nL 113.812106 159.050487 \nL 108.081174 159.050487 \nz\n\" style=\"fill:#4c72b0;opacity:0.4;stroke:#ffffff;stroke-linejoin:miter;\"/>\n   </g>\n   <g id=\"patch_12\">\n    <path clip-path=\"url(#p954c39a39c)\" d=\"M 113.812106 225.330133 \nL 119.543039 225.330133 \nL 119.543039 147.18211 \nL 113.812106 147.18211 \nz\n\" style=\"fill:#4c72b0;opacity:0.4;stroke:#ffffff;stroke-linejoin:miter;\"/>\n   </g>\n   <g id=\"patch_13\">\n    <path clip-path=\"url(#p954c39a39c)\" d=\"M 119.543039 225.330133 \nL 125.273972 225.330133 \nL 125.273972 139.328038 \nL 119.543039 139.328038 \nz\n\" style=\"fill:#4c72b0;opacity:0.4;stroke:#ffffff;stroke-linejoin:miter;\"/>\n   </g>\n   <g id=\"patch_14\">\n    <path clip-path=\"url(#p954c39a39c)\" d=\"M 125.273972 225.330133 \nL 131.004905 225.330133 \nL 131.004905 88.102031 \nL 125.273972 88.102031 \nz\n\" style=\"fill:#4c72b0;opacity:0.4;stroke:#ffffff;stroke-linejoin:miter;\"/>\n   </g>\n   <g id=\"patch_15\">\n    <path clip-path=\"url(#p954c39a39c)\" d=\"M 131.004905 225.330133 \nL 136.735838 225.330133 \nL 136.735838 18.244418 \nL 131.004905 18.244418 \nz\n\" style=\"fill:#4c72b0;opacity:0.4;stroke:#ffffff;stroke-linejoin:miter;\"/>\n   </g>\n   <g id=\"patch_16\">\n    <path clip-path=\"url(#p954c39a39c)\" d=\"M 136.735838 225.330133 \nL 142.46677 225.330133 \nL 142.46677 97.003313 \nL 136.735838 97.003313 \nz\n\" style=\"fill:#4c72b0;opacity:0.4;stroke:#ffffff;stroke-linejoin:miter;\"/>\n   </g>\n   <g id=\"patch_17\">\n    <path clip-path=\"url(#p954c39a39c)\" d=\"M 142.46677 225.330133 \nL 148.197703 225.330133 \nL 148.197703 125.714312 \nL 142.46677 125.714312 \nz\n\" style=\"fill:#4c72b0;opacity:0.4;stroke:#ffffff;stroke-linejoin:miter;\"/>\n   </g>\n   <g id=\"patch_18\">\n    <path clip-path=\"url(#p954c39a39c)\" d=\"M 148.197703 225.330133 \nL 153.928636 225.330133 \nL 153.928636 128.157801 \nL 148.197703 128.157801 \nz\n\" style=\"fill:#4c72b0;opacity:0.4;stroke:#ffffff;stroke-linejoin:miter;\"/>\n   </g>\n   <g id=\"patch_19\">\n    <path clip-path=\"url(#p954c39a39c)\" d=\"M 153.928636 225.330133 \nL 159.659569 225.330133 \nL 159.659569 131.517599 \nL 153.928636 131.517599 \nz\n\" style=\"fill:#4c72b0;opacity:0.4;stroke:#ffffff;stroke-linejoin:miter;\"/>\n   </g>\n   <g id=\"patch_20\">\n    <path clip-path=\"url(#p954c39a39c)\" d=\"M 159.659569 225.330133 \nL 165.390502 225.330133 \nL 165.390502 151.676385 \nL 159.659569 151.676385 \nz\n\" style=\"fill:#4c72b0;opacity:0.4;stroke:#ffffff;stroke-linejoin:miter;\"/>\n   </g>\n   <g id=\"patch_21\">\n    <path clip-path=\"url(#p954c39a39c)\" d=\"M 165.390502 225.330133 \nL 171.121434 225.330133 \nL 171.121434 167.340897 \nL 165.390502 167.340897 \nz\n\" style=\"fill:#4c72b0;opacity:0.4;stroke:#ffffff;stroke-linejoin:miter;\"/>\n   </g>\n   <g id=\"patch_22\">\n    <path clip-path=\"url(#p954c39a39c)\" d=\"M 171.121434 225.330133 \nL 176.852367 225.330133 \nL 176.852367 195.004686 \nL 171.121434 195.004686 \nz\n\" style=\"fill:#4c72b0;opacity:0.4;stroke:#ffffff;stroke-linejoin:miter;\"/>\n   </g>\n   <g id=\"patch_23\">\n    <path clip-path=\"url(#p954c39a39c)\" d=\"M 176.852367 225.330133 \nL 182.5833 225.330133 \nL 182.5833 197.404541 \nL 176.852367 197.404541 \nz\n\" style=\"fill:#4c72b0;opacity:0.4;stroke:#ffffff;stroke-linejoin:miter;\"/>\n   </g>\n   <g id=\"patch_24\">\n    <path clip-path=\"url(#p954c39a39c)\" d=\"M 182.5833 225.330133 \nL 188.314233 225.330133 \nL 188.314233 215.905246 \nL 182.5833 215.905246 \nz\n\" style=\"fill:#4c72b0;opacity:0.4;stroke:#ffffff;stroke-linejoin:miter;\"/>\n   </g>\n   <g id=\"patch_25\">\n    <path clip-path=\"url(#p954c39a39c)\" d=\"M 188.314233 225.330133 \nL 194.045166 225.330133 \nL 194.045166 216.210682 \nL 188.314233 216.210682 \nz\n\" style=\"fill:#4c72b0;opacity:0.4;stroke:#ffffff;stroke-linejoin:miter;\"/>\n   </g>\n   <g id=\"patch_26\">\n    <path clip-path=\"url(#p954c39a39c)\" d=\"M 194.045166 225.330133 \nL 199.776098 225.330133 \nL 199.776098 220.355887 \nL 194.045166 220.355887 \nz\n\" style=\"fill:#4c72b0;opacity:0.4;stroke:#ffffff;stroke-linejoin:miter;\"/>\n   </g>\n   <g id=\"patch_27\">\n    <path clip-path=\"url(#p954c39a39c)\" d=\"M 199.776098 225.330133 \nL 205.507031 225.330133 \nL 205.507031 222.188504 \nL 199.776098 222.188504 \nz\n\" style=\"fill:#4c72b0;opacity:0.4;stroke:#ffffff;stroke-linejoin:miter;\"/>\n   </g>\n   <g id=\"patch_28\">\n    <path clip-path=\"url(#p954c39a39c)\" d=\"M 205.507031 225.330133 \nL 211.237964 225.330133 \nL 211.237964 222.275771 \nL 205.507031 222.275771 \nz\n\" style=\"fill:#4c72b0;opacity:0.4;stroke:#ffffff;stroke-linejoin:miter;\"/>\n   </g>\n   <g id=\"patch_29\">\n    <path clip-path=\"url(#p954c39a39c)\" d=\"M 211.237964 225.330133 \nL 216.968897 225.330133 \nL 216.968897 224.457458 \nL 211.237964 224.457458 \nz\n\" style=\"fill:#4c72b0;opacity:0.4;stroke:#ffffff;stroke-linejoin:miter;\"/>\n   </g>\n   <g id=\"patch_30\">\n    <path clip-path=\"url(#p954c39a39c)\" d=\"M 216.968897 225.330133 \nL 222.69983 225.330133 \nL 222.69983 224.631993 \nL 216.968897 224.631993 \nz\n\" style=\"fill:#4c72b0;opacity:0.4;stroke:#ffffff;stroke-linejoin:miter;\"/>\n   </g>\n   <g id=\"patch_31\">\n    <path clip-path=\"url(#p954c39a39c)\" d=\"M 222.69983 225.330133 \nL 228.430762 225.330133 \nL 228.430762 225.06833 \nL 222.69983 225.06833 \nz\n\" style=\"fill:#4c72b0;opacity:0.4;stroke:#ffffff;stroke-linejoin:miter;\"/>\n   </g>\n   <g id=\"patch_32\">\n    <path clip-path=\"url(#p954c39a39c)\" d=\"M 228.430762 225.330133 \nL 234.161695 225.330133 \nL 234.161695 225.06833 \nL 228.430762 225.06833 \nz\n\" style=\"fill:#4c72b0;opacity:0.4;stroke:#ffffff;stroke-linejoin:miter;\"/>\n   </g>\n   <g id=\"patch_33\">\n    <path clip-path=\"url(#p954c39a39c)\" d=\"M 234.161695 225.330133 \nL 239.892628 225.330133 \nL 239.892628 224.37019 \nL 234.161695 224.37019 \nz\n\" style=\"fill:#4c72b0;opacity:0.4;stroke:#ffffff;stroke-linejoin:miter;\"/>\n   </g>\n   <g id=\"patch_34\">\n    <path clip-path=\"url(#p954c39a39c)\" d=\"M 239.892628 225.330133 \nL 245.623561 225.330133 \nL 245.623561 225.330133 \nL 239.892628 225.330133 \nz\n\" style=\"fill:#4c72b0;opacity:0.4;stroke:#ffffff;stroke-linejoin:miter;\"/>\n   </g>\n   <g id=\"patch_35\">\n    <path clip-path=\"url(#p954c39a39c)\" d=\"M 245.623561 225.330133 \nL 251.354494 225.330133 \nL 251.354494 224.981063 \nL 245.623561 224.981063 \nz\n\" style=\"fill:#4c72b0;opacity:0.4;stroke:#ffffff;stroke-linejoin:miter;\"/>\n   </g>\n   <g id=\"patch_36\">\n    <path clip-path=\"url(#p954c39a39c)\" d=\"M 251.354494 225.330133 \nL 257.085426 225.330133 \nL 257.085426 225.330133 \nL 251.354494 225.330133 \nz\n\" style=\"fill:#4c72b0;opacity:0.4;stroke:#ffffff;stroke-linejoin:miter;\"/>\n   </g>\n   <g id=\"patch_37\">\n    <path clip-path=\"url(#p954c39a39c)\" d=\"M 257.085426 225.330133 \nL 262.816359 225.330133 \nL 262.816359 225.286499 \nL 257.085426 225.286499 \nz\n\" style=\"fill:#4c72b0;opacity:0.4;stroke:#ffffff;stroke-linejoin:miter;\"/>\n   </g>\n   <g id=\"patch_38\">\n    <path clip-path=\"url(#p954c39a39c)\" d=\"M 262.816359 225.330133 \nL 268.547292 225.330133 \nL 268.547292 225.242865 \nL 262.816359 225.242865 \nz\n\" style=\"fill:#4c72b0;opacity:0.4;stroke:#ffffff;stroke-linejoin:miter;\"/>\n   </g>\n   <g id=\"patch_39\">\n    <path clip-path=\"url(#p954c39a39c)\" d=\"M 268.547292 225.330133 \nL 274.278225 225.330133 \nL 274.278225 225.242865 \nL 268.547292 225.242865 \nz\n\" style=\"fill:#4c72b0;opacity:0.4;stroke:#ffffff;stroke-linejoin:miter;\"/>\n   </g>\n   <g id=\"patch_40\">\n    <path clip-path=\"url(#p954c39a39c)\" d=\"M 274.278225 225.330133 \nL 280.009158 225.330133 \nL 280.009158 225.286499 \nL 274.278225 225.286499 \nz\n\" style=\"fill:#4c72b0;opacity:0.4;stroke:#ffffff;stroke-linejoin:miter;\"/>\n   </g>\n   <g id=\"patch_41\">\n    <path clip-path=\"url(#p954c39a39c)\" d=\"M 280.009158 225.330133 \nL 285.74009 225.330133 \nL 285.74009 225.242865 \nL 280.009158 225.242865 \nz\n\" style=\"fill:#4c72b0;opacity:0.4;stroke:#ffffff;stroke-linejoin:miter;\"/>\n   </g>\n   <g id=\"patch_42\">\n    <path clip-path=\"url(#p954c39a39c)\" d=\"M 285.74009 225.330133 \nL 291.471023 225.330133 \nL 291.471023 225.330133 \nL 285.74009 225.330133 \nz\n\" style=\"fill:#4c72b0;opacity:0.4;stroke:#ffffff;stroke-linejoin:miter;\"/>\n   </g>\n   <g id=\"patch_43\">\n    <path clip-path=\"url(#p954c39a39c)\" d=\"M 291.471023 225.330133 \nL 297.201956 225.330133 \nL 297.201956 225.242865 \nL 291.471023 225.242865 \nz\n\" style=\"fill:#4c72b0;opacity:0.4;stroke:#ffffff;stroke-linejoin:miter;\"/>\n   </g>\n   <g id=\"patch_44\">\n    <path clip-path=\"url(#p954c39a39c)\" d=\"M 297.201956 225.330133 \nL 302.932889 225.330133 \nL 302.932889 225.330133 \nL 297.201956 225.330133 \nz\n\" style=\"fill:#4c72b0;opacity:0.4;stroke:#ffffff;stroke-linejoin:miter;\"/>\n   </g>\n   <g id=\"patch_45\">\n    <path clip-path=\"url(#p954c39a39c)\" d=\"M 302.932889 225.330133 \nL 308.663822 225.330133 \nL 308.663822 225.330133 \nL 302.932889 225.330133 \nz\n\" style=\"fill:#4c72b0;opacity:0.4;stroke:#ffffff;stroke-linejoin:miter;\"/>\n   </g>\n   <g id=\"patch_46\">\n    <path clip-path=\"url(#p954c39a39c)\" d=\"M 308.663822 225.330133 \nL 314.394754 225.330133 \nL 314.394754 225.330133 \nL 308.663822 225.330133 \nz\n\" style=\"fill:#4c72b0;opacity:0.4;stroke:#ffffff;stroke-linejoin:miter;\"/>\n   </g>\n   <g id=\"patch_47\">\n    <path clip-path=\"url(#p954c39a39c)\" d=\"M 314.394754 225.330133 \nL 320.125687 225.330133 \nL 320.125687 225.330133 \nL 314.394754 225.330133 \nz\n\" style=\"fill:#4c72b0;opacity:0.4;stroke:#ffffff;stroke-linejoin:miter;\"/>\n   </g>\n   <g id=\"patch_48\">\n    <path clip-path=\"url(#p954c39a39c)\" d=\"M 320.125687 225.330133 \nL 325.85662 225.330133 \nL 325.85662 225.286499 \nL 320.125687 225.286499 \nz\n\" style=\"fill:#4c72b0;opacity:0.4;stroke:#ffffff;stroke-linejoin:miter;\"/>\n   </g>\n   <g id=\"patch_49\">\n    <path clip-path=\"url(#p954c39a39c)\" d=\"M 325.85662 225.330133 \nL 331.587553 225.330133 \nL 331.587553 225.330133 \nL 325.85662 225.330133 \nz\n\" style=\"fill:#4c72b0;opacity:0.4;stroke:#ffffff;stroke-linejoin:miter;\"/>\n   </g>\n   <g id=\"patch_50\">\n    <path clip-path=\"url(#p954c39a39c)\" d=\"M 331.587553 225.330133 \nL 337.318486 225.330133 \nL 337.318486 225.286499 \nL 331.587553 225.286499 \nz\n\" style=\"fill:#4c72b0;opacity:0.4;stroke:#ffffff;stroke-linejoin:miter;\"/>\n   </g>\n   <g id=\"patch_51\">\n    <path clip-path=\"url(#p954c39a39c)\" d=\"M 337.318486 225.330133 \nL 343.049418 225.330133 \nL 343.049418 225.330133 \nL 337.318486 225.330133 \nz\n\" style=\"fill:#4c72b0;opacity:0.4;stroke:#ffffff;stroke-linejoin:miter;\"/>\n   </g>\n   <g id=\"patch_52\">\n    <path clip-path=\"url(#p954c39a39c)\" d=\"M 343.049418 225.330133 \nL 348.780351 225.330133 \nL 348.780351 225.242865 \nL 343.049418 225.242865 \nz\n\" style=\"fill:#4c72b0;opacity:0.4;stroke:#ffffff;stroke-linejoin:miter;\"/>\n   </g>\n   <g id=\"line2d_16\">\n    <path clip-path=\"url(#p954c39a39c)\" d=\"M 53.325213 225.22597 \nL 56.399593 223.967317 \nL 59.473973 219.172667 \nL 62.548354 215.231676 \nL 65.622734 217.526329 \nL 68.697114 220.521527 \nL 71.771494 222.809326 \nL 74.845874 223.556286 \nL 77.920254 222.911782 \nL 80.994635 221.706021 \nL 84.069015 219.337661 \nL 87.143395 214.761818 \nL 90.217775 210.402592 \nL 93.292155 212.982801 \nL 96.366535 214.679397 \nL 99.440916 210.320527 \nL 102.515296 205.194472 \nL 105.589676 200.060989 \nL 108.664056 187.824032 \nL 111.738436 166.667408 \nL 114.812816 154.744261 \nL 117.887197 146.530513 \nL 120.961577 142.281153 \nL 124.035957 131.274213 \nL 127.110337 108.930865 \nL 130.184717 76.701226 \nL 133.259097 43.925379 \nL 136.333478 36.653937 \nL 139.407858 72.745417 \nL 142.482238 100.387396 \nL 145.556618 116.842137 \nL 148.630998 124.543241 \nL 151.705378 125.398794 \nL 154.779759 128.806829 \nL 157.854139 131.261893 \nL 160.928519 142.087341 \nL 164.002899 151.054852 \nL 167.077279 161.568209 \nL 170.151659 172.155053 \nL 173.22604 186.686445 \nL 176.30042 194.313809 \nL 179.3748 197.485915 \nL 182.44918 204.532053 \nL 185.52356 212.762367 \nL 188.59794 215.732605 \nL 191.672321 216.525563 \nL 194.746701 218.562328 \nL 197.821081 220.275054 \nL 200.895461 221.492415 \nL 203.969841 222.054932 \nL 207.044221 222.296672 \nL 210.118601 222.969629 \nL 213.192982 224.009339 \nL 216.267362 224.477621 \nL 219.341742 224.634086 \nL 222.416122 224.846154 \nL 225.490502 225.014684 \nL 228.564882 225.045035 \nL 231.639263 224.914242 \nL 234.713643 224.616817 \nL 237.788023 224.652928 \nL 240.862403 225.069648 \nL 243.936783 225.17721 \nL 247.011163 225.066181 \nL 250.085544 225.137903 \nL 253.159924 225.276898 \nL 256.234304 225.302068 \nL 259.308684 225.282112 \nL 262.383064 225.259012 \nL 265.457444 225.24377 \nL 268.531825 225.243205 \nL 271.606205 225.253943 \nL 274.680585 225.272388 \nL 277.754965 225.268795 \nL 280.829345 225.256141 \nL 283.903725 225.281915 \nL 286.978106 225.30767 \nL 290.052486 225.282634 \nL 293.126866 225.263988 \nL 296.201246 225.297996 \nL 299.275626 225.324785 \nL 302.350006 225.329828 \nL 305.424387 225.330127 \nL 308.498767 225.330125 \nL 311.573147 225.32983 \nL 314.647527 225.325887 \nL 317.721907 225.309729 \nL 320.796287 225.296531 \nL 323.870668 225.310371 \nL 326.945048 225.31825 \nL 330.019428 225.302547 \nL 333.093808 225.299038 \nL 336.168188 225.318023 \nL 339.242568 225.328133 \nL 342.316949 225.32377 \nL 345.391329 225.295099 \nL 348.465709 225.26332 \nL 351.540089 225.286506 \nL 354.614469 225.32038 \nL 357.688849 225.329386 \n\" style=\"fill:none;stroke:#4c72b0;stroke-linecap:round;stroke-width:1.5;\"/>\n   </g>\n   <g id=\"patch_53\">\n    <path d=\"M 38.107031 225.330133 \nL 38.107031 7.890133 \n\" style=\"fill:none;stroke:#ffffff;stroke-linecap:square;stroke-linejoin:miter;stroke-width:1.25;\"/>\n   </g>\n   <g id=\"patch_54\">\n    <path d=\"M 372.907031 225.330133 \nL 372.907031 7.890133 \n\" style=\"fill:none;stroke:#ffffff;stroke-linecap:square;stroke-linejoin:miter;stroke-width:1.25;\"/>\n   </g>\n   <g id=\"patch_55\">\n    <path d=\"M 38.107031 225.330133 \nL 372.907031 225.330133 \n\" style=\"fill:none;stroke:#ffffff;stroke-linecap:square;stroke-linejoin:miter;stroke-width:1.25;\"/>\n   </g>\n   <g id=\"patch_56\">\n    <path d=\"M 38.107031 7.890133 \nL 372.907031 7.890133 \n\" style=\"fill:none;stroke:#ffffff;stroke-linecap:square;stroke-linejoin:miter;stroke-width:1.25;\"/>\n   </g>\n  </g>\n </g>\n <defs>\n  <clipPath id=\"p954c39a39c\">\n   <rect height=\"217.44\" width=\"334.8\" x=\"38.107031\" y=\"7.890133\"/>\n  </clipPath>\n </defs>\n</svg>\n",
      "text/plain": "<Figure size 432x288 with 1 Axes>"
     },
     "metadata": {},
     "output_type": "display_data"
    }
   ],
   "source": [
    "# V64: Years of full time education completed\n",
    "\n",
    "# Combine all missing\n",
    "train['v64'] = pd.to_numeric(train['v64'], errors='coerce')\n",
    "\n",
    "missing_age = round(len(train[train['v64'].isnull()])/len(train) * 100, 2)\n",
    "print(str(missing_age) + \"% of the years are missing.\")\n",
    "\n",
    "# Plot distribution\n",
    "sns.distplot(train['v64'].fillna(-1));\n",
    "\n"
   ]
  },
  {
   "cell_type": "code",
   "execution_count": 26,
   "metadata": {},
   "outputs": [],
   "source": [
    "# Fill with mean bc I'm tired\n",
    "train['v64'] = pd.to_numeric(train['v64'], errors = 'coerce')\n",
    "mean_years = np.nanmean(train['v64'])\n",
    "train['v64'] = train['v64'].fillna(mean_years)"
   ]
  },
  {
   "cell_type": "code",
   "execution_count": 27,
   "metadata": {},
   "outputs": [],
   "source": [
    "## Now bin education\n",
    "train['v64'].describe()\n",
    "\n",
    "bin_labels = [1,2,3,4,5]\n",
    "train['v64_binned'] = pd.qcut(train['v64'], q=[0,0.2,0.4,0.6,0.8,1], labels=bin_labels)"
   ]
  },
  {
   "cell_type": "code",
   "execution_count": 28,
   "metadata": {},
   "outputs": [],
   "source": [
    "train['v64_binned'].value_counts()\n",
    "del train['v64']"
   ]
  },
  {
   "cell_type": "markdown",
   "execution_count": null,
   "metadata": {},
   "outputs": [],
   "source": [
    "### Bin number of people in household"
   ]
  },
  {
   "cell_type": "code",
   "execution_count": 29,
   "metadata": {},
   "outputs": [
    {
     "name": "stdout",
     "output_type": "stream",
     "text": "0.28% of the numbers are missing.\n"
    },
    {
     "data": {
      "text/plain": "2    10553\n1     6387\n3     5414\n4     4894\n5     1829\n6     1002\nName: v100_grouped, dtype: int64"
     },
     "execution_count": 29,
     "metadata": {},
     "output_type": "execute_result"
    }
   ],
   "source": [
    "## V100: Number of people living regularly as member of household\n",
    "# Group everything more than 6 into \"6+\", i.e. 6\n",
    "\n",
    "# Combine all missing\n",
    "train['v100'] = pd.to_numeric(train['v100'], errors='coerce')\n",
    "\n",
    "missing_age = round(len(train[train['v100'].isnull()])/len(train) * 100, 2)\n",
    "print(str(missing_age) + \"% of the numbers are missing.\")\n",
    "\n",
    "# Fill with mean\n",
    "mean_years = np.nanmean(train['v100'])\n",
    "train['v100'] = train['v100'].fillna(mean_years).astype(\"int64\")\n",
    "\n",
    "# Grouping large values\n",
    "train['v100_grouped'] = np.where(train['v100'] > 6, 6, train['v100']).astype(\"int64\")\n",
    "train['v100_grouped'].value_counts()"
   ]
  },
  {
   "cell_type": "markdown",
   "execution_count": null,
   "metadata": {},
   "outputs": [],
   "source": [
    "### Date variables"
   ]
  },
  {
   "cell_type": "markdown",
   "execution_count": null,
   "metadata": {},
   "outputs": [],
   "source": [
    "Create start/end time_of_day, season, and bin interview length (minutes)"
   ]
  },
  {
   "cell_type": "code",
   "execution_count": 30,
   "metadata": {},
   "outputs": [],
   "source": [
    "# v128: End of interview, month\n",
    "# v129: Start of interview, month\n",
    "# End and start of interview are only not equal for 0.18% of observations\n",
    "# We keep v129 since there are no missing\n",
    "del train['v128']\n",
    "\n",
    "# Define: 3-5 = Spring, 6-8 = Summer, 9-11 = Autumn, 12-2 = Winter - in Germany\n",
    "winter = [12,1,2]\n",
    "spring = [3,4,5]\n",
    "summer = [6,7,8]\n",
    "autumn = [9,10,11]\n",
    "\n",
    "# Dictionary for seasons\n",
    "seasons = {season: 'WI' for season in winter}\n",
    "seasons.update({season: 'SP' for season in spring})\n",
    "seasons.update({season: 'SU' for season in summer})\n",
    "seasons.update({season: 'AU' for season in autumn})\n",
    "\n",
    "# Map langauges to their groups\n",
    "train['start_interview_season'] = train['v129'].map(seasons)\n",
    "train['start_interview_season'].value_counts(normalize = True)\n",
    "\n",
    "# Delete original variable\n",
    "del train['v129']"
   ]
  },
  {
   "cell_type": "code",
   "execution_count": 31,
   "metadata": {},
   "outputs": [],
   "source": [
    "# v126: end of interview, hour\n",
    "# v130: start of interview, hour\n",
    "\n",
    "# Impute with mean\n",
    "train['v126'] = pd.to_numeric(train['v126'], errors='coerce')\n",
    "train['v126'] = train['v126'].fillna(np.nanmean(train['v126'])).astype('int64')\n",
    "train['v130'] = pd.to_numeric(train['v130'], errors='coerce')\n",
    "train['v130'] = train['v130'].fillna(np.nanmean(train['v130'])).astype('int64')\n",
    "\n",
    "bin_labels = [1,2,3,4,5]\n",
    "train['v126_binned'] = pd.qcut(train['v126'], q=[0,0.2,0.4,0.6,0.8,1], labels=bin_labels)\n",
    "train['v130_binned'] = pd.qcut(train['v130'], q=[0,0.2,0.4,0.6,0.8,1], labels=bin_labels)\n",
    "\n",
    "# Delete original variables\n",
    "del train['v126']\n",
    "del train['v130']"
   ]
  },
  {
   "cell_type": "code",
   "execution_count": 32,
   "metadata": {},
   "outputs": [],
   "source": [
    "# v132: Interview length in minutes - bin in quantiles\n",
    "bin_labels = [1,2,3,4,5,6,7,8,9,10]\n",
    "train['v132_binned'] = pd.qcut(train['v132'], q=[0,.1,.2,.3,.4,.5,.6,.7,.8,.9,1], labels=bin_labels)\n",
    "\n",
    "# Delete original variable\n",
    "del train['v132']"
   ]
  },
  {
   "cell_type": "markdown",
   "execution_count": null,
   "metadata": {},
   "outputs": [],
   "source": [
    "### Bin hours worked"
   ]
  },
  {
   "cell_type": "code",
   "execution_count": 33,
   "metadata": {},
   "outputs": [],
   "source": [
    "# v250: Total contracted hours per week in main job OT excluded\n",
    "train['v250'] = pd.to_numeric(train['v250'], errors = 'coerce')\n",
    "train['v250_binned'] = pd.cut(train['v250'], 4, labels=[1,2,3,4])\n",
    "\n",
    "del train['v250']\n",
    "\n",
    "# v251: Total hours normally worked per week main job OT included\n",
    "train['v251'] = pd.to_numeric(train['v251'], errors = 'coerce')\n",
    "train['v251_binned'] = pd.cut(train['v251'], 4, labels=[1,2,3,4])\n",
    "\n",
    "del train['v251']\n",
    "\n",
    "# v251: Total hours normally worked per week main job OT included - partner\n",
    "train['v252'] = pd.to_numeric(train['v252'], errors = 'coerce')\n",
    "train['v252_binned'] = pd.cut(train['v252'], 4, labels=[1,2,3,4])\n",
    "\n",
    "del train['v252']"
   ]
  },
  {
   "cell_type": "code",
   "execution_count": 34,
   "metadata": {},
   "outputs": [
    {
     "data": {
      "text/plain": "1    7836\n2    2552\n3      34\n4      11\nName: v252_binned, dtype: int64"
     },
     "execution_count": 34,
     "metadata": {},
     "output_type": "execute_result"
    }
   ],
   "source": [
    "train['v252_binned'].value_counts()"
   ]
  },
  {
   "cell_type": "code",
   "execution_count": 35,
   "metadata": {},
   "outputs": [],
   "source": [
    "# v168: Number of people responsible for in job\n",
    "\n",
    "train['v168'] = pd.to_numeric(train['v168'], errors = 'coerce')\n",
    "train['v168'] = train['v168'].fillna(0).astype('int64')\n",
    "\n",
    "# Define:\n",
    "none = [0]\n",
    "few = [1,2,3,4,5,6,7,8,9,10]\n",
    "moderate = [11,12,13,14,15,16,17,18,19,20]\n",
    "many = range(21, max(train['v168']))\n",
    "\n",
    "# Dictionary for seasons\n",
    "people = {people: 0 for people in none}\n",
    "people.update({people: 1 for people in few})\n",
    "people.update({people: 2 for people in moderate})\n",
    "people.update({people: 3 for people in many})\n",
    "\n",
    "# Map langauges to their groups\n",
    "train['manage'] = train['v168'].map(people)\n",
    "train['manage'].value_counts(normalize = True)\n",
    "\n",
    "# Delete original variable\n",
    "del train['v168']"
   ]
  },
  {
   "cell_type": "markdown",
   "execution_count": null,
   "metadata": {},
   "outputs": [],
   "source": [
    "### Year came to country"
   ]
  },
  {
   "cell_type": "code",
   "execution_count": 36,
   "metadata": {},
   "outputs": [],
   "source": [
    "train['v153'] = pd.to_numeric(train['v153'], errors = 'coerce')\n",
    "train['v153'] = train['v153'].fillna(0).astype('int64')\n",
    "\n",
    "# Define:\n",
    "na = [0]\n",
    "before_80 = range(1, 1980)\n",
    "after_80 = range(1981, max(train['v153']))\n",
    "\n",
    "# Dictionary for seasons\n",
    "immigrate = {immigrate: 0 for immigrate in na}\n",
    "immigrate.update({immigrate: 1 for immigrate in before_80})\n",
    "immigrate.update({immigrate: 2 for immigrate in after_80})\n",
    "\n",
    "# Map langauges to their groups\n",
    "train['immigrate'] = train['v153'].map(immigrate)\n",
    "train['immigrate'].value_counts(normalize = True)\n",
    "\n",
    "# Delete original variable\n",
    "del train['v153']"
   ]
  },
  {
   "cell_type": "markdown",
   "execution_count": null,
   "metadata": {},
   "outputs": [],
   "source": [
    "### Single indicator"
   ]
  },
  {
   "cell_type": "code",
   "execution_count": 37,
   "metadata": {},
   "outputs": [],
   "source": [
    "train['single'] = np.where(train['v164'] == '.a', 1, 0)"
   ]
  },
  {
   "cell_type": "markdown",
   "execution_count": null,
   "metadata": {},
   "outputs": [],
   "source": [
    "### Employee indicator"
   ]
  },
  {
   "cell_type": "code",
   "execution_count": 38,
   "metadata": {},
   "outputs": [],
   "source": [
    "dots = ['.a', '.b', '.c', '.d']\n",
    "train['employees'] = np.where(np.isin(train['v69'], dots) , 0, 1)"
   ]
  },
  {
   "cell_type": "markdown",
   "execution_count": null,
   "metadata": {},
   "outputs": [],
   "source": [
    "### Remaining missing values"
   ]
  },
  {
   "cell_type": "markdown",
   "execution_count": null,
   "metadata": {},
   "outputs": [],
   "source": [
    "Same as before, we find columns with over some % '.' variables and drop them"
   ]
  },
  {
   "cell_type": "code",
   "execution_count": 39,
   "metadata": {},
   "outputs": [],
   "source": [
    "# Convert binned vars to int to fillna\n",
    "binned = [\"v3_binned\",\"v64_binned\", \"v126_binned\", \"v130_binned\", \"v132_binned\", \n",
    "          \"v250_binned\", \"v251_binned\", \"v252_binned\"]\n",
    "\n",
    "for col in binned:\n",
    "    train[col] = train[col].astype('int64')"
   ]
  },
  {
   "cell_type": "code",
   "execution_count": 40,
   "metadata": {},
   "outputs": [],
   "source": [
    "train = train.fillna(\".\")"
   ]
  },
  {
   "cell_type": "code",
   "execution_count": 41,
   "metadata": {},
   "outputs": [
    {
     "data": {
      "text/plain": "id                           int64\nv1                          object\nv2                          object\nv4                          object\nv5                          object\nv6                          object\nv7                          object\nv8                          object\nv9                          object\nv10                         object\nv11                         object\nv12                         object\nv13                         object\nv14                         object\nv15                          int64\nv16                          int64\nv17                       category\nv18                         object\nv19                         object\nv20                       category\nv21                         object\nv22                         object\nv23                         object\nv24                         object\nv25                       category\nv26                          int64\nv27                          int64\nv28                          int64\nv29                          int64\nv30                          int64\nv31                          int64\nv32                          int64\nv33                          int64\nv34                          int64\nv35                         object\nv36                          int64\nv37                          int64\nv38                          int64\nv39                          int64\nv40                          int64\nv41                          int64\nv42                          int64\nv43                         object\nv44                          int64\nv45                          int64\nv46                          int64\nv47                          int64\nv48                          int64\nv49                          int64\nv50                          int64\nv51                          int64\nv52                          int64\nv53                         object\nv54                          int64\nv55                          int64\nv56                         object\nv58                         object\nv60                         object\nv62                         object\nv65                         object\nv66                         object\nv67                         object\nv68                         object\nv69                         object\nv70                         object\nv71                         object\nv72                         object\nv73                         object\nv74                         object\nv75                         object\nv76                         object\nv77                         object\nv78                       category\nv79                         object\nv80                         object\nv81                         object\nv82                         object\nv83                         object\nv84                         object\nv85                         object\nv86                         object\nv87                         object\nv88                         object\nv89                         object\nv90                         object\nv91                         object\nv92                         object\nv93                         object\nv94                         object\nv95                         object\nv96                         object\nv97                         object\nv98                         object\nv99                         object\nv100                         int64\nv101                        object\nv103                        object\nv104                        object\nv105                        object\nv106                         int64\nv107                         int64\nv108                        object\nv109                        object\nv110                        object\nv111                        object\nv112                        object\nv113                        object\nv114                        object\nv115                        object\nv116                        object\nv117                        object\nv118                        object\nv119                        object\nv120                        object\nv121                        object\nv122                        object\nv123                        object\nv124                        object\nv125                        object\nv127                        object\nv131                        object\nv133                        object\nv134                         int64\nv135                        object\nv136                        object\nv137                        object\nv138                        object\nv139                        object\nv140                        object\nv141                        object\nv142                        object\nv143                        object\nv144                        object\nv145                        object\nv146                        object\nv147                        object\nv148                        object\nv149                        object\nv150                        object\nv151                        object\nv152                        object\nv154                      category\nv155                      category\nv156                        object\nv157                        object\nv158                        object\nv159                        object\nv160                        object\nv161                      category\nv162                        object\nv163                        object\nv164                        object\nv165                        object\nv166                        object\nv167                        object\nv169                        object\nv170                        object\nv171                        object\nv172                        object\nv173                        object\nv174                        object\nv175                         int64\nv176                         int64\nv177                        object\nv178                        object\nv179                        object\nv180                        object\nv181                        object\nv182                        object\nv183                        object\nv184                        object\nv185                         int64\nv186                        object\nv187                        object\nv188                        object\nv189                        object\nv190                        object\nv191                        object\nv192                        object\nv193                        object\nv194                        object\nv195                        object\nv196                        object\nv197                        object\nv198                        object\nv199                        object\nv200                        object\nv201                        object\nv202                        object\nv203                        object\nv204                        object\nv205                        object\nv206                        object\nv207                        object\nv208                        object\nv209                        object\nv210                        object\nv211                        object\nv212                        object\nv213                        object\nv214                        object\nv215                        object\nv216                        object\nv217                         int64\nv218                         int64\nv219                        object\nv220                        object\nv221                        object\nv222                        object\nv223                        object\nv224                        object\nv225                        object\nv226                        object\nv227                        object\nv228                        object\nv229                        object\nv230                        object\nv231                        object\nv232                        object\nv233                        object\nv234                        object\nv235                        object\nv236                        object\nv237                        object\nv238                        object\nv239                        object\nv240                        object\nv241                        object\nv242                        object\nv243                        object\nv244                         int64\nv245                         int64\nv246                         int64\nv247                         int64\nv248                        object\nv249                        object\nv253                        object\nv254                        object\nv255                        object\nv256                        object\nv257                        object\nv258                        object\nv259                        object\nv260                        object\nv261                        object\nv262                        object\nv263                        object\nv264                        object\nv265                        object\nv266                        object\nv267                        object\nv268                        object\nv269                        object\nv270                        object\ncntry                     category\nsatisfied                    int64\n161                         object\nv3_binned                    int64\nv64_binned                   int64\nv100_grouped                 int64\nstart_interview_season      object\nv126_binned                  int64\nv130_binned                  int64\nv132_binned                  int64\nv250_binned                  int64\nv251_binned                  int64\nv252_binned                  int64\nmanage                      object\nimmigrate                   object\nsingle                       int64\nemployees                    int64\ndtype: object"
     },
     "execution_count": 41,
     "metadata": {},
     "output_type": "execute_result"
    }
   ],
   "source": [
    "# convert cat vars to dtype 'categorical'\n",
    "train[cat_cols] = train[cat_cols].astype('category')\n",
    "train.dtypes"
   ]
  },
  {
   "cell_type": "code",
   "execution_count": 42,
   "metadata": {},
   "outputs": [
    {
     "name": "stdout",
     "output_type": "stream",
     "text": "There are 67 features with over 30% missing.\n"
    },
    {
     "data": {
      "text/html": "<div>\n<style scoped>\n    .dataframe tbody tr th:only-of-type {\n        vertical-align: middle;\n    }\n\n    .dataframe tbody tr th {\n        vertical-align: top;\n    }\n\n    .dataframe thead th {\n        text-align: right;\n    }\n</style>\n<table border=\"1\" class=\"dataframe\">\n  <thead>\n    <tr style=\"text-align: right;\">\n      <th></th>\n      <th>column_name</th>\n      <th>percent_missing</th>\n      <th>Variable</th>\n      <th>Label</th>\n    </tr>\n  </thead>\n  <tbody>\n    <tr>\n      <th>59</th>\n      <td>v262</td>\n      <td>99.996675</td>\n      <td>v262</td>\n      <td>Year of birth of thirteenth pe...</td>\n    </tr>\n    <tr>\n      <th>45</th>\n      <td>v207</td>\n      <td>99.996675</td>\n      <td>v207</td>\n      <td>Thirteenth person in household...</td>\n    </tr>\n    <tr>\n      <th>11</th>\n      <td>v89</td>\n      <td>99.996675</td>\n      <td>v89</td>\n      <td>Gender of thirteenth person in...</td>\n    </tr>\n    <tr>\n      <th>34</th>\n      <td>v195</td>\n      <td>99.996675</td>\n      <td>v195</td>\n      <td>Thirteenth person in household...</td>\n    </tr>\n    <tr>\n      <th>58</th>\n      <td>v261</td>\n      <td>99.983377</td>\n      <td>v261</td>\n      <td>Year of birth of twelfth perso...</td>\n    </tr>\n    <tr>\n      <th>10</th>\n      <td>v88</td>\n      <td>99.983377</td>\n      <td>v88</td>\n      <td>Gender of twelfth person in ho...</td>\n    </tr>\n    <tr>\n      <th>33</th>\n      <td>v194</td>\n      <td>99.980053</td>\n      <td>v194</td>\n      <td>Twelfth person in household: r...</td>\n    </tr>\n    <tr>\n      <th>44</th>\n      <td>v206</td>\n      <td>99.980053</td>\n      <td>v206</td>\n      <td>Twelfth person in household: r...</td>\n    </tr>\n    <tr>\n      <th>57</th>\n      <td>v260</td>\n      <td>99.940158</td>\n      <td>v260</td>\n      <td>Year of birth of eleventh pers...</td>\n    </tr>\n    <tr>\n      <th>9</th>\n      <td>v87</td>\n      <td>99.933508</td>\n      <td>v87</td>\n      <td>Gender of eleventh person in h...</td>\n    </tr>\n    <tr>\n      <th>43</th>\n      <td>v205</td>\n      <td>99.930184</td>\n      <td>v205</td>\n      <td>Eleventh person in household: ...</td>\n    </tr>\n    <tr>\n      <th>32</th>\n      <td>v193</td>\n      <td>99.930184</td>\n      <td>v193</td>\n      <td>Eleventh person in household: ...</td>\n    </tr>\n    <tr>\n      <th>56</th>\n      <td>v259</td>\n      <td>99.893613</td>\n      <td>v259</td>\n      <td>Year of birth of tenth person ...</td>\n    </tr>\n    <tr>\n      <th>31</th>\n      <td>v192</td>\n      <td>99.883640</td>\n      <td>v192</td>\n      <td>Tenth person in household: rel...</td>\n    </tr>\n    <tr>\n      <th>8</th>\n      <td>v86</td>\n      <td>99.883640</td>\n      <td>v86</td>\n      <td>Gender of tenth person in hous...</td>\n    </tr>\n    <tr>\n      <th>42</th>\n      <td>v204</td>\n      <td>99.883640</td>\n      <td>v204</td>\n      <td>Tenth person in household: rel...</td>\n    </tr>\n    <tr>\n      <th>66</th>\n      <td>v270</td>\n      <td>99.830446</td>\n      <td>v270</td>\n      <td>Year of birth of ninth person ...</td>\n    </tr>\n    <tr>\n      <th>18</th>\n      <td>v97</td>\n      <td>99.820473</td>\n      <td>v97</td>\n      <td>Gender of ninth person in hous...</td>\n    </tr>\n    <tr>\n      <th>52</th>\n      <td>v215</td>\n      <td>99.813824</td>\n      <td>v215</td>\n      <td>Ninth person in household: rel...</td>\n    </tr>\n    <tr>\n      <th>41</th>\n      <td>v203</td>\n      <td>99.813824</td>\n      <td>v203</td>\n      <td>Ninth person in household: rel...</td>\n    </tr>\n    <tr>\n      <th>65</th>\n      <td>v269</td>\n      <td>99.594401</td>\n      <td>v269</td>\n      <td>Year of birth of eighth person...</td>\n    </tr>\n    <tr>\n      <th>40</th>\n      <td>v202</td>\n      <td>99.574454</td>\n      <td>v202</td>\n      <td>Eighth person in household: re...</td>\n    </tr>\n    <tr>\n      <th>51</th>\n      <td>v214</td>\n      <td>99.574454</td>\n      <td>v214</td>\n      <td>Eighth person in household: re...</td>\n    </tr>\n    <tr>\n      <th>17</th>\n      <td>v96</td>\n      <td>99.574454</td>\n      <td>v96</td>\n      <td>Gender of eighth person in hou...</td>\n    </tr>\n    <tr>\n      <th>64</th>\n      <td>v268</td>\n      <td>98.896240</td>\n      <td>v268</td>\n      <td>Year of birth of seventh perso...</td>\n    </tr>\n    <tr>\n      <th>16</th>\n      <td>v95</td>\n      <td>98.853020</td>\n      <td>v95</td>\n      <td>Gender of seventh person in ho...</td>\n    </tr>\n    <tr>\n      <th>50</th>\n      <td>v213</td>\n      <td>98.843047</td>\n      <td>v213</td>\n      <td>Seventh person in household: r...</td>\n    </tr>\n    <tr>\n      <th>39</th>\n      <td>v201</td>\n      <td>98.843047</td>\n      <td>v201</td>\n      <td>Seventh person in household: r...</td>\n    </tr>\n    <tr>\n      <th>63</th>\n      <td>v267</td>\n      <td>96.778483</td>\n      <td>v267</td>\n      <td>Year of birth of sixth person ...</td>\n    </tr>\n    <tr>\n      <th>15</th>\n      <td>v94</td>\n      <td>96.692044</td>\n      <td>v94</td>\n      <td>Gender of sixth person in hous...</td>\n    </tr>\n    <tr>\n      <th>49</th>\n      <td>v212</td>\n      <td>96.672097</td>\n      <td>v212</td>\n      <td>Sixth person in household: rel...</td>\n    </tr>\n    <tr>\n      <th>38</th>\n      <td>v200</td>\n      <td>96.672097</td>\n      <td>v200</td>\n      <td>Sixth person in household: rel...</td>\n    </tr>\n    <tr>\n      <th>23</th>\n      <td>v164</td>\n      <td>94.075601</td>\n      <td>v164</td>\n      <td>Partner's main activity last 7...</td>\n    </tr>\n    <tr>\n      <th>19</th>\n      <td>v123</td>\n      <td>92.060906</td>\n      <td>v123</td>\n      <td>Place of interview: East, West...</td>\n    </tr>\n    <tr>\n      <th>62</th>\n      <td>v266</td>\n      <td>90.764321</td>\n      <td>v266</td>\n      <td>Year of birth of fifth person ...</td>\n    </tr>\n    <tr>\n      <th>14</th>\n      <td>v93</td>\n      <td>90.614715</td>\n      <td>v93</td>\n      <td>Gender of fifth person in hous...</td>\n    </tr>\n    <tr>\n      <th>48</th>\n      <td>v211</td>\n      <td>90.601416</td>\n      <td>v211</td>\n      <td>Fifth person in household: rel...</td>\n    </tr>\n    <tr>\n      <th>37</th>\n      <td>v199</td>\n      <td>90.601416</td>\n      <td>v199</td>\n      <td>Fifth person in household: rel...</td>\n    </tr>\n    <tr>\n      <th>6</th>\n      <td>v69</td>\n      <td>89.703780</td>\n      <td>v69</td>\n      <td>Number of employees respondent...</td>\n    </tr>\n    <tr>\n      <th>30</th>\n      <td>v191</td>\n      <td>89.697131</td>\n      <td>v191</td>\n      <td>Religion or denomination belon...</td>\n    </tr>\n    <tr>\n      <th>21</th>\n      <td>v158</td>\n      <td>86.439044</td>\n      <td>v158</td>\n      <td>Main activity last 7 days</td>\n    </tr>\n    <tr>\n      <th>3</th>\n      <td>v23</td>\n      <td>77.143522</td>\n      <td>v23</td>\n      <td>Partner, control paid work las...</td>\n    </tr>\n    <tr>\n      <th>61</th>\n      <td>v265</td>\n      <td>74.646764</td>\n      <td>v265</td>\n      <td>Year of birth of fourth person...</td>\n    </tr>\n    <tr>\n      <th>13</th>\n      <td>v92</td>\n      <td>74.453938</td>\n      <td>v92</td>\n      <td>Gender of fourth person in hou...</td>\n    </tr>\n    <tr>\n      <th>36</th>\n      <td>v198</td>\n      <td>74.380797</td>\n      <td>v198</td>\n      <td>Fourth person in household: re...</td>\n    </tr>\n    <tr>\n      <th>47</th>\n      <td>v210</td>\n      <td>74.380797</td>\n      <td>v210</td>\n      <td>Fourth person in household: re...</td>\n    </tr>\n    <tr>\n      <th>54</th>\n      <td>v241</td>\n      <td>71.767678</td>\n      <td>v241</td>\n      <td>Any period of unemployment and...</td>\n    </tr>\n    <tr>\n      <th>55</th>\n      <td>v243</td>\n      <td>71.744406</td>\n      <td>v243</td>\n      <td>Any period of unemployment and...</td>\n    </tr>\n    <tr>\n      <th>0</th>\n      <td>v5</td>\n      <td>70.670568</td>\n      <td>v5</td>\n      <td>Second ancestry, European Stan...</td>\n    </tr>\n    <tr>\n      <th>20</th>\n      <td>v151</td>\n      <td>64.360517</td>\n      <td>v151</td>\n      <td>Occupation partner, ISCO08</td>\n    </tr>\n    <tr>\n      <th>26</th>\n      <td>v174</td>\n      <td>64.294026</td>\n      <td>v174</td>\n      <td>Year last in paid job</td>\n    </tr>\n    <tr>\n      <th>7</th>\n      <td>v71</td>\n      <td>63.708900</td>\n      <td>v71</td>\n      <td>Partner's employment relation</td>\n    </tr>\n    <tr>\n      <th>28</th>\n      <td>v188</td>\n      <td>58.472689</td>\n      <td>v188</td>\n      <td>Ever belonging to particular r...</td>\n    </tr>\n    <tr>\n      <th>60</th>\n      <td>v264</td>\n      <td>56.979953</td>\n      <td>v264</td>\n      <td>Year of birth of third person ...</td>\n    </tr>\n    <tr>\n      <th>12</th>\n      <td>v91</td>\n      <td>56.444696</td>\n      <td>v91</td>\n      <td>Gender of third person in hous...</td>\n    </tr>\n    <tr>\n      <th>35</th>\n      <td>v197</td>\n      <td>56.394827</td>\n      <td>v197</td>\n      <td>Third person in household: rel...</td>\n    </tr>\n    <tr>\n      <th>46</th>\n      <td>v209</td>\n      <td>56.394827</td>\n      <td>v209</td>\n      <td>Third person in household: rel...</td>\n    </tr>\n    <tr>\n      <th>25</th>\n      <td>v173</td>\n      <td>54.496493</td>\n      <td>v173</td>\n      <td>Ever had a paid job</td>\n    </tr>\n    <tr>\n      <th>27</th>\n      <td>v182</td>\n      <td>52.993783</td>\n      <td>v182</td>\n      <td>How close to party</td>\n    </tr>\n    <tr>\n      <th>2</th>\n      <td>v22</td>\n      <td>52.445228</td>\n      <td>v22</td>\n      <td>Control paid work last 7 days</td>\n    </tr>\n    <tr>\n      <th>22</th>\n      <td>v160</td>\n      <td>49.313475</td>\n      <td>v160</td>\n      <td>Legal marital status</td>\n    </tr>\n    <tr>\n      <th>5</th>\n      <td>v68</td>\n      <td>44.562652</td>\n      <td>v68</td>\n      <td>Partner's highest level of edu...</td>\n    </tr>\n    <tr>\n      <th>4</th>\n      <td>v62</td>\n      <td>44.562652</td>\n      <td>v62</td>\n      <td>Partner's highest level of edu...</td>\n    </tr>\n    <tr>\n      <th>29</th>\n      <td>v190</td>\n      <td>42.132385</td>\n      <td>v190</td>\n      <td>Religion or denomination belon...</td>\n    </tr>\n    <tr>\n      <th>24</th>\n      <td>v170</td>\n      <td>42.052595</td>\n      <td>v170</td>\n      <td>Mother's occupation when respo...</td>\n    </tr>\n    <tr>\n      <th>53</th>\n      <td>v216</td>\n      <td>41.297915</td>\n      <td>v216</td>\n      <td>Relationship with husband/wife...</td>\n    </tr>\n    <tr>\n      <th>1</th>\n      <td>v11</td>\n      <td>35.951993</td>\n      <td>v11</td>\n      <td>Ever had children living in ho...</td>\n    </tr>\n  </tbody>\n</table>\n</div>",
      "text/plain": "   column_name  percent_missing Variable                              Label\n59        v262        99.996675     v262  Year of birth of thirteenth pe...\n45        v207        99.996675     v207  Thirteenth person in household...\n11         v89        99.996675      v89  Gender of thirteenth person in...\n34        v195        99.996675     v195  Thirteenth person in household...\n58        v261        99.983377     v261  Year of birth of twelfth perso...\n10         v88        99.983377      v88  Gender of twelfth person in ho...\n33        v194        99.980053     v194  Twelfth person in household: r...\n44        v206        99.980053     v206  Twelfth person in household: r...\n57        v260        99.940158     v260  Year of birth of eleventh pers...\n9          v87        99.933508      v87  Gender of eleventh person in h...\n43        v205        99.930184     v205  Eleventh person in household: ...\n32        v193        99.930184     v193  Eleventh person in household: ...\n56        v259        99.893613     v259  Year of birth of tenth person ...\n31        v192        99.883640     v192  Tenth person in household: rel...\n8          v86        99.883640      v86  Gender of tenth person in hous...\n42        v204        99.883640     v204  Tenth person in household: rel...\n66        v270        99.830446     v270  Year of birth of ninth person ...\n18         v97        99.820473      v97  Gender of ninth person in hous...\n52        v215        99.813824     v215  Ninth person in household: rel...\n41        v203        99.813824     v203  Ninth person in household: rel...\n65        v269        99.594401     v269  Year of birth of eighth person...\n40        v202        99.574454     v202  Eighth person in household: re...\n51        v214        99.574454     v214  Eighth person in household: re...\n17         v96        99.574454      v96  Gender of eighth person in hou...\n64        v268        98.896240     v268  Year of birth of seventh perso...\n16         v95        98.853020      v95  Gender of seventh person in ho...\n50        v213        98.843047     v213  Seventh person in household: r...\n39        v201        98.843047     v201  Seventh person in household: r...\n63        v267        96.778483     v267  Year of birth of sixth person ...\n15         v94        96.692044      v94  Gender of sixth person in hous...\n49        v212        96.672097     v212  Sixth person in household: rel...\n38        v200        96.672097     v200  Sixth person in household: rel...\n23        v164        94.075601     v164  Partner's main activity last 7...\n19        v123        92.060906     v123  Place of interview: East, West...\n62        v266        90.764321     v266  Year of birth of fifth person ...\n14         v93        90.614715      v93  Gender of fifth person in hous...\n48        v211        90.601416     v211  Fifth person in household: rel...\n37        v199        90.601416     v199  Fifth person in household: rel...\n6          v69        89.703780      v69  Number of employees respondent...\n30        v191        89.697131     v191  Religion or denomination belon...\n21        v158        86.439044     v158          Main activity last 7 days\n3          v23        77.143522      v23  Partner, control paid work las...\n61        v265        74.646764     v265  Year of birth of fourth person...\n13         v92        74.453938      v92  Gender of fourth person in hou...\n36        v198        74.380797     v198  Fourth person in household: re...\n47        v210        74.380797     v210  Fourth person in household: re...\n54        v241        71.767678     v241  Any period of unemployment and...\n55        v243        71.744406     v243  Any period of unemployment and...\n0           v5        70.670568       v5  Second ancestry, European Stan...\n20        v151        64.360517     v151         Occupation partner, ISCO08\n26        v174        64.294026     v174              Year last in paid job\n7          v71        63.708900      v71      Partner's employment relation\n28        v188        58.472689     v188  Ever belonging to particular r...\n60        v264        56.979953     v264  Year of birth of third person ...\n12         v91        56.444696      v91  Gender of third person in hous...\n35        v197        56.394827     v197  Third person in household: rel...\n46        v209        56.394827     v209  Third person in household: rel...\n25        v173        54.496493     v173                Ever had a paid job\n27        v182        52.993783     v182                 How close to party\n2          v22        52.445228      v22      Control paid work last 7 days\n22        v160        49.313475     v160               Legal marital status\n5          v68        44.562652      v68  Partner's highest level of edu...\n4          v62        44.562652      v62  Partner's highest level of edu...\n29        v190        42.132385     v190  Religion or denomination belon...\n24        v170        42.052595     v170  Mother's occupation when respo...\n53        v216        41.297915     v216  Relationship with husband/wife...\n1          v11        35.951993      v11  Ever had children living in ho..."
     },
     "execution_count": 42,
     "metadata": {},
     "output_type": "execute_result"
    }
   ],
   "source": [
    "# Treating missing \n",
    "train_copy = train.copy()\n",
    "train_nodots = train_copy.replace([\".\", \".a\", \".b\", \".c\", \".d\"], [np.nan, np.nan, np.nan, np.nan, np.nan])\n",
    "percent_missing_nodots = train_nodots.isnull().sum() * 100 / len(train_nodots)\n",
    "missing_value_df_nodots = pd.DataFrame({'column_name': train_nodots.columns,\n",
    "                                 'percent_missing': percent_missing_nodots})\n",
    "\n",
    "# Columns where % missing > some percent\n",
    "percent = 30\n",
    "cols_missing = missing_value_df_nodots[missing_value_df_nodots.percent_missing > percent]\n",
    "n_cols_missing = len(missing_value_df_nodots[missing_value_df_nodots.percent_missing > percent])\n",
    "print(\"There are \" + str(n_cols_missing) + \" features with over \" + str(percent) + \"% missing.\")\n",
    "\n",
    "# Attach short desc for more context\n",
    "codebook_labels = ['Variable', \"Label\"]\n",
    "missing = cols_missing.merge(codebook[codebook_labels], left_on = 'column_name', right_on = \"Variable\", how = \"left\")\n",
    "missing.sort_values(by = \"percent_missing\", ascending = False)"
   ]
  },
  {
   "cell_type": "code",
   "execution_count": 43,
   "metadata": {},
   "outputs": [],
   "source": [
    "# Drop -\n",
    "drop_missing = ['v22','v23','v69','v86','v87','v88','v89','v91','v92','v93','v94','v95','v96','v97',\n",
    "                'v123','v164','v174','v191','v192','v193','v194','v195','v197','v198','v199','v200',\n",
    "                'v201','v202','v203','v204','v205','v206','v207','v209','v210','v211','v212','v213',\n",
    "                'v214','v215','v259','v260','v261','v262','v264','v265','v266','v267','v268','v269',\n",
    "                'v270',]\n",
    "# train_dropped = train_nodots.drop(drop_missing, axis = 1)\n",
    "train_dropped = train.drop(drop_missing, axis = 1)\n",
    "\n",
    "# Impute the rest\n",
    "# dots = [\".\", \".a\", \".b\", \".c\", \".d\", np.nan]\n",
    "# train_imputed = train_dropped.replace(dots, [-1, -1, -1, -1, -1, -1])"
   ]
  },
  {
   "cell_type": "code",
   "execution_count": 44,
   "metadata": {},
   "outputs": [
    {
     "data": {
      "text/plain": ".a    25935\n1      1949\n6       757\n8       651\n2       377\n5       137\n3       121\n4        46\n.d       39\n9        36\n.c       26\n7         5\nName: v158, dtype: int64"
     },
     "execution_count": 44,
     "metadata": {},
     "output_type": "execute_result"
    }
   ],
   "source": [
    "train_dropped['v158'].value_counts()"
   ]
  },
  {
   "cell_type": "code",
   "execution_count": 45,
   "metadata": {},
   "outputs": [
    {
     "data": {
      "text/plain": "0"
     },
     "execution_count": 45,
     "metadata": {},
     "output_type": "execute_result"
    }
   ],
   "source": [
    "train_dropped['v158'].isnull().sum()"
   ]
  },
  {
   "cell_type": "code",
   "execution_count": 46,
   "metadata": {},
   "outputs": [],
   "source": [
    "# v158 : Main activity last 7 days - bin into working, not working, other\n",
    "to_drop = ['.a','.d','b','.c']\n",
    "train_dropped['v158'] = train_dropped['v158'].replace(to_drop, 9)\n",
    "\n",
    "train_dropped['v158'] = pd.to_numeric(train_dropped['v158'], errors = 'coerce')\n",
    "train_dropped['v158'] = train_dropped['v158'].fillna(0).astype('int64')\n",
    "\n",
    "# Define:\n",
    "paid_work = [1]\n",
    "unpaid_work = [8,2,7]\n",
    "not_working = [6,5,3,4]\n",
    "other = [9]\n",
    "\n",
    "# Dictionary for activity\n",
    "activity = {activity: 0 for activity in other}\n",
    "activity.update({activity: 1 for activity in paid_work})\n",
    "activity.update({activity: 2 for activity in unpaid_work})\n",
    "activity.update({activity: 3 for activity in not_working})\n",
    "\n",
    "# Map langauges to their groups\n",
    "train_dropped['main_activity'] = train_dropped['v158'].map(activity)\n",
    "train_dropped['main_activity'].value_counts(normalize = True)\n",
    "\n",
    "# Delete original variable\n",
    "del train_dropped['v158']"
   ]
  },
  {
   "cell_type": "code",
   "execution_count": 48,
   "metadata": {},
   "outputs": [],
   "source": [
    "# v241 : Any period of unemployment and work seeking lasted 12 months or more\n",
    "train_dropped['v241'] = train_dropped['v241'].replace('.a', 0)\n",
    "train_dropped['v241'] = train_dropped['v241'].replace(['.b','.c','.d'], -1)\n",
    "train_dropped['v241'] = pd.to_numeric(train_dropped['v241'], errors = 'coerce')\n",
    "train_dropped['v241'] = train_dropped['v241'].fillna(-1).astype('int64')\n",
    "train_dropped['v241'].value_counts()"
   ]
  },
  {
   "cell_type": "code",
   "execution_count": 50,
   "metadata": {},
   "outputs": [
    {
     "data": {
      "text/plain": " 0    21534\n 2     4433\n 1     4066\n-1       46\nName: v243, dtype: int64"
     },
     "execution_count": 50,
     "metadata": {},
     "output_type": "execute_result"
    }
   ],
   "source": [
    "# v243 : Any period of unemployment and work seeking lasted 5 years or more\n",
    "train_dropped['v243'] = train_dropped['v243'].replace('.a', 0)\n",
    "train_dropped['v243'] = train_dropped['v243'].replace(['.b','.c','.d'], -1)\n",
    "train_dropped['v243'] = pd.to_numeric(train_dropped['v243'], errors = 'coerce')\n",
    "train_dropped['v243'] = train_dropped['v243'].fillna(-1).astype('int64')\n",
    "train_dropped['v243'].value_counts()"
   ]
  },
  {
   "cell_type": "code",
   "execution_count": 51,
   "metadata": {},
   "outputs": [
    {
     "data": {
      "text/plain": " 0         19423\n-1          1834\n 12060      1028\n 25070       705\n 11010       695\n 22000       631\n 11050       592\n 11030       491\n 13070       407\n 13071       214\n 11070       205\n 15080       186\n 15110       184\n 13990       182\n 15111       175\n 444444      146\n 13040       137\n 11031       116\n 11102       113\n 15090       111\n 21220       107\n 13060        97\n 11100        94\n 11081        92\n 21000        87\n 22011        83\n 21150        81\n 15140        77\n 11051        73\n 15020        70\n 12020        62\n 11040        57\n 15130        53\n 10000        52\n 14100        50\n 21130        50\n 15010        48\n 15060        46\n 13075        46\n 11101        43\n 14040        41\n 15040        40\n 11080        39\n 15120        36\n 11058        36\n 12040        36\n 13074        35\n 13010        32\n 11033        31\n 11020        31\n 22013        29\n 61050        28\n 22012        25\n 15030        25\n 14110        25\n 14090        25\n 23000        24\n 21010        24\n 43020        24\n 72010        23\n 14020        21\n 20000        20\n 12022        19\n 13073        18\n 31020        16\n 11032        16\n 12010        16\n 25050        15\n 12021        15\n 14120        15\n 13076        15\n 21070        13\n 25080        13\n 24040        13\n 41030        12\n 15050        11\n 21040        11\n 72050        10\n 21200        10\n 81010         9\n 13072         8\n 42090         7\n 14050         7\n 12050         7\n 32050         7\n 14030         7\n 13030         7\n 11077         7\n 14010         6\n 25030         6\n 61070         6\n 61020         6\n 12011         5\n 80000         5\n 61060         5\n 33070         5\n 82010         4\n 62020         4\n 40000         4\n 32090         4\n 21050         4\n 31190         4\n 61130         4\n 61080         3\n 41120         3\n 62030         3\n 41080         3\n 14070         3\n 31070         3\n 51010         3\n 11060         3\n 61100         3\n 24050         3\n 62080         3\n 14060         3\n 81990         3\n 52010         3\n 25010         3\n 60000         3\n 21100         3\n 11022         2\n 33110         2\n 15093         2\n 50000         2\n 42080         2\n 21190         2\n 62040         2\n 33990         2\n 31040         2\n 12012         2\n 24090         2\n 43990         2\n 15150         2\n 81030         2\n 61990         2\n 31170         1\n 51020         1\n 21990         1\n 33100         1\n 51030         1\n 82030         1\n 43000         1\n 62110         1\n 31120         1\n 72040         1\n 82040         1\n 32100         1\n 15990         1\n 52040         1\n 25060         1\n 33030         1\n 31990         1\n 33130         1\n 32040         1\n 11035         1\n 12000         1\n 62050         1\n 12030         1\n 25990         1\n 71070         1\n 52020         1\n 14080         1\n 11038         1\n 15100         1\nName: v5, dtype: int64"
     },
     "execution_count": 51,
     "metadata": {},
     "output_type": "execute_result"
    }
   ],
   "source": [
    "# v5 : Second ancestry, European Standard Classification of Cultural and Ethnic Groups\n",
    "train_dropped['v5'] = train_dropped['v5'].replace('.a', 0)\n",
    "train_dropped['v5'] = train_dropped['v5'].replace(['.b','.c','.d'], -1)\n",
    "train_dropped['v5'] = pd.to_numeric(train_dropped['v5'], errors = 'coerce')\n",
    "train_dropped['v5'] = train_dropped['v5'].fillna(-1).astype('int64')\n",
    "train_dropped['v5'].value_counts()"
   ]
  },
  {
   "cell_type": "code",
   "execution_count": null,
   "metadata": {},
   "outputs": [],
   "source": []
  },
  {
   "cell_type": "code",
   "execution_count": null,
   "metadata": {},
   "outputs": [],
   "source": []
  },
  {
   "cell_type": "code",
   "execution_count": null,
   "metadata": {},
   "outputs": [],
   "source": []
  },
  {
   "cell_type": "code",
   "execution_count": null,
   "metadata": {},
   "outputs": [],
   "source": []
  },
  {
   "cell_type": "code",
   "execution_count": null,
   "metadata": {},
   "outputs": [],
   "source": []
  },
  {
   "cell_type": "code",
   "execution_count": null,
   "metadata": {},
   "outputs": [],
   "source": [
    "# quick fix\n",
    "train_imputed['v252_binned'] = np.where(train_imputed['v252_binned'] < 1, 0, train_imputed['v252_binned'])\n",
    "train_imputed['v251_binned'] = np.where(train_imputed['v251_binned'] < 1, 0, train_imputed['v251_binned'])\n",
    "train_imputed['v250_binned'] = np.where(train_imputed['v250_binned'] < 1, 0, train_imputed['v250_binned'])"
   ]
  },
  {
   "cell_type": "markdown",
   "execution_count": null,
   "metadata": {},
   "outputs": [],
   "source": [
    "### One-hot/Label encoding"
   ]
  },
  {
   "cell_type": "code",
   "execution_count": null,
   "metadata": {},
   "outputs": [],
   "source": [
    "one_hot = ['v17','v25','v78','v161', 'v154', 'v155', 'start_interview_season']\n",
    "train_encoded = pd.get_dummies(train_imputed, prefix=one_hot, columns=one_hot)"
   ]
  },
  {
   "cell_type": "code",
   "execution_count": null,
   "metadata": {},
   "outputs": [],
   "source": [
    "# Label encode country\n",
    "label_encoder = preprocessing.LabelEncoder()\n",
    "train_encoded['cntry'] = label_encoder.fit_transform(train_encoded['cntry'])\n",
    "train_encoded['v20'] = label_encoder.fit_transform(train_encoded['v20'])\n",
    "    \n",
    "# Convert all other variables to int64\n",
    "num_cols = train_encoded.loc[:, ~train_encoded.columns.isin(['cntry', 'v20'])].columns.tolist()\n",
    "train_encoded[num_cols] = train_encoded[num_cols].astype(\"int64\")"
   ]
  },
  {
   "cell_type": "markdown",
   "execution_count": null,
   "metadata": {},
   "outputs": [],
   "source": [
    "### Export data"
   ]
  },
  {
   "cell_type": "code",
   "execution_count": null,
   "metadata": {},
   "outputs": [],
   "source": [
    "train_encoded.to_csv(\"train_FE.csv\")"
   ]
  }
 ],
 "metadata": {
  "kernelspec": {
   "display_name": "Python 3.8.0 64-bit",
   "language": "python",
   "name": "python38064bit69f4df3ff8e947248f1affdaf5418c70"
  },
  "language_info": {
   "codemirror_mode": {
    "name": "ipython",
    "version": 3
   },
   "file_extension": ".py",
   "mimetype": "text/x-python",
   "name": "python",
   "nbconvert_exporter": "python",
   "pygments_lexer": "ipython3",
   "version": "3.8.0-final"
  }
 },
 "nbformat": 4,
 "nbformat_minor": 2
}