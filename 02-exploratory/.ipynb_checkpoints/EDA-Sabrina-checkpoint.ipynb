{
 "cells": [
  {
   "cell_type": "markdown",
   "metadata": {},
   "source": "## Predicting Life Satisfaction\n### Exploratory Data Analysis  \n  \n#### Objectives:  \n* Analysis of missing observations \n* Analysis of categorical/numeric features \n* 1 way/ 2 way variable plots (histograms, scatterplots, etc.) \n* Correlation analysis"
  },
  {
   "cell_type": "markdown",
   "metadata": {},
   "source": "### From Kaggle:\n#### File descriptions  \n* train.csv - the training set with some preprocesssing of values.  \n* test.csv - the test set with some preprocesssing of values.  \n* train_raw.csv - the training set with original responses (no preprocessing).  \n* test_raw.csv - the test set with original responses (no preprocessing).  \n* codebook_compact.txt - short descriptions of each data field.  \n* codebook_long.txt - long descriptions of each field.  \n* sample_submission.csv - a sample submission file in the correct format. Change values in the Predicted column to estimates of the probability the person is very satisfied and submit to receive a leaderboard score.  \n  \n#### Data fields\n* sample_submission.csv - survey respondent id\n* v1-v270 - survey response fields\n* cntry - survey respondent country\n* satisfied - whether (1) or not (0) the survey respondent is 'very satisfied' with their life (training set only)"
  },
  {
   "cell_type": "code",
   "execution_count": 25,
   "metadata": {},
   "outputs": [],
   "source": "# Import packages\nimport pandas as pd\nimport numpy as np\nimport os\nimport matplotlib.pyplot as plt\nimport seaborn as sns\n\n# Set options\npd.options.display.max_rows = 999\npd.options.display.max_columns = 999"
  },
  {
   "cell_type": "code",
   "execution_count": null,
   "metadata": {},
   "outputs": [],
   "source": "# Import data\ntrain_raw = pd.read_csv(\"../01-data/train_raw.csv\", low_memory = False)\ntrain = pd.read_csv(\"../01-data/train.csv\", low_memory = False)\ntest_raw = pd.read_csv(\"../01-data/test_raw.csv\", low_memory = False)\ntest = pd.read_csv(\"../01-data/test.csv\", low_memory = False)"
  },
  {
   "cell_type": "code",
   "execution_count": null,
   "metadata": {},
   "outputs": [],
   "source": ""
  }
 ],
 "metadata": {
  "kernelspec": {
   "display_name": "Python 3",
   "language": "python",
   "name": "python3"
  },
  "language_info": {
   "codemirror_mode": {
    "name": "ipython",
    "version": 3
   },
   "file_extension": ".py",
   "mimetype": "text/x-python",
   "name": "python",
   "nbconvert_exporter": "python",
   "pygments_lexer": "ipython3",
   "version": "3.7.1"
  }
 },
 "nbformat": 4,
 "nbformat_minor": 4
}
