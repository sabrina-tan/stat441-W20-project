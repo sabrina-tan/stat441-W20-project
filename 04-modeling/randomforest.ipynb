{
 "cells": [
  {
   "cell_type": "code",
   "execution_count": 5,
   "metadata": {},
   "outputs": [],
   "source": "import pandas as pd\nimport numpy as np\nimport random\n\nfrom sklearn import metrics\nfrom sklearn.metrics import roc_auc_score\nfrom sklearn.model_selection import KFold, RandomizedSearchCV, train_test_split\n\nfrom sklearn.ensemble import RandomForestClassifier\nimport matplotlib.pyplot as plt\nimport lightgbm as lgb\nimport os"
  },
  {
   "cell_type": "code",
   "execution_count": 2,
   "metadata": {},
   "outputs": [],
   "source": "train = pd.read_csv(\"../03-data-creation/train_processed_2.csv\")\ntest = pd.read_csv(\"../03-data-creation/test_processed_2.csv\")\n\n# Drop unwanted column\ntrain = train.drop(\"Unnamed: 0\", axis = 1)\ntest = test.drop(\"Unnamed: 0\", axis = 1)\n\n# We won't touch test until predicting for submission\n\n# We don't want the ID to be used in the model so preserve\ntrain_id = train['id']\ntest_id = test['id']\n\ntrain = train.drop('id', axis = 1)\ntest = test.drop('id', axis = 1)\n\n# Split X and y\nX = train.loc[:, train.columns != \"satisfied\"]\ny = train.satisfied"
  },
  {
   "cell_type": "code",
   "execution_count": 3,
   "metadata": {},
   "outputs": [],
   "source": "# Split data\nX_train, X_test, y_train, y_test = train_test_split(X, y, test_size=0.20, random_state = 3096)"
  },
  {
   "cell_type": "code",
   "execution_count": 6,
   "metadata": {},
   "outputs": [],
   "source": "# Instantiate model default params\nrf = RandomForestClassifier(random_state = 3096)\n\n# Train the model on training data\nrf.fit(X_train, y_train);"
  },
  {
   "cell_type": "code",
   "execution_count": 7,
   "metadata": {},
   "outputs": [
    {
     "name": "stdout",
     "output_type": "stream",
     "text": "\n              precision    recall  f1-score   support\n\n           0       0.81      0.78      0.80      2907\n           1       0.80      0.83      0.82      3109\n\n    accuracy                           0.81      6016\n   macro avg       0.81      0.81      0.81      6016\nweighted avg       0.81      0.81      0.81      6016\n\n\n[[2275  632]\n [ 517 2592]]\n\n0.8081511636102473\n"
    }
   ],
   "source": "# Use the forest's predict method on the test data\nexpected_y = y_test\npredicted_y = rf.predict(X_test)\n\n\n# Summarize model fit\nprint(); print(metrics.classification_report(expected_y, predicted_y))\nprint(); print(metrics.confusion_matrix(expected_y, predicted_y))\nprint(); print(metrics.roc_auc_score(expected_y, predicted_y))"
  },
  {
   "cell_type": "markdown",
   "metadata": {},
   "source": "Hyperparameter tuning:"
  },
  {
   "cell_type": "code",
   "execution_count": 10,
   "metadata": {},
   "outputs": [
    {
     "name": "stdout",
     "output_type": "stream",
     "text": "{'bootstrap': [True, False],\n 'max_depth': [10, 20, 30, 40, 50, 60, 70, 80, 90, 100, 110, None],\n 'max_features': ['auto', 'sqrt'],\n 'min_samples_leaf': [1, 2, 4],\n 'min_samples_split': [2, 5, 10],\n 'n_estimators': [200, 400, 600, 800, 1000, 1200, 1400, 1600, 1800, 2000]}\n"
    }
   ],
   "source": "from sklearn.model_selection import RandomizedSearchCV\nfrom pprint import pprint\n\n# Number of trees in random forest\nn_estimators = [int(x) for x in np.linspace(start = 200, stop = 2000, num = 10)]\n# Number of features to consider at every split\nmax_features = ['auto', 'sqrt']\n# Maximum number of levels in tree\nmax_depth = [int(x) for x in np.linspace(10, 110, num = 11)]\nmax_depth.append(None)\n# Minimum number of samples required to split a node\nmin_samples_split = [2, 5, 10]\n# Minimum number of samples required at each leaf node\nmin_samples_leaf = [1, 2, 4]\n# Method of selecting samples for training each tree\nbootstrap = [True, False]\n\n# Create the random grid\nrandom_grid = {'n_estimators': n_estimators,\n               'max_features': max_features,\n               'max_depth': max_depth,\n               'min_samples_split': min_samples_split,\n               'min_samples_leaf': min_samples_leaf,\n               'bootstrap': bootstrap}\n\npprint(random_grid)"
  },
  {
   "cell_type": "code",
   "execution_count": null,
   "metadata": {},
   "outputs": [
    {
     "name": "stdout",
     "output_type": "stream",
     "text": "Fitting 3 folds for each of 50 candidates, totalling 150 fits\n"
    },
    {
     "name": "stderr",
     "output_type": "stream",
     "text": "[Parallel(n_jobs=-1)]: Using backend LokyBackend with 4 concurrent workers.\n[Parallel(n_jobs=-1)]: Done   5 tasks      | elapsed:  3.2min\n[Parallel(n_jobs=-1)]: Done  10 tasks      | elapsed:  6.7min\n[Parallel(n_jobs=-1)]: Done  17 tasks      | elapsed: 18.8min\n[Parallel(n_jobs=-1)]: Done  24 tasks      | elapsed: 64.8min\n[Parallel(n_jobs=-1)]: Done  33 tasks      | elapsed: 110.0min\n[Parallel(n_jobs=-1)]: Done  42 tasks      | elapsed: 118.2min\n[Parallel(n_jobs=-1)]: Done  53 tasks      | elapsed: 179.8min\n"
    }
   ],
   "source": "# Use the random grid to search for best hyperparameters\n\n# First create the base model to tune\nrf = RandomForestRegressor()\n# Random search of parameters, using 3 fold cross validation, \n# search across 100 different combinations, and use all available cores\nrf_random = RandomizedSearchCV(estimator = rf, param_distributions = random_grid, n_iter = 50, cv = 3, verbose=10, random_state=42, n_jobs = -1)\n# Fit the random search model\nrf_random.fit(X_train, y_train)"
  },
  {
   "cell_type": "code",
   "execution_count": null,
   "metadata": {},
   "outputs": [],
   "source": "rf_random.best_params_"
  },
  {
   "cell_type": "code",
   "execution_count": null,
   "metadata": {},
   "outputs": [],
   "source": "# Predict\npreds = rf_random.predict(X_test)\n\n# AUC calculation\nbest_random = rf_random.best_estimator_\nrandom_accuracy = metrics.roc_auc_score(best_random, X_test, y_test)"
  }
 ],
 "metadata": {
  "kernelspec": {
   "display_name": "Python 3",
   "language": "python",
   "name": "python3"
  },
  "language_info": {
   "codemirror_mode": {
    "name": "ipython",
    "version": 3
   },
   "file_extension": ".py",
   "mimetype": "text/x-python",
   "name": "python",
   "nbconvert_exporter": "python",
   "pygments_lexer": "ipython3",
   "version": "3.7.1"
  }
 },
 "nbformat": 4,
 "nbformat_minor": 4
}
