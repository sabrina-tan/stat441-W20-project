{
 "cells": [
  {
   "cell_type": "code",
   "execution_count": 26,
   "metadata": {},
   "outputs": [],
   "source": [
    " import pandas as pd \n",
    " import numpy as np\n",
    " import seaborn as sns\n"
   ]
  },
  {
   "cell_type": "code",
   "execution_count": 4,
   "metadata": {},
   "outputs": [
    {
     "name": "stderr",
     "output_type": "stream",
     "text": "/Users/dylanlee/Library/Python/3.8/lib/python/site-packages/IPython/core/interactiveshell.py:3050: DtypeWarning: Columns (3,4,6,10,12,18,24,35,56,57,65,85,86,87,88,89,98,99,100,105,124,125,126,127,128,130,131,133,166,171,172,192,193,194,195,204,205,206,207,228,229,230,240,256,257,258,259,260,261,262) have mixed types. Specify dtype option on import or set low_memory=False.\n  has_raised = await self.run_ast_nodes(code_ast.body, cell_name,\n/Users/dylanlee/Library/Python/3.8/lib/python/site-packages/IPython/core/interactiveshell.py:3050: DtypeWarning: Columns (3,87,88,89,100,123,124,126,127,128,130,131,133,193,194,195,205,206,207,228,229,230,258,260,261,262) have mixed types. Specify dtype option on import or set low_memory=False.\n  has_raised = await self.run_ast_nodes(code_ast.body, cell_name,\n/Users/dylanlee/Library/Python/3.8/lib/python/site-packages/IPython/core/interactiveshell.py:3050: DtypeWarning: Columns (3,6,10,12,21,24,35,85,87,88,89,100,124,126,127,128,130,131,133,166,172,177,193,194,195,205,206,207,220,222,228,229,230,240,257,258,260,261,262) have mixed types. Specify dtype option on import or set low_memory=False.\n  has_raised = await self.run_ast_nodes(code_ast.body, cell_name,\n"
    }
   ],
   "source": [
    "data_train_raw = pd.read_csv('01-data/train_raw.csv')\n",
    "data_train = pd.read_csv('01-data/train.csv')\n",
    "data_test_raw = pd.read_csv('01-data/test_raw.csv')\n",
    "data_test = pd.read_csv('01-data/test.csv')\n",
    "data_sample_submission = pd.read_csv('01-data/sample_submission.csv')"
   ]
  },
  {
   "cell_type": "code",
   "execution_count": 19,
   "metadata": {},
   "outputs": [
    {
     "name": "stdout",
     "output_type": "stream",
     "text": "(30080, 273)\n"
    },
    {
     "data": {
      "text/html": "<div>\n<style scoped>\n    .dataframe tbody tr th:only-of-type {\n        vertical-align: middle;\n    }\n\n    .dataframe tbody tr th {\n        vertical-align: top;\n    }\n\n    .dataframe thead th {\n        text-align: right;\n    }\n</style>\n<table border=\"1\" class=\"dataframe\">\n  <thead>\n    <tr style=\"text-align: right;\">\n      <th></th>\n      <th>id</th>\n      <th>v1</th>\n      <th>v2</th>\n      <th>v3</th>\n      <th>v4</th>\n      <th>v5</th>\n      <th>v6</th>\n      <th>v7</th>\n      <th>v8</th>\n      <th>v9</th>\n      <th>...</th>\n      <th>v263</th>\n      <th>v264</th>\n      <th>v265</th>\n      <th>v266</th>\n      <th>v267</th>\n      <th>v268</th>\n      <th>v269</th>\n      <th>v270</th>\n      <th>cntry</th>\n      <th>satisfied</th>\n    </tr>\n  </thead>\n  <tbody>\n    <tr>\n      <th>0</th>\n      <td>9948</td>\n      <td>2</td>\n      <td>Safe</td>\n      <td>74</td>\n      <td>Austrian nfs</td>\n      <td>No second ancestry</td>\n      <td>No</td>\n      <td>No</td>\n      <td>No</td>\n      <td>No</td>\n      <td>...</td>\n      <td>Not applicable</td>\n      <td>Not applicable</td>\n      <td>Not applicable</td>\n      <td>Not applicable</td>\n      <td>Not applicable</td>\n      <td>Not applicable</td>\n      <td>Not applicable</td>\n      <td>NaN</td>\n      <td>AT</td>\n      <td>0</td>\n    </tr>\n    <tr>\n      <th>1</th>\n      <td>25601</td>\n      <td>4</td>\n      <td>Safe</td>\n      <td>58</td>\n      <td>Austrian nfs</td>\n      <td>No second ancestry</td>\n      <td>No</td>\n      <td>No</td>\n      <td>No</td>\n      <td>No</td>\n      <td>...</td>\n      <td>Not applicable</td>\n      <td>Not applicable</td>\n      <td>Not applicable</td>\n      <td>Not applicable</td>\n      <td>Not applicable</td>\n      <td>Not applicable</td>\n      <td>Not applicable</td>\n      <td>NaN</td>\n      <td>AT</td>\n      <td>0</td>\n    </tr>\n    <tr>\n      <th>2</th>\n      <td>8592</td>\n      <td>6</td>\n      <td>Safe</td>\n      <td>47</td>\n      <td>Austrian nfs</td>\n      <td>Austrian nfs</td>\n      <td>No</td>\n      <td>No</td>\n      <td>Yes</td>\n      <td>No</td>\n      <td>...</td>\n      <td>1963</td>\n      <td>1993</td>\n      <td>1995</td>\n      <td>Not applicable</td>\n      <td>Not applicable</td>\n      <td>Not applicable</td>\n      <td>Not applicable</td>\n      <td>NaN</td>\n      <td>AT</td>\n      <td>1</td>\n    </tr>\n    <tr>\n      <th>3</th>\n      <td>29593</td>\n      <td>Completely able</td>\n      <td>Safe</td>\n      <td>22</td>\n      <td>Austrian nfs</td>\n      <td>No second ancestry</td>\n      <td>No</td>\n      <td>No</td>\n      <td>No</td>\n      <td>No</td>\n      <td>...</td>\n      <td>Not applicable</td>\n      <td>Not applicable</td>\n      <td>Not applicable</td>\n      <td>Not applicable</td>\n      <td>Not applicable</td>\n      <td>Not applicable</td>\n      <td>Not applicable</td>\n      <td>NaN</td>\n      <td>AT</td>\n      <td>0</td>\n    </tr>\n    <tr>\n      <th>4</th>\n      <td>4252</td>\n      <td>Not at all able</td>\n      <td>Very safe</td>\n      <td>24</td>\n      <td>Austrian nfs</td>\n      <td>No second ancestry</td>\n      <td>No</td>\n      <td>No</td>\n      <td>No</td>\n      <td>No</td>\n      <td>...</td>\n      <td>Not applicable</td>\n      <td>Not applicable</td>\n      <td>Not applicable</td>\n      <td>Not applicable</td>\n      <td>Not applicable</td>\n      <td>Not applicable</td>\n      <td>Not applicable</td>\n      <td>NaN</td>\n      <td>AT</td>\n      <td>1</td>\n    </tr>\n  </tbody>\n</table>\n<p>5 rows × 273 columns</p>\n</div>",
      "text/plain": "      id               v1         v2  v3            v4                  v5  \\\n0   9948                2       Safe  74  Austrian nfs  No second ancestry   \n1  25601                4       Safe  58  Austrian nfs  No second ancestry   \n2   8592                6       Safe  47  Austrian nfs        Austrian nfs   \n3  29593  Completely able       Safe  22  Austrian nfs  No second ancestry   \n4   4252  Not at all able  Very safe  24  Austrian nfs  No second ancestry   \n\n   v6  v7   v8  v9  ...            v263            v264            v265  \\\n0  No  No   No  No  ...  Not applicable  Not applicable  Not applicable   \n1  No  No   No  No  ...  Not applicable  Not applicable  Not applicable   \n2  No  No  Yes  No  ...            1963            1993            1995   \n3  No  No   No  No  ...  Not applicable  Not applicable  Not applicable   \n4  No  No   No  No  ...  Not applicable  Not applicable  Not applicable   \n\n             v266            v267            v268            v269 v270 cntry  \\\n0  Not applicable  Not applicable  Not applicable  Not applicable  NaN    AT   \n1  Not applicable  Not applicable  Not applicable  Not applicable  NaN    AT   \n2  Not applicable  Not applicable  Not applicable  Not applicable  NaN    AT   \n3  Not applicable  Not applicable  Not applicable  Not applicable  NaN    AT   \n4  Not applicable  Not applicable  Not applicable  Not applicable  NaN    AT   \n\n  satisfied  \n0         0  \n1         0  \n2         1  \n3         0  \n4         1  \n\n[5 rows x 273 columns]"
     },
     "execution_count": 19,
     "metadata": {},
     "output_type": "execute_result"
    }
   ],
   "source": [
    "print(data_train_raw.shape)\n",
    "data_train_raw.head()"
   ]
  },
  {
   "cell_type": "code",
   "execution_count": 18,
   "metadata": {},
   "outputs": [
    {
     "name": "stdout",
     "output_type": "stream",
     "text": "(30080, 273)\n"
    },
    {
     "data": {
      "text/html": "<div>\n<style scoped>\n    .dataframe tbody tr th:only-of-type {\n        vertical-align: middle;\n    }\n\n    .dataframe tbody tr th {\n        vertical-align: top;\n    }\n\n    .dataframe thead th {\n        text-align: right;\n    }\n</style>\n<table border=\"1\" class=\"dataframe\">\n  <thead>\n    <tr style=\"text-align: right;\">\n      <th></th>\n      <th>id</th>\n      <th>v1</th>\n      <th>v2</th>\n      <th>v3</th>\n      <th>v4</th>\n      <th>v5</th>\n      <th>v6</th>\n      <th>v7</th>\n      <th>v8</th>\n      <th>v9</th>\n      <th>...</th>\n      <th>v263</th>\n      <th>v264</th>\n      <th>v265</th>\n      <th>v266</th>\n      <th>v267</th>\n      <th>v268</th>\n      <th>v269</th>\n      <th>v270</th>\n      <th>cntry</th>\n      <th>satisfied</th>\n    </tr>\n  </thead>\n  <tbody>\n    <tr>\n      <th>0</th>\n      <td>9948</td>\n      <td>2</td>\n      <td>2</td>\n      <td>74</td>\n      <td>11010</td>\n      <td>.a</td>\n      <td>2</td>\n      <td>2</td>\n      <td>2</td>\n      <td>2</td>\n      <td>...</td>\n      <td>.a</td>\n      <td>.a</td>\n      <td>.a</td>\n      <td>.a</td>\n      <td>.a</td>\n      <td>.a</td>\n      <td>.a</td>\n      <td>NaN</td>\n      <td>AT</td>\n      <td>0</td>\n    </tr>\n    <tr>\n      <th>1</th>\n      <td>25601</td>\n      <td>4</td>\n      <td>2</td>\n      <td>58</td>\n      <td>11010</td>\n      <td>.a</td>\n      <td>2</td>\n      <td>2</td>\n      <td>2</td>\n      <td>2</td>\n      <td>...</td>\n      <td>.a</td>\n      <td>.a</td>\n      <td>.a</td>\n      <td>.a</td>\n      <td>.a</td>\n      <td>.a</td>\n      <td>.a</td>\n      <td>NaN</td>\n      <td>AT</td>\n      <td>0</td>\n    </tr>\n    <tr>\n      <th>2</th>\n      <td>8592</td>\n      <td>6</td>\n      <td>2</td>\n      <td>47</td>\n      <td>11010</td>\n      <td>11010</td>\n      <td>2</td>\n      <td>2</td>\n      <td>1</td>\n      <td>2</td>\n      <td>...</td>\n      <td>1963</td>\n      <td>1993</td>\n      <td>1995</td>\n      <td>.a</td>\n      <td>.a</td>\n      <td>.a</td>\n      <td>.a</td>\n      <td>NaN</td>\n      <td>AT</td>\n      <td>1</td>\n    </tr>\n    <tr>\n      <th>3</th>\n      <td>29593</td>\n      <td>10</td>\n      <td>2</td>\n      <td>22</td>\n      <td>11010</td>\n      <td>.a</td>\n      <td>2</td>\n      <td>2</td>\n      <td>2</td>\n      <td>2</td>\n      <td>...</td>\n      <td>.a</td>\n      <td>.a</td>\n      <td>.a</td>\n      <td>.a</td>\n      <td>.a</td>\n      <td>.a</td>\n      <td>.a</td>\n      <td>NaN</td>\n      <td>AT</td>\n      <td>0</td>\n    </tr>\n    <tr>\n      <th>4</th>\n      <td>4252</td>\n      <td>0</td>\n      <td>1</td>\n      <td>24</td>\n      <td>11010</td>\n      <td>.a</td>\n      <td>2</td>\n      <td>2</td>\n      <td>2</td>\n      <td>2</td>\n      <td>...</td>\n      <td>.a</td>\n      <td>.a</td>\n      <td>.a</td>\n      <td>.a</td>\n      <td>.a</td>\n      <td>.a</td>\n      <td>.a</td>\n      <td>NaN</td>\n      <td>AT</td>\n      <td>1</td>\n    </tr>\n  </tbody>\n</table>\n<p>5 rows × 273 columns</p>\n</div>",
      "text/plain": "      id  v1 v2  v3     v4     v5 v6 v7 v8 v9  ...  v263  v264  v265 v266  \\\n0   9948   2  2  74  11010     .a  2  2  2  2  ...    .a    .a    .a   .a   \n1  25601   4  2  58  11010     .a  2  2  2  2  ...    .a    .a    .a   .a   \n2   8592   6  2  47  11010  11010  2  2  1  2  ...  1963  1993  1995   .a   \n3  29593  10  2  22  11010     .a  2  2  2  2  ...    .a    .a    .a   .a   \n4   4252   0  1  24  11010     .a  2  2  2  2  ...    .a    .a    .a   .a   \n\n  v267  v268  v269 v270 cntry satisfied  \n0   .a    .a    .a  NaN    AT         0  \n1   .a    .a    .a  NaN    AT         0  \n2   .a    .a    .a  NaN    AT         1  \n3   .a    .a    .a  NaN    AT         0  \n4   .a    .a    .a  NaN    AT         1  \n\n[5 rows x 273 columns]"
     },
     "execution_count": 18,
     "metadata": {},
     "output_type": "execute_result"
    }
   ],
   "source": [
    "print(data_train.shape)\n",
    "data_train.head()"
   ]
  },
  {
   "cell_type": "code",
   "execution_count": 20,
   "metadata": {},
   "outputs": [
    {
     "name": "stdout",
     "output_type": "stream",
     "text": "(9245, 272)\n"
    },
    {
     "data": {
      "text/html": "<div>\n<style scoped>\n    .dataframe tbody tr th:only-of-type {\n        vertical-align: middle;\n    }\n\n    .dataframe tbody tr th {\n        vertical-align: top;\n    }\n\n    .dataframe thead th {\n        text-align: right;\n    }\n</style>\n<table border=\"1\" class=\"dataframe\">\n  <thead>\n    <tr style=\"text-align: right;\">\n      <th></th>\n      <th>id</th>\n      <th>v1</th>\n      <th>v2</th>\n      <th>v3</th>\n      <th>v4</th>\n      <th>v5</th>\n      <th>v6</th>\n      <th>v7</th>\n      <th>v8</th>\n      <th>v9</th>\n      <th>...</th>\n      <th>v262</th>\n      <th>v263</th>\n      <th>v264</th>\n      <th>v265</th>\n      <th>v266</th>\n      <th>v267</th>\n      <th>v268</th>\n      <th>v269</th>\n      <th>v270</th>\n      <th>cntry</th>\n    </tr>\n  </thead>\n  <tbody>\n    <tr>\n      <th>0</th>\n      <td>14061</td>\n      <td>Not at all able</td>\n      <td>Very safe</td>\n      <td>63</td>\n      <td>Czech nfs</td>\n      <td>No second ancestry</td>\n      <td>No</td>\n      <td>No</td>\n      <td>Yes</td>\n      <td>No</td>\n      <td>...</td>\n      <td>NaN</td>\n      <td>Not applicable</td>\n      <td>Not applicable</td>\n      <td>Not applicable</td>\n      <td>Not applicable</td>\n      <td>Not applicable</td>\n      <td>Not applicable</td>\n      <td>Not applicable</td>\n      <td>NaN</td>\n      <td>AT</td>\n    </tr>\n    <tr>\n      <th>1</th>\n      <td>16467</td>\n      <td>5</td>\n      <td>Safe</td>\n      <td>44</td>\n      <td>Iraqi</td>\n      <td>Iraqi</td>\n      <td>Yes</td>\n      <td>No</td>\n      <td>No</td>\n      <td>Yes</td>\n      <td>...</td>\n      <td>NaN</td>\n      <td>Not applicable</td>\n      <td>Not applicable</td>\n      <td>Not applicable</td>\n      <td>Not applicable</td>\n      <td>Not applicable</td>\n      <td>Not applicable</td>\n      <td>Not applicable</td>\n      <td>NaN</td>\n      <td>AT</td>\n    </tr>\n    <tr>\n      <th>2</th>\n      <td>25725</td>\n      <td>Completely able</td>\n      <td>Safe</td>\n      <td>21</td>\n      <td>Austrian nfs</td>\n      <td>Austrian nfs</td>\n      <td>No</td>\n      <td>Yes</td>\n      <td>No</td>\n      <td>No</td>\n      <td>...</td>\n      <td>NaN</td>\n      <td>Not applicable</td>\n      <td>Not applicable</td>\n      <td>Not applicable</td>\n      <td>Not applicable</td>\n      <td>Not applicable</td>\n      <td>Not applicable</td>\n      <td>Not applicable</td>\n      <td>NaN</td>\n      <td>AT</td>\n    </tr>\n    <tr>\n      <th>3</th>\n      <td>9100</td>\n      <td>2</td>\n      <td>Safe</td>\n      <td>75</td>\n      <td>Austrian nfs</td>\n      <td>No second ancestry</td>\n      <td>No</td>\n      <td>No</td>\n      <td>No</td>\n      <td>No</td>\n      <td>...</td>\n      <td>NaN</td>\n      <td>1946</td>\n      <td>Not applicable</td>\n      <td>Not applicable</td>\n      <td>Not applicable</td>\n      <td>Not applicable</td>\n      <td>Not applicable</td>\n      <td>Not applicable</td>\n      <td>NaN</td>\n      <td>AT</td>\n    </tr>\n    <tr>\n      <th>4</th>\n      <td>32597</td>\n      <td>Not at all able</td>\n      <td>Very safe</td>\n      <td>22</td>\n      <td>Austrian nfs</td>\n      <td>Austrian nfs</td>\n      <td>No</td>\n      <td>No</td>\n      <td>No</td>\n      <td>No</td>\n      <td>...</td>\n      <td>NaN</td>\n      <td>Not applicable</td>\n      <td>Not applicable</td>\n      <td>Not applicable</td>\n      <td>Not applicable</td>\n      <td>Not applicable</td>\n      <td>Not applicable</td>\n      <td>Not applicable</td>\n      <td>NaN</td>\n      <td>AT</td>\n    </tr>\n  </tbody>\n</table>\n<p>5 rows × 272 columns</p>\n</div>",
      "text/plain": "      id               v1         v2  v3            v4                  v5  \\\n0  14061  Not at all able  Very safe  63     Czech nfs  No second ancestry   \n1  16467                5       Safe  44         Iraqi               Iraqi   \n2  25725  Completely able       Safe  21  Austrian nfs        Austrian nfs   \n3   9100                2       Safe  75  Austrian nfs  No second ancestry   \n4  32597  Not at all able  Very safe  22  Austrian nfs        Austrian nfs   \n\n    v6   v7   v8   v9  ... v262            v263            v264  \\\n0   No   No  Yes   No  ...  NaN  Not applicable  Not applicable   \n1  Yes   No   No  Yes  ...  NaN  Not applicable  Not applicable   \n2   No  Yes   No   No  ...  NaN  Not applicable  Not applicable   \n3   No   No   No   No  ...  NaN            1946  Not applicable   \n4   No   No   No   No  ...  NaN  Not applicable  Not applicable   \n\n             v265            v266            v267            v268  \\\n0  Not applicable  Not applicable  Not applicable  Not applicable   \n1  Not applicable  Not applicable  Not applicable  Not applicable   \n2  Not applicable  Not applicable  Not applicable  Not applicable   \n3  Not applicable  Not applicable  Not applicable  Not applicable   \n4  Not applicable  Not applicable  Not applicable  Not applicable   \n\n             v269 v270 cntry  \n0  Not applicable  NaN    AT  \n1  Not applicable  NaN    AT  \n2  Not applicable  NaN    AT  \n3  Not applicable  NaN    AT  \n4  Not applicable  NaN    AT  \n\n[5 rows x 272 columns]"
     },
     "execution_count": 20,
     "metadata": {},
     "output_type": "execute_result"
    }
   ],
   "source": [
    "print(data_test_raw.shape)\n",
    "data_test_raw.head()"
   ]
  },
  {
   "cell_type": "code",
   "execution_count": 21,
   "metadata": {},
   "outputs": [
    {
     "name": "stdout",
     "output_type": "stream",
     "text": "(9245, 272)\n"
    },
    {
     "data": {
      "text/html": "<div>\n<style scoped>\n    .dataframe tbody tr th:only-of-type {\n        vertical-align: middle;\n    }\n\n    .dataframe tbody tr th {\n        vertical-align: top;\n    }\n\n    .dataframe thead th {\n        text-align: right;\n    }\n</style>\n<table border=\"1\" class=\"dataframe\">\n  <thead>\n    <tr style=\"text-align: right;\">\n      <th></th>\n      <th>id</th>\n      <th>v1</th>\n      <th>v2</th>\n      <th>v3</th>\n      <th>v4</th>\n      <th>v5</th>\n      <th>v6</th>\n      <th>v7</th>\n      <th>v8</th>\n      <th>v9</th>\n      <th>...</th>\n      <th>v262</th>\n      <th>v263</th>\n      <th>v264</th>\n      <th>v265</th>\n      <th>v266</th>\n      <th>v267</th>\n      <th>v268</th>\n      <th>v269</th>\n      <th>v270</th>\n      <th>cntry</th>\n    </tr>\n  </thead>\n  <tbody>\n    <tr>\n      <th>0</th>\n      <td>14061</td>\n      <td>0</td>\n      <td>1</td>\n      <td>63</td>\n      <td>15020</td>\n      <td>.a</td>\n      <td>2</td>\n      <td>2</td>\n      <td>1</td>\n      <td>2</td>\n      <td>...</td>\n      <td>NaN</td>\n      <td>.a</td>\n      <td>.a</td>\n      <td>.a</td>\n      <td>.a</td>\n      <td>.a</td>\n      <td>.a</td>\n      <td>.a</td>\n      <td>NaN</td>\n      <td>AT</td>\n    </tr>\n    <tr>\n      <th>1</th>\n      <td>16467</td>\n      <td>5</td>\n      <td>2</td>\n      <td>44</td>\n      <td>21070</td>\n      <td>21070</td>\n      <td>1</td>\n      <td>2</td>\n      <td>2</td>\n      <td>1</td>\n      <td>...</td>\n      <td>NaN</td>\n      <td>.a</td>\n      <td>.a</td>\n      <td>.a</td>\n      <td>.a</td>\n      <td>.a</td>\n      <td>.a</td>\n      <td>.a</td>\n      <td>NaN</td>\n      <td>AT</td>\n    </tr>\n    <tr>\n      <th>2</th>\n      <td>25725</td>\n      <td>10</td>\n      <td>2</td>\n      <td>21</td>\n      <td>11010</td>\n      <td>11010</td>\n      <td>2</td>\n      <td>1</td>\n      <td>2</td>\n      <td>2</td>\n      <td>...</td>\n      <td>NaN</td>\n      <td>.a</td>\n      <td>.a</td>\n      <td>.a</td>\n      <td>.a</td>\n      <td>.a</td>\n      <td>.a</td>\n      <td>.a</td>\n      <td>NaN</td>\n      <td>AT</td>\n    </tr>\n    <tr>\n      <th>3</th>\n      <td>9100</td>\n      <td>2</td>\n      <td>2</td>\n      <td>75</td>\n      <td>11010</td>\n      <td>.a</td>\n      <td>2</td>\n      <td>2</td>\n      <td>2</td>\n      <td>2</td>\n      <td>...</td>\n      <td>NaN</td>\n      <td>1946</td>\n      <td>.a</td>\n      <td>.a</td>\n      <td>.a</td>\n      <td>.a</td>\n      <td>.a</td>\n      <td>.a</td>\n      <td>NaN</td>\n      <td>AT</td>\n    </tr>\n    <tr>\n      <th>4</th>\n      <td>32597</td>\n      <td>0</td>\n      <td>1</td>\n      <td>22</td>\n      <td>11010</td>\n      <td>11010</td>\n      <td>2</td>\n      <td>2</td>\n      <td>2</td>\n      <td>2</td>\n      <td>...</td>\n      <td>NaN</td>\n      <td>.a</td>\n      <td>.a</td>\n      <td>.a</td>\n      <td>.a</td>\n      <td>.a</td>\n      <td>.a</td>\n      <td>.a</td>\n      <td>NaN</td>\n      <td>AT</td>\n    </tr>\n  </tbody>\n</table>\n<p>5 rows × 272 columns</p>\n</div>",
      "text/plain": "      id  v1 v2  v3     v4     v5 v6 v7 v8 v9  ... v262  v263 v264 v265 v266  \\\n0  14061   0  1  63  15020     .a  2  2  1  2  ...  NaN    .a   .a   .a   .a   \n1  16467   5  2  44  21070  21070  1  2  2  1  ...  NaN    .a   .a   .a   .a   \n2  25725  10  2  21  11010  11010  2  1  2  2  ...  NaN    .a   .a   .a   .a   \n3   9100   2  2  75  11010     .a  2  2  2  2  ...  NaN  1946   .a   .a   .a   \n4  32597   0  1  22  11010  11010  2  2  2  2  ...  NaN    .a   .a   .a   .a   \n\n   v267  v268 v269 v270 cntry  \n0    .a    .a   .a  NaN    AT  \n1    .a    .a   .a  NaN    AT  \n2    .a    .a   .a  NaN    AT  \n3    .a    .a   .a  NaN    AT  \n4    .a    .a   .a  NaN    AT  \n\n[5 rows x 272 columns]"
     },
     "execution_count": 21,
     "metadata": {},
     "output_type": "execute_result"
    }
   ],
   "source": [
    "print(data_test.shape)\n",
    "data_test.head()"
   ]
  },
  {
   "cell_type": "code",
   "execution_count": 22,
   "metadata": {},
   "outputs": [
    {
     "name": "stdout",
     "output_type": "stream",
     "text": "(9245, 2)\n"
    },
    {
     "data": {
      "text/html": "<div>\n<style scoped>\n    .dataframe tbody tr th:only-of-type {\n        vertical-align: middle;\n    }\n\n    .dataframe tbody tr th {\n        vertical-align: top;\n    }\n\n    .dataframe thead th {\n        text-align: right;\n    }\n</style>\n<table border=\"1\" class=\"dataframe\">\n  <thead>\n    <tr style=\"text-align: right;\">\n      <th></th>\n      <th>Id</th>\n      <th>Predicted</th>\n    </tr>\n  </thead>\n  <tbody>\n    <tr>\n      <th>0</th>\n      <td>14061</td>\n      <td>0</td>\n    </tr>\n    <tr>\n      <th>1</th>\n      <td>16467</td>\n      <td>0</td>\n    </tr>\n    <tr>\n      <th>2</th>\n      <td>25725</td>\n      <td>0</td>\n    </tr>\n    <tr>\n      <th>3</th>\n      <td>9100</td>\n      <td>0</td>\n    </tr>\n    <tr>\n      <th>4</th>\n      <td>32597</td>\n      <td>0</td>\n    </tr>\n  </tbody>\n</table>\n</div>",
      "text/plain": "      Id  Predicted\n0  14061          0\n1  16467          0\n2  25725          0\n3   9100          0\n4  32597          0"
     },
     "execution_count": 22,
     "metadata": {},
     "output_type": "execute_result"
    }
   ],
   "source": [
    "print(data_sample_submission.shape)\n",
    "data_sample_submission.head()"
   ]
  },
  {
   "cell_type": "code",
   "execution_count": 23,
   "metadata": {},
   "outputs": [
    {
     "data": {
      "text/plain": "39325"
     },
     "execution_count": 23,
     "metadata": {},
     "output_type": "execute_result"
    }
   ],
   "source": [
    "9245+30080"
   ]
  },
  {
   "cell_type": "code",
   "execution_count": 27,
   "metadata": {},
   "outputs": [
    {
     "ename": "ValueError",
     "evalue": "array must not contain infs or NaNs",
     "output_type": "error",
     "traceback": [
      "\u001b[0;31m---------------------------------------------------------------------------\u001b[0m",
      "\u001b[0;31mValueError\u001b[0m                                Traceback (most recent call last)",
      "\u001b[0;32m<ipython-input-27-10fe16d2dae6>\u001b[0m in \u001b[0;36m<module>\u001b[0;34m\u001b[0m\n\u001b[0;32m----> 1\u001b[0;31m \u001b[0msns\u001b[0m\u001b[0;34m.\u001b[0m\u001b[0mpairplot\u001b[0m\u001b[0;34m(\u001b[0m\u001b[0mdata_train\u001b[0m\u001b[0;34m,\u001b[0m \u001b[0mhue\u001b[0m\u001b[0;34m=\u001b[0m\u001b[0;34m'satisfied'\u001b[0m\u001b[0;34m)\u001b[0m\u001b[0;34m\u001b[0m\u001b[0;34m\u001b[0m\u001b[0m\n\u001b[0m",
      "\u001b[0;32m/Library/Frameworks/Python.framework/Versions/3.8/lib/python3.8/site-packages/seaborn/axisgrid.py\u001b[0m in \u001b[0;36mpairplot\u001b[0;34m(data, hue, hue_order, palette, vars, x_vars, y_vars, kind, diag_kind, markers, height, aspect, dropna, plot_kws, diag_kws, grid_kws, size)\u001b[0m\n\u001b[1;32m   2109\u001b[0m             \u001b[0mdiag_kws\u001b[0m\u001b[0;34m.\u001b[0m\u001b[0msetdefault\u001b[0m\u001b[0;34m(\u001b[0m\u001b[0;34m\"shade\"\u001b[0m\u001b[0;34m,\u001b[0m \u001b[0;32mTrue\u001b[0m\u001b[0;34m)\u001b[0m\u001b[0;34m\u001b[0m\u001b[0;34m\u001b[0m\u001b[0m\n\u001b[1;32m   2110\u001b[0m             \u001b[0mdiag_kws\u001b[0m\u001b[0;34m[\u001b[0m\u001b[0;34m\"legend\"\u001b[0m\u001b[0;34m]\u001b[0m \u001b[0;34m=\u001b[0m \u001b[0;32mFalse\u001b[0m\u001b[0;34m\u001b[0m\u001b[0;34m\u001b[0m\u001b[0m\n\u001b[0;32m-> 2111\u001b[0;31m             \u001b[0mgrid\u001b[0m\u001b[0;34m.\u001b[0m\u001b[0mmap_diag\u001b[0m\u001b[0;34m(\u001b[0m\u001b[0mkdeplot\u001b[0m\u001b[0;34m,\u001b[0m \u001b[0;34m**\u001b[0m\u001b[0mdiag_kws\u001b[0m\u001b[0;34m)\u001b[0m\u001b[0;34m\u001b[0m\u001b[0;34m\u001b[0m\u001b[0m\n\u001b[0m\u001b[1;32m   2112\u001b[0m \u001b[0;34m\u001b[0m\u001b[0m\n\u001b[1;32m   2113\u001b[0m     \u001b[0;31m# Maybe plot on the off-diagonals\u001b[0m\u001b[0;34m\u001b[0m\u001b[0;34m\u001b[0m\u001b[0;34m\u001b[0m\u001b[0m\n",
      "\u001b[0;32m/Library/Frameworks/Python.framework/Versions/3.8/lib/python3.8/site-packages/seaborn/axisgrid.py\u001b[0m in \u001b[0;36mmap_diag\u001b[0;34m(self, func, **kwargs)\u001b[0m\n\u001b[1;32m   1397\u001b[0m                     \u001b[0mcolor\u001b[0m \u001b[0;34m=\u001b[0m \u001b[0mfixed_color\u001b[0m\u001b[0;34m\u001b[0m\u001b[0;34m\u001b[0m\u001b[0m\n\u001b[1;32m   1398\u001b[0m \u001b[0;34m\u001b[0m\u001b[0m\n\u001b[0;32m-> 1399\u001b[0;31m                 \u001b[0mfunc\u001b[0m\u001b[0;34m(\u001b[0m\u001b[0mdata_k\u001b[0m\u001b[0;34m,\u001b[0m \u001b[0mlabel\u001b[0m\u001b[0;34m=\u001b[0m\u001b[0mlabel_k\u001b[0m\u001b[0;34m,\u001b[0m \u001b[0mcolor\u001b[0m\u001b[0;34m=\u001b[0m\u001b[0mcolor\u001b[0m\u001b[0;34m,\u001b[0m \u001b[0;34m**\u001b[0m\u001b[0mkwargs\u001b[0m\u001b[0;34m)\u001b[0m\u001b[0;34m\u001b[0m\u001b[0;34m\u001b[0m\u001b[0m\n\u001b[0m\u001b[1;32m   1400\u001b[0m \u001b[0;34m\u001b[0m\u001b[0m\n\u001b[1;32m   1401\u001b[0m             \u001b[0mself\u001b[0m\u001b[0;34m.\u001b[0m\u001b[0m_clean_axis\u001b[0m\u001b[0;34m(\u001b[0m\u001b[0max\u001b[0m\u001b[0;34m)\u001b[0m\u001b[0;34m\u001b[0m\u001b[0;34m\u001b[0m\u001b[0m\n",
      "\u001b[0;32m/Library/Frameworks/Python.framework/Versions/3.8/lib/python3.8/site-packages/seaborn/distributions.py\u001b[0m in \u001b[0;36mkdeplot\u001b[0;34m(data, data2, shade, vertical, kernel, bw, gridsize, cut, clip, legend, cumulative, shade_lowest, cbar, cbar_ax, cbar_kws, ax, **kwargs)\u001b[0m\n\u001b[1;32m    687\u001b[0m                                 cbar, cbar_ax, cbar_kws, ax, **kwargs)\n\u001b[1;32m    688\u001b[0m     \u001b[0;32melse\u001b[0m\u001b[0;34m:\u001b[0m\u001b[0;34m\u001b[0m\u001b[0;34m\u001b[0m\u001b[0m\n\u001b[0;32m--> 689\u001b[0;31m         ax = _univariate_kdeplot(data, shade, vertical, kernel, bw,\n\u001b[0m\u001b[1;32m    690\u001b[0m                                  \u001b[0mgridsize\u001b[0m\u001b[0;34m,\u001b[0m \u001b[0mcut\u001b[0m\u001b[0;34m,\u001b[0m \u001b[0mclip\u001b[0m\u001b[0;34m,\u001b[0m \u001b[0mlegend\u001b[0m\u001b[0;34m,\u001b[0m \u001b[0max\u001b[0m\u001b[0;34m,\u001b[0m\u001b[0;34m\u001b[0m\u001b[0;34m\u001b[0m\u001b[0m\n\u001b[1;32m    691\u001b[0m                                  cumulative=cumulative, **kwargs)\n",
      "\u001b[0;32m/Library/Frameworks/Python.framework/Versions/3.8/lib/python3.8/site-packages/seaborn/distributions.py\u001b[0m in \u001b[0;36m_univariate_kdeplot\u001b[0;34m(data, shade, vertical, kernel, bw, gridsize, cut, clip, legend, ax, cumulative, **kwargs)\u001b[0m\n\u001b[1;32m    292\u001b[0m                               \u001b[0;34m\"only implemented in statsmodels.\"\u001b[0m\u001b[0;34m\u001b[0m\u001b[0;34m\u001b[0m\u001b[0m\n\u001b[1;32m    293\u001b[0m                               \"Please install statsmodels.\")\n\u001b[0;32m--> 294\u001b[0;31m         \u001b[0mx\u001b[0m\u001b[0;34m,\u001b[0m \u001b[0my\u001b[0m \u001b[0;34m=\u001b[0m \u001b[0m_scipy_univariate_kde\u001b[0m\u001b[0;34m(\u001b[0m\u001b[0mdata\u001b[0m\u001b[0;34m,\u001b[0m \u001b[0mbw\u001b[0m\u001b[0;34m,\u001b[0m \u001b[0mgridsize\u001b[0m\u001b[0;34m,\u001b[0m \u001b[0mcut\u001b[0m\u001b[0;34m,\u001b[0m \u001b[0mclip\u001b[0m\u001b[0;34m)\u001b[0m\u001b[0;34m\u001b[0m\u001b[0;34m\u001b[0m\u001b[0m\n\u001b[0m\u001b[1;32m    295\u001b[0m \u001b[0;34m\u001b[0m\u001b[0m\n\u001b[1;32m    296\u001b[0m     \u001b[0;31m# Make sure the density is nonnegative\u001b[0m\u001b[0;34m\u001b[0m\u001b[0;34m\u001b[0m\u001b[0;34m\u001b[0m\u001b[0m\n",
      "\u001b[0;32m/Library/Frameworks/Python.framework/Versions/3.8/lib/python3.8/site-packages/seaborn/distributions.py\u001b[0m in \u001b[0;36m_scipy_univariate_kde\u001b[0;34m(data, bw, gridsize, cut, clip)\u001b[0m\n\u001b[1;32m    364\u001b[0m     \u001b[0;34m\"\"\"Compute a univariate kernel density estimate using scipy.\"\"\"\u001b[0m\u001b[0;34m\u001b[0m\u001b[0;34m\u001b[0m\u001b[0m\n\u001b[1;32m    365\u001b[0m     \u001b[0;32mtry\u001b[0m\u001b[0;34m:\u001b[0m\u001b[0;34m\u001b[0m\u001b[0;34m\u001b[0m\u001b[0m\n\u001b[0;32m--> 366\u001b[0;31m         \u001b[0mkde\u001b[0m \u001b[0;34m=\u001b[0m \u001b[0mstats\u001b[0m\u001b[0;34m.\u001b[0m\u001b[0mgaussian_kde\u001b[0m\u001b[0;34m(\u001b[0m\u001b[0mdata\u001b[0m\u001b[0;34m,\u001b[0m \u001b[0mbw_method\u001b[0m\u001b[0;34m=\u001b[0m\u001b[0mbw\u001b[0m\u001b[0;34m)\u001b[0m\u001b[0;34m\u001b[0m\u001b[0;34m\u001b[0m\u001b[0m\n\u001b[0m\u001b[1;32m    367\u001b[0m     \u001b[0;32mexcept\u001b[0m \u001b[0mTypeError\u001b[0m\u001b[0;34m:\u001b[0m\u001b[0;34m\u001b[0m\u001b[0;34m\u001b[0m\u001b[0m\n\u001b[1;32m    368\u001b[0m         \u001b[0mkde\u001b[0m \u001b[0;34m=\u001b[0m \u001b[0mstats\u001b[0m\u001b[0;34m.\u001b[0m\u001b[0mgaussian_kde\u001b[0m\u001b[0;34m(\u001b[0m\u001b[0mdata\u001b[0m\u001b[0;34m)\u001b[0m\u001b[0;34m\u001b[0m\u001b[0;34m\u001b[0m\u001b[0m\n",
      "\u001b[0;32m/Library/Frameworks/Python.framework/Versions/3.8/lib/python3.8/site-packages/scipy/stats/kde.py\u001b[0m in \u001b[0;36m__init__\u001b[0;34m(self, dataset, bw_method, weights)\u001b[0m\n\u001b[1;32m    207\u001b[0m             \u001b[0mself\u001b[0m\u001b[0;34m.\u001b[0m\u001b[0m_neff\u001b[0m \u001b[0;34m=\u001b[0m \u001b[0;36m1\u001b[0m\u001b[0;34m/\u001b[0m\u001b[0msum\u001b[0m\u001b[0;34m(\u001b[0m\u001b[0mself\u001b[0m\u001b[0;34m.\u001b[0m\u001b[0m_weights\u001b[0m\u001b[0;34m**\u001b[0m\u001b[0;36m2\u001b[0m\u001b[0;34m)\u001b[0m\u001b[0;34m\u001b[0m\u001b[0;34m\u001b[0m\u001b[0m\n\u001b[1;32m    208\u001b[0m \u001b[0;34m\u001b[0m\u001b[0m\n\u001b[0;32m--> 209\u001b[0;31m         \u001b[0mself\u001b[0m\u001b[0;34m.\u001b[0m\u001b[0mset_bandwidth\u001b[0m\u001b[0;34m(\u001b[0m\u001b[0mbw_method\u001b[0m\u001b[0;34m=\u001b[0m\u001b[0mbw_method\u001b[0m\u001b[0;34m)\u001b[0m\u001b[0;34m\u001b[0m\u001b[0;34m\u001b[0m\u001b[0m\n\u001b[0m\u001b[1;32m    210\u001b[0m \u001b[0;34m\u001b[0m\u001b[0m\n\u001b[1;32m    211\u001b[0m     \u001b[0;32mdef\u001b[0m \u001b[0mevaluate\u001b[0m\u001b[0;34m(\u001b[0m\u001b[0mself\u001b[0m\u001b[0;34m,\u001b[0m \u001b[0mpoints\u001b[0m\u001b[0;34m)\u001b[0m\u001b[0;34m:\u001b[0m\u001b[0;34m\u001b[0m\u001b[0;34m\u001b[0m\u001b[0m\n",
      "\u001b[0;32m/Library/Frameworks/Python.framework/Versions/3.8/lib/python3.8/site-packages/scipy/stats/kde.py\u001b[0m in \u001b[0;36mset_bandwidth\u001b[0;34m(self, bw_method)\u001b[0m\n\u001b[1;32m    563\u001b[0m             \u001b[0;32mraise\u001b[0m \u001b[0mValueError\u001b[0m\u001b[0;34m(\u001b[0m\u001b[0mmsg\u001b[0m\u001b[0;34m)\u001b[0m\u001b[0;34m\u001b[0m\u001b[0;34m\u001b[0m\u001b[0m\n\u001b[1;32m    564\u001b[0m \u001b[0;34m\u001b[0m\u001b[0m\n\u001b[0;32m--> 565\u001b[0;31m         \u001b[0mself\u001b[0m\u001b[0;34m.\u001b[0m\u001b[0m_compute_covariance\u001b[0m\u001b[0;34m(\u001b[0m\u001b[0;34m)\u001b[0m\u001b[0;34m\u001b[0m\u001b[0;34m\u001b[0m\u001b[0m\n\u001b[0m\u001b[1;32m    566\u001b[0m \u001b[0;34m\u001b[0m\u001b[0m\n\u001b[1;32m    567\u001b[0m     \u001b[0;32mdef\u001b[0m \u001b[0m_compute_covariance\u001b[0m\u001b[0;34m(\u001b[0m\u001b[0mself\u001b[0m\u001b[0;34m)\u001b[0m\u001b[0;34m:\u001b[0m\u001b[0;34m\u001b[0m\u001b[0;34m\u001b[0m\u001b[0m\n",
      "\u001b[0;32m/Library/Frameworks/Python.framework/Versions/3.8/lib/python3.8/site-packages/scipy/stats/kde.py\u001b[0m in \u001b[0;36m_compute_covariance\u001b[0;34m(self)\u001b[0m\n\u001b[1;32m    575\u001b[0m                                                \u001b[0mbias\u001b[0m\u001b[0;34m=\u001b[0m\u001b[0;32mFalse\u001b[0m\u001b[0;34m,\u001b[0m\u001b[0;34m\u001b[0m\u001b[0;34m\u001b[0m\u001b[0m\n\u001b[1;32m    576\u001b[0m                                                aweights=self.weights))\n\u001b[0;32m--> 577\u001b[0;31m             \u001b[0mself\u001b[0m\u001b[0;34m.\u001b[0m\u001b[0m_data_inv_cov\u001b[0m \u001b[0;34m=\u001b[0m \u001b[0mlinalg\u001b[0m\u001b[0;34m.\u001b[0m\u001b[0minv\u001b[0m\u001b[0;34m(\u001b[0m\u001b[0mself\u001b[0m\u001b[0;34m.\u001b[0m\u001b[0m_data_covariance\u001b[0m\u001b[0;34m)\u001b[0m\u001b[0;34m\u001b[0m\u001b[0;34m\u001b[0m\u001b[0m\n\u001b[0m\u001b[1;32m    578\u001b[0m \u001b[0;34m\u001b[0m\u001b[0m\n\u001b[1;32m    579\u001b[0m         \u001b[0mself\u001b[0m\u001b[0;34m.\u001b[0m\u001b[0mcovariance\u001b[0m \u001b[0;34m=\u001b[0m \u001b[0mself\u001b[0m\u001b[0;34m.\u001b[0m\u001b[0m_data_covariance\u001b[0m \u001b[0;34m*\u001b[0m \u001b[0mself\u001b[0m\u001b[0;34m.\u001b[0m\u001b[0mfactor\u001b[0m\u001b[0;34m**\u001b[0m\u001b[0;36m2\u001b[0m\u001b[0;34m\u001b[0m\u001b[0;34m\u001b[0m\u001b[0m\n",
      "\u001b[0;32m/Library/Frameworks/Python.framework/Versions/3.8/lib/python3.8/site-packages/scipy/linalg/basic.py\u001b[0m in \u001b[0;36minv\u001b[0;34m(a, overwrite_a, check_finite)\u001b[0m\n\u001b[1;32m    948\u001b[0m \u001b[0;34m\u001b[0m\u001b[0m\n\u001b[1;32m    949\u001b[0m     \"\"\"\n\u001b[0;32m--> 950\u001b[0;31m     \u001b[0ma1\u001b[0m \u001b[0;34m=\u001b[0m \u001b[0m_asarray_validated\u001b[0m\u001b[0;34m(\u001b[0m\u001b[0ma\u001b[0m\u001b[0;34m,\u001b[0m \u001b[0mcheck_finite\u001b[0m\u001b[0;34m=\u001b[0m\u001b[0mcheck_finite\u001b[0m\u001b[0;34m)\u001b[0m\u001b[0;34m\u001b[0m\u001b[0;34m\u001b[0m\u001b[0m\n\u001b[0m\u001b[1;32m    951\u001b[0m     \u001b[0;32mif\u001b[0m \u001b[0mlen\u001b[0m\u001b[0;34m(\u001b[0m\u001b[0ma1\u001b[0m\u001b[0;34m.\u001b[0m\u001b[0mshape\u001b[0m\u001b[0;34m)\u001b[0m \u001b[0;34m!=\u001b[0m \u001b[0;36m2\u001b[0m \u001b[0;32mor\u001b[0m \u001b[0ma1\u001b[0m\u001b[0;34m.\u001b[0m\u001b[0mshape\u001b[0m\u001b[0;34m[\u001b[0m\u001b[0;36m0\u001b[0m\u001b[0;34m]\u001b[0m \u001b[0;34m!=\u001b[0m \u001b[0ma1\u001b[0m\u001b[0;34m.\u001b[0m\u001b[0mshape\u001b[0m\u001b[0;34m[\u001b[0m\u001b[0;36m1\u001b[0m\u001b[0;34m]\u001b[0m\u001b[0;34m:\u001b[0m\u001b[0;34m\u001b[0m\u001b[0;34m\u001b[0m\u001b[0m\n\u001b[1;32m    952\u001b[0m         \u001b[0;32mraise\u001b[0m \u001b[0mValueError\u001b[0m\u001b[0;34m(\u001b[0m\u001b[0;34m'expected square matrix'\u001b[0m\u001b[0;34m)\u001b[0m\u001b[0;34m\u001b[0m\u001b[0;34m\u001b[0m\u001b[0m\n",
      "\u001b[0;32m/Library/Frameworks/Python.framework/Versions/3.8/lib/python3.8/site-packages/scipy/_lib/_util.py\u001b[0m in \u001b[0;36m_asarray_validated\u001b[0;34m(a, check_finite, sparse_ok, objects_ok, mask_ok, as_inexact)\u001b[0m\n\u001b[1;32m    244\u001b[0m             \u001b[0;32mraise\u001b[0m \u001b[0mValueError\u001b[0m\u001b[0;34m(\u001b[0m\u001b[0;34m'masked arrays are not supported'\u001b[0m\u001b[0;34m)\u001b[0m\u001b[0;34m\u001b[0m\u001b[0;34m\u001b[0m\u001b[0m\n\u001b[1;32m    245\u001b[0m     \u001b[0mtoarray\u001b[0m \u001b[0;34m=\u001b[0m \u001b[0mnp\u001b[0m\u001b[0;34m.\u001b[0m\u001b[0masarray_chkfinite\u001b[0m \u001b[0;32mif\u001b[0m \u001b[0mcheck_finite\u001b[0m \u001b[0;32melse\u001b[0m \u001b[0mnp\u001b[0m\u001b[0;34m.\u001b[0m\u001b[0masarray\u001b[0m\u001b[0;34m\u001b[0m\u001b[0;34m\u001b[0m\u001b[0m\n\u001b[0;32m--> 246\u001b[0;31m     \u001b[0ma\u001b[0m \u001b[0;34m=\u001b[0m \u001b[0mtoarray\u001b[0m\u001b[0;34m(\u001b[0m\u001b[0ma\u001b[0m\u001b[0;34m)\u001b[0m\u001b[0;34m\u001b[0m\u001b[0;34m\u001b[0m\u001b[0m\n\u001b[0m\u001b[1;32m    247\u001b[0m     \u001b[0;32mif\u001b[0m \u001b[0;32mnot\u001b[0m \u001b[0mobjects_ok\u001b[0m\u001b[0;34m:\u001b[0m\u001b[0;34m\u001b[0m\u001b[0;34m\u001b[0m\u001b[0m\n\u001b[1;32m    248\u001b[0m         \u001b[0;32mif\u001b[0m \u001b[0ma\u001b[0m\u001b[0;34m.\u001b[0m\u001b[0mdtype\u001b[0m \u001b[0;32mis\u001b[0m \u001b[0mnp\u001b[0m\u001b[0;34m.\u001b[0m\u001b[0mdtype\u001b[0m\u001b[0;34m(\u001b[0m\u001b[0;34m'O'\u001b[0m\u001b[0;34m)\u001b[0m\u001b[0;34m:\u001b[0m\u001b[0;34m\u001b[0m\u001b[0;34m\u001b[0m\u001b[0m\n",
      "\u001b[0;32m/Library/Frameworks/Python.framework/Versions/3.8/lib/python3.8/site-packages/numpy/lib/function_base.py\u001b[0m in \u001b[0;36masarray_chkfinite\u001b[0;34m(a, dtype, order)\u001b[0m\n\u001b[1;32m    496\u001b[0m     \u001b[0ma\u001b[0m \u001b[0;34m=\u001b[0m \u001b[0masarray\u001b[0m\u001b[0;34m(\u001b[0m\u001b[0ma\u001b[0m\u001b[0;34m,\u001b[0m \u001b[0mdtype\u001b[0m\u001b[0;34m=\u001b[0m\u001b[0mdtype\u001b[0m\u001b[0;34m,\u001b[0m \u001b[0morder\u001b[0m\u001b[0;34m=\u001b[0m\u001b[0morder\u001b[0m\u001b[0;34m)\u001b[0m\u001b[0;34m\u001b[0m\u001b[0;34m\u001b[0m\u001b[0m\n\u001b[1;32m    497\u001b[0m     \u001b[0;32mif\u001b[0m \u001b[0ma\u001b[0m\u001b[0;34m.\u001b[0m\u001b[0mdtype\u001b[0m\u001b[0;34m.\u001b[0m\u001b[0mchar\u001b[0m \u001b[0;32min\u001b[0m \u001b[0mtypecodes\u001b[0m\u001b[0;34m[\u001b[0m\u001b[0;34m'AllFloat'\u001b[0m\u001b[0;34m]\u001b[0m \u001b[0;32mand\u001b[0m \u001b[0;32mnot\u001b[0m \u001b[0mnp\u001b[0m\u001b[0;34m.\u001b[0m\u001b[0misfinite\u001b[0m\u001b[0;34m(\u001b[0m\u001b[0ma\u001b[0m\u001b[0;34m)\u001b[0m\u001b[0;34m.\u001b[0m\u001b[0mall\u001b[0m\u001b[0;34m(\u001b[0m\u001b[0;34m)\u001b[0m\u001b[0;34m:\u001b[0m\u001b[0;34m\u001b[0m\u001b[0;34m\u001b[0m\u001b[0m\n\u001b[0;32m--> 498\u001b[0;31m         raise ValueError(\n\u001b[0m\u001b[1;32m    499\u001b[0m             \"array must not contain infs or NaNs\")\n\u001b[1;32m    500\u001b[0m     \u001b[0;32mreturn\u001b[0m \u001b[0ma\u001b[0m\u001b[0;34m\u001b[0m\u001b[0;34m\u001b[0m\u001b[0m\n",
      "\u001b[0;31mValueError\u001b[0m: array must not contain infs or NaNs"
     ]
    }
   ],
   "source": [
    "sns.pairplot(data_train, hue='satisfied')"
   ]
  },
  {
   "cell_type": "code",
   "execution_count": null,
   "metadata": {},
   "outputs": [],
   "source": []
  },
  {
   "cell_type": "code",
   "execution_count": null,
   "metadata": {},
   "outputs": [],
   "source": []
  },
  {
   "cell_type": "code",
   "execution_count": null,
   "metadata": {},
   "outputs": [],
   "source": []
  }
 ],
 "metadata": {
  "kernelspec": {
   "name": "python38064bit69f4df3ff8e947248f1affdaf5418c70",
   "display_name": "Python 3.8.0 64-bit"
  }
 },
 "nbformat": 4,
 "nbformat_minor": 2
}