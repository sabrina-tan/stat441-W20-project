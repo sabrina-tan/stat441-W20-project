{
 "nbformat": 4,
 "nbformat_minor": 2,
 "metadata": {
  "language_info": {
   "name": "python",
   "codemirror_mode": {
    "name": "ipython",
    "version": 3
   },
   "version": "3.7.4-final"
  },
  "orig_nbformat": 2,
  "file_extension": ".py",
  "mimetype": "text/x-python",
  "name": "python",
  "npconvert_exporter": "python",
  "pygments_lexer": "ipython3",
  "version": 3,
  "kernelspec": {
   "name": "python3",
   "display_name": "Python 3"
  }
 },
 "cells": [
  {
   "cell_type": "markdown",
   "execution_count": null,
   "metadata": {},
   "outputs": [],
   "source": [
    "### Logistic Regression\n",
    "Baseline model to get a sense of what kind of accuracy we get initially."
   ]
  },
  {
   "cell_type": "code",
   "execution_count": 7,
   "metadata": {},
   "outputs": [],
   "source": [
    "import pandas as pd\n",
    "import numpy as np\n",
    "import statsmodels.api as sm\n",
    "from sklearn import preprocessing\n",
    "import matplotlib.pyplot as plt \n",
    "plt.rc(\"font\", size=14)\n",
    "from sklearn.linear_model import LogisticRegression\n",
    "from sklearn.feature_selection import RFE\n",
    "from sklearn.model_selection import train_test_split\n",
    "from sklearn import metrics\n",
    "import seaborn as sns\n",
    "sns.set(style=\"white\")\n",
    "sns.set(style=\"whitegrid\", color_codes=True)"
   ]
  },
  {
   "cell_type": "code",
   "execution_count": 2,
   "metadata": {},
   "outputs": [
    {
     "data": {
      "text/html": "<div>\n<style scoped>\n    .dataframe tbody tr th:only-of-type {\n        vertical-align: middle;\n    }\n\n    .dataframe tbody tr th {\n        vertical-align: top;\n    }\n\n    .dataframe thead th {\n        text-align: right;\n    }\n</style>\n<table border=\"1\" class=\"dataframe\">\n  <thead>\n    <tr style=\"text-align: right;\">\n      <th></th>\n      <th>Unnamed: 0</th>\n      <th>id</th>\n      <th>v1</th>\n      <th>v2</th>\n      <th>v3</th>\n      <th>v4</th>\n      <th>v6</th>\n      <th>v7</th>\n      <th>v8</th>\n      <th>v9</th>\n      <th>...</th>\n      <th>v251</th>\n      <th>v253</th>\n      <th>v254</th>\n      <th>v255</th>\n      <th>v256</th>\n      <th>v257</th>\n      <th>v258</th>\n      <th>v263</th>\n      <th>cntry</th>\n      <th>satisfied</th>\n    </tr>\n  </thead>\n  <tbody>\n    <tr>\n      <td>0</td>\n      <td>0</td>\n      <td>9948</td>\n      <td>2</td>\n      <td>2</td>\n      <td>74</td>\n      <td>11010</td>\n      <td>2</td>\n      <td>2</td>\n      <td>2</td>\n      <td>2</td>\n      <td>...</td>\n      <td>40</td>\n      <td>2</td>\n      <td>2</td>\n      <td>1</td>\n      <td>2</td>\n      <td>2</td>\n      <td>1941</td>\n      <td>-1</td>\n      <td>0</td>\n      <td>0</td>\n    </tr>\n    <tr>\n      <td>1</td>\n      <td>1</td>\n      <td>25601</td>\n      <td>4</td>\n      <td>2</td>\n      <td>58</td>\n      <td>11010</td>\n      <td>2</td>\n      <td>2</td>\n      <td>2</td>\n      <td>2</td>\n      <td>...</td>\n      <td>39</td>\n      <td>2</td>\n      <td>2</td>\n      <td>2</td>\n      <td>2</td>\n      <td>2</td>\n      <td>1957</td>\n      <td>-1</td>\n      <td>0</td>\n      <td>0</td>\n    </tr>\n    <tr>\n      <td>2</td>\n      <td>2</td>\n      <td>8592</td>\n      <td>6</td>\n      <td>2</td>\n      <td>47</td>\n      <td>11010</td>\n      <td>2</td>\n      <td>2</td>\n      <td>1</td>\n      <td>2</td>\n      <td>...</td>\n      <td>35</td>\n      <td>4</td>\n      <td>2</td>\n      <td>1</td>\n      <td>2</td>\n      <td>2</td>\n      <td>1968</td>\n      <td>1963</td>\n      <td>0</td>\n      <td>1</td>\n    </tr>\n    <tr>\n      <td>3</td>\n      <td>3</td>\n      <td>29593</td>\n      <td>10</td>\n      <td>2</td>\n      <td>22</td>\n      <td>11010</td>\n      <td>2</td>\n      <td>2</td>\n      <td>2</td>\n      <td>2</td>\n      <td>...</td>\n      <td>50</td>\n      <td>3</td>\n      <td>2</td>\n      <td>1</td>\n      <td>2</td>\n      <td>2</td>\n      <td>1993</td>\n      <td>-1</td>\n      <td>0</td>\n      <td>0</td>\n    </tr>\n    <tr>\n      <td>4</td>\n      <td>4</td>\n      <td>4252</td>\n      <td>0</td>\n      <td>1</td>\n      <td>24</td>\n      <td>11010</td>\n      <td>2</td>\n      <td>2</td>\n      <td>2</td>\n      <td>2</td>\n      <td>...</td>\n      <td>38</td>\n      <td>1</td>\n      <td>2</td>\n      <td>1</td>\n      <td>2</td>\n      <td>2</td>\n      <td>1991</td>\n      <td>-1</td>\n      <td>0</td>\n      <td>1</td>\n    </tr>\n  </tbody>\n</table>\n<p>5 rows × 203 columns</p>\n</div>",
      "text/plain": "   Unnamed: 0     id  v1  v2  v3     v4  v6  v7  v8  v9  ...  v251  v253  \\\n0           0   9948   2   2  74  11010   2   2   2   2  ...    40     2   \n1           1  25601   4   2  58  11010   2   2   2   2  ...    39     2   \n2           2   8592   6   2  47  11010   2   2   1   2  ...    35     4   \n3           3  29593  10   2  22  11010   2   2   2   2  ...    50     3   \n4           4   4252   0   1  24  11010   2   2   2   2  ...    38     1   \n\n   v254  v255  v256  v257  v258  v263  cntry  satisfied  \n0     2     1     2     2  1941    -1      0          0  \n1     2     2     2     2  1957    -1      0          0  \n2     2     1     2     2  1968  1963      0          1  \n3     2     1     2     2  1993    -1      0          0  \n4     2     1     2     2  1991    -1      0          1  \n\n[5 rows x 203 columns]"
     },
     "metadata": {},
     "output_type": "display_data"
    },
    {
     "data": {
      "text/html": "<div>\n<style scoped>\n    .dataframe tbody tr th:only-of-type {\n        vertical-align: middle;\n    }\n\n    .dataframe tbody tr th {\n        vertical-align: top;\n    }\n\n    .dataframe thead th {\n        text-align: right;\n    }\n</style>\n<table border=\"1\" class=\"dataframe\">\n  <thead>\n    <tr style=\"text-align: right;\">\n      <th></th>\n      <th>Unnamed: 0</th>\n      <th>id</th>\n      <th>v1</th>\n      <th>v2</th>\n      <th>v3</th>\n      <th>v4</th>\n      <th>v6</th>\n      <th>v7</th>\n      <th>v8</th>\n      <th>v9</th>\n      <th>...</th>\n      <th>v250</th>\n      <th>v251</th>\n      <th>v253</th>\n      <th>v254</th>\n      <th>v255</th>\n      <th>v256</th>\n      <th>v257</th>\n      <th>v258</th>\n      <th>v263</th>\n      <th>cntry</th>\n    </tr>\n  </thead>\n  <tbody>\n    <tr>\n      <td>0</td>\n      <td>0</td>\n      <td>14061</td>\n      <td>0</td>\n      <td>1</td>\n      <td>63</td>\n      <td>15020</td>\n      <td>2</td>\n      <td>2</td>\n      <td>1</td>\n      <td>2</td>\n      <td>...</td>\n      <td>40</td>\n      <td>48</td>\n      <td>1</td>\n      <td>2</td>\n      <td>1</td>\n      <td>2</td>\n      <td>2</td>\n      <td>1952</td>\n      <td>-1</td>\n      <td>0</td>\n    </tr>\n    <tr>\n      <td>1</td>\n      <td>1</td>\n      <td>16467</td>\n      <td>5</td>\n      <td>2</td>\n      <td>44</td>\n      <td>21070</td>\n      <td>1</td>\n      <td>2</td>\n      <td>2</td>\n      <td>1</td>\n      <td>...</td>\n      <td>40</td>\n      <td>45</td>\n      <td>2</td>\n      <td>2</td>\n      <td>1</td>\n      <td>2</td>\n      <td>2</td>\n      <td>1971</td>\n      <td>-1</td>\n      <td>0</td>\n    </tr>\n    <tr>\n      <td>2</td>\n      <td>2</td>\n      <td>25725</td>\n      <td>10</td>\n      <td>2</td>\n      <td>21</td>\n      <td>11010</td>\n      <td>2</td>\n      <td>1</td>\n      <td>2</td>\n      <td>2</td>\n      <td>...</td>\n      <td>38</td>\n      <td>38</td>\n      <td>4</td>\n      <td>2</td>\n      <td>2</td>\n      <td>1</td>\n      <td>1</td>\n      <td>1994</td>\n      <td>-1</td>\n      <td>0</td>\n    </tr>\n    <tr>\n      <td>3</td>\n      <td>3</td>\n      <td>9100</td>\n      <td>2</td>\n      <td>2</td>\n      <td>75</td>\n      <td>11010</td>\n      <td>2</td>\n      <td>2</td>\n      <td>2</td>\n      <td>2</td>\n      <td>...</td>\n      <td>40</td>\n      <td>40</td>\n      <td>1</td>\n      <td>2</td>\n      <td>1</td>\n      <td>2</td>\n      <td>2</td>\n      <td>1940</td>\n      <td>1946</td>\n      <td>0</td>\n    </tr>\n    <tr>\n      <td>4</td>\n      <td>4</td>\n      <td>32597</td>\n      <td>0</td>\n      <td>1</td>\n      <td>22</td>\n      <td>11010</td>\n      <td>2</td>\n      <td>2</td>\n      <td>2</td>\n      <td>2</td>\n      <td>...</td>\n      <td>40</td>\n      <td>40</td>\n      <td>2</td>\n      <td>2</td>\n      <td>1</td>\n      <td>2</td>\n      <td>2</td>\n      <td>1993</td>\n      <td>-1</td>\n      <td>0</td>\n    </tr>\n  </tbody>\n</table>\n<p>5 rows × 202 columns</p>\n</div>",
      "text/plain": "   Unnamed: 0     id  v1  v2  v3     v4  v6  v7  v8  v9  ...  v250  v251  \\\n0           0  14061   0   1  63  15020   2   2   1   2  ...    40    48   \n1           1  16467   5   2  44  21070   1   2   2   1  ...    40    45   \n2           2  25725  10   2  21  11010   2   1   2   2  ...    38    38   \n3           3   9100   2   2  75  11010   2   2   2   2  ...    40    40   \n4           4  32597   0   1  22  11010   2   2   2   2  ...    40    40   \n\n   v253  v254  v255  v256  v257  v258  v263  cntry  \n0     1     2     1     2     2  1952    -1      0  \n1     2     2     1     2     2  1971    -1      0  \n2     4     2     2     1     1  1994    -1      0  \n3     1     2     1     2     2  1940  1946      0  \n4     2     2     1     2     2  1993    -1      0  \n\n[5 rows x 202 columns]"
     },
     "metadata": {},
     "output_type": "display_data"
    }
   ],
   "source": [
    "train = pd.read_csv(\"../03-data-creation/train_processed_2.csv\", low_memory = False)\n",
    "test = pd.read_csv(\"../03-data-creation/test_processed_2.csv\", low_memory = False)\n",
    "\n",
    "display(train.head())\n",
    "display(test.head())"
   ]
  },
  {
   "cell_type": "code",
   "execution_count": 3,
   "metadata": {},
   "outputs": [
    {
     "data": {
      "text/plain": "1    15626\n0    14454\nName: satisfied, dtype: int64"
     },
     "execution_count": 3,
     "metadata": {},
     "output_type": "execute_result"
    }
   ],
   "source": [
    "train['satisfied'].value_counts()"
   ]
  },
  {
   "cell_type": "code",
   "execution_count": 4,
   "metadata": {},
   "outputs": [
    {
     "data": {
      "image/png": "[encoded data removed]",
      "image/svg+xml": "<?xml version=\"1.0\" encoding=\"utf-8\" standalone=\"no\"?>\n<!DOCTYPE svg PUBLIC \"-//W3C//DTD SVG 1.1//EN\"\n  \"http://www.w3.org/Graphics/SVG/1.1/DTD/svg11.dtd\">\n<!-- Created with matplotlib (https://matplotlib.org/) -->\n<svg height=\"266.374219pt\" version=\"1.1\" viewBox=\"0 0 404.259531 266.374219\" width=\"404.259531pt\" xmlns=\"http://www.w3.org/2000/svg\" xmlns:xlink=\"http://www.w3.org/1999/xlink\">\n <defs>\n  <style type=\"text/css\">\n*{stroke-linecap:butt;stroke-linejoin:round;}\n  </style>\n </defs>\n <g id=\"figure_1\">\n  <g id=\"patch_1\">\n   <path d=\"M 0 266.374219 \nL 404.259531 266.374219 \nL 404.259531 0 \nL 0 0 \nz\n\" style=\"fill:none;\"/>\n  </g>\n  <g id=\"axes_1\">\n   <g id=\"patch_2\">\n    <path d=\"M 62.259531 224.64 \nL 397.059531 224.64 \nL 397.059531 7.2 \nL 62.259531 7.2 \nz\n\" style=\"fill:#ffffff;\"/>\n   </g>\n   <g id=\"matplotlib.axis_1\">\n    <g id=\"xtick_1\">\n     <g id=\"text_1\">\n      <!-- 0 -->\n      <defs>\n       <path d=\"M 4.15625 35.296875 \nQ 4.15625 48 6.765625 55.734375 \nQ 9.375 63.484375 14.515625 67.671875 \nQ 19.671875 71.875 27.484375 71.875 \nQ 33.25 71.875 37.59375 69.546875 \nQ 41.9375 67.234375 44.765625 62.859375 \nQ 47.609375 58.5 49.21875 52.21875 \nQ 50.828125 45.953125 50.828125 35.296875 \nQ 50.828125 22.703125 48.234375 14.96875 \nQ 45.65625 7.234375 40.5 3 \nQ 35.359375 -1.21875 27.484375 -1.21875 \nQ 17.140625 -1.21875 11.234375 6.203125 \nQ 4.15625 15.140625 4.15625 35.296875 \nz\nM 13.1875 35.296875 \nQ 13.1875 17.671875 17.3125 11.828125 \nQ 21.4375 6 27.484375 6 \nQ 33.546875 6 37.671875 11.859375 \nQ 41.796875 17.71875 41.796875 35.296875 \nQ 41.796875 52.984375 37.671875 58.78125 \nQ 33.546875 64.59375 27.390625 64.59375 \nQ 21.34375 64.59375 17.71875 59.46875 \nQ 13.1875 52.9375 13.1875 35.296875 \nz\n\" id=\"ArialMT-48\"/>\n      </defs>\n      <g style=\"fill:#262626;\" transform=\"translate(142.901016 242.013594)scale(0.11 -0.11)\">\n       <use xlink:href=\"#ArialMT-48\"/>\n      </g>\n     </g>\n    </g>\n    <g id=\"xtick_2\">\n     <g id=\"text_2\">\n      <!-- 1 -->\n      <defs>\n       <path d=\"M 37.25 0 \nL 28.46875 0 \nL 28.46875 56 \nQ 25.296875 52.984375 20.140625 49.953125 \nQ 14.984375 46.921875 10.890625 45.40625 \nL 10.890625 53.90625 \nQ 18.265625 57.375 23.78125 62.296875 \nQ 29.296875 67.234375 31.59375 71.875 \nL 37.25 71.875 \nz\n\" id=\"ArialMT-49\"/>\n      </defs>\n      <g style=\"fill:#262626;\" transform=\"translate(310.301016 242.013594)scale(0.11 -0.11)\">\n       <use xlink:href=\"#ArialMT-49\"/>\n      </g>\n     </g>\n    </g>\n    <g id=\"text_3\">\n     <!-- satisfied -->\n     <defs>\n      <path d=\"M 3.078125 15.484375 \nL 11.765625 16.84375 \nQ 12.5 11.625 15.84375 8.84375 \nQ 19.1875 6.0625 25.203125 6.0625 \nQ 31.25 6.0625 34.171875 8.515625 \nQ 37.109375 10.984375 37.109375 14.3125 \nQ 37.109375 17.28125 34.515625 19 \nQ 32.71875 20.171875 25.53125 21.96875 \nQ 15.875 24.421875 12.140625 26.203125 \nQ 8.40625 27.984375 6.46875 31.125 \nQ 4.546875 34.28125 4.546875 38.09375 \nQ 4.546875 41.546875 6.125 44.5 \nQ 7.71875 47.46875 10.453125 49.421875 \nQ 12.5 50.921875 16.03125 51.96875 \nQ 19.578125 53.03125 23.640625 53.03125 \nQ 29.734375 53.03125 34.34375 51.265625 \nQ 38.96875 49.515625 41.15625 46.5 \nQ 43.359375 43.5 44.1875 38.484375 \nL 35.59375 37.3125 \nQ 35.015625 41.3125 32.203125 43.546875 \nQ 29.390625 45.796875 24.265625 45.796875 \nQ 18.21875 45.796875 15.625 43.796875 \nQ 13.03125 41.796875 13.03125 39.109375 \nQ 13.03125 37.40625 14.109375 36.03125 \nQ 15.1875 34.625 17.484375 33.6875 \nQ 18.796875 33.203125 25.25 31.453125 \nQ 34.578125 28.953125 38.25 27.359375 \nQ 41.9375 25.78125 44.03125 22.75 \nQ 46.140625 19.734375 46.140625 15.234375 \nQ 46.140625 10.84375 43.578125 6.953125 \nQ 41.015625 3.078125 36.171875 0.953125 \nQ 31.34375 -1.171875 25.25 -1.171875 \nQ 15.140625 -1.171875 9.84375 3.03125 \nQ 4.546875 7.234375 3.078125 15.484375 \nz\n\" id=\"ArialMT-115\"/>\n      <path d=\"M 40.4375 6.390625 \nQ 35.546875 2.25 31.03125 0.53125 \nQ 26.515625 -1.171875 21.34375 -1.171875 \nQ 12.796875 -1.171875 8.203125 3 \nQ 3.609375 7.171875 3.609375 13.671875 \nQ 3.609375 17.484375 5.34375 20.625 \nQ 7.078125 23.78125 9.890625 25.6875 \nQ 12.703125 27.59375 16.21875 28.5625 \nQ 18.796875 29.25 24.03125 29.890625 \nQ 34.671875 31.15625 39.703125 32.90625 \nQ 39.75 34.71875 39.75 35.203125 \nQ 39.75 40.578125 37.25 42.78125 \nQ 33.890625 45.75 27.25 45.75 \nQ 21.046875 45.75 18.09375 43.578125 \nQ 15.140625 41.40625 13.71875 35.890625 \nL 5.125 37.0625 \nQ 6.296875 42.578125 8.984375 45.96875 \nQ 11.671875 49.359375 16.75 51.1875 \nQ 21.828125 53.03125 28.515625 53.03125 \nQ 35.15625 53.03125 39.296875 51.46875 \nQ 43.453125 49.90625 45.40625 47.53125 \nQ 47.359375 45.171875 48.140625 41.546875 \nQ 48.578125 39.3125 48.578125 33.453125 \nL 48.578125 21.734375 \nQ 48.578125 9.46875 49.140625 6.21875 \nQ 49.703125 2.984375 51.375 0 \nL 42.1875 0 \nQ 40.828125 2.734375 40.4375 6.390625 \nz\nM 39.703125 26.03125 \nQ 34.90625 24.078125 25.34375 22.703125 \nQ 19.921875 21.921875 17.671875 20.9375 \nQ 15.4375 19.96875 14.203125 18.09375 \nQ 12.984375 16.21875 12.984375 13.921875 \nQ 12.984375 10.40625 15.640625 8.0625 \nQ 18.3125 5.71875 23.4375 5.71875 \nQ 28.515625 5.71875 32.46875 7.9375 \nQ 36.421875 10.15625 38.28125 14.015625 \nQ 39.703125 17 39.703125 22.796875 \nz\n\" id=\"ArialMT-97\"/>\n      <path d=\"M 25.78125 7.859375 \nL 27.046875 0.09375 \nQ 23.34375 -0.6875 20.40625 -0.6875 \nQ 15.625 -0.6875 12.984375 0.828125 \nQ 10.359375 2.34375 9.28125 4.8125 \nQ 8.203125 7.28125 8.203125 15.1875 \nL 8.203125 45.015625 \nL 1.765625 45.015625 \nL 1.765625 51.859375 \nL 8.203125 51.859375 \nL 8.203125 64.703125 \nL 16.9375 69.96875 \nL 16.9375 51.859375 \nL 25.78125 51.859375 \nL 25.78125 45.015625 \nL 16.9375 45.015625 \nL 16.9375 14.703125 \nQ 16.9375 10.9375 17.40625 9.859375 \nQ 17.875 8.796875 18.921875 8.15625 \nQ 19.96875 7.515625 21.921875 7.515625 \nQ 23.390625 7.515625 25.78125 7.859375 \nz\n\" id=\"ArialMT-116\"/>\n      <path d=\"M 6.640625 61.46875 \nL 6.640625 71.578125 \nL 15.4375 71.578125 \nL 15.4375 61.46875 \nz\nM 6.640625 0 \nL 6.640625 51.859375 \nL 15.4375 51.859375 \nL 15.4375 0 \nz\n\" id=\"ArialMT-105\"/>\n      <path d=\"M 8.6875 0 \nL 8.6875 45.015625 \nL 0.921875 45.015625 \nL 0.921875 51.859375 \nL 8.6875 51.859375 \nL 8.6875 57.375 \nQ 8.6875 62.59375 9.625 65.140625 \nQ 10.890625 68.5625 14.078125 70.671875 \nQ 17.28125 72.796875 23.046875 72.796875 \nQ 26.765625 72.796875 31.25 71.921875 \nL 29.9375 64.265625 \nQ 27.203125 64.75 24.75 64.75 \nQ 20.75 64.75 19.09375 63.03125 \nQ 17.4375 61.328125 17.4375 56.640625 \nL 17.4375 51.859375 \nL 27.546875 51.859375 \nL 27.546875 45.015625 \nL 17.4375 45.015625 \nL 17.4375 0 \nz\n\" id=\"ArialMT-102\"/>\n      <path d=\"M 42.09375 16.703125 \nL 51.171875 15.578125 \nQ 49.03125 7.625 43.21875 3.21875 \nQ 37.40625 -1.171875 28.375 -1.171875 \nQ 17 -1.171875 10.328125 5.828125 \nQ 3.65625 12.84375 3.65625 25.484375 \nQ 3.65625 38.578125 10.390625 45.796875 \nQ 17.140625 53.03125 27.875 53.03125 \nQ 38.28125 53.03125 44.875 45.953125 \nQ 51.46875 38.875 51.46875 26.03125 \nQ 51.46875 25.25 51.421875 23.6875 \nL 12.75 23.6875 \nQ 13.234375 15.140625 17.578125 10.59375 \nQ 21.921875 6.0625 28.421875 6.0625 \nQ 33.25 6.0625 36.671875 8.59375 \nQ 40.09375 11.140625 42.09375 16.703125 \nz\nM 13.234375 30.90625 \nL 42.1875 30.90625 \nQ 41.609375 37.453125 38.875 40.71875 \nQ 34.671875 45.796875 27.984375 45.796875 \nQ 21.921875 45.796875 17.796875 41.75 \nQ 13.671875 37.703125 13.234375 30.90625 \nz\n\" id=\"ArialMT-101\"/>\n      <path d=\"M 40.234375 0 \nL 40.234375 6.546875 \nQ 35.296875 -1.171875 25.734375 -1.171875 \nQ 19.53125 -1.171875 14.328125 2.25 \nQ 9.125 5.671875 6.265625 11.796875 \nQ 3.421875 17.921875 3.421875 25.875 \nQ 3.421875 33.640625 6 39.96875 \nQ 8.59375 46.296875 13.765625 49.65625 \nQ 18.953125 53.03125 25.34375 53.03125 \nQ 30.03125 53.03125 33.6875 51.046875 \nQ 37.359375 49.078125 39.65625 45.90625 \nL 39.65625 71.578125 \nL 48.390625 71.578125 \nL 48.390625 0 \nz\nM 12.453125 25.875 \nQ 12.453125 15.921875 16.640625 10.984375 \nQ 20.84375 6.0625 26.5625 6.0625 \nQ 32.328125 6.0625 36.34375 10.765625 \nQ 40.375 15.484375 40.375 25.140625 \nQ 40.375 35.796875 36.265625 40.765625 \nQ 32.171875 45.75 26.171875 45.75 \nQ 20.3125 45.75 16.375 40.96875 \nQ 12.453125 36.1875 12.453125 25.875 \nz\n\" id=\"ArialMT-100\"/>\n     </defs>\n     <g style=\"fill:#262626;\" transform=\"translate(207.649844 256.789219)scale(0.12 -0.12)\">\n      <use xlink:href=\"#ArialMT-115\"/>\n      <use x=\"50\" xlink:href=\"#ArialMT-97\"/>\n      <use x=\"105.615234\" xlink:href=\"#ArialMT-116\"/>\n      <use x=\"133.398438\" xlink:href=\"#ArialMT-105\"/>\n      <use x=\"155.615234\" xlink:href=\"#ArialMT-115\"/>\n      <use x=\"205.615234\" xlink:href=\"#ArialMT-102\"/>\n      <use x=\"233.398438\" xlink:href=\"#ArialMT-105\"/>\n      <use x=\"255.615234\" xlink:href=\"#ArialMT-101\"/>\n      <use x=\"311.230469\" xlink:href=\"#ArialMT-100\"/>\n     </g>\n    </g>\n   </g>\n   <g id=\"matplotlib.axis_2\">\n    <g id=\"ytick_1\">\n     <g id=\"line2d_1\">\n      <path clip-path=\"url(#pee667c776d)\" d=\"M 62.259531 224.64 \nL 397.059531 224.64 \n\" style=\"fill:none;stroke:#cccccc;stroke-linecap:round;\"/>\n     </g>\n     <g id=\"text_4\">\n      <!-- 0 -->\n      <g style=\"fill:#262626;\" transform=\"translate(46.6425 228.576797)scale(0.11 -0.11)\">\n       <use xlink:href=\"#ArialMT-48\"/>\n      </g>\n     </g>\n    </g>\n    <g id=\"ytick_2\">\n     <g id=\"line2d_2\">\n      <path clip-path=\"url(#pee667c776d)\" d=\"M 62.259531 198.134725 \nL 397.059531 198.134725 \n\" style=\"fill:none;stroke:#cccccc;stroke-linecap:round;\"/>\n     </g>\n     <g id=\"text_5\">\n      <!-- 2000 -->\n      <defs>\n       <path d=\"M 50.34375 8.453125 \nL 50.34375 0 \nL 3.03125 0 \nQ 2.9375 3.171875 4.046875 6.109375 \nQ 5.859375 10.9375 9.828125 15.625 \nQ 13.8125 20.3125 21.34375 26.46875 \nQ 33.015625 36.03125 37.109375 41.625 \nQ 41.21875 47.21875 41.21875 52.203125 \nQ 41.21875 57.421875 37.46875 61 \nQ 33.734375 64.59375 27.734375 64.59375 \nQ 21.390625 64.59375 17.578125 60.78125 \nQ 13.765625 56.984375 13.71875 50.25 \nL 4.6875 51.171875 \nQ 5.609375 61.28125 11.65625 66.578125 \nQ 17.71875 71.875 27.9375 71.875 \nQ 38.234375 71.875 44.234375 66.15625 \nQ 50.25 60.453125 50.25 52 \nQ 50.25 47.703125 48.484375 43.546875 \nQ 46.734375 39.40625 42.65625 34.8125 \nQ 38.578125 30.21875 29.109375 22.21875 \nQ 21.1875 15.578125 18.9375 13.203125 \nQ 16.703125 10.84375 15.234375 8.453125 \nz\n\" id=\"ArialMT-50\"/>\n      </defs>\n      <g style=\"fill:#262626;\" transform=\"translate(28.291406 202.071522)scale(0.11 -0.11)\">\n       <use xlink:href=\"#ArialMT-50\"/>\n       <use x=\"55.615234\" xlink:href=\"#ArialMT-48\"/>\n       <use x=\"111.230469\" xlink:href=\"#ArialMT-48\"/>\n       <use x=\"166.845703\" xlink:href=\"#ArialMT-48\"/>\n      </g>\n     </g>\n    </g>\n    <g id=\"ytick_3\">\n     <g id=\"line2d_3\">\n      <path clip-path=\"url(#pee667c776d)\" d=\"M 62.259531 171.62945 \nL 397.059531 171.62945 \n\" style=\"fill:none;stroke:#cccccc;stroke-linecap:round;\"/>\n     </g>\n     <g id=\"text_6\">\n      <!-- 4000 -->\n      <defs>\n       <path d=\"M 32.328125 0 \nL 32.328125 17.140625 \nL 1.265625 17.140625 \nL 1.265625 25.203125 \nL 33.9375 71.578125 \nL 41.109375 71.578125 \nL 41.109375 25.203125 \nL 50.78125 25.203125 \nL 50.78125 17.140625 \nL 41.109375 17.140625 \nL 41.109375 0 \nz\nM 32.328125 25.203125 \nL 32.328125 57.46875 \nL 9.90625 25.203125 \nz\n\" id=\"ArialMT-52\"/>\n      </defs>\n      <g style=\"fill:#262626;\" transform=\"translate(28.291406 175.566247)scale(0.11 -0.11)\">\n       <use xlink:href=\"#ArialMT-52\"/>\n       <use x=\"55.615234\" xlink:href=\"#ArialMT-48\"/>\n       <use x=\"111.230469\" xlink:href=\"#ArialMT-48\"/>\n       <use x=\"166.845703\" xlink:href=\"#ArialMT-48\"/>\n      </g>\n     </g>\n    </g>\n    <g id=\"ytick_4\">\n     <g id=\"line2d_4\">\n      <path clip-path=\"url(#pee667c776d)\" d=\"M 62.259531 145.124175 \nL 397.059531 145.124175 \n\" style=\"fill:none;stroke:#cccccc;stroke-linecap:round;\"/>\n     </g>\n     <g id=\"text_7\">\n      <!-- 6000 -->\n      <defs>\n       <path d=\"M 49.75 54.046875 \nL 41.015625 53.375 \nQ 39.84375 58.546875 37.703125 60.890625 \nQ 34.125 64.65625 28.90625 64.65625 \nQ 24.703125 64.65625 21.53125 62.3125 \nQ 17.390625 59.28125 14.984375 53.46875 \nQ 12.59375 47.65625 12.5 36.921875 \nQ 15.671875 41.75 20.265625 44.09375 \nQ 24.859375 46.4375 29.890625 46.4375 \nQ 38.671875 46.4375 44.84375 39.96875 \nQ 51.03125 33.5 51.03125 23.25 \nQ 51.03125 16.5 48.125 10.71875 \nQ 45.21875 4.9375 40.140625 1.859375 \nQ 35.0625 -1.21875 28.609375 -1.21875 \nQ 17.625 -1.21875 10.6875 6.859375 \nQ 3.765625 14.9375 3.765625 33.5 \nQ 3.765625 54.25 11.421875 63.671875 \nQ 18.109375 71.875 29.4375 71.875 \nQ 37.890625 71.875 43.28125 67.140625 \nQ 48.6875 62.40625 49.75 54.046875 \nz\nM 13.875 23.1875 \nQ 13.875 18.65625 15.796875 14.5 \nQ 17.71875 10.359375 21.1875 8.171875 \nQ 24.65625 6 28.46875 6 \nQ 34.03125 6 38.03125 10.484375 \nQ 42.046875 14.984375 42.046875 22.703125 \nQ 42.046875 30.125 38.078125 34.390625 \nQ 34.125 38.671875 28.125 38.671875 \nQ 22.171875 38.671875 18.015625 34.390625 \nQ 13.875 30.125 13.875 23.1875 \nz\n\" id=\"ArialMT-54\"/>\n      </defs>\n      <g style=\"fill:#262626;\" transform=\"translate(28.291406 149.060972)scale(0.11 -0.11)\">\n       <use xlink:href=\"#ArialMT-54\"/>\n       <use x=\"55.615234\" xlink:href=\"#ArialMT-48\"/>\n       <use x=\"111.230469\" xlink:href=\"#ArialMT-48\"/>\n       <use x=\"166.845703\" xlink:href=\"#ArialMT-48\"/>\n      </g>\n     </g>\n    </g>\n    <g id=\"ytick_5\">\n     <g id=\"line2d_5\">\n      <path clip-path=\"url(#pee667c776d)\" d=\"M 62.259531 118.6189 \nL 397.059531 118.6189 \n\" style=\"fill:none;stroke:#cccccc;stroke-linecap:round;\"/>\n     </g>\n     <g id=\"text_8\">\n      <!-- 8000 -->\n      <defs>\n       <path d=\"M 17.671875 38.8125 \nQ 12.203125 40.828125 9.5625 44.53125 \nQ 6.9375 48.25 6.9375 53.421875 \nQ 6.9375 61.234375 12.546875 66.546875 \nQ 18.171875 71.875 27.484375 71.875 \nQ 36.859375 71.875 42.578125 66.421875 \nQ 48.296875 60.984375 48.296875 53.171875 \nQ 48.296875 48.1875 45.671875 44.5 \nQ 43.0625 40.828125 37.75 38.8125 \nQ 44.34375 36.671875 47.78125 31.875 \nQ 51.21875 27.09375 51.21875 20.453125 \nQ 51.21875 11.28125 44.71875 5.03125 \nQ 38.234375 -1.21875 27.640625 -1.21875 \nQ 17.046875 -1.21875 10.546875 5.046875 \nQ 4.046875 11.328125 4.046875 20.703125 \nQ 4.046875 27.6875 7.59375 32.390625 \nQ 11.140625 37.109375 17.671875 38.8125 \nz\nM 15.921875 53.71875 \nQ 15.921875 48.640625 19.1875 45.40625 \nQ 22.46875 42.1875 27.6875 42.1875 \nQ 32.765625 42.1875 36.015625 45.375 \nQ 39.265625 48.578125 39.265625 53.21875 \nQ 39.265625 58.0625 35.90625 61.359375 \nQ 32.5625 64.65625 27.59375 64.65625 \nQ 22.5625 64.65625 19.234375 61.421875 \nQ 15.921875 58.203125 15.921875 53.71875 \nz\nM 13.09375 20.65625 \nQ 13.09375 16.890625 14.875 13.375 \nQ 16.65625 9.859375 20.171875 7.921875 \nQ 23.6875 6 27.734375 6 \nQ 34.03125 6 38.125 10.046875 \nQ 42.234375 14.109375 42.234375 20.359375 \nQ 42.234375 26.703125 38.015625 30.859375 \nQ 33.796875 35.015625 27.4375 35.015625 \nQ 21.234375 35.015625 17.15625 30.90625 \nQ 13.09375 26.8125 13.09375 20.65625 \nz\n\" id=\"ArialMT-56\"/>\n      </defs>\n      <g style=\"fill:#262626;\" transform=\"translate(28.291406 122.555697)scale(0.11 -0.11)\">\n       <use xlink:href=\"#ArialMT-56\"/>\n       <use x=\"55.615234\" xlink:href=\"#ArialMT-48\"/>\n       <use x=\"111.230469\" xlink:href=\"#ArialMT-48\"/>\n       <use x=\"166.845703\" xlink:href=\"#ArialMT-48\"/>\n      </g>\n     </g>\n    </g>\n    <g id=\"ytick_6\">\n     <g id=\"line2d_6\">\n      <path clip-path=\"url(#pee667c776d)\" d=\"M 62.259531 92.113625 \nL 397.059531 92.113625 \n\" style=\"fill:none;stroke:#cccccc;stroke-linecap:round;\"/>\n     </g>\n     <g id=\"text_9\">\n      <!-- 10000 -->\n      <g style=\"fill:#262626;\" transform=\"translate(22.174375 96.050421)scale(0.11 -0.11)\">\n       <use xlink:href=\"#ArialMT-49\"/>\n       <use x=\"55.615234\" xlink:href=\"#ArialMT-48\"/>\n       <use x=\"111.230469\" xlink:href=\"#ArialMT-48\"/>\n       <use x=\"166.845703\" xlink:href=\"#ArialMT-48\"/>\n       <use x=\"222.460938\" xlink:href=\"#ArialMT-48\"/>\n      </g>\n     </g>\n    </g>\n    <g id=\"ytick_7\">\n     <g id=\"line2d_7\">\n      <path clip-path=\"url(#pee667c776d)\" d=\"M 62.259531 65.608349 \nL 397.059531 65.608349 \n\" style=\"fill:none;stroke:#cccccc;stroke-linecap:round;\"/>\n     </g>\n     <g id=\"text_10\">\n      <!-- 12000 -->\n      <g style=\"fill:#262626;\" transform=\"translate(22.174375 69.545146)scale(0.11 -0.11)\">\n       <use xlink:href=\"#ArialMT-49\"/>\n       <use x=\"55.615234\" xlink:href=\"#ArialMT-50\"/>\n       <use x=\"111.230469\" xlink:href=\"#ArialMT-48\"/>\n       <use x=\"166.845703\" xlink:href=\"#ArialMT-48\"/>\n       <use x=\"222.460938\" xlink:href=\"#ArialMT-48\"/>\n      </g>\n     </g>\n    </g>\n    <g id=\"ytick_8\">\n     <g id=\"line2d_8\">\n      <path clip-path=\"url(#pee667c776d)\" d=\"M 62.259531 39.103074 \nL 397.059531 39.103074 \n\" style=\"fill:none;stroke:#cccccc;stroke-linecap:round;\"/>\n     </g>\n     <g id=\"text_11\">\n      <!-- 14000 -->\n      <g style=\"fill:#262626;\" transform=\"translate(22.174375 43.039871)scale(0.11 -0.11)\">\n       <use xlink:href=\"#ArialMT-49\"/>\n       <use x=\"55.615234\" xlink:href=\"#ArialMT-52\"/>\n       <use x=\"111.230469\" xlink:href=\"#ArialMT-48\"/>\n       <use x=\"166.845703\" xlink:href=\"#ArialMT-48\"/>\n       <use x=\"222.460938\" xlink:href=\"#ArialMT-48\"/>\n      </g>\n     </g>\n    </g>\n    <g id=\"ytick_9\">\n     <g id=\"line2d_9\">\n      <path clip-path=\"url(#pee667c776d)\" d=\"M 62.259531 12.597799 \nL 397.059531 12.597799 \n\" style=\"fill:none;stroke:#cccccc;stroke-linecap:round;\"/>\n     </g>\n     <g id=\"text_12\">\n      <!-- 16000 -->\n      <g style=\"fill:#262626;\" transform=\"translate(22.174375 16.534596)scale(0.11 -0.11)\">\n       <use xlink:href=\"#ArialMT-49\"/>\n       <use x=\"55.615234\" xlink:href=\"#ArialMT-54\"/>\n       <use x=\"111.230469\" xlink:href=\"#ArialMT-48\"/>\n       <use x=\"166.845703\" xlink:href=\"#ArialMT-48\"/>\n       <use x=\"222.460938\" xlink:href=\"#ArialMT-48\"/>\n      </g>\n     </g>\n    </g>\n    <g id=\"text_13\">\n     <!-- count -->\n     <defs>\n      <path d=\"M 40.4375 19 \nL 49.078125 17.875 \nQ 47.65625 8.9375 41.8125 3.875 \nQ 35.984375 -1.171875 27.484375 -1.171875 \nQ 16.84375 -1.171875 10.375 5.78125 \nQ 3.90625 12.75 3.90625 25.734375 \nQ 3.90625 34.125 6.6875 40.421875 \nQ 9.46875 46.734375 15.15625 49.875 \nQ 20.84375 53.03125 27.546875 53.03125 \nQ 35.984375 53.03125 41.359375 48.75 \nQ 46.734375 44.484375 48.25 36.625 \nL 39.703125 35.296875 \nQ 38.484375 40.53125 35.375 43.15625 \nQ 32.28125 45.796875 27.875 45.796875 \nQ 21.234375 45.796875 17.078125 41.03125 \nQ 12.9375 36.28125 12.9375 25.984375 \nQ 12.9375 15.53125 16.9375 10.796875 \nQ 20.953125 6.0625 27.390625 6.0625 \nQ 32.5625 6.0625 36.03125 9.234375 \nQ 39.5 12.40625 40.4375 19 \nz\n\" id=\"ArialMT-99\"/>\n      <path d=\"M 3.328125 25.921875 \nQ 3.328125 40.328125 11.328125 47.265625 \nQ 18.015625 53.03125 27.640625 53.03125 \nQ 38.328125 53.03125 45.109375 46.015625 \nQ 51.90625 39.015625 51.90625 26.65625 \nQ 51.90625 16.65625 48.90625 10.90625 \nQ 45.90625 5.171875 40.15625 2 \nQ 34.421875 -1.171875 27.640625 -1.171875 \nQ 16.75 -1.171875 10.03125 5.8125 \nQ 3.328125 12.796875 3.328125 25.921875 \nz\nM 12.359375 25.921875 \nQ 12.359375 15.96875 16.703125 11.015625 \nQ 21.046875 6.0625 27.640625 6.0625 \nQ 34.1875 6.0625 38.53125 11.03125 \nQ 42.875 16.015625 42.875 26.21875 \nQ 42.875 35.84375 38.5 40.796875 \nQ 34.125 45.75 27.640625 45.75 \nQ 21.046875 45.75 16.703125 40.8125 \nQ 12.359375 35.890625 12.359375 25.921875 \nz\n\" id=\"ArialMT-111\"/>\n      <path d=\"M 40.578125 0 \nL 40.578125 7.625 \nQ 34.515625 -1.171875 24.125 -1.171875 \nQ 19.53125 -1.171875 15.546875 0.578125 \nQ 11.578125 2.34375 9.640625 5 \nQ 7.71875 7.671875 6.9375 11.53125 \nQ 6.390625 14.109375 6.390625 19.734375 \nL 6.390625 51.859375 \nL 15.1875 51.859375 \nL 15.1875 23.09375 \nQ 15.1875 16.21875 15.71875 13.8125 \nQ 16.546875 10.359375 19.234375 8.375 \nQ 21.921875 6.390625 25.875 6.390625 \nQ 29.828125 6.390625 33.296875 8.421875 \nQ 36.765625 10.453125 38.203125 13.9375 \nQ 39.65625 17.4375 39.65625 24.078125 \nL 39.65625 51.859375 \nL 48.4375 51.859375 \nL 48.4375 0 \nz\n\" id=\"ArialMT-117\"/>\n      <path d=\"M 6.59375 0 \nL 6.59375 51.859375 \nL 14.5 51.859375 \nL 14.5 44.484375 \nQ 20.21875 53.03125 31 53.03125 \nQ 35.6875 53.03125 39.625 51.34375 \nQ 43.5625 49.65625 45.515625 46.921875 \nQ 47.46875 44.1875 48.25 40.4375 \nQ 48.734375 37.984375 48.734375 31.890625 \nL 48.734375 0 \nL 39.9375 0 \nL 39.9375 31.546875 \nQ 39.9375 36.921875 38.90625 39.578125 \nQ 37.890625 42.234375 35.28125 43.8125 \nQ 32.671875 45.40625 29.15625 45.40625 \nQ 23.53125 45.40625 19.453125 41.84375 \nQ 15.375 38.28125 15.375 28.328125 \nL 15.375 0 \nz\n\" id=\"ArialMT-110\"/>\n     </defs>\n     <g style=\"fill:#262626;\" transform=\"translate(15.789375 130.596562)rotate(-90)scale(0.12 -0.12)\">\n      <use xlink:href=\"#ArialMT-99\"/>\n      <use x=\"50\" xlink:href=\"#ArialMT-111\"/>\n      <use x=\"105.615234\" xlink:href=\"#ArialMT-117\"/>\n      <use x=\"161.230469\" xlink:href=\"#ArialMT-110\"/>\n      <use x=\"216.845703\" xlink:href=\"#ArialMT-116\"/>\n     </g>\n    </g>\n   </g>\n   <g id=\"patch_3\">\n    <path clip-path=\"url(#pee667c776d)\" d=\"M 78.999531 224.64 \nL 212.919531 224.64 \nL 212.919531 33.086377 \nL 78.999531 33.086377 \nz\n\" style=\"fill:#cb6d67;stroke:#ffffff;stroke-linejoin:miter;\"/>\n   </g>\n   <g id=\"patch_4\">\n    <path clip-path=\"url(#pee667c776d)\" d=\"M 246.399531 224.64 \nL 380.319531 224.64 \nL 380.319531 17.554286 \nL 246.399531 17.554286 \nz\n\" style=\"fill:#67c5cb;stroke:#ffffff;stroke-linejoin:miter;\"/>\n   </g>\n   <g id=\"patch_5\">\n    <path d=\"M 62.259531 224.64 \nL 62.259531 7.2 \n\" style=\"fill:none;stroke:#cccccc;stroke-linecap:square;stroke-linejoin:miter;stroke-width:1.25;\"/>\n   </g>\n   <g id=\"patch_6\">\n    <path d=\"M 397.059531 224.64 \nL 397.059531 7.2 \n\" style=\"fill:none;stroke:#cccccc;stroke-linecap:square;stroke-linejoin:miter;stroke-width:1.25;\"/>\n   </g>\n   <g id=\"patch_7\">\n    <path d=\"M 62.259531 224.64 \nL 397.059531 224.64 \n\" style=\"fill:none;stroke:#cccccc;stroke-linecap:square;stroke-linejoin:miter;stroke-width:1.25;\"/>\n   </g>\n   <g id=\"patch_8\">\n    <path d=\"M 62.259531 7.2 \nL 397.059531 7.2 \n\" style=\"fill:none;stroke:#cccccc;stroke-linecap:square;stroke-linejoin:miter;stroke-width:1.25;\"/>\n   </g>\n  </g>\n </g>\n <defs>\n  <clipPath id=\"pee667c776d\">\n   <rect height=\"217.44\" width=\"334.8\" x=\"62.259531\" y=\"7.2\"/>\n  </clipPath>\n </defs>\n</svg>\n",
      "text/plain": "<Figure size 432x288 with 1 Axes>"
     },
     "metadata": {
      "needs_background": "light"
     },
     "output_type": "display_data"
    }
   ],
   "source": [
    "sns.countplot(x='satisfied', data=train, palette='hls')\n",
    "plt.show()"
   ]
  },
  {
   "cell_type": "code",
   "execution_count": 5,
   "metadata": {},
   "outputs": [
    {
     "name": "stdout",
     "output_type": "stream",
     "text": "percentage of not satisfied is 48.05186170212766\npercentage of satisfied is 51.94813829787234\n"
    }
   ],
   "source": [
    "print(\"percentage of not satisfied is\", (len(train[train['satisfied']==0]) / train.shape[0])*100)\n",
    "print(\"percentage of satisfied is\", (len(train[train['satisfied']==1]) / train.shape[0])*100)"
   ]
  },
  {
   "cell_type": "code",
   "execution_count": 6,
   "metadata": {},
   "outputs": [
    {
     "data": {
      "text/html": "<div>\n<style scoped>\n    .dataframe tbody tr th:only-of-type {\n        vertical-align: middle;\n    }\n\n    .dataframe tbody tr th {\n        vertical-align: top;\n    }\n\n    .dataframe thead th {\n        text-align: right;\n    }\n</style>\n<table border=\"1\" class=\"dataframe\">\n  <thead>\n    <tr style=\"text-align: right;\">\n      <th></th>\n      <th>v1</th>\n      <th>v2</th>\n      <th>v3</th>\n      <th>v4</th>\n      <th>v6</th>\n      <th>v7</th>\n      <th>v8</th>\n      <th>v9</th>\n      <th>v10</th>\n      <th>v12</th>\n      <th>...</th>\n      <th>v250</th>\n      <th>v251</th>\n      <th>v253</th>\n      <th>v254</th>\n      <th>v255</th>\n      <th>v256</th>\n      <th>v257</th>\n      <th>v258</th>\n      <th>v263</th>\n      <th>cntry</th>\n    </tr>\n  </thead>\n  <tbody>\n    <tr>\n      <td>0</td>\n      <td>2</td>\n      <td>2</td>\n      <td>74</td>\n      <td>11010</td>\n      <td>2</td>\n      <td>2</td>\n      <td>2</td>\n      <td>2</td>\n      <td>1</td>\n      <td>2</td>\n      <td>...</td>\n      <td>40</td>\n      <td>40</td>\n      <td>2</td>\n      <td>2</td>\n      <td>1</td>\n      <td>2</td>\n      <td>2</td>\n      <td>1941</td>\n      <td>-1</td>\n      <td>0</td>\n    </tr>\n    <tr>\n      <td>1</td>\n      <td>4</td>\n      <td>2</td>\n      <td>58</td>\n      <td>11010</td>\n      <td>2</td>\n      <td>2</td>\n      <td>2</td>\n      <td>2</td>\n      <td>1</td>\n      <td>2</td>\n      <td>...</td>\n      <td>39</td>\n      <td>39</td>\n      <td>2</td>\n      <td>2</td>\n      <td>2</td>\n      <td>2</td>\n      <td>2</td>\n      <td>1957</td>\n      <td>-1</td>\n      <td>0</td>\n    </tr>\n    <tr>\n      <td>2</td>\n      <td>6</td>\n      <td>2</td>\n      <td>47</td>\n      <td>11010</td>\n      <td>2</td>\n      <td>2</td>\n      <td>1</td>\n      <td>2</td>\n      <td>1</td>\n      <td>1</td>\n      <td>...</td>\n      <td>30</td>\n      <td>35</td>\n      <td>4</td>\n      <td>2</td>\n      <td>1</td>\n      <td>2</td>\n      <td>2</td>\n      <td>1968</td>\n      <td>1963</td>\n      <td>0</td>\n    </tr>\n    <tr>\n      <td>3</td>\n      <td>10</td>\n      <td>2</td>\n      <td>22</td>\n      <td>11010</td>\n      <td>2</td>\n      <td>2</td>\n      <td>2</td>\n      <td>2</td>\n      <td>1</td>\n      <td>2</td>\n      <td>...</td>\n      <td>40</td>\n      <td>50</td>\n      <td>3</td>\n      <td>2</td>\n      <td>1</td>\n      <td>2</td>\n      <td>2</td>\n      <td>1993</td>\n      <td>-1</td>\n      <td>0</td>\n    </tr>\n    <tr>\n      <td>4</td>\n      <td>0</td>\n      <td>1</td>\n      <td>24</td>\n      <td>11010</td>\n      <td>2</td>\n      <td>2</td>\n      <td>2</td>\n      <td>2</td>\n      <td>1</td>\n      <td>2</td>\n      <td>...</td>\n      <td>38</td>\n      <td>38</td>\n      <td>1</td>\n      <td>2</td>\n      <td>1</td>\n      <td>2</td>\n      <td>2</td>\n      <td>1991</td>\n      <td>-1</td>\n      <td>0</td>\n    </tr>\n    <tr>\n      <td>...</td>\n      <td>...</td>\n      <td>...</td>\n      <td>...</td>\n      <td>...</td>\n      <td>...</td>\n      <td>...</td>\n      <td>...</td>\n      <td>...</td>\n      <td>...</td>\n      <td>...</td>\n      <td>...</td>\n      <td>...</td>\n      <td>...</td>\n      <td>...</td>\n      <td>...</td>\n      <td>...</td>\n      <td>...</td>\n      <td>...</td>\n      <td>...</td>\n      <td>...</td>\n      <td>...</td>\n    </tr>\n    <tr>\n      <td>30075</td>\n      <td>0</td>\n      <td>1</td>\n      <td>72</td>\n      <td>14120</td>\n      <td>2</td>\n      <td>2</td>\n      <td>2</td>\n      <td>2</td>\n      <td>1</td>\n      <td>2</td>\n      <td>...</td>\n      <td>40</td>\n      <td>60</td>\n      <td>2</td>\n      <td>2</td>\n      <td>-1</td>\n      <td>-1</td>\n      <td>2</td>\n      <td>1942</td>\n      <td>1945</td>\n      <td>20</td>\n    </tr>\n    <tr>\n      <td>30076</td>\n      <td>0</td>\n      <td>1</td>\n      <td>38</td>\n      <td>14120</td>\n      <td>2</td>\n      <td>2</td>\n      <td>2</td>\n      <td>2</td>\n      <td>1</td>\n      <td>2</td>\n      <td>...</td>\n      <td>40</td>\n      <td>40</td>\n      <td>4</td>\n      <td>2</td>\n      <td>1</td>\n      <td>-1</td>\n      <td>2</td>\n      <td>1976</td>\n      <td>-1</td>\n      <td>20</td>\n    </tr>\n    <tr>\n      <td>30077</td>\n      <td>5</td>\n      <td>2</td>\n      <td>49</td>\n      <td>14120</td>\n      <td>2</td>\n      <td>2</td>\n      <td>2</td>\n      <td>2</td>\n      <td>1</td>\n      <td>1</td>\n      <td>...</td>\n      <td>40</td>\n      <td>48</td>\n      <td>3</td>\n      <td>2</td>\n      <td>1</td>\n      <td>-1</td>\n      <td>2</td>\n      <td>1965</td>\n      <td>1967</td>\n      <td>20</td>\n    </tr>\n    <tr>\n      <td>30078</td>\n      <td>0</td>\n      <td>1</td>\n      <td>16</td>\n      <td>14120</td>\n      <td>2</td>\n      <td>2</td>\n      <td>2</td>\n      <td>2</td>\n      <td>1</td>\n      <td>2</td>\n      <td>...</td>\n      <td>-1</td>\n      <td>-1</td>\n      <td>3</td>\n      <td>-1</td>\n      <td>-1</td>\n      <td>-1</td>\n      <td>2</td>\n      <td>1998</td>\n      <td>1972</td>\n      <td>20</td>\n    </tr>\n    <tr>\n      <td>30079</td>\n      <td>4</td>\n      <td>2</td>\n      <td>66</td>\n      <td>14120</td>\n      <td>2</td>\n      <td>2</td>\n      <td>2</td>\n      <td>2</td>\n      <td>1</td>\n      <td>2</td>\n      <td>...</td>\n      <td>40</td>\n      <td>-1</td>\n      <td>3</td>\n      <td>2</td>\n      <td>1</td>\n      <td>-1</td>\n      <td>2</td>\n      <td>1948</td>\n      <td>1952</td>\n      <td>20</td>\n    </tr>\n  </tbody>\n</table>\n<p>30080 rows × 200 columns</p>\n</div>",
      "text/plain": "       v1  v2  v3     v4  v6  v7  v8  v9  v10  v12  ...  v250  v251  v253  \\\n0       2   2  74  11010   2   2   2   2    1    2  ...    40    40     2   \n1       4   2  58  11010   2   2   2   2    1    2  ...    39    39     2   \n2       6   2  47  11010   2   2   1   2    1    1  ...    30    35     4   \n3      10   2  22  11010   2   2   2   2    1    2  ...    40    50     3   \n4       0   1  24  11010   2   2   2   2    1    2  ...    38    38     1   \n...    ..  ..  ..    ...  ..  ..  ..  ..  ...  ...  ...   ...   ...   ...   \n30075   0   1  72  14120   2   2   2   2    1    2  ...    40    60     2   \n30076   0   1  38  14120   2   2   2   2    1    2  ...    40    40     4   \n30077   5   2  49  14120   2   2   2   2    1    1  ...    40    48     3   \n30078   0   1  16  14120   2   2   2   2    1    2  ...    -1    -1     3   \n30079   4   2  66  14120   2   2   2   2    1    2  ...    40    -1     3   \n\n       v254  v255  v256  v257  v258  v263  cntry  \n0         2     1     2     2  1941    -1      0  \n1         2     2     2     2  1957    -1      0  \n2         2     1     2     2  1968  1963      0  \n3         2     1     2     2  1993    -1      0  \n4         2     1     2     2  1991    -1      0  \n...     ...   ...   ...   ...   ...   ...    ...  \n30075     2    -1    -1     2  1942  1945     20  \n30076     2     1    -1     2  1976    -1     20  \n30077     2     1    -1     2  1965  1967     20  \n30078    -1    -1    -1     2  1998  1972     20  \n30079     2     1    -1     2  1948  1952     20  \n\n[30080 rows x 200 columns]"
     },
     "metadata": {},
     "output_type": "display_data"
    },
    {
     "data": {
      "text/html": "<div>\n<style scoped>\n    .dataframe tbody tr th:only-of-type {\n        vertical-align: middle;\n    }\n\n    .dataframe tbody tr th {\n        vertical-align: top;\n    }\n\n    .dataframe thead th {\n        text-align: right;\n    }\n</style>\n<table border=\"1\" class=\"dataframe\">\n  <thead>\n    <tr style=\"text-align: right;\">\n      <th></th>\n      <th>satisfied</th>\n    </tr>\n  </thead>\n  <tbody>\n    <tr>\n      <td>0</td>\n      <td>0</td>\n    </tr>\n    <tr>\n      <td>1</td>\n      <td>0</td>\n    </tr>\n    <tr>\n      <td>2</td>\n      <td>1</td>\n    </tr>\n    <tr>\n      <td>3</td>\n      <td>0</td>\n    </tr>\n    <tr>\n      <td>4</td>\n      <td>1</td>\n    </tr>\n    <tr>\n      <td>...</td>\n      <td>...</td>\n    </tr>\n    <tr>\n      <td>30075</td>\n      <td>1</td>\n    </tr>\n    <tr>\n      <td>30076</td>\n      <td>1</td>\n    </tr>\n    <tr>\n      <td>30077</td>\n      <td>0</td>\n    </tr>\n    <tr>\n      <td>30078</td>\n      <td>1</td>\n    </tr>\n    <tr>\n      <td>30079</td>\n      <td>0</td>\n    </tr>\n  </tbody>\n</table>\n<p>30080 rows × 1 columns</p>\n</div>",
      "text/plain": "       satisfied\n0              0\n1              0\n2              1\n3              0\n4              1\n...          ...\n30075          1\n30076          1\n30077          0\n30078          1\n30079          0\n\n[30080 rows x 1 columns]"
     },
     "metadata": {},
     "output_type": "display_data"
    }
   ],
   "source": [
    "X_cols = train.columns[2:-1].to_numpy()\n",
    "X = train.loc[:, X_cols]\n",
    "y = train.loc[:, train.columns == 'satisfied']\n",
    "\n",
    "display(X)\n",
    "display(y)"
   ]
  },
  {
   "cell_type": "code",
   "execution_count": 8,
   "metadata": {},
   "outputs": [
    {
     "name": "stdout",
     "output_type": "stream",
     "text": "Optimization terminated successfully.\n         Current function value: 0.444202\n         Iterations 7\n                         Results: Logit\n=================================================================\nModel:              Logit            Pseudo R-squared: 0.358     \nDependent Variable: satisfied        AIC:              27123.2173\nDate:               2020-03-03 19:58 BIC:              28785.5405\nNo. Observations:   30080            Log-Likelihood:   -13362.   \nDf Model:           199              LL-Null:          -20827.   \nDf Residuals:       29880            LLR p-value:      0.0000    \nConverged:          1.0000           Scale:            1.0000    \nNo. Iterations:     7.0000                                       \n-------------------------------------------------------------------\n          Coef.    Std.Err.      z       P>|z|     [0.025    0.975]\n-------------------------------------------------------------------\nv1       -0.0165     0.0081    -2.0459   0.0408   -0.0323   -0.0007\nv2       -0.0904     0.0212    -4.2714   0.0000   -0.1319   -0.0489\nv3        0.0009     0.0017     0.5122   0.6085   -0.0024    0.0042\nv4       -0.0000     0.0000    -0.0162   0.9871   -0.0000    0.0000\nv6       -0.0616     0.0344    -1.7909   0.0733   -0.1290    0.0058\nv7       -0.0146     0.0567    -0.2581   0.7963   -0.1258    0.0965\nv8       -0.0851     0.0393    -2.1660   0.0303   -0.1620   -0.0081\nv9       -0.0333     0.0419    -0.7937   0.4274   -0.1155    0.0489\nv10       0.1550     0.1226     1.2642   0.2062   -0.0853    0.3953\nv12      -0.0070     0.0478    -0.1469   0.8832   -0.1007    0.0867\nv13      -0.0008     0.0256    -0.0319   0.9746   -0.0509    0.0493\nv14       0.0117     0.0266     0.4409   0.6593   -0.0404    0.0639\nv15      -0.3367     0.3477    -0.9683   0.3329   -1.0182    0.3448\nv16       0.4482     0.8704     0.5150   0.6066   -1.2576    2.1541\nv17      -0.0023     0.0012    -1.8864   0.0592   -0.0048    0.0001\nv18      -0.0274     0.0435    -0.6291   0.5293   -0.1126    0.0579\nv19       0.0091     0.0081     1.1220   0.2619   -0.0068    0.0249\nv20      -0.0011     0.0006    -1.6795   0.0931   -0.0024    0.0002\nv21      -0.0108     0.0403    -0.2675   0.7891   -0.0898    0.0682\nv24      -0.2800     0.1330    -2.1054   0.0353   -0.5406   -0.0193\nv25       0.0006     0.0019     0.3288   0.7423   -0.0031    0.0044\nv26      -1.2028     0.9483    -1.2683   0.2047   -3.0614    0.6559\nv27      -0.3003     0.4532    -0.6626   0.5076   -1.1884    0.5879\nv28       0.2357     0.5753     0.4097   0.6820   -0.8919    1.3634\nv29      -0.0028     0.4721    -0.0059   0.9953   -0.9280    0.9225\nv30      -0.0793     0.2527    -0.3137   0.7538   -0.5746    0.4161\nv31      -0.1908     0.1415    -1.3480   0.1776   -0.4681    0.0866\nv32       0.0887     0.2173     0.4083   0.6831   -0.3372    0.5146\nv33       0.3449     0.6123     0.5634   0.5732   -0.8551    1.5449\nv34      -0.5466     0.3958    -1.3812   0.1672   -1.3224    0.2291\nv35       0.0219     0.0136     1.6053   0.1084   -0.0048    0.0486\nv36      -0.0189     0.1057    -0.1785   0.8584   -0.2259    0.1882\nv37      -0.0451     0.1455    -0.3098   0.7567   -0.3304    0.2402\nv38      -0.1362     0.1741    -0.7822   0.4341   -0.4773    0.2050\nv39      -0.6641     0.5614    -1.1829   0.2369   -1.7645    0.4363\nv40       0.1897     0.2137     0.8878   0.3747   -0.2291    0.6086\nv41       0.2683     0.1891     1.4190   0.1559   -0.1023    0.6389\nv42      -0.2478     0.1648    -1.5036   0.1327   -0.5707    0.0752\nv43       0.0231     0.0650     0.3549   0.7227   -0.1043    0.1504\nv44      -0.0786     0.1732    -0.4537   0.6500   -0.4181    0.2609\nv45      -0.2317     1.2915    -0.1794   0.8576   -2.7630    2.2995\nv46       0.1843     0.1180     1.5618   0.1183   -0.0470    0.4156\nv47       0.1526     0.1425     1.0706   0.2843   -0.1268    0.4320\nv48      -0.0347     0.1495    -0.2322   0.8164   -0.3278    0.2584\nv49       0.0543     0.1621     0.3349   0.7377   -0.2634    0.3720\nv50      -0.8552     1.1567    -0.7394   0.4597   -3.1223    1.4118\nv51       0.2536     0.1406     1.8036   0.0713   -0.0220    0.5293\nv52      -0.0999     0.2101    -0.4756   0.6344   -0.5116    0.3118\nv53       0.0340     0.0407     0.8350   0.4037   -0.0458    0.1137\nv54      -0.0036     0.0805    -0.0446   0.9644   -0.1614    0.1542\nv55       0.0796     0.1434     0.5553   0.5787   -0.2015    0.3608\nv56      -0.0188     0.0330    -0.5688   0.5695   -0.0834    0.0459\nv57       0.0003     0.0004     0.8248   0.4095   -0.0004    0.0011\nv58       0.0642     0.0357     1.7969   0.0724   -0.0058    0.1342\nv59      -0.0005     0.0003    -1.4947   0.1350   -0.0012    0.0002\nv60      -0.0230     0.0399    -0.5766   0.5642   -0.1013    0.0552\nv61      -0.0004     0.0004    -1.0170   0.3091   -0.0011    0.0003\nv64      -0.0174     0.0055    -3.1652   0.0015   -0.0282   -0.0066\nv65      -0.0074     0.0387    -0.1905   0.8489   -0.0832    0.0685\nv66      -0.0112     0.0410    -0.2736   0.7844   -0.0916    0.0692\nv67       0.0588     0.0428     1.3753   0.1690   -0.0250    0.1426\nv70       0.1286     0.0466     2.7578   0.0058    0.0372    0.2200\nv72       0.0088     0.0184     0.4767   0.6336   -0.0273    0.0449\nv73       0.0131     0.0163     0.8008   0.4232   -0.0189    0.0451\nv74       0.1456     0.0221     6.6002   0.0000    0.1023    0.1888\nv75       0.0230     0.0120     1.9089   0.0563   -0.0006    0.0466\nv76      -0.0038     0.0060    -0.6320   0.5274   -0.0155    0.0079\nv77      -0.0216     0.0800    -0.2703   0.7870   -0.1783    0.1351\nv78      -0.0000     0.0009    -0.0181   0.9856   -0.0018    0.0018\nv79      -0.1610     0.0308    -5.2318   0.0000   -0.2214   -0.1007\nv80      -0.0095     0.0244    -0.3912   0.6957   -0.0573    0.0382\nv81      -0.0962     0.0275    -3.4967   0.0005   -0.1502   -0.0423\nv82      -0.1039     0.0291    -3.5720   0.0004   -0.1610   -0.0469\nv83      -0.0556     0.0137    -4.0508   0.0001   -0.0825   -0.0287\nv84       0.0389     0.0149     2.6136   0.0090    0.0097    0.0680\nv85       0.0621     0.0419     1.4812   0.1386   -0.0201    0.1442\nv90      -0.0422     0.0394    -1.0708   0.2843   -0.1193    0.0350\nv98       0.7132     0.0133    53.7352   0.0000    0.6872    0.7392\nv99      -0.2148     0.0229    -9.3751   0.0000   -0.2597   -0.1699\nv100      0.0258     0.0183     1.4130   0.1577   -0.0100    0.0616\nv101     -0.2874     0.0217   -13.2712   0.0000   -0.3298   -0.2449\nv102      0.1319     0.1111     1.1874   0.2351   -0.0858    0.3495\nv103     -0.0748     0.0903    -0.8284   0.4074   -0.2517    0.1022\nv104      0.0078     0.0051     1.5379   0.1241   -0.0021    0.0178\nv105     -0.0264     0.0320    -0.8250   0.4094   -0.0892    0.0363\nv106      0.0476     0.0587     0.8114   0.4172   -0.0674    0.1626\nv107      0.0222     0.0734     0.3030   0.7619   -0.1216    0.1661\nv108     -0.0833     0.0689    -1.2095   0.2265   -0.2183    0.0517\nv109     -0.0039     0.0080    -0.4897   0.6244   -0.0196    0.0118\nv110      0.0021     0.0245     0.0858   0.9316   -0.0459    0.0501\nv111     -0.0074     0.0199    -0.3736   0.7087   -0.0464    0.0315\nv112     -0.0028     0.0140    -0.1999   0.8416   -0.0302    0.0246\nv113     -0.0103     0.0174    -0.5889   0.5559   -0.0444    0.0239\nv114     -0.0186     0.0159    -1.1732   0.2407   -0.0498    0.0125\nv115     -0.0302     0.0145    -2.0880   0.0368   -0.0586   -0.0019\nv116      0.0434     0.0134     3.2384   0.0012    0.0172    0.0697\nv117      0.0079     0.0153     0.5133   0.6077   -0.0222    0.0379\nv118      0.0151     0.0135     1.1161   0.2644   -0.0114    0.0417\nv119     -0.0221     0.0230    -0.9638   0.3351   -0.0672    0.0229\nv120     -0.0083     0.0081    -1.0261   0.3048   -0.0242    0.0076\nv121     -0.0130     0.0087    -1.4940   0.1352   -0.0301    0.0041\nv122      0.0357     0.0118     3.0179   0.0025    0.0125    0.0589\nv124     -0.0046     0.0219    -0.2105   0.8333   -0.0475    0.0383\nv125      0.0246     0.0245     1.0057   0.3146   -0.0233    0.0725\nv126     -0.0201     0.0232    -0.8684   0.3852   -0.0656    0.0253\nv127      0.0014     0.0009     1.4462   0.1481   -0.0005    0.0032\nv128     -0.0639     0.1051    -0.6080   0.5432   -0.2699    0.1421\nv129      0.1694     0.1192     1.4206   0.1554   -0.0643    0.4030\nv130      0.0338     0.0232     1.4592   0.1445   -0.0116    0.0792\nv131      0.0005     0.0009     0.5074   0.6119   -0.0013    0.0022\nv132      0.0026     0.0008     3.1031   0.0019    0.0010    0.0042\nv133      0.0006     0.0008     0.7589   0.4479   -0.0010    0.0023\nv134     -0.0041     0.0009    -4.4915   0.0000   -0.0060   -0.0023\nv135      0.0067     0.0064     1.0450   0.2960   -0.0059    0.0193\nv136     -0.0068     0.0135    -0.4998   0.6172   -0.0333    0.0198\nv137     -0.0015     0.0148    -0.0983   0.9217   -0.0306    0.0276\nv138     -0.0260     0.0140    -1.8539   0.0638   -0.0534    0.0015\nv139     -0.0063     0.0171    -0.3704   0.7111   -0.0397    0.0271\nv140     -0.0606     0.0123    -4.9061   0.0000   -0.0848   -0.0364\nv141      0.0024     0.0147     0.1624   0.8710   -0.0265    0.0313\nv142     -0.0303     0.0190    -1.5980   0.1100   -0.0674    0.0069\nv143     -0.0520     0.0207    -2.5169   0.0118   -0.0925   -0.0115\nv144     -0.0006     0.0139    -0.0398   0.9682   -0.0279    0.0268\nv145     -0.0151     0.0132    -1.1410   0.2539   -0.0410    0.0108\nv146      0.0018     0.0138     0.1281   0.8981   -0.0254    0.0289\nv147      0.0438     0.0150     2.9128   0.0036    0.0143    0.0733\nv148      0.0098     0.0147     0.6638   0.5068   -0.0191    0.0386\nv149      0.0191     0.0172     1.1124   0.2660   -0.0146    0.0528\nv150     -0.0000     0.0000    -1.5630   0.1181   -0.0000    0.0000\nv152     -0.0235     0.0354    -0.6647   0.5063   -0.0928    0.0458\nv154      0.0003     0.0009     0.3163   0.7518   -0.0015    0.0021\nv155      0.0009     0.0008     1.1141   0.2652   -0.0007    0.0025\nv156      0.0137     0.0060     2.2872   0.0222    0.0020    0.0255\nv157     -0.0014     0.0218    -0.0625   0.9501   -0.0441    0.0414\nv159     -0.0003     0.0135    -0.0244   0.9805   -0.0267    0.0261\nv161      0.0008     0.0011     0.7709   0.4408   -0.0013    0.0029\nv162     -0.0701     0.0208    -3.3749   0.0007   -0.1109   -0.0294\nv163      0.0127     0.0159     0.7952   0.4265   -0.0185    0.0439\nv165     -0.0257     0.0973    -0.2647   0.7913   -0.2164    0.1649\nv166     -0.0879     0.0534    -1.6475   0.0994   -0.1925    0.0167\nv167     -0.0003     0.0007    -0.4344   0.6640   -0.0016    0.0010\nv169     -0.0037     0.0057    -0.6433   0.5200   -0.0149    0.0076\nv171      0.0853     0.2180     0.3915   0.6954   -0.3419    0.5125\nv172      0.1683     0.0585     2.8758   0.0040    0.0536    0.2830\nv175     -0.0316     0.0861    -0.3674   0.7133   -0.2003    0.1371\nv176      0.0928     0.0880     1.0550   0.2914   -0.0796    0.2652\nv177     -0.0219     0.0209    -1.0502   0.2936   -0.0628    0.0190\nv178      0.0330     0.0090     3.6492   0.0003    0.0153    0.0507\nv179      0.0009     0.0083     0.1138   0.9094   -0.0153    0.0172\nv180      0.0450     0.0087     5.1982   0.0000    0.0280    0.0620\nv181     -0.0196     0.0093    -2.1146   0.0345   -0.0378   -0.0014\nv183      0.0099     0.0092     1.0796   0.2803   -0.0081    0.0278\nv184     -0.0279     0.0083    -3.3552   0.0008   -0.0441   -0.0116\nv185      0.0616     0.0285     2.1604   0.0307    0.0057    0.1176\nv186     -0.0167     0.0140    -1.1952   0.2320   -0.0441    0.0107\nv187     -0.0030     0.0367    -0.0807   0.9357   -0.0748    0.0689\nv189      0.0056     0.0074     0.7613   0.4464   -0.0089    0.0201\nv196      0.1824     0.1505     1.2123   0.2254   -0.1125    0.4774\nv208     -0.1542     0.1269    -1.2152   0.2243   -0.4029    0.0945\nv217      0.1977     0.0802     2.4637   0.0138    0.0404    0.3549\nv218      0.0630     0.0972     0.6485   0.5167   -0.1275    0.2535\nv219     -0.0009     0.0172    -0.0508   0.9595   -0.0345    0.0327\nv220      0.0334     0.0105     3.1884   0.0014    0.0129    0.0540\nv221     -0.0364     0.0379    -0.9599   0.3371   -0.1108    0.0379\nv222     -0.0043     0.0208    -0.2055   0.8372   -0.0451    0.0365\nv223      0.0238     0.0082     2.8954   0.0038    0.0077    0.0400\nv224      0.1226     0.0086    14.3189   0.0000    0.1058    0.1394\nv225      0.0132     0.0072     1.8424   0.0654   -0.0008    0.0272\nv226      0.0020     0.0089     0.2257   0.8214   -0.0155    0.0195\nv227      0.0184     0.0075     2.4603   0.0139    0.0037    0.0331\nv228     -0.0205     0.0170    -1.2092   0.2266   -0.0538    0.0127\nv229     -0.1058     0.0614    -1.7210   0.0852   -0.2262    0.0147\nv230      0.0009     0.0003     2.8175   0.0048    0.0003    0.0016\nv231     -0.0113     0.0146    -0.7692   0.4418   -0.0400    0.0174\nv232     -0.0155     0.0082    -1.9012   0.0573   -0.0316    0.0005\nv233      0.0161     0.0084     1.9130   0.0557   -0.0004    0.0326\nv234      0.0330     0.0082     4.0365   0.0001    0.0170    0.0490\nv235     -0.0120     0.0132    -0.9084   0.3637   -0.0379    0.0139\nv236     -0.0098     0.0093    -1.0501   0.2937   -0.0280    0.0085\nv237     -0.0054     0.0125    -0.4300   0.6672   -0.0300    0.0192\nv238     -0.0075     0.0073    -1.0206   0.3075   -0.0219    0.0069\nv239      0.0027     0.0133     0.2010   0.8407   -0.0234    0.0287\nv240     -0.0221     0.0096    -2.3119   0.0208   -0.0409   -0.0034\nv242      0.0909     0.0346     2.6248   0.0087    0.0230    0.1587\nv244     -0.3855     0.1003    -3.8441   0.0001   -0.5820   -0.1889\nv245     -0.2093     0.1368    -1.5299   0.1260   -0.4776    0.0589\nv246     -0.2614     0.1250    -2.0914   0.0365   -0.5064   -0.0164\nv247     -0.1022     0.1850    -0.5527   0.5804   -0.4648    0.2603\nv248      0.0290     0.0294     0.9852   0.3245   -0.0287    0.0867\nv249      0.0015     0.0063     0.2333   0.8156   -0.0110    0.0139\nv250     -0.0017     0.0014    -1.1851   0.2360   -0.0045    0.0011\nv251     -0.0029     0.0013    -2.2827   0.0225   -0.0055   -0.0004\nv253      0.1260     0.0230     5.4850   0.0000    0.0810    0.1710\nv254      0.0255     0.0505     0.5040   0.6142   -0.0735    0.1244\nv255     -0.0203     0.0191    -1.0598   0.2892   -0.0578    0.0172\nv256      0.0146     0.0277     0.5263   0.5987   -0.0398    0.0690\nv257     -0.1067     0.0726    -1.4701   0.1415   -0.2489    0.0356\nv258     -0.0001     0.0002    -0.6368   0.5242   -0.0004    0.0002\nv263     -0.0000     0.0001    -0.3623   0.7171   -0.0001    0.0001\ncntry     0.0008     0.0096     0.0882   0.9297   -0.0180    0.0196\n=================================================================\n\n"
    }
   ],
   "source": [
    "logit_model = sm.Logit(y,X)\n",
    "result = logit_model.fit()\n",
    "print(result.summary2())\n"
   ]
  },
  {
   "cell_type": "code",
   "execution_count": 9,
   "metadata": {},
   "outputs": [
    {
     "data": {
      "text/plain": "LogisticRegression(C=1.0, class_weight=None, dual=False, fit_intercept=True,\n                   intercept_scaling=1, l1_ratio=None, max_iter=100,\n                   multi_class='warn', n_jobs=None, penalty='l2',\n                   random_state=None, solver='warn', tol=0.0001, verbose=0,\n                   warm_start=False)"
     },
     "execution_count": 9,
     "metadata": {},
     "output_type": "execute_result"
    }
   ],
   "source": [
    "full_log_model = LogisticRegression()\n",
    "full_log_model.fit(X,y)"
   ]
  },
  {
   "cell_type": "code",
   "execution_count": 11,
   "metadata": {},
   "outputs": [
    {
     "data": {
      "text/html": "<div>\n<style scoped>\n    .dataframe tbody tr th:only-of-type {\n        vertical-align: middle;\n    }\n\n    .dataframe tbody tr th {\n        vertical-align: top;\n    }\n\n    .dataframe thead th {\n        text-align: right;\n    }\n</style>\n<table border=\"1\" class=\"dataframe\">\n  <thead>\n    <tr style=\"text-align: right;\">\n      <th></th>\n      <th>id</th>\n      <th>Predicted</th>\n    </tr>\n  </thead>\n  <tbody>\n    <tr>\n      <td>0</td>\n      <td>14061</td>\n      <td>0</td>\n    </tr>\n    <tr>\n      <td>1</td>\n      <td>16467</td>\n      <td>0</td>\n    </tr>\n    <tr>\n      <td>2</td>\n      <td>25725</td>\n      <td>1</td>\n    </tr>\n    <tr>\n      <td>3</td>\n      <td>9100</td>\n      <td>1</td>\n    </tr>\n    <tr>\n      <td>4</td>\n      <td>32597</td>\n      <td>0</td>\n    </tr>\n    <tr>\n      <td>...</td>\n      <td>...</td>\n      <td>...</td>\n    </tr>\n    <tr>\n      <td>9240</td>\n      <td>31430</td>\n      <td>1</td>\n    </tr>\n    <tr>\n      <td>9241</td>\n      <td>3876</td>\n      <td>0</td>\n    </tr>\n    <tr>\n      <td>9242</td>\n      <td>20710</td>\n      <td>1</td>\n    </tr>\n    <tr>\n      <td>9243</td>\n      <td>26015</td>\n      <td>1</td>\n    </tr>\n    <tr>\n      <td>9244</td>\n      <td>12970</td>\n      <td>0</td>\n    </tr>\n  </tbody>\n</table>\n<p>9245 rows × 2 columns</p>\n</div>",
      "text/plain": "         id  Predicted\n0     14061          0\n1     16467          0\n2     25725          1\n3      9100          1\n4     32597          0\n...     ...        ...\n9240  31430          1\n9241   3876          0\n9242  20710          1\n9243  26015          1\n9244  12970          0\n\n[9245 rows x 2 columns]"
     },
     "execution_count": 11,
     "metadata": {},
     "output_type": "execute_result"
    }
   ],
   "source": [
    "X_test = test.loc[:, X_cols]\n",
    "y_pred_full_log_model = full_log_model.predict(X_test)\n",
    "test_ids = test['id']\n",
    "test_pred_full_log_model = pd.DataFrame({'id': test_ids, 'Predicted':y_pred_full_log_model})\n",
    "test_pred_full_log_model"
   ]
  },
  {
   "cell_type": "code",
   "execution_count": 12,
   "metadata": {},
   "outputs": [],
   "source": [
    "test_pred_full_log_model.to_csv(\"test_pred_full_log_model.csv\", index=False)"
   ]
  },
  {
   "cell_type": "markdown",
   "execution_count": null,
   "metadata": {},
   "outputs": [],
   "source": [
    "With the initial logistic regression model that used all features (200 columns) we have a score of"
   ]
  },
  {
   "cell_type": "markdown",
   "execution_count": null,
   "metadata": {},
   "outputs": [],
   "source": [
    "### Recursive Feature Elimination\n",
    "\n",
    "https://towardsdatascience.com/building-a-logistic-regression-in-python-step-by-step-becd4d56c9c8\n",
    "\n",
    "Given an external estimator that assigns weights to features (e.g., the coefficients of a linear model), the goal of recursive feature elimination (RFE) is to select features by recursively considering smaller and smaller sets of features. First, the estimator is trained on the initial set of features and the importance of each feature is obtained either through a coef_ attribute or through a feature_importances_ attribute. Then, the least important features are pruned from current set of features. That procedure is recursively repeated on the pruned set until the desired number of features to select is eventually reached.\n",
    "\n"
   ]
  },
  {
   "cell_type": "code",
   "execution_count": 26,
   "metadata": {},
   "outputs": [
    {
     "name": "stdout",
     "output_type": "stream",
     "text": "Optimum number of features: 107\nScore with 107 features: 0.798648\n"
    }
   ],
   "source": [
    "# Find optimum number of features, for which the accuracy is the highest from RFE\n",
    "high_score = 0\n",
    "\n",
    "# Variable to store the optimum features\n",
    "nof = 1\n",
    "score_list = []\n",
    "\n",
    "for n in range(1,len(X_cols)):\n",
    "    X_train, X_test, y_train, y_test = train_test_split(X,y, test_size = 0.3, random_state = 0)\n",
    "    model = LogisticRegression()\n",
    "    rfe = RFE(model,n)\n",
    "    X_train_rfe = rfe.fit_transform(X_train,y_train)\n",
    "    X_test_rfe = rfe.transform(X_test)\n",
    "    model.fit(X_train_rfe,y_train)\n",
    "    score = model.score(X_test_rfe,y_test)\n",
    "    score_list.append(score)\n",
    "    if(score>high_score):\n",
    "        high_score = score\n",
    "        nof = n\n",
    "print(\"Optimum number of features: %d\" %nof)\n",
    "print(\"Score with %d features: %f\" % (nof, high_score))"
   ]
  },
  {
   "cell_type": "code",
   "execution_count": 27,
   "metadata": {},
   "outputs": [
    {
     "name": "stdout",
     "output_type": "stream",
     "text": "[False  True False False  True False  True  True  True  True False False\n  True  True False  True False False  True  True False  True  True  True\n  True False  True  True  True  True  True False  True  True  True  True\n  True  True False False  True  True  True  True  True  True  True  True\n False False  True False False False False False False False False False\n False  True False False  True False False  True False  True False  True\n  True  True  True  True  True  True  True  True  True  True  True False\n  True  True False  True False False False False False  True  True  True\n False False  True False  True  True False False False False  True  True\n  True False False False False False False False  True False  True False\n  True  True False False False  True False False False  True False False\n False False False False  True  True  True  True False False  True  True\n  True  True  True  True False  True  True False  True  True  True  True\n False  True  True  True  True False  True  True False  True  True False\n False  True False  True False False  True False  True False False False\n False False  True  True  True  True  True  True  True False False False\n  True False  True False  True False False False]\n[16  1 70 94  1 10  1  1  1  1 79 29  1  1 58  1 28 63  1  1 85  1  1  1\n  1 69  1  1  1  1  1 54  1  1  1  1  1  1 35 66  1  1  1  1  1  1  1  1\n  9 25  1 27 75 71 73 33 78  6 26 76 32  1  3  8  1 15 52  1 91  1  4  1\n  1  1  1  1  1  1  1  1  1  1  1 37  1  1 38  1 39 83 19 61 22  1  1  1\n 21 14  1 31  1  1 81 47 43 60  1  1  1 80 49 82 51 34 45 77  1 46  1 62\n  1  1 89 18 74  1 30  2 92  1 86 68 13 65 55 67  1  1  1  1 87 72  1  1\n  1  1  1  1 84  1  1 17  1  1  1  1 41  1  1  1  1 88  1  1 24  1  1 20\n 59  1 48  1 64  5  1 12  1  7 23 40 36 42  1  1  1  1  1  1  1 53 56 44\n  1 50  1 57  1 90 93 11]\n"
    }
   ],
   "source": [
    "logreg = LogisticRegression()\n",
    "rfe = RFE(logreg, nof)\n",
    "rfe = rfe.fit(X, y.values.ravel())\n",
    "print(rfe.support_)\n",
    "print(rfe.ranking_)"
   ]
  },
  {
   "cell_type": "code",
   "execution_count": 28,
   "metadata": {},
   "outputs": [
    {
     "data": {
      "text/plain": "Index(['v2', 'v6', 'v8', 'v9', 'v10', 'v12', 'v15', 'v16', 'v18', 'v21',\n       ...\n       'v240', 'v242', 'v244', 'v245', 'v246', 'v247', 'v248', 'v253', 'v255',\n       'v257'],\n      dtype='object', length=107)"
     },
     "execution_count": 28,
     "metadata": {},
     "output_type": "execute_result"
    }
   ],
   "source": [
    "temp = pd.Series(rfe.support_, index = X_cols)\n",
    "selected_features_rfe = temp[temp==True].index\n",
    "selected_features_rfe"
   ]
  },
  {
   "cell_type": "code",
   "execution_count": 29,
   "metadata": {},
   "outputs": [
    {
     "data": {
      "text/plain": "LogisticRegression(C=1.0, class_weight=None, dual=False, fit_intercept=True,\n                   intercept_scaling=1, l1_ratio=None, max_iter=100,\n                   multi_class='warn', n_jobs=None, penalty='l2',\n                   random_state=None, solver='warn', tol=0.0001, verbose=0,\n                   warm_start=False)"
     },
     "execution_count": 29,
     "metadata": {},
     "output_type": "execute_result"
    }
   ],
   "source": [
    "X_reduced = X[selected_features_rfe]\n",
    "reduced_log_model = LogisticRegression()\n",
    "reduced_log_model.fit(X_reduced,y)"
   ]
  },
  {
   "cell_type": "code",
   "execution_count": 30,
   "metadata": {},
   "outputs": [
    {
     "data": {
      "text/html": "<div>\n<style scoped>\n    .dataframe tbody tr th:only-of-type {\n        vertical-align: middle;\n    }\n\n    .dataframe tbody tr th {\n        vertical-align: top;\n    }\n\n    .dataframe thead th {\n        text-align: right;\n    }\n</style>\n<table border=\"1\" class=\"dataframe\">\n  <thead>\n    <tr style=\"text-align: right;\">\n      <th></th>\n      <th>id</th>\n      <th>Predicted</th>\n    </tr>\n  </thead>\n  <tbody>\n    <tr>\n      <td>0</td>\n      <td>14061</td>\n      <td>0</td>\n    </tr>\n    <tr>\n      <td>1</td>\n      <td>16467</td>\n      <td>0</td>\n    </tr>\n    <tr>\n      <td>2</td>\n      <td>25725</td>\n      <td>1</td>\n    </tr>\n    <tr>\n      <td>3</td>\n      <td>9100</td>\n      <td>1</td>\n    </tr>\n    <tr>\n      <td>4</td>\n      <td>32597</td>\n      <td>0</td>\n    </tr>\n    <tr>\n      <td>...</td>\n      <td>...</td>\n      <td>...</td>\n    </tr>\n    <tr>\n      <td>9240</td>\n      <td>31430</td>\n      <td>1</td>\n    </tr>\n    <tr>\n      <td>9241</td>\n      <td>3876</td>\n      <td>0</td>\n    </tr>\n    <tr>\n      <td>9242</td>\n      <td>20710</td>\n      <td>1</td>\n    </tr>\n    <tr>\n      <td>9243</td>\n      <td>26015</td>\n      <td>1</td>\n    </tr>\n    <tr>\n      <td>9244</td>\n      <td>12970</td>\n      <td>0</td>\n    </tr>\n  </tbody>\n</table>\n<p>9245 rows × 2 columns</p>\n</div>",
      "text/plain": "         id  Predicted\n0     14061          0\n1     16467          0\n2     25725          1\n3      9100          1\n4     32597          0\n...     ...        ...\n9240  31430          1\n9241   3876          0\n9242  20710          1\n9243  26015          1\n9244  12970          0\n\n[9245 rows x 2 columns]"
     },
     "execution_count": 30,
     "metadata": {},
     "output_type": "execute_result"
    }
   ],
   "source": [
    "X_test_reduced = test.loc[:, selected_features_rfe]\n",
    "y_pred_reduced_log_model = reduced_log_model.predict(X_test_reduced)\n",
    "test_pred_reduced_log_model = pd.DataFrame({'id': test_ids, 'Predicted':y_pred_reduced_log_model})\n",
    "test_pred_reduced_log_model"
   ]
  },
  {
   "cell_type": "code",
   "execution_count": 31,
   "metadata": {},
   "outputs": [],
   "source": [
    "test_pred_reduced_log_model.to_csv(\"test_pred_reduced_log_model.csv\", index=False)"
   ]
  },
  {
   "cell_type": "code",
   "execution_count": null,
   "metadata": {},
   "outputs": [],
   "source": []
  }
 ]
}