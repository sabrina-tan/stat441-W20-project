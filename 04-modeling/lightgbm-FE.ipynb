{
 "cells": [
  {
   "cell_type": "code",
   "execution_count": 13,
   "metadata": {},
   "outputs": [],
   "source": "import pandas as pd\nimport numpy as np\nimport random\n\nfrom sklearn import metrics\nfrom sklearn.metrics import roc_auc_score\nfrom sklearn.model_selection import KFold, RandomizedSearchCV, train_test_split\n\nfrom lightgbm import LGBMClassifier\nimport matplotlib.pyplot as plt\nimport lightgbm as lgb\nimport os"
  },
  {
   "cell_type": "code",
   "execution_count": 14,
   "metadata": {},
   "outputs": [],
   "source": "train = pd.read_csv(\"../03-data-creation/train_FE.csv\")\ntest = pd.read_csv(\"../03-data-creation/test_FE.csv\")\n\n# Drop unwanted column\ntrain = train.drop(\"Unnamed: 0\", axis = 1)\ntest = test.drop(\"Unnamed: 0\", axis = 1)\n\n# We won't touch test until predicting for submission\n\n# We don't want the ID to be used in the model so preserve\ntrain_id = train['id']\ntest_id = test['id']\n\ntrain = train.drop('id', axis = 1)\ntest = test.drop('id', axis = 1)\n\n# Split X and y\nX = train.loc[:, train.columns != \"satisfied\"]\ny = train.satisfied"
  },
  {
   "cell_type": "code",
   "execution_count": 15,
   "metadata": {},
   "outputs": [],
   "source": "# Split data\nX_train, X_test, y_train, y_test = train_test_split(X, y, test_size=0.20, random_state = 3096)"
  },
  {
   "cell_type": "code",
   "execution_count": 16,
   "metadata": {},
   "outputs": [
    {
     "name": "stdout",
     "output_type": "stream",
     "text": "\nLGBMClassifier(boosting_type='gbdt', class_weight=None, colsample_bytree=1.0,\n               importance_type='split', learning_rate=0.1, max_depth=-1,\n               min_child_samples=20, min_child_weight=0.001, min_split_gain=0.0,\n               n_estimators=100, n_jobs=-1, num_leaves=31, objective=None,\n               random_state=None, reg_alpha=0.0, reg_lambda=0.0, silent=True,\n               subsample=1.0, subsample_for_bin=200000, subsample_freq=0)\n"
    }
   ],
   "source": "# Fit model - default params\nmodel = lgb.LGBMClassifier()\nmodel.fit(X_train, y_train)\nprint(); print(model)"
  },
  {
   "cell_type": "code",
   "execution_count": 17,
   "metadata": {},
   "outputs": [
    {
     "name": "stdout",
     "output_type": "stream",
     "text": "\n              precision    recall  f1-score   support\n\n           0       0.80      0.79      0.79      2824\n           1       0.82      0.82      0.82      3192\n\n    accuracy                           0.81      6016\n   macro avg       0.81      0.81      0.81      6016\nweighted avg       0.81      0.81      0.81      6016\n\n\n[[2229  595]\n [ 562 2630]]\n\n0.8066203930506153\n"
    }
   ],
   "source": "# Predict\nexpected_y = y_test\npredicted_y = model.predict(X_test)\n\n# Summarize model fit\nprint(); print(metrics.classification_report(expected_y, predicted_y))\nprint(); print(metrics.confusion_matrix(expected_y, predicted_y))\nprint(); print(metrics.roc_auc_score(expected_y, predicted_y))"
  },
  {
   "cell_type": "markdown",
   "metadata": {},
   "source": "Hyperparameter tuning:"
  },
  {
   "cell_type": "code",
   "execution_count": 18,
   "metadata": {},
   "outputs": [],
   "source": "# Hyperparameter grid\nparam_grid = {\n    'boosting_type': ['gbdt'], \n    'n_estimators': list(range(50,2000)),\n    'num_leaves': list(range(20, 100)),\n    'learning_rate': list(np.logspace(np.log10(0.005), np.log10(0.5), base = 10, num = 1000)),\n    'subsample_for_bin': list(range(20000, 300000, 20000)),\n    'min_child_samples': list(range(20, 500, 5)),\n    'reg_alpha': list(np.linspace(0, 1)),\n    'reg_lambda': list(np.linspace(0, 1)),\n    'colsample_bytree': list(np.linspace(0.6, 1, 10)),\n    'subsample': list(np.linspace(0.5, 1, 100)),\n    'objective': ['binary'],\n    'metric': ['auc'],\n    'is_unbalance': [False]\n}"
  },
  {
   "cell_type": "code",
   "execution_count": 19,
   "metadata": {},
   "outputs": [
    {
     "name": "stdout",
     "output_type": "stream",
     "text": "Fitting 5 folds for each of 50 candidates, totalling 250 fits\n"
    },
    {
     "name": "stderr",
     "output_type": "stream",
     "text": "[Parallel(n_jobs=-1)]: Using backend LokyBackend with 4 concurrent workers.\n[Parallel(n_jobs=-1)]: Done   5 tasks      | elapsed:  1.2min\n[Parallel(n_jobs=-1)]: Done  10 tasks      | elapsed:  1.4min\n[Parallel(n_jobs=-1)]: Done  17 tasks      | elapsed:  2.6min\n[Parallel(n_jobs=-1)]: Done  24 tasks      | elapsed:  3.7min\n[Parallel(n_jobs=-1)]: Done  33 tasks      | elapsed:  5.2min\n[Parallel(n_jobs=-1)]: Done  42 tasks      | elapsed:  6.5min\n[Parallel(n_jobs=-1)]: Done  53 tasks      | elapsed:  7.6min\n[Parallel(n_jobs=-1)]: Done  64 tasks      | elapsed:  9.8min\n[Parallel(n_jobs=-1)]: Done  77 tasks      | elapsed: 11.2min\n[Parallel(n_jobs=-1)]: Done  90 tasks      | elapsed: 12.0min\n[Parallel(n_jobs=-1)]: Done 105 tasks      | elapsed: 13.7min\n[Parallel(n_jobs=-1)]: Done 120 tasks      | elapsed: 14.6min\n[Parallel(n_jobs=-1)]: Done 137 tasks      | elapsed: 16.3min\n[Parallel(n_jobs=-1)]: Done 154 tasks      | elapsed: 18.3min\n[Parallel(n_jobs=-1)]: Done 173 tasks      | elapsed: 21.1min\n[Parallel(n_jobs=-1)]: Done 192 tasks      | elapsed: 23.0min\n[Parallel(n_jobs=-1)]: Done 213 tasks      | elapsed: 25.6min\n[Parallel(n_jobs=-1)]: Done 234 tasks      | elapsed: 29.1min\n[Parallel(n_jobs=-1)]: Done 250 out of 250 | elapsed: 31.7min finished\n"
    },
    {
     "data": {
      "text/plain": "RandomizedSearchCV(cv=5, error_score=nan,\n                   estimator=LGBMClassifier(boosting_type='gbdt',\n                                            class_weight=None,\n                                            colsample_bytree=1.0,\n                                            importance_type='split',\n                                            learning_rate=0.1, max_depth=-1,\n                                            min_child_samples=20,\n                                            min_child_weight=0.001,\n                                            min_split_gain=0.0,\n                                            n_estimators=100, n_jobs=-1,\n                                            num_leaves=31, objective=None,\n                                            random_state=None, reg_alpha=0.0,\n                                            reg_lambda=0.0, sile...\n                                                      0.6161616161616161,\n                                                      0.6212121212121212,\n                                                      0.6262626262626263,\n                                                      0.6313131313131313,\n                                                      0.6363636363636364,\n                                                      0.6414141414141414,\n                                                      0.6464646464646464, ...],\n                                        'subsample_for_bin': [20000, 40000,\n                                                              60000, 80000,\n                                                              100000, 120000,\n                                                              140000, 160000,\n                                                              180000, 200000,\n                                                              220000, 240000,\n                                                              260000, 280000]},\n                   pre_dispatch='2*n_jobs', random_state=None, refit=True,\n                   return_train_score=False, scoring='roc_auc', verbose=10)"
     },
     "execution_count": 19,
     "metadata": {},
     "output_type": "execute_result"
    }
   ],
   "source": "rsearch = RandomizedSearchCV(estimator = model,\n                             param_distributions = param_grid,\n                             n_iter = 50,\n                             verbose = 10,\n                             cv = 5,\n                             n_jobs = -1,\n                             scoring = 'roc_auc')\n\nrsearch.fit(X_train, y_train)"
  },
  {
   "cell_type": "code",
   "execution_count": 20,
   "metadata": {},
   "outputs": [
    {
     "name": "stdout",
     "output_type": "stream",
     "text": "{'subsample_for_bin': 140000, 'subsample': 0.8484848484848485, 'reg_lambda': 0.7346938775510203, 'reg_alpha': 0.4897959183673469, 'objective': 'binary', 'num_leaves': 81, 'n_estimators': 962, 'min_child_samples': 305, 'metric': 'auc', 'learning_rate': 0.010897034921514772, 'is_unbalance': False, 'colsample_bytree': 0.6444444444444444, 'boosting_type': 'gbdt'}\n"
    }
   ],
   "source": "print(rsearch.best_params_)"
  },
  {
   "cell_type": "code",
   "execution_count": 21,
   "metadata": {},
   "outputs": [
    {
     "data": {
      "text/plain": "0.8125177497568283"
     },
     "execution_count": 21,
     "metadata": {},
     "output_type": "execute_result"
    }
   ],
   "source": "#Prediction\ny_pred = rsearch.predict(X_test)\n\n#auc calculation\nmetrics.roc_auc_score(y_test,y_pred)"
  },
  {
   "cell_type": "code",
   "execution_count": 22,
   "metadata": {},
   "outputs": [
    {
     "data": {
      "text/plain": "Text(0, 0.5, 'Feature Importance Score')"
     },
     "execution_count": 22,
     "metadata": {},
     "output_type": "execute_result"
    },
    {
     "data": {
      "image/png": "[encoded data removed]",
      "text/plain": "<Figure size 1440x360 with 1 Axes>"
     },
     "metadata": {
      "needs_background": "light"
     },
     "output_type": "display_data"
    }
   ],
   "source": "#Feature importance for top 50 predictors\npredictors = [x for x in X_train.columns]\nfeat_imp = pd.Series(rsearch.best_estimator_.feature_importances_, predictors).sort_values(ascending=False)\nfeat_imp = feat_imp[0:50]\nplt.rcParams['figure.figsize'] = 20, 5\nfeat_imp.plot(kind='bar', title='Feature Importance')\nplt.ylabel('Feature Importance Score')"
  },
  {
   "cell_type": "code",
   "execution_count": null,
   "metadata": {},
   "outputs": [],
   "source": "# Gridsearch around the optimal params"
  },
  {
   "cell_type": "markdown",
   "metadata": {},
   "source": "## FOR SUBMISSION ONLY:"
  },
  {
   "cell_type": "code",
   "execution_count": 26,
   "metadata": {},
   "outputs": [
    {
     "name": "stdout",
     "output_type": "stream",
     "text": "\nLGBMClassifier(boosting_type='gbdt', class_weight=None, colsample_bytree=1.0,\n               importance_type='split', learning_rate=0.1, max_depth=-1,\n               min_child_samples=20, min_child_weight=0.001, min_split_gain=0.0,\n               n_estimators=100, n_jobs=-1, num_leaves=31, objective=None,\n               random_state=None, reg_alpha=0.0, reg_lambda=0.0, silent=True,\n               subsample=1.0, subsample_for_bin=200000, subsample_freq=0)\n"
    }
   ],
   "source": "# Now fit LGBM on full training data\n# model_full = lgb.LGBMClassifier(**rsearch.best_params_)\n# model_full.fit(X, y)\n# print(); print(model)"
  },
  {
   "cell_type": "code",
   "execution_count": 28,
   "metadata": {},
   "outputs": [],
   "source": "submit = test.copy()\nsubmit['Predicted'] = rsearch.predict(test)"
  },
  {
   "cell_type": "code",
   "execution_count": 29,
   "metadata": {},
   "outputs": [],
   "source": "submit['id'] = test_id"
  },
  {
   "cell_type": "code",
   "execution_count": 30,
   "metadata": {},
   "outputs": [],
   "source": "submit[['id', 'Predicted']].to_csv('lgb_submission_2.csv', index = False, float_format = \"%.8f\")"
  }
 ],
 "metadata": {
  "file_extension": ".py",
  "kernelspec": {
   "display_name": "Python 3",
   "language": "python",
   "name": "python3"
  },
  "language_info": {
   "codemirror_mode": {
    "name": "ipython",
    "version": 3
   },
   "file_extension": ".py",
   "mimetype": "text/x-python",
   "name": "python",
   "nbconvert_exporter": "python",
   "pygments_lexer": "ipython3",
   "version": "3.7.1"
  },
  "mimetype": "text/x-python",
  "name": "python",
  "npconvert_exporter": "python",
  "pygments_lexer": "ipython2",
  "version": 2
 },
 "nbformat": 4,
 "nbformat_minor": 2
}
