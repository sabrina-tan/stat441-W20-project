{
 "nbformat": 4,
 "nbformat_minor": 2,
 "metadata": {
  "language_info": {
   "name": "python",
   "codemirror_mode": {
    "name": "ipython",
    "version": 3
   },
   "version": "3.8.0-final"
  },
  "orig_nbformat": 2,
  "file_extension": ".py",
  "mimetype": "text/x-python",
  "name": "python",
  "npconvert_exporter": "python",
  "pygments_lexer": "ipython3",
  "version": 3,
  "kernelspec": {
   "name": "python38064bit69f4df3ff8e947248f1affdaf5418c70",
   "display_name": "Python 3.8.0 64-bit"
  }
 },
 "cells": [
  {
   "cell_type": "markdown",
   "execution_count": null,
   "metadata": {},
   "outputs": [],
   "source": [
    "## Predicting Life Satisfaction\n",
    "### Exploratoy Data Analysis\n",
    "#### Objectives:\n",
    "- Analysis of missing observations\n",
    "- Analysis of categorical/numeric features\n",
    "- 1 way/ 2 way variable plots (histograms, scatterplots, etc.)\n",
    "- Correlation analysis"
   ]
  },
  {
   "cell_type": "markdown",
   "execution_count": null,
   "metadata": {},
   "outputs": [],
   "source": [
    "### From Kaggle:\n",
    "#### File descriptions  \n",
    "* train.csv - the training set with some preprocesssing of values.  \n",
    "* test.csv - the test set with some preprocesssing of values.  \n",
    "* train_raw.csv - the training set with original responses (no preprocessing).  \n",
    "* test_raw.csv - the test set with original responses (no preprocessing).  \n",
    "* codebook_compact.txt - short descriptions of each data field.  \n",
    "* codebook_long.txt - long descriptions of each field.  \n",
    "* sample_submission.csv - a sample submission file in the correct format. Change values in the Predicted column to estimates of the probability the person is very satisfied and submit to receive a leaderboard score.  \n",
    "  \n",
    "#### Data fields\n",
    "* sample_submission.csv - survey respondent id\n",
    "* v1-v270 - survey response fields\n",
    "* cntry - survey respondent country\n",
    "* satisfied - whether (1) or not (0) the survey respondent is 'very satisfied' with their life (training set only)"
   ]
  },
  {
   "cell_type": "code",
   "execution_count": null,
   "metadata": {},
   "outputs": [],
   "source": [
    "# Import packages\n",
    "import pandas as pd\n",
    "import numpy as np\n",
    "import os\n",
    "import matplotlib.pyplot as plt\n",
    "import seaborn as sns\n",
    "\n",
    "# Set options\n",
    "pd.options.display.max_rows = None\n",
    "pd.options.display.max_columns = None\n",
    "pd.options.display.max_colwidth = -1"
   ]
  },
  {
   "cell_type": "code",
   "execution_count": null,
   "metadata": {},
   "outputs": [],
   "source": [
    "# Import data\n",
    "train_raw = pd.read_csv(\"../01-data/train_raw.csv\", low_memory = False)\n",
    "train = pd.read_csv(\"../01-data/train.csv\", low_memory = False)\n",
    "test_raw = pd.read_csv(\"../01-data/test_raw.csv\", low_memory = False)\n",
    "test = pd.read_csv(\"../01-data/test.csv\", low_memory = False)\n",
    "\n",
    "# Custom data\n",
    "codebook = pd.read_csv(\"../01-data/codebook_compact.csv\", low_memory = False) # OG codebook+dtypes from codebook_long"
   ]
  },
  {
   "cell_type": "code",
   "execution_count": null,
   "metadata": {},
   "outputs": [],
   "source": [
    "train_no_blanks = train.fillna('.')\n",
    "train_raw_no_blanks = train_raw.fillna('.')"
   ]
  },
  {
   "cell_type": "code",
   "execution_count": null,
   "metadata": {},
   "outputs": [],
   "source": [
    "codebook"
   ]
  },
  {
   "cell_type": "code",
   "execution_count": null,
   "metadata": {},
   "outputs": [],
   "source": [
    "display(train_raw.head())\n",
    "train_raw.shape"
   ]
  },
  {
   "cell_type": "code",
   "execution_count": null,
   "metadata": {},
   "outputs": [],
   "source": [
    "display(train.head())\n",
    "train.shape"
   ]
  },
  {
   "cell_type": "markdown",
   "execution_count": null,
   "metadata": {},
   "outputs": [],
   "source": [
    "### Raw vs. preprocessed data\n",
    "Counting the frequency of unique answers for each variables question"
   ]
  },
  {
   "cell_type": "code",
   "execution_count": null,
   "metadata": {},
   "outputs": [],
   "source": [
    "# frequency_train_raw = pd.DataFrame()\n",
    "\n",
    "# for i in list(train_raw)[1:]:\n",
    "#     grouped_data = train_raw.groupby(i)['id'].count()\n",
    "#     num_unique_answers = grouped_data.size\n",
    "#     temp_dict = {'Question': [i]*num_unique_answers,\n",
    "#                  'Response': list(grouped_data.index),\n",
    "#                  'Frequency': list(grouped_data)}\n",
    "#     frequency_train_raw = frequency_train_raw.append(pd.DataFrame(temp_dict))\n",
    "\n",
    "# frequency_train_raw.reset_index(inplace=True, drop=True)"
   ]
  },
  {
   "cell_type": "code",
   "execution_count": null,
   "metadata": {},
   "outputs": [],
   "source": [
    "# frequency_train_raw"
   ]
  },
  {
   "cell_type": "code",
   "execution_count": null,
   "metadata": {},
   "outputs": [],
   "source": [
    "# frequency_train = pd.DataFrame()\n",
    "\n",
    "# for i in list(train)[1:]:\n",
    "#     grouped_data = train.groupby(i)['id'].count()\n",
    "#     num_unique_answers = grouped_data.size\n",
    "#     temp_dict = {'Question': [i]*num_unique_answers,\n",
    "#                  'Response': list(grouped_data.index),\n",
    "#                  'Frequency': list(grouped_data)}\n",
    "#     frequency_train = frequency_train.append(pd.DataFrame(temp_dict))\n",
    "\n",
    "# frequency_train.reset_index(inplace=True, drop=True)\n"
   ]
  },
  {
   "cell_type": "code",
   "execution_count": null,
   "metadata": {},
   "outputs": [],
   "source": [
    "# frequency_train"
   ]
  },
  {
   "cell_type": "code",
   "execution_count": null,
   "metadata": {},
   "outputs": [],
   "source": [
    "frequency_train_raw_no_blanks = pd.DataFrame()\n",
    "\n",
    "for i in list(train_raw_no_blanks)[1:]:\n",
    "    grouped_data = train_raw_no_blanks.groupby(i)['id'].count()\n",
    "    num_unique_answers = grouped_data.size\n",
    "    temp_dict = {'Question': [i]*num_unique_answers,\n",
    "                 'Response': list(grouped_data.index),\n",
    "                 'Frequency': list(grouped_data)}\n",
    "    frequency_train_raw_no_blanks = frequency_train_raw_no_blanks.append(pd.DataFrame(temp_dict))\n",
    "\n",
    "frequency_train_raw_no_blanks.reset_index(inplace=True, drop=True)\n"
   ]
  },
  {
   "cell_type": "code",
   "execution_count": null,
   "metadata": {},
   "outputs": [],
   "source": [
    "frequency_train_raw_no_blanks"
   ]
  },
  {
   "cell_type": "code",
   "execution_count": null,
   "metadata": {},
   "outputs": [],
   "source": [
    "frequency_train_no_blanks = pd.DataFrame()\n",
    "\n",
    "for i in list(train_no_blanks)[1:]:\n",
    "    grouped_data = train_no_blanks.groupby(i)['id'].count()\n",
    "    num_unique_answers = grouped_data.size\n",
    "    temp_dict = {'Question': [i]*num_unique_answers,\n",
    "                 'Response': list(grouped_data.index),\n",
    "                 'Frequency': list(grouped_data)}\n",
    "    frequency_train_no_blanks = frequency_train_no_blanks.append(pd.DataFrame(temp_dict))\n",
    "\n",
    "frequency_train_no_blanks.reset_index(inplace=True, drop=True)\n"
   ]
  },
  {
   "cell_type": "code",
   "execution_count": null,
   "metadata": {},
   "outputs": [],
   "source": [
    "frequency_train_no_blanks"
   ]
  },
  {
   "cell_type": "markdown",
   "execution_count": null,
   "metadata": {},
   "outputs": [],
   "source": [
    "Attach short description for question"
   ]
  },
  {
   "cell_type": "code",
   "execution_count": null,
   "metadata": {},
   "outputs": [],
   "source": [
    "frequency_train_raw_no_blanks.merge(codebook[['Variable','Label','Unique','Type_codebook_long']], left_on = 'Question', right_on = 'Variable', how = 'left')\n"
   ]
  },
  {
   "cell_type": "code",
   "execution_count": null,
   "metadata": {},
   "outputs": [],
   "source": [
    "frequency_train_no_blanks.merge(codebook[['Variable','Label','Unique',Type_codebook_long']], left_on = 'Question', right_on = 'Variable', how = 'left')\n"
   ]
  },
  {
   "cell_type": "code",
   "execution_count": 45,
   "metadata": {},
   "outputs": [
    {
     "data": {
      "text/html": "<div>\n<style scoped>\n    .dataframe tbody tr th:only-of-type {\n        vertical-align: middle;\n    }\n\n    .dataframe tbody tr th {\n        vertical-align: top;\n    }\n\n    .dataframe thead th {\n        text-align: right;\n    }\n</style>\n<table border=\"1\" class=\"dataframe\">\n  <thead>\n    <tr style=\"text-align: right;\">\n      <th></th>\n      <th>Question</th>\n      <th>Response</th>\n      <th>Frequency</th>\n    </tr>\n  </thead>\n  <tbody>\n    <tr>\n      <th>503</th>\n      <td>v15</td>\n      <td>0</td>\n      <td>30023</td>\n    </tr>\n    <tr>\n      <th>505</th>\n      <td>v16</td>\n      <td>0</td>\n      <td>30070</td>\n    </tr>\n    <tr>\n      <th>1080</th>\n      <td>v26</td>\n      <td>0</td>\n      <td>30066</td>\n    </tr>\n    <tr>\n      <th>1082</th>\n      <td>v27</td>\n      <td>0</td>\n      <td>30039</td>\n    </tr>\n    <tr>\n      <th>1084</th>\n      <td>v28</td>\n      <td>0</td>\n      <td>30055</td>\n    </tr>\n    <tr>\n      <th>1086</th>\n      <td>v29</td>\n      <td>0</td>\n      <td>29977</td>\n    </tr>\n    <tr>\n      <th>1088</th>\n      <td>v30</td>\n      <td>0</td>\n      <td>17793</td>\n    </tr>\n    <tr>\n      <th>1090</th>\n      <td>v31</td>\n      <td>0</td>\n      <td>29636</td>\n    </tr>\n    <tr>\n      <th>1092</th>\n      <td>v32</td>\n      <td>0</td>\n      <td>29910</td>\n    </tr>\n    <tr>\n      <th>1094</th>\n      <td>v33</td>\n      <td>0</td>\n      <td>30055</td>\n    </tr>\n    <tr>\n      <th>1096</th>\n      <td>v34</td>\n      <td>0</td>\n      <td>30031</td>\n    </tr>\n    <tr>\n      <th>1106</th>\n      <td>v36</td>\n      <td>0</td>\n      <td>29031</td>\n    </tr>\n    <tr>\n      <th>1108</th>\n      <td>v37</td>\n      <td>0</td>\n      <td>29663</td>\n    </tr>\n    <tr>\n      <th>1110</th>\n      <td>v38</td>\n      <td>0</td>\n      <td>29674</td>\n    </tr>\n    <tr>\n      <th>1112</th>\n      <td>v39</td>\n      <td>0</td>\n      <td>30053</td>\n    </tr>\n    <tr>\n      <th>1114</th>\n      <td>v40</td>\n      <td>0</td>\n      <td>29856</td>\n    </tr>\n    <tr>\n      <th>1116</th>\n      <td>v41</td>\n      <td>0</td>\n      <td>29771</td>\n    </tr>\n    <tr>\n      <th>1118</th>\n      <td>v42</td>\n      <td>0</td>\n      <td>29764</td>\n    </tr>\n    <tr>\n      <th>1125</th>\n      <td>v44</td>\n      <td>0</td>\n      <td>29712</td>\n    </tr>\n    <tr>\n      <th>1127</th>\n      <td>v45</td>\n      <td>0</td>\n      <td>30076</td>\n    </tr>\n    <tr>\n      <th>1129</th>\n      <td>v46</td>\n      <td>0</td>\n      <td>2515</td>\n    </tr>\n    <tr>\n      <th>1131</th>\n      <td>v47</td>\n      <td>0</td>\n      <td>29465</td>\n    </tr>\n    <tr>\n      <th>1133</th>\n      <td>v48</td>\n      <td>0</td>\n      <td>29527</td>\n    </tr>\n    <tr>\n      <th>1135</th>\n      <td>v49</td>\n      <td>0</td>\n      <td>29667</td>\n    </tr>\n    <tr>\n      <th>1137</th>\n      <td>v50</td>\n      <td>0</td>\n      <td>30073</td>\n    </tr>\n    <tr>\n      <th>1139</th>\n      <td>v51</td>\n      <td>0</td>\n      <td>29572</td>\n    </tr>\n    <tr>\n      <th>1141</th>\n      <td>v52</td>\n      <td>0</td>\n      <td>29907</td>\n    </tr>\n    <tr>\n      <th>1148</th>\n      <td>v54</td>\n      <td>0</td>\n      <td>27081</td>\n    </tr>\n    <tr>\n      <th>1150</th>\n      <td>v55</td>\n      <td>0</td>\n      <td>29705</td>\n    </tr>\n    <tr>\n      <th>1891</th>\n      <td>v106</td>\n      <td>0</td>\n      <td>25805</td>\n    </tr>\n    <tr>\n      <th>1893</th>\n      <td>v107</td>\n      <td>0</td>\n      <td>27544</td>\n    </tr>\n    <tr>\n      <th>2310</th>\n      <td>v132</td>\n      <td>0</td>\n      <td>11</td>\n    </tr>\n    <tr>\n      <th>4676</th>\n      <td>v175</td>\n      <td>0</td>\n      <td>14350</td>\n    </tr>\n    <tr>\n      <th>4678</th>\n      <td>v176</td>\n      <td>0</td>\n      <td>19326</td>\n    </tr>\n    <tr>\n      <th>5036</th>\n      <td>v217</td>\n      <td>0</td>\n      <td>21921</td>\n    </tr>\n    <tr>\n      <th>5038</th>\n      <td>v218</td>\n      <td>0</td>\n      <td>25654</td>\n    </tr>\n    <tr>\n      <th>5335</th>\n      <td>v244</td>\n      <td>0</td>\n      <td>28800</td>\n    </tr>\n    <tr>\n      <th>5337</th>\n      <td>v245</td>\n      <td>0</td>\n      <td>29507</td>\n    </tr>\n    <tr>\n      <th>5339</th>\n      <td>v246</td>\n      <td>0</td>\n      <td>29483</td>\n    </tr>\n    <tr>\n      <th>5341</th>\n      <td>v247</td>\n      <td>0</td>\n      <td>29838</td>\n    </tr>\n    <tr>\n      <th>6411</th>\n      <td>satisfied</td>\n      <td>0</td>\n      <td>14454</td>\n    </tr>\n  </tbody>\n</table>\n</div>",
      "text/plain": "       Question Response  Frequency\n503   v15        0        30023    \n505   v16        0        30070    \n1080  v26        0        30066    \n1082  v27        0        30039    \n1084  v28        0        30055    \n1086  v29        0        29977    \n1088  v30        0        17793    \n1090  v31        0        29636    \n1092  v32        0        29910    \n1094  v33        0        30055    \n1096  v34        0        30031    \n1106  v36        0        29031    \n1108  v37        0        29663    \n1110  v38        0        29674    \n1112  v39        0        30053    \n1114  v40        0        29856    \n1116  v41        0        29771    \n1118  v42        0        29764    \n1125  v44        0        29712    \n1127  v45        0        30076    \n1129  v46        0        2515     \n1131  v47        0        29465    \n1133  v48        0        29527    \n1135  v49        0        29667    \n1137  v50        0        30073    \n1139  v51        0        29572    \n1141  v52        0        29907    \n1148  v54        0        27081    \n1150  v55        0        29705    \n1891  v106       0        25805    \n1893  v107       0        27544    \n2310  v132       0        11       \n4676  v175       0        14350    \n4678  v176       0        19326    \n5036  v217       0        21921    \n5038  v218       0        25654    \n5335  v244       0        28800    \n5337  v245       0        29507    \n5339  v246       0        29483    \n5341  v247       0        29838    \n6411  satisfied  0        14454    "
     },
     "execution_count": 45,
     "metadata": {},
     "output_type": "execute_result"
    }
   ],
   "source": [
    "frequency_train_no_blanks[frequency_train_no_blanks['Response']==0]"
   ]
  },
  {
   "cell_type": "code",
   "execution_count": null,
   "metadata": {},
   "outputs": [],
   "source": []
  }
 ]
}