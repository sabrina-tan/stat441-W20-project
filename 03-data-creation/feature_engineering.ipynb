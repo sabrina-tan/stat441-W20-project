{
 "cells": [
  {
   "cell_type": "markdown",
   "metadata": {},
   "source": "Steps:  \n* [Bin the country/language variables](#Bin-the-country/language-variables)\n* [Bin the age variables](#Bin-the-age-variables)\n* [Group/bin income variables](#Group/bin-income-variables)\n* [Drop dupes of education](#Drop-dupes-of-education)\n* [Bin number of people in household](#Bin-number-of-people-in-household)\n* [Consider date variables - bin by season?](#Date-variables)\n* [Bin hours worked variables](#Bin-hours-worked)\n* [Convert year came to country to indicator](#Year-came-to-country)\n* [Create single indicator](#Single-indicator)\n* [Create \"has employees\" indicator](#Employee-indicator)\n* [Revisit missing](#Remaining-missing-values)\n* [One-hot/Label Encoding](#Onehot/label-encoding)\n* [Export](#Export-data)"
  },
  {
   "cell_type": "code",
   "execution_count": 817,
   "metadata": {},
   "outputs": [],
   "source": "# Import packages\nimport pandas as pd\nimport numpy as np\nimport statistics\nimport os\nimport matplotlib.pyplot as plt\nimport seaborn as sns\nfrom sklearn import preprocessing\nimport pycountry_convert as pc\nimport lightgbm as lgb\nfrom sklearn.linear_model import LinearRegression\n\n# Set options\npd.options.display.max_rows = 999\npd.options.display.max_columns = 999"
  },
  {
   "cell_type": "code",
   "execution_count": 818,
   "metadata": {},
   "outputs": [],
   "source": "# Import data\ntrain = pd.read_csv(\"../01-data/train.csv\", low_memory = False)\ntest = pd.read_csv(\"../01-data/test.csv\", low_memory = False)\n\n# Custom data\ncodebook = pd.read_csv(\"../01-data/codebook_compact.csv\", low_memory = False) # OG codebook+dtypes from codebook_long"
  },
  {
   "cell_type": "markdown",
   "metadata": {},
   "source": "### Bin the country/language variables"
  },
  {
   "cell_type": "code",
   "execution_count": 819,
   "metadata": {},
   "outputs": [],
   "source": "# Dealing with country vars on a case-by-case basis\ncat_cols = ['v17', \"v20\", \"v25\", \"v78\", \"v154\", \"v155\", \"v161\", \"cntry\"]\ncat_df = train[cat_cols]"
  },
  {
   "cell_type": "code",
   "execution_count": 820,
   "metadata": {},
   "outputs": [
    {
     "data": {
      "text/plain": "66    26687\nEU     1925\nAS      537\nAF      433\n.       229\nSA      144\nNA      113\nOC       11\nName: v17, dtype: int64"
     },
     "execution_count": 820,
     "metadata": {},
     "output_type": "execute_result"
    }
   ],
   "source": "## V17: Country of Birth\n\n# Drop 99, 2, 4, 3, 77, 6\nto_drop = ['99', '2', '4', '3', '77', '6', '88']\ntrain['v17'] = train['v17'].replace(to_drop, \".\")\n\ndef convert_country(country):\n    try:\n        return(pc.country_alpha2_to_continent_code(country))\n    except:\n        return(country)\n\ntrain['v17'] = train['v17'].apply(lambda x: convert_country(x))\n\n# Only one observation is from TL, and none exist in the test set. Drop ID = 2441\ntrain = train[train.v17 != 'TL']\n\ntrain['v17'].value_counts()"
  },
  {
   "cell_type": "code",
   "execution_count": 821,
   "metadata": {},
   "outputs": [],
   "source": "## V20: Region\n\n# Country code + more specific region code. Convert to just country\n# After stripping specific region code, only 6% of obs have a different entry here than for 'cntry'. Drop this column.\n# train = train.drop('v20', axis = 1)"
  },
  {
   "cell_type": "code",
   "execution_count": 822,
   "metadata": {},
   "outputs": [],
   "source": "## V25: Citizenship\n\n# Drop 65, 99, 6, convert rest to continents\nto_drop = ['65', '99', '6', '88']\ntrain['v25'] = train['v25'].replace(to_drop, '.')\ntrain['v25'] = train['v25'].apply(lambda x: convert_country(x))"
  },
  {
   "cell_type": "code",
   "execution_count": 823,
   "metadata": {},
   "outputs": [],
   "source": "## V78: Country of birth, father AND V161: Country of birth, mother\n\n# Drop errors, convert rest to continents\nto_drop = ['99', '88', '2', '4', '3', '77', '6']\ntrain['v78'] = train['v78'].replace(to_drop, '.')\ntrain['v78'] = train['v78'].apply(lambda x: convert_country(x))\n\ntrain['v161'] = train['v161'].replace(to_drop, '.')\ntrain['v161'] = train['v161'].apply(lambda x: convert_country(x))"
  },
  {
   "cell_type": "code",
   "execution_count": 824,
   "metadata": {
    "scrolled": true
   },
   "outputs": [
    {
     "data": {
      "text/plain": "EUR        0.260381\nNOR        0.203364\nGER        0.120316\nENG        0.116061\nSLAV       0.113967\nBAL        0.106652\nMIDEAST    0.065860\n.          0.008079\nSOUTHA     0.001895\nAFR        0.001496\nOTHER      0.001031\nASIA       0.000898\nName: v154, dtype: float64"
     },
     "execution_count": 824,
     "metadata": {},
     "output_type": "execute_result"
    }
   ],
   "source": "## V154: Language most often spoken at home: first mentioned\n\n# Drop errors\nto_drop = ['999','888','777']\ntrain['v154'] = train['v154'].replace(to_drop, '.')\n\n# Leaving ENG and GER as is \nmissing = [\".\"]\nGER = [\"GER\"]\nENG = [\"ENG\"]\neur = [\"FRE\",\"DUT\",\"SPA\",\"HUN\",\"POR\",\"GSW\",\"CAT\",\"ITA\",\"GLG\",\"ALB\",\"FRS\",\"HRV\",\"BAQ\",\"ROA\",\"GLE\",\n       \"GEM\",\"CPP\",\"FRM\",\"GRE\",\"WEL\",\"ROH\",\"BEL\",\"FAO\",\"SRN\",\"NAP\",\"AST\",\"FRO\"]\nbal = [\"CZE\", \"LIT\"]\nafr = [\"AMH\",\"SOM\",\"BER\",\"MLG\",\"TIR\",\"MAN\",\"LIN\",\"WOL\",\"BAM\",\"AKA\",\"SWA\",\"SUX\",\"SUS\",\"SNK\",\"TIG\"]\nnor = [\"FIN\",\"SWE\",\"DAN\",\"NOR\",\"EST\",\"ICE\"]\nasia = [\"CHI\",\"VIE\",\"THA\",\"MAY\",\"TAI\",\"TIB\",\"IND\",\"JPN\",\"LAO\"]\nsoutha = [\"URD\",\"HIN\",\"TAM\",\"GUJ\",\"BEN\",\"MAL\",\"PAN\",\"TEL\",\"CPF\"]\nmideast = [\"HEB\",\"ARA\",\"TUR\",\"KUR\",\"PER\",\"ARM\",\"IRA\",\"YID\",\"SYR\",\"AZE\",\"UZB\",\"TGK\",\"KAB\",\"EGY\",\"ABK\",\"GEO\"]\nslav = [\"POL\",\"SLV\",\"RUS\",\"SRP\",\"BOS\",\"RUM\",\"HRV\",\"SLO\",\"ROM\",\"BUL\",\"UKR\",\"SLA\",\"LAV\",\"MDR\"]\noth = [\"APA\",\"PAP\",\"MIS\",\"TGL\",\"NEP\",\"FIL\",\"MON\"]\n\nlanguages = {language: 'EUR' for language in eur}\nlanguages.update({language: '.' for language in missing})\nlanguages.update({language: 'GER' for language in GER})\nlanguages.update({language: 'ENG' for language in ENG})\nlanguages.update({language: 'BAL' for language in bal})\nlanguages.update({language: 'AFR' for language in afr})\nlanguages.update({language: 'NOR' for language in nor})\nlanguages.update({language: 'ASIA' for language in asia})\nlanguages.update({language: 'SOUTHA' for language in southa})\nlanguages.update({language: 'MIDEAST' for language in mideast})\nlanguages.update({language: 'SLAV' for language in slav})\nlanguages.update({language: 'OTHER' for language in oth})\n\ntrain['v154'] = train['v154'].map(languages)\n\ntrain['v154'].value_counts(normalize = True)"
  },
  {
   "cell_type": "code",
   "execution_count": 825,
   "metadata": {
    "scrolled": true
   },
   "outputs": [
    {
     "data": {
      "text/plain": "0          0.792447\n.          0.061604\nEUR        0.041158\nENG        0.027827\nNOR        0.021510\nSLAV       0.019449\nMIDEAST    0.017388\nGER        0.012002\nBAL        0.002161\nAFR        0.001662\nOTHER      0.001130\nASIA       0.000831\nSOUTHA     0.000831\nName: v155, dtype: float64"
     },
     "execution_count": 825,
     "metadata": {},
     "output_type": "execute_result"
    }
   ],
   "source": "## V155: Language most often spoken at home: second mentioned\n\n# Assuming 0 means no other language, and 999, 888, 777 are missing\nto_drop = ['999','888','777']\ntrain['v155'] = train['v155'].replace(to_drop, '.')\n\n## Check if any weren't present in the previous question\nlang_v154 = [\"GER\",\"ENG\",\"FRE\",\"CZE\",\"LIT\",\"FIN\",\"POL\",\"DUT\",\"SWE\",\"HEB\",\"SPA\",\n             \"HUN\",\"DAN\",\"NOR\",\"POR\",\"EST\",\"SLV\",\"RUS\",\"GSW\",\"ARA\",\"CAT\",\"TUR\",\n             \"ITA\",\"GLG\",\"SRP\",\"BOS\",\"ALB\",\"FRS\",\"RUM\",\"KUR\",\"HRV\",\"BAQ\",\"URD\",\n             \"PER\",\"AMH\",\"APA\",\"ROA\",\"CHI\",\"HIN\",\"ARM\",\"GLE\",\"SOM\",\"SLO\",\"IRA\",\n             \"TAM\",\"GEM\",\"GUJ\",\"ROM\",\"CPP\",\"FRM\",\"GRE\",\"WEL\",\"VIE\",\"BUL\",\"UKR\",\n             \"YID\",\"BER\",\"PAP\",\"MIS\",\"BEN\",\"SLA\",\"LAV\",\"MAL\",\"THA\",\"TGL\",\"NEP\",\n             \"MAY\",\"SYR\",\"AZE\",\"UZB\",\"PAN\",\"TGK\",\"MLG\",\"ROH\",\"TIR\",\"MAN\",\"TAI\",\n             \"LIN\",\"KAB\",\"EGY\",\"BEL\",\"WOL\",\"BAM\",\"TIB\",\"AKA\",\"SWA\",\"IND\",\"SUX\",\n             \"TEL\",\"FAO\",\"JPN\",\"SRN\",\"SUS\",\"ICE\",\"SNK\",\"FIL\",\"ABK\",\"GEO\",\"TIG\",\n             \"NAP\",\"AST\",\"FRO\",\"LAO\",\"CPF\",\"MON\",\"MDR\"]\n\nlang_v155 = train['v155'].unique().tolist()\n\nnew_languages = [language for language in lang_v155 if language not in lang_v154]\n\n# New language dict: leaving ENG and GER as is \nnone = ['0']\nmissing = [\".\"]\nGER = [\"GER\"]\nENG = [\"ENG\"]\neur = [\"FRE\",\"DUT\",\"SPA\",\"HUN\",\"POR\",\"GSW\",\"CAT\",\"ITA\",\"GLG\",\"ALB\",\"FRS\",\"HRV\",\"BAQ\",\"ROA\",\"GLE\",\n       \"GEM\",\"CPP\",\"FRM\",\"GRE\",\"WEL\",\"ROH\",\"BEL\",\"FAO\",\"SRN\",\"NAP\",\"AST\",\"FRO\",\"ENM\",\"OCI\",\"BRE\",\n       \"NDS\",\"WLN\",\"VOL\",\"MWL\"]\nbal = [\"CZE\", \"LIT\", \"MAC\", \"CSB\"]\nafr = [\"AMH\",\"SOM\",\"BER\",\"MLG\",\"TIR\",\"MAN\",\"LIN\",\"WOL\",\"BAM\",\"AKA\",\"SWA\",\"SUX\",\"SUS\",\"SNK\",\"TIG\",\n       \"EWE\",\"RUN\",\"IBO\",\"YOR\",\"FON\",\"KON\",\"DYU\",\"KIN\",\"NIC\",\"NDE\",\"HER\",\"KIK\"]\nnor = [\"FIN\",\"SWE\",\"DAN\",\"NOR\",\"EST\",\"ICE\", 'SMN']\nasia = [\"CHI\",\"VIE\",\"THA\",\"MAY\",\"TAI\",\"TIB\",\"IND\",\"JPN\",\"LAO\"]\nsoutha = [\"URD\",\"HIN\",\"TAM\",\"GUJ\",\"BEN\",\"MAL\",\"PAN\",\"TEL\",\"CPF\", \"MAR\"]\nmideast = [\"HEB\",\"ARA\",\"TUR\",\"KUR\",\"PER\",\"ARM\",\"IRA\",\"YID\",\"SYR\",\"AZE\",\"UZB\",\"TGK\",\"KAB\",\"EGY\",\"ABK\",\"GEO\"]\nslav = [\"POL\",\"SLV\",\"RUS\",\"SRP\",\"BOS\",\"RUM\",\"HRV\",\"SLO\",\"ROM\",\"BUL\",\"UKR\",\"SLA\",\"LAV\",\"MDR\"]\noth = [\"APA\",\"PAP\",\"MIS\",\"TGL\",\"NEP\",\"FIL\",\"MON\",\"ZXX\",\"TPI\",\"GRN\",\"SGN\",\"HUP\",\"NAH\",\"HAT\",\"CAD\",\"PHI\",\"MAO\"]\n\n \nlanguages = {language: 'EUR' for language in eur}\nlanguages.update({language: '0' for language in none})\nlanguages.update({language: '.' for language in missing})\nlanguages.update({language: 'GER' for language in GER})\nlanguages.update({language: 'ENG' for language in ENG})\nlanguages.update({language: 'BAL' for language in bal})\nlanguages.update({language: 'AFR' for language in afr})\nlanguages.update({language: 'NOR' for language in nor})\nlanguages.update({language: 'ASIA' for language in asia})\nlanguages.update({language: 'SOUTHA' for language in southa})\nlanguages.update({language: 'MIDEAST' for language in mideast})\nlanguages.update({language: 'SLAV' for language in slav})\nlanguages.update({language: 'OTHER' for language in oth})\n\n# Map langauges to their groups\ntrain['v155'] = train['v155'].map(languages)\n\ntrain['v155'].value_counts(normalize = True)"
  },
  {
   "cell_type": "markdown",
   "metadata": {},
   "source": "### Bin the age variables"
  },
  {
   "cell_type": "code",
   "execution_count": 826,
   "metadata": {},
   "outputs": [
    {
     "name": "stdout",
     "output_type": "stream",
     "text": "0.24% of the ages are missing.\n"
    }
   ],
   "source": "## V3: Age of respondent, calculated\n\nmissing_age = round(len(train[train['v3'] == '.a'])/len(train) * 100, 2)\nprint(str(missing_age) + \"% of the ages are missing.\")"
  },
  {
   "cell_type": "code",
   "execution_count": 827,
   "metadata": {},
   "outputs": [
    {
     "name": "stderr",
     "output_type": "stream",
     "text": "/Library/Frameworks/Python.framework/Versions/3.7/lib/python3.7/site-packages/ipykernel_launcher.py:11: SettingWithCopyWarning: \nA value is trying to be set on a copy of a slice from a DataFrame.\nTry using .loc[row_indexer,col_indexer] = value instead\n\nSee the caveats in the documentation: http://pandas.pydata.org/pandas-docs/stable/user_guide/indexing.html#returning-a-view-versus-a-copy\n  # This is added back by InteractiveShellApp.init_path()\n"
    }
   ],
   "source": "# Using EDA notebook, the highest positive and negatively linearly correlated vars with Age (v3):\n# Positive: v217, v163, v218, v103, v99\n# Negative: v54, v196, v208, v100, v159\t\ncols = ['v3','v217','v218', 'v54']\n\nregress_age = train[cols]\ntrain_lr = regress_age[regress_age['v3'] != '.a']\ntest_lr = regress_age[regress_age['v3'] == '.a']\n\nfor col in cols:\n    train_lr[col] = pd.to_numeric(train[col], errors = 'coerce')\n\n# Drop all na\ntrain_lr = train_lr.dropna()\n\nX_train = train_lr.loc[:, train_lr.columns != 'v3']\ny_train = train_lr['v3']\n\n# Linear regression\nregressor = lgb.LGBMRegressor()  \nregressor.fit(X_train, y_train) \n\ndel test_lr['v3']\ntest_lr = test_lr.replace(['.a', '.b', '.c', '.d'], np.nan).dropna()\n\ntest_lr[\"predicted_age\"] = regressor.predict(test_lr)\n\n# Gives R2 score of 0.63 but better than imputation by mean\n# metrics.r2_score(label, train_no_na[\"predicted_age\"])"
  },
  {
   "cell_type": "code",
   "execution_count": 828,
   "metadata": {},
   "outputs": [],
   "source": "# Filling in missing values with predicted age\nindex_predicted = test_lr.drop(['v217','v218', 'v54'], axis = 1).index\nindex_missing = train[train['v3'] == '.a'].index\n\ntrain = train.join(test_lr['predicted_age'])\ntrain['v3_imputed'] = np.where(train['v3'] == '.a', train['predicted_age'], train['v3']).astype(\"float64\")\n\n# Delete other versions of age\ndel train['v3']\ndel train['predicted_age']"
  },
  {
   "cell_type": "code",
   "execution_count": 829,
   "metadata": {},
   "outputs": [
    {
     "data": {
      "image/png": "[encoded data removed]",
      "text/plain": "<Figure size 432x288 with 1 Axes>"
     },
     "metadata": {},
     "output_type": "display_data"
    }
   ],
   "source": "# Plot age distribution\nsns.set(color_codes=True)\nsns.distplot(train['v3_imputed'].astype(\"float64\"));\n\n# (37.0, 44.0]\n# (23.0, 31.0]\n# (44.0, 50.0]\n# (61.0, 67.0]\n# (55.0, 61.0]\n# (13.999, 23.0]\n# (74.423, 114.0]\n# (67.0, 74.423]\n# (31.0, 37.0]\n# (50.0, 55.0]\n\nbin_labels = [1,2,3,4,5,6,7,8,9,10]\ntrain['v3_binned'] = pd.qcut(train['v3_imputed'], q=[0,.1,.2,.3,.4,.5,.6,.7,.8,.9,1], labels=bin_labels)\n\ndel train['v3_imputed']"
  },
  {
   "cell_type": "markdown",
   "metadata": {},
   "source": "### Group/bin income variables"
  },
  {
   "cell_type": "code",
   "execution_count": 830,
   "metadata": {},
   "outputs": [],
   "source": "# Drop v102 as it is almost the same as v103 but with less information\ndel train['v102']"
  },
  {
   "cell_type": "markdown",
   "metadata": {},
   "source": "### Drop dupes of education"
  },
  {
   "cell_type": "code",
   "execution_count": 831,
   "metadata": {},
   "outputs": [],
   "source": "# Drop v57, v59, v61, v63 as v56, v58, v60, v62 gives the same information but mapped to categories\ndel train['v57']\ndel train['v59']\ndel train['v61']\ndel train['v63']"
  },
  {
   "cell_type": "code",
   "execution_count": 832,
   "metadata": {
    "scrolled": true
   },
   "outputs": [
    {
     "name": "stdout",
     "output_type": "stream",
     "text": "0.93% of the years are missing.\n"
    },
    {
     "data": {
      "image/png": "[encoded data removed]",
      "text/plain": "<Figure size 432x288 with 1 Axes>"
     },
     "metadata": {},
     "output_type": "display_data"
    }
   ],
   "source": "# V64: Years of full time education completed\n\n# Combine all missing\ntrain['v64'] = pd.to_numeric(train['v64'], errors='coerce')\n\nmissing_age = round(len(train[train['v64'].isnull()])/len(train) * 100, 2)\nprint(str(missing_age) + \"% of the years are missing.\")\n\n# Plot distribution\nsns.distplot(train['v64'].fillna(-1));\n\n# Fill with mean bc I'm tired\ntrain['v64'] = pd.to_numeric(train['v64'], errors = 'coerce')\nmean_years = np.nanmean(train['v64'])\ntrain['v64'] = train['v64'].fillna(mean_years)"
  },
  {
   "cell_type": "code",
   "execution_count": 833,
   "metadata": {},
   "outputs": [],
   "source": "## Now bin education\ntrain['v64'].describe()\n\nbin_labels = [1,2,3,4,5]\ntrain['v64_binned'] = pd.qcut(train['v64'], q=[0,0.2,0.4,0.6,0.8,1], labels=bin_labels)"
  },
  {
   "cell_type": "code",
   "execution_count": 834,
   "metadata": {},
   "outputs": [],
   "source": "train['v64_binned'].value_counts()\ndel train['v64']"
  },
  {
   "cell_type": "markdown",
   "metadata": {},
   "source": "### Bin number of people in household"
  },
  {
   "cell_type": "code",
   "execution_count": 835,
   "metadata": {},
   "outputs": [
    {
     "name": "stdout",
     "output_type": "stream",
     "text": "0.28% of the numbers are missing.\n"
    },
    {
     "data": {
      "text/plain": "2    10553\n1     6387\n3     5414\n4     4894\n5     1829\n6     1002\nName: v100_grouped, dtype: int64"
     },
     "execution_count": 835,
     "metadata": {},
     "output_type": "execute_result"
    }
   ],
   "source": "## V100: Number of people living regularly as member of household\n# Group everything more than 6 into \"6+\", i.e. 6\n\n# Combine all missing\ntrain['v100'] = pd.to_numeric(train['v100'], errors='coerce')\n\nmissing_age = round(len(train[train['v100'].isnull()])/len(train) * 100, 2)\nprint(str(missing_age) + \"% of the numbers are missing.\")\n\n# Fill with mean\nmean_years = np.nanmean(train['v100'])\ntrain['v100'] = train['v100'].fillna(mean_years).astype(\"int64\")\n\n# Grouping large values\ntrain['v100_grouped'] = np.where(train['v100'] > 6, 6, train['v100']).astype(\"int64\")\ntrain['v100_grouped'].value_counts()"
  },
  {
   "cell_type": "markdown",
   "metadata": {},
   "source": "### Date variables"
  },
  {
   "cell_type": "markdown",
   "metadata": {},
   "source": "Create start/end time_of_day, season, and bin interview length (minutes)"
  },
  {
   "cell_type": "code",
   "execution_count": 836,
   "metadata": {},
   "outputs": [],
   "source": "# v128: End of interview, month\n# v129: Start of interview, month\n# End and start of interview are only not equal for 0.18% of observations\n# We keep v129 since there are no missing\ndel train['v128']\n\n# Define: 3-5 = Spring, 6-8 = Summer, 9-11 = Autumn, 12-2 = Winter - in Germany\nwinter = [12,1,2]\nspring = [3,4,5]\nsummer = [6,7,8]\nautumn = [9,10,11]\n\n# Dictionary for seasons\nseasons = {season: 'WI' for season in winter}\nseasons.update({season: 'SP' for season in spring})\nseasons.update({season: 'SU' for season in summer})\nseasons.update({season: 'AU' for season in autumn})\n\n# Map langauges to their groups\ntrain['start_interview_season'] = train['v129'].map(seasons)\ntrain['start_interview_season'].value_counts(normalize = True)\n\n# Delete original variable\ndel train['v129']"
  },
  {
   "cell_type": "code",
   "execution_count": 837,
   "metadata": {},
   "outputs": [],
   "source": "# v126: end of interview, hour\n# v130: start of interview, hour\n\n# Impute with mean\ntrain['v126'] = pd.to_numeric(train['v126'], errors='coerce')\ntrain['v126'] = train['v126'].fillna(np.nanmean(train['v126'])).astype('int64')\ntrain['v130'] = pd.to_numeric(train['v130'], errors='coerce')\ntrain['v130'] = train['v130'].fillna(np.nanmean(train['v130'])).astype('int64')\n\nbin_labels = [1,2,3,4,5]\ntrain['v126_binned'] = pd.qcut(train['v126'], q=[0,0.2,0.4,0.6,0.8,1], labels=bin_labels)\ntrain['v130_binned'] = pd.qcut(train['v130'], q=[0,0.2,0.4,0.6,0.8,1], labels=bin_labels)\n\n# Delete original variables\ndel train['v126']\ndel train['v130']"
  },
  {
   "cell_type": "code",
   "execution_count": 838,
   "metadata": {},
   "outputs": [],
   "source": "# v132: Interview length in minutes - bin in quantiles\nbin_labels = [1,2,3,4,5,6,7,8,9,10]\ntrain['v132_binned'] = pd.qcut(train['v132'], q=[0,.1,.2,.3,.4,.5,.6,.7,.8,.9,1], labels=bin_labels)\n\n# Delete original variable\ndel train['v132']"
  },
  {
   "cell_type": "markdown",
   "metadata": {},
   "source": "### Bin hours worked"
  },
  {
   "cell_type": "code",
   "execution_count": 839,
   "metadata": {},
   "outputs": [],
   "source": "# v250: Total contracted hours per week in main job OT excluded\ntrain['v250'] = pd.to_numeric(train['v250'], errors = 'coerce')\ntrain['v250_binned'] = pd.cut(train['v250'], 4, labels=[1,2,3,4])\n\ndel train['v250']\n\n# v251: Total hours normally worked per week main job OT included\ntrain['v251'] = pd.to_numeric(train['v251'], errors = 'coerce')\ntrain['v251_binned'] = pd.cut(train['v251'], 4, labels=[1,2,3,4])\n\ndel train['v251']\n\n# v251: Total hours normally worked per week main job OT included - partner\ntrain['v252'] = pd.to_numeric(train['v252'], errors = 'coerce')\ntrain['v252_binned'] = pd.cut(train['v252'], 4, labels=[1,2,3,4])\n\ndel train['v252']"
  },
  {
   "cell_type": "code",
   "execution_count": 840,
   "metadata": {},
   "outputs": [
    {
     "data": {
      "text/plain": "1    7836\n2    2552\n3      34\n4      11\nName: v252_binned, dtype: int64"
     },
     "execution_count": 840,
     "metadata": {},
     "output_type": "execute_result"
    }
   ],
   "source": "train['v252_binned'].value_counts()"
  },
  {
   "cell_type": "code",
   "execution_count": 841,
   "metadata": {},
   "outputs": [],
   "source": "# v168: Number of people responsible for in job\ntrain['v168'] = pd.to_numeric(train['v168'], errors = 'coerce')\ntrain['v168'] = train['v168'].fillna(0).astype('int64')\n\n# Define:\nnone = [0]\nfew = [1,2,3,4,5,6,7,8,9,10]\nmoderate = [11,12,13,14,15,16,17,18,19,20]\nmany = range(21, max(train['v168']))\n\n# Dictionary for seasons\npeople = {people: 0 for people in none}\npeople.update({people: 1 for people in few})\npeople.update({people: 2 for people in moderate})\npeople.update({people: 3 for people in many})\n\n# Map langauges to their groups\ntrain['manage'] = train['v168'].map(people)\ntrain['manage'].value_counts(normalize = True)\n\n# Delete original variable\ndel train['v168']"
  },
  {
   "cell_type": "markdown",
   "metadata": {},
   "source": "### Year came to country"
  },
  {
   "cell_type": "code",
   "execution_count": 842,
   "metadata": {},
   "outputs": [],
   "source": "train['v153'] = pd.to_numeric(train['v153'], errors = 'coerce')\ntrain['v153'] = train['v153'].fillna(0).astype('int64')\n\n# Define:\nna = [0]\nbefore_80 = range(1, 1980)\nafter_80 = range(1981, max(train['v153']))\n\n# Dictionary for seasons\nimmigrate = {immigrate: 0 for immigrate in na}\nimmigrate.update({immigrate: 1 for immigrate in before_80})\nimmigrate.update({immigrate: 2 for immigrate in after_80})\n\n# Map langauges to their groups\ntrain['immigrate'] = train['v153'].map(immigrate)\ntrain['immigrate'].value_counts(normalize = True)\n\n# Delete original variable\ndel train['v153']"
  },
  {
   "cell_type": "markdown",
   "metadata": {},
   "source": "### Single indicator"
  },
  {
   "cell_type": "code",
   "execution_count": 843,
   "metadata": {},
   "outputs": [],
   "source": "train['single'] = np.where(train['v164'] == '.a', 1, 0)"
  },
  {
   "cell_type": "markdown",
   "metadata": {},
   "source": "### Employee indicator"
  },
  {
   "cell_type": "code",
   "execution_count": 844,
   "metadata": {},
   "outputs": [],
   "source": "dots = ['.a', '.b', '.c', '.d']\ntrain['employees'] = np.where(np.isin(train['v69'], dots) , 0, 1)"
  },
  {
   "cell_type": "markdown",
   "metadata": {},
   "source": "### Remaining missing values"
  },
  {
   "cell_type": "markdown",
   "metadata": {},
   "source": "Same as before, we find columns with over some % '.' variables and drop them"
  },
  {
   "cell_type": "code",
   "execution_count": 845,
   "metadata": {},
   "outputs": [],
   "source": "# Convert binned vars to int to fillna\nbinned = [\"v3_binned\",\"v64_binned\", \"v126_binned\", \"v130_binned\", \"v132_binned\", \n          \"v250_binned\", \"v251_binned\", \"v252_binned\"]\n\nfor col in binned:\n    train[col] = train[col].astype('int64')"
  },
  {
   "cell_type": "code",
   "execution_count": 846,
   "metadata": {},
   "outputs": [],
   "source": "train = train.fillna(\".\")"
  },
  {
   "cell_type": "code",
   "execution_count": 847,
   "metadata": {
    "scrolled": true
   },
   "outputs": [
    {
     "name": "stdout",
     "output_type": "stream",
     "text": "There are 60 features with over 50% missing.\n"
    },
    {
     "data": {
      "text/html": "<div>\n<style scoped>\n    .dataframe tbody tr th:only-of-type {\n        vertical-align: middle;\n    }\n\n    .dataframe tbody tr th {\n        vertical-align: top;\n    }\n\n    .dataframe thead th {\n        text-align: right;\n    }\n</style>\n<table border=\"1\" class=\"dataframe\">\n  <thead>\n    <tr style=\"text-align: right;\">\n      <th></th>\n      <th>column_name</th>\n      <th>percent_missing</th>\n      <th>Variable</th>\n      <th>Label</th>\n    </tr>\n  </thead>\n  <tbody>\n    <tr>\n      <th>52</th>\n      <td>v262</td>\n      <td>99.996675</td>\n      <td>v262</td>\n      <td>Year of birth of thirteenth pe...</td>\n    </tr>\n    <tr>\n      <th>39</th>\n      <td>v207</td>\n      <td>99.996675</td>\n      <td>v207</td>\n      <td>Thirteenth person in household...</td>\n    </tr>\n    <tr>\n      <th>8</th>\n      <td>v89</td>\n      <td>99.996675</td>\n      <td>v89</td>\n      <td>Gender of thirteenth person in...</td>\n    </tr>\n    <tr>\n      <th>28</th>\n      <td>v195</td>\n      <td>99.996675</td>\n      <td>v195</td>\n      <td>Thirteenth person in household...</td>\n    </tr>\n    <tr>\n      <th>51</th>\n      <td>v261</td>\n      <td>99.983377</td>\n      <td>v261</td>\n      <td>Year of birth of twelfth perso...</td>\n    </tr>\n    <tr>\n      <th>7</th>\n      <td>v88</td>\n      <td>99.983377</td>\n      <td>v88</td>\n      <td>Gender of twelfth person in ho...</td>\n    </tr>\n    <tr>\n      <th>38</th>\n      <td>v206</td>\n      <td>99.980053</td>\n      <td>v206</td>\n      <td>Twelfth person in household: r...</td>\n    </tr>\n    <tr>\n      <th>27</th>\n      <td>v194</td>\n      <td>99.980053</td>\n      <td>v194</td>\n      <td>Twelfth person in household: r...</td>\n    </tr>\n    <tr>\n      <th>50</th>\n      <td>v260</td>\n      <td>99.940158</td>\n      <td>v260</td>\n      <td>Year of birth of eleventh pers...</td>\n    </tr>\n    <tr>\n      <th>6</th>\n      <td>v87</td>\n      <td>99.933508</td>\n      <td>v87</td>\n      <td>Gender of eleventh person in h...</td>\n    </tr>\n    <tr>\n      <th>37</th>\n      <td>v205</td>\n      <td>99.930184</td>\n      <td>v205</td>\n      <td>Eleventh person in household: ...</td>\n    </tr>\n    <tr>\n      <th>26</th>\n      <td>v193</td>\n      <td>99.930184</td>\n      <td>v193</td>\n      <td>Eleventh person in household: ...</td>\n    </tr>\n    <tr>\n      <th>49</th>\n      <td>v259</td>\n      <td>99.893613</td>\n      <td>v259</td>\n      <td>Year of birth of tenth person ...</td>\n    </tr>\n    <tr>\n      <th>5</th>\n      <td>v86</td>\n      <td>99.883640</td>\n      <td>v86</td>\n      <td>Gender of tenth person in hous...</td>\n    </tr>\n    <tr>\n      <th>36</th>\n      <td>v204</td>\n      <td>99.883640</td>\n      <td>v204</td>\n      <td>Tenth person in household: rel...</td>\n    </tr>\n    <tr>\n      <th>25</th>\n      <td>v192</td>\n      <td>99.883640</td>\n      <td>v192</td>\n      <td>Tenth person in household: rel...</td>\n    </tr>\n    <tr>\n      <th>59</th>\n      <td>v270</td>\n      <td>99.830446</td>\n      <td>v270</td>\n      <td>Year of birth of ninth person ...</td>\n    </tr>\n    <tr>\n      <th>15</th>\n      <td>v97</td>\n      <td>99.820473</td>\n      <td>v97</td>\n      <td>Gender of ninth person in hous...</td>\n    </tr>\n    <tr>\n      <th>46</th>\n      <td>v215</td>\n      <td>99.813824</td>\n      <td>v215</td>\n      <td>Ninth person in household: rel...</td>\n    </tr>\n    <tr>\n      <th>35</th>\n      <td>v203</td>\n      <td>99.813824</td>\n      <td>v203</td>\n      <td>Ninth person in household: rel...</td>\n    </tr>\n    <tr>\n      <th>58</th>\n      <td>v269</td>\n      <td>99.594401</td>\n      <td>v269</td>\n      <td>Year of birth of eighth person...</td>\n    </tr>\n    <tr>\n      <th>45</th>\n      <td>v214</td>\n      <td>99.574454</td>\n      <td>v214</td>\n      <td>Eighth person in household: re...</td>\n    </tr>\n    <tr>\n      <th>14</th>\n      <td>v96</td>\n      <td>99.574454</td>\n      <td>v96</td>\n      <td>Gender of eighth person in hou...</td>\n    </tr>\n    <tr>\n      <th>34</th>\n      <td>v202</td>\n      <td>99.574454</td>\n      <td>v202</td>\n      <td>Eighth person in household: re...</td>\n    </tr>\n    <tr>\n      <th>57</th>\n      <td>v268</td>\n      <td>98.896240</td>\n      <td>v268</td>\n      <td>Year of birth of seventh perso...</td>\n    </tr>\n    <tr>\n      <th>13</th>\n      <td>v95</td>\n      <td>98.853020</td>\n      <td>v95</td>\n      <td>Gender of seventh person in ho...</td>\n    </tr>\n    <tr>\n      <th>44</th>\n      <td>v213</td>\n      <td>98.843047</td>\n      <td>v213</td>\n      <td>Seventh person in household: r...</td>\n    </tr>\n    <tr>\n      <th>33</th>\n      <td>v201</td>\n      <td>98.843047</td>\n      <td>v201</td>\n      <td>Seventh person in household: r...</td>\n    </tr>\n    <tr>\n      <th>56</th>\n      <td>v267</td>\n      <td>96.778483</td>\n      <td>v267</td>\n      <td>Year of birth of sixth person ...</td>\n    </tr>\n    <tr>\n      <th>12</th>\n      <td>v94</td>\n      <td>96.692044</td>\n      <td>v94</td>\n      <td>Gender of sixth person in hous...</td>\n    </tr>\n    <tr>\n      <th>32</th>\n      <td>v200</td>\n      <td>96.672097</td>\n      <td>v200</td>\n      <td>Sixth person in household: rel...</td>\n    </tr>\n    <tr>\n      <th>43</th>\n      <td>v212</td>\n      <td>96.672097</td>\n      <td>v212</td>\n      <td>Sixth person in household: rel...</td>\n    </tr>\n    <tr>\n      <th>19</th>\n      <td>v164</td>\n      <td>94.075601</td>\n      <td>v164</td>\n      <td>Partner's main activity last 7...</td>\n    </tr>\n    <tr>\n      <th>16</th>\n      <td>v123</td>\n      <td>92.060906</td>\n      <td>v123</td>\n      <td>Place of interview: East, West...</td>\n    </tr>\n    <tr>\n      <th>55</th>\n      <td>v266</td>\n      <td>90.764321</td>\n      <td>v266</td>\n      <td>Year of birth of fifth person ...</td>\n    </tr>\n    <tr>\n      <th>11</th>\n      <td>v93</td>\n      <td>90.614715</td>\n      <td>v93</td>\n      <td>Gender of fifth person in hous...</td>\n    </tr>\n    <tr>\n      <th>31</th>\n      <td>v199</td>\n      <td>90.601416</td>\n      <td>v199</td>\n      <td>Fifth person in household: rel...</td>\n    </tr>\n    <tr>\n      <th>42</th>\n      <td>v211</td>\n      <td>90.601416</td>\n      <td>v211</td>\n      <td>Fifth person in household: rel...</td>\n    </tr>\n    <tr>\n      <th>3</th>\n      <td>v69</td>\n      <td>89.703780</td>\n      <td>v69</td>\n      <td>Number of employees respondent...</td>\n    </tr>\n    <tr>\n      <th>24</th>\n      <td>v191</td>\n      <td>89.697131</td>\n      <td>v191</td>\n      <td>Religion or denomination belon...</td>\n    </tr>\n    <tr>\n      <th>18</th>\n      <td>v158</td>\n      <td>86.439044</td>\n      <td>v158</td>\n      <td>Main activity last 7 days</td>\n    </tr>\n    <tr>\n      <th>2</th>\n      <td>v23</td>\n      <td>77.143522</td>\n      <td>v23</td>\n      <td>Partner, control paid work las...</td>\n    </tr>\n    <tr>\n      <th>54</th>\n      <td>v265</td>\n      <td>74.646764</td>\n      <td>v265</td>\n      <td>Year of birth of fourth person...</td>\n    </tr>\n    <tr>\n      <th>10</th>\n      <td>v92</td>\n      <td>74.453938</td>\n      <td>v92</td>\n      <td>Gender of fourth person in hou...</td>\n    </tr>\n    <tr>\n      <th>30</th>\n      <td>v198</td>\n      <td>74.380797</td>\n      <td>v198</td>\n      <td>Fourth person in household: re...</td>\n    </tr>\n    <tr>\n      <th>41</th>\n      <td>v210</td>\n      <td>74.380797</td>\n      <td>v210</td>\n      <td>Fourth person in household: re...</td>\n    </tr>\n    <tr>\n      <th>47</th>\n      <td>v241</td>\n      <td>71.767678</td>\n      <td>v241</td>\n      <td>Any period of unemployment and...</td>\n    </tr>\n    <tr>\n      <th>48</th>\n      <td>v243</td>\n      <td>71.744406</td>\n      <td>v243</td>\n      <td>Any period of unemployment and...</td>\n    </tr>\n    <tr>\n      <th>0</th>\n      <td>v5</td>\n      <td>70.670568</td>\n      <td>v5</td>\n      <td>Second ancestry, European Stan...</td>\n    </tr>\n    <tr>\n      <th>17</th>\n      <td>v151</td>\n      <td>64.360517</td>\n      <td>v151</td>\n      <td>Occupation partner, ISCO08</td>\n    </tr>\n    <tr>\n      <th>21</th>\n      <td>v174</td>\n      <td>64.294026</td>\n      <td>v174</td>\n      <td>Year last in paid job</td>\n    </tr>\n    <tr>\n      <th>4</th>\n      <td>v71</td>\n      <td>63.708900</td>\n      <td>v71</td>\n      <td>Partner's employment relation</td>\n    </tr>\n    <tr>\n      <th>23</th>\n      <td>v188</td>\n      <td>58.472689</td>\n      <td>v188</td>\n      <td>Ever belonging to particular r...</td>\n    </tr>\n    <tr>\n      <th>53</th>\n      <td>v264</td>\n      <td>56.979953</td>\n      <td>v264</td>\n      <td>Year of birth of third person ...</td>\n    </tr>\n    <tr>\n      <th>9</th>\n      <td>v91</td>\n      <td>56.444696</td>\n      <td>v91</td>\n      <td>Gender of third person in hous...</td>\n    </tr>\n    <tr>\n      <th>40</th>\n      <td>v209</td>\n      <td>56.394827</td>\n      <td>v209</td>\n      <td>Third person in household: rel...</td>\n    </tr>\n    <tr>\n      <th>29</th>\n      <td>v197</td>\n      <td>56.394827</td>\n      <td>v197</td>\n      <td>Third person in household: rel...</td>\n    </tr>\n    <tr>\n      <th>20</th>\n      <td>v173</td>\n      <td>54.496493</td>\n      <td>v173</td>\n      <td>Ever had a paid job</td>\n    </tr>\n    <tr>\n      <th>22</th>\n      <td>v182</td>\n      <td>52.993783</td>\n      <td>v182</td>\n      <td>How close to party</td>\n    </tr>\n    <tr>\n      <th>1</th>\n      <td>v22</td>\n      <td>52.445228</td>\n      <td>v22</td>\n      <td>Control paid work last 7 days</td>\n    </tr>\n  </tbody>\n</table>\n</div>",
      "text/plain": "   column_name  percent_missing Variable                              Label\n52        v262        99.996675     v262  Year of birth of thirteenth pe...\n39        v207        99.996675     v207  Thirteenth person in household...\n8          v89        99.996675      v89  Gender of thirteenth person in...\n28        v195        99.996675     v195  Thirteenth person in household...\n51        v261        99.983377     v261  Year of birth of twelfth perso...\n7          v88        99.983377      v88  Gender of twelfth person in ho...\n38        v206        99.980053     v206  Twelfth person in household: r...\n27        v194        99.980053     v194  Twelfth person in household: r...\n50        v260        99.940158     v260  Year of birth of eleventh pers...\n6          v87        99.933508      v87  Gender of eleventh person in h...\n37        v205        99.930184     v205  Eleventh person in household: ...\n26        v193        99.930184     v193  Eleventh person in household: ...\n49        v259        99.893613     v259  Year of birth of tenth person ...\n5          v86        99.883640      v86  Gender of tenth person in hous...\n36        v204        99.883640     v204  Tenth person in household: rel...\n25        v192        99.883640     v192  Tenth person in household: rel...\n59        v270        99.830446     v270  Year of birth of ninth person ...\n15         v97        99.820473      v97  Gender of ninth person in hous...\n46        v215        99.813824     v215  Ninth person in household: rel...\n35        v203        99.813824     v203  Ninth person in household: rel...\n58        v269        99.594401     v269  Year of birth of eighth person...\n45        v214        99.574454     v214  Eighth person in household: re...\n14         v96        99.574454      v96  Gender of eighth person in hou...\n34        v202        99.574454     v202  Eighth person in household: re...\n57        v268        98.896240     v268  Year of birth of seventh perso...\n13         v95        98.853020      v95  Gender of seventh person in ho...\n44        v213        98.843047     v213  Seventh person in household: r...\n33        v201        98.843047     v201  Seventh person in household: r...\n56        v267        96.778483     v267  Year of birth of sixth person ...\n12         v94        96.692044      v94  Gender of sixth person in hous...\n32        v200        96.672097     v200  Sixth person in household: rel...\n43        v212        96.672097     v212  Sixth person in household: rel...\n19        v164        94.075601     v164  Partner's main activity last 7...\n16        v123        92.060906     v123  Place of interview: East, West...\n55        v266        90.764321     v266  Year of birth of fifth person ...\n11         v93        90.614715      v93  Gender of fifth person in hous...\n31        v199        90.601416     v199  Fifth person in household: rel...\n42        v211        90.601416     v211  Fifth person in household: rel...\n3          v69        89.703780      v69  Number of employees respondent...\n24        v191        89.697131     v191  Religion or denomination belon...\n18        v158        86.439044     v158          Main activity last 7 days\n2          v23        77.143522      v23  Partner, control paid work las...\n54        v265        74.646764     v265  Year of birth of fourth person...\n10         v92        74.453938      v92  Gender of fourth person in hou...\n30        v198        74.380797     v198  Fourth person in household: re...\n41        v210        74.380797     v210  Fourth person in household: re...\n47        v241        71.767678     v241  Any period of unemployment and...\n48        v243        71.744406     v243  Any period of unemployment and...\n0           v5        70.670568       v5  Second ancestry, European Stan...\n17        v151        64.360517     v151         Occupation partner, ISCO08\n21        v174        64.294026     v174              Year last in paid job\n4          v71        63.708900      v71      Partner's employment relation\n23        v188        58.472689     v188  Ever belonging to particular r...\n53        v264        56.979953     v264  Year of birth of third person ...\n9          v91        56.444696      v91  Gender of third person in hous...\n40        v209        56.394827     v209  Third person in household: rel...\n29        v197        56.394827     v197  Third person in household: rel...\n20        v173        54.496493     v173                Ever had a paid job\n22        v182        52.993783     v182                 How close to party\n1          v22        52.445228      v22      Control paid work last 7 days"
     },
     "execution_count": 847,
     "metadata": {},
     "output_type": "execute_result"
    }
   ],
   "source": "# Treating missing \n\ntrain_nodots = train.replace([\".\", \".a\", \".b\", \".c\", \".d\"], [np.nan, np.nan, np.nan, np.nan, np.nan])\npercent_missing_nodots = train_nodots.isnull().sum() * 100 / len(train_nodots)\nmissing_value_df_nodots = pd.DataFrame({'column_name': train_nodots.columns,\n                                 'percent_missing': percent_missing_nodots})\n\n# Columns where % missing > some percent\npercent = 50\ncols_missing = missing_value_df_nodots[missing_value_df_nodots.percent_missing > percent]\nn_cols_missing = len(missing_value_df_nodots[missing_value_df_nodots.percent_missing > percent])\nprint(\"There are \" + str(n_cols_missing) + \" features with over \" + str(percent) + \"% missing.\")\n\n# Attach short desc for more context\ncodebook_labels = ['Variable', \"Label\"]\nmissing = cols_missing.merge(codebook[codebook_labels], left_on = 'column_name', right_on = \"Variable\", how = \"left\")\nmissing.sort_values(by = \"percent_missing\", ascending = False)"
  },
  {
   "cell_type": "code",
   "execution_count": 848,
   "metadata": {},
   "outputs": [],
   "source": "# Drop\ndrop_missing = cols_missing.column_name.tolist()\ntrain_dropped = train_nodots.drop(drop_missing, axis = 1)\n\n# Impute the rest\ndots = [\".\", \".a\", \".b\", \".c\", \".d\", np.nan]\ntrain_imputed = train_dropped.replace(dots, [-1, -1, -1, -1, -1, -1])"
  },
  {
   "cell_type": "code",
   "execution_count": 849,
   "metadata": {},
   "outputs": [],
   "source": "# quick fix\ntrain_imputed['v252_binned'] = np.where(train_imputed['v252_binned'] < 1, 0, train_imputed['v252_binned'])\ntrain_imputed['v251_binned'] = np.where(train_imputed['v251_binned'] < 1, 0, train_imputed['v251_binned'])\ntrain_imputed['v250_binned'] = np.where(train_imputed['v250_binned'] < 1, 0, train_imputed['v250_binned'])"
  },
  {
   "cell_type": "markdown",
   "metadata": {},
   "source": "### One-hot/Label encoding"
  },
  {
   "cell_type": "code",
   "execution_count": 850,
   "metadata": {},
   "outputs": [],
   "source": "one_hot = ['v17','v25','v78','v161', 'v154', 'v155', 'start_interview_season']\ntrain_encoded = pd.get_dummies(train_imputed, prefix=one_hot, columns=one_hot)"
  },
  {
   "cell_type": "code",
   "execution_count": 851,
   "metadata": {},
   "outputs": [],
   "source": "# Label encode country\nlabel_encoder = preprocessing.LabelEncoder()\ntrain_encoded['cntry'] = label_encoder.fit_transform(train_encoded['cntry'])\ntrain_encoded['v20'] = label_encoder.fit_transform(train_encoded['v20'])\n    \n# Convert all other variables to int64\nnum_cols = train_encoded.loc[:, ~train_encoded.columns.isin(['cntry', 'v20'])].columns.tolist()\ntrain_encoded[num_cols] = train_encoded[num_cols].astype(\"int64\")"
  },
  {
   "cell_type": "markdown",
   "metadata": {},
   "source": "### Export data"
  },
  {
   "cell_type": "code",
   "execution_count": 852,
   "metadata": {},
   "outputs": [],
   "source": "train_encoded.to_csv(\"train_FE.csv\")"
  }
 ],
 "metadata": {
  "kernelspec": {
   "display_name": "Python 3",
   "language": "python",
   "name": "python3"
  },
  "language_info": {
   "codemirror_mode": {
    "name": "ipython",
    "version": 3
   },
   "file_extension": ".py",
   "mimetype": "text/x-python",
   "name": "python",
   "nbconvert_exporter": "python",
   "pygments_lexer": "ipython3",
   "version": "3.7.1"
  }
 },
 "nbformat": 4,
 "nbformat_minor": 2
}
