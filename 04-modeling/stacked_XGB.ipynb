{
 "cells": [
  {
   "cell_type": "markdown",
   "metadata": {},
   "source": "Two methods:\n* Append predictions to modeling dataset, train and predict\n* Use predictions as modeling dataset, train and predict"
  },
  {
   "cell_type": "code",
   "execution_count": 1,
   "metadata": {},
   "outputs": [],
   "source": "import pandas as pd\nimport numpy as np\nimport random\n\nfrom sklearn import metrics\nfrom sklearn.metrics import roc_auc_score\nfrom sklearn.model_selection import KFold, RandomizedSearchCV, train_test_split\n\nimport xgboost as xgb\nimport matplotlib.pyplot as plt\nimport os"
  },
  {
   "cell_type": "code",
   "execution_count": null,
   "metadata": {},
   "outputs": [],
   "source": "train = pd.read_csv(\"../03-data-creation/train_FE_final.csv\")\ntest = pd.read_csv(\"../03-data-creation/test_FE_final.csv\")\n\n# Drop unwanted column\ntrain = train.drop(\"Unnamed: 0\", axis = 1)\ntest = test.drop(\"Unnamed: 0\", axis = 1)\n\n# We don't want the ID to be used in the model so preserve\ntrain_id = train['id']\ntest_id = test['id']\n\ntrain = train.drop('id', axis = 1)\ntest = test.drop('id', axis = 1)\n\n# Split X and y\nX = train.loc[:, train.columns != \"satisfied\"]\ny = train.satisfied"
  }
 ],
 "metadata": {
  "kernelspec": {
   "display_name": "Python 3",
   "language": "python",
   "name": "python3"
  },
  "language_info": {
   "codemirror_mode": {
    "name": "ipython",
    "version": 3
   },
   "file_extension": ".py",
   "mimetype": "text/x-python",
   "name": "python",
   "nbconvert_exporter": "python",
   "pygments_lexer": "ipython3",
   "version": "3.7.1"
  }
 },
 "nbformat": 4,
 "nbformat_minor": 4
}
